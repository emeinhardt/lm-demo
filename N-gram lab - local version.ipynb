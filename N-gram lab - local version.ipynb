{
 "cells": [
  {
   "cell_type": "markdown",
   "metadata": {
    "run_control": {
     "frozen": false,
     "read_only": false
    },
    "toc": "true"
   },
   "source": [
    "# Table of Contents\n",
    " <p><div class=\"lev1 toc-item\"><a href=\"#Initialization\" data-toc-modified-id=\"Initialization-1\"><span class=\"toc-item-num\">1&nbsp;&nbsp;</span>Initialization</a></div><div class=\"lev2 toc-item\"><a href=\"#Run-these-cells-(hopefully-exactly-once-in-total,-ever)-to-install-notebook-extensions\" data-toc-modified-id=\"Run-these-cells-(hopefully-exactly-once-in-total,-ever)-to-install-notebook-extensions-11\"><span class=\"toc-item-num\">1.1&nbsp;&nbsp;</span>Run these cells (hopefully exactly once in total, ever) to install notebook extensions</a></div><div class=\"lev2 toc-item\"><a href=\"#Get-the-Open-American-National-Corpus\" data-toc-modified-id=\"Get-the-Open-American-National-Corpus-12\"><span class=\"toc-item-num\">1.2&nbsp;&nbsp;</span>Get the Open American National Corpus</a></div><div class=\"lev2 toc-item\"><a href=\"#Run-once-every-time-you-start-the-notebook\" data-toc-modified-id=\"Run-once-every-time-you-start-the-notebook-13\"><span class=\"toc-item-num\">1.3&nbsp;&nbsp;</span>Run once every time you start the notebook</a></div><div class=\"lev1 toc-item\"><a href=\"#Language-modeling-lab-overview\" data-toc-modified-id=\"Language-modeling-lab-overview-2\"><span class=\"toc-item-num\">2&nbsp;&nbsp;</span>Language modeling lab overview</a></div><div class=\"lev1 toc-item\"><a href=\"#From-text-to-estimating-the-probability-of-a-word-sequence\" data-toc-modified-id=\"From-text-to-estimating-the-probability-of-a-word-sequence-3\"><span class=\"toc-item-num\">3&nbsp;&nbsp;</span>From text to estimating the probability of a word sequence</a></div><div class=\"lev2 toc-item\"><a href=\"#Our-data...\" data-toc-modified-id=\"Our-data...-31\"><span class=\"toc-item-num\">3.1&nbsp;&nbsp;</span>Our data...</a></div><div class=\"lev2 toc-item\"><a href=\"#Getting-counts-and-unsmoothed-probability-estimates\" data-toc-modified-id=\"Getting-counts-and-unsmoothed-probability-estimates-32\"><span class=\"toc-item-num\">3.2&nbsp;&nbsp;</span>Getting counts and unsmoothed probability estimates</a></div><div class=\"lev3 toc-item\"><a href=\"#Unigrams\" data-toc-modified-id=\"Unigrams-321\"><span class=\"toc-item-num\">3.2.1&nbsp;&nbsp;</span>Unigrams</a></div><div class=\"lev4 toc-item\"><a href=\"#Power-law-distributions-and-language\" data-toc-modified-id=\"Power-law-distributions-and-language-3211\"><span class=\"toc-item-num\">3.2.1.1&nbsp;&nbsp;</span>Power law distributions and language</a></div><div class=\"lev4 toc-item\"><a href=\"#Unigram-language-model\" data-toc-modified-id=\"Unigram-language-model-3212\"><span class=\"toc-item-num\">3.2.1.2&nbsp;&nbsp;</span>Unigram language model</a></div><div class=\"lev3 toc-item\"><a href=\"#Bigrams\" data-toc-modified-id=\"Bigrams-322\"><span class=\"toc-item-num\">3.2.2&nbsp;&nbsp;</span>Bigrams</a></div><div class=\"lev4 toc-item\"><a href=\"#Bigram-language-model\" data-toc-modified-id=\"Bigram-language-model-3221\"><span class=\"toc-item-num\">3.2.2.1&nbsp;&nbsp;</span>Bigram language model</a></div><div class=\"lev1 toc-item\"><a href=\"#Sparsity-and-corpus-properties\" data-toc-modified-id=\"Sparsity-and-corpus-properties-4\"><span class=\"toc-item-num\">4&nbsp;&nbsp;</span>Sparsity and corpus properties</a></div><div class=\"lev2 toc-item\"><a href=\"#Modeling-segue-1\" data-toc-modified-id=\"Modeling-segue-1-41\"><span class=\"toc-item-num\">4.1&nbsp;&nbsp;</span>Modeling segue 1</a></div><div class=\"lev2 toc-item\"><a href=\"#Modeling-segue-2\" data-toc-modified-id=\"Modeling-segue-2-42\"><span class=\"toc-item-num\">4.2&nbsp;&nbsp;</span>Modeling segue 2</a></div><div class=\"lev2 toc-item\"><a href=\"#Exercises-for-the-reader----Implementing-another-evaluation-measure\" data-toc-modified-id=\"Exercises-for-the-reader----Implementing-another-evaluation-measure-43\"><span class=\"toc-item-num\">4.3&nbsp;&nbsp;</span>Exercises for the reader -- Implementing another evaluation measure</a></div><div class=\"lev1 toc-item\"><a href=\"#Python-/-tool-resources\" data-toc-modified-id=\"Python-/-tool-resources-5\"><span class=\"toc-item-num\">5&nbsp;&nbsp;</span>Python / tool resources</a></div><div class=\"lev1 toc-item\"><a href=\"#Further-reading-on-language-modeling\" data-toc-modified-id=\"Further-reading-on-language-modeling-6\"><span class=\"toc-item-num\">6&nbsp;&nbsp;</span>Further reading on language modeling</a></div>"
   ]
  },
  {
   "cell_type": "markdown",
   "metadata": {
    "ExecuteTime": {
     "end_time": "2017-05-11T09:33:23.175387Z",
     "start_time": "2017-05-11T09:33:23.172941Z"
    },
    "run_control": {
     "frozen": false,
     "read_only": false
    }
   },
   "source": [
    "# Initialization"
   ]
  },
  {
   "cell_type": "markdown",
   "metadata": {
    "run_control": {
     "frozen": false,
     "read_only": false
    }
   },
   "source": [
    "## Run these cells (hopefully exactly once in total, ever) to install notebook extensions"
   ]
  },
  {
   "cell_type": "markdown",
   "metadata": {
    "run_control": {
     "frozen": false,
     "read_only": false
    }
   },
   "source": [
    "The code in this subsection will modify how this notebook behaves by adding \"extensions\" to your Jupyter setup from http://jupyter-contrib-nbextensions.readthedocs.io/."
   ]
  },
  {
   "cell_type": "markdown",
   "metadata": {
    "run_control": {
     "frozen": false,
     "read_only": false
    }
   },
   "source": [
    "First, **go to the *\"File\"* menu and *\"trust\"* this notebook**. Then execute the cells below and follow the instructions at the end of the subsection."
   ]
  },
  {
   "cell_type": "code",
   "execution_count": 1,
   "metadata": {
    "ExecuteTime": {
     "end_time": "2017-05-15T13:17:36.068840Z",
     "start_time": "2017-05-15T13:17:32.819439Z"
    },
    "collapsed": true,
    "hide_input": false,
    "init_cell": true,
    "run_control": {
     "frozen": false,
     "read_only": false
    }
   },
   "outputs": [
    {
     "name": "stdout",
     "output_type": "stream",
     "text": [
      "Requirement already satisfied: jupyter_contrib_nbextensions in /Users/ericmeinhardt/anaconda/lib/python3.5/site-packages\n",
      "Requirement already satisfied: jupyter-core in /Users/ericmeinhardt/anaconda/lib/python3.5/site-packages (from jupyter_contrib_nbextensions)\n",
      "Requirement already satisfied: jupyter-nbextensions-configurator>=0.2.4 in /Users/ericmeinhardt/anaconda/lib/python3.5/site-packages (from jupyter_contrib_nbextensions)\n",
      "Requirement already satisfied: jupyter-latex-envs>=1.3.8 in /Users/ericmeinhardt/anaconda/lib/python3.5/site-packages (from jupyter_contrib_nbextensions)\n",
      "Requirement already satisfied: psutil>=2.2.1 in /Users/ericmeinhardt/anaconda/lib/python3.5/site-packages (from jupyter_contrib_nbextensions)\n",
      "Requirement already satisfied: notebook>=4.0 in /Users/ericmeinhardt/anaconda/lib/python3.5/site-packages (from jupyter_contrib_nbextensions)\n",
      "Requirement already satisfied: ipython-genutils in /Users/ericmeinhardt/anaconda/lib/python3.5/site-packages (from jupyter_contrib_nbextensions)\n",
      "Requirement already satisfied: tornado in /Users/ericmeinhardt/anaconda/lib/python3.5/site-packages (from jupyter_contrib_nbextensions)\n",
      "Requirement already satisfied: jupyter-highlight-selected-word>=0.0.10 in /Users/ericmeinhardt/anaconda/lib/python3.5/site-packages (from jupyter_contrib_nbextensions)\n",
      "Requirement already satisfied: nbconvert in /Users/ericmeinhardt/anaconda/lib/python3.5/site-packages (from jupyter_contrib_nbextensions)\n",
      "Requirement already satisfied: pyyaml in /Users/ericmeinhardt/anaconda/lib/python3.5/site-packages (from jupyter_contrib_nbextensions)\n",
      "Requirement already satisfied: jupyter-contrib-core>=0.3 in /Users/ericmeinhardt/anaconda/lib/python3.5/site-packages (from jupyter_contrib_nbextensions)\n",
      "Requirement already satisfied: traitlets>=4.1 in /Users/ericmeinhardt/anaconda/lib/python3.5/site-packages (from jupyter_contrib_nbextensions)\n",
      "Requirement already satisfied: ipython in /Users/ericmeinhardt/anaconda/lib/python3.5/site-packages (from jupyter-latex-envs>=1.3.8->jupyter_contrib_nbextensions)\n",
      "Requirement already satisfied: mistune!=0.6 in /Users/ericmeinhardt/anaconda/lib/python3.5/site-packages (from nbconvert->jupyter_contrib_nbextensions)\n",
      "Requirement already satisfied: jinja2 in /Users/ericmeinhardt/anaconda/lib/python3.5/site-packages (from nbconvert->jupyter_contrib_nbextensions)\n",
      "Requirement already satisfied: pygments in /Users/ericmeinhardt/anaconda/lib/python3.5/site-packages (from nbconvert->jupyter_contrib_nbextensions)\n",
      "Requirement already satisfied: nbformat in /Users/ericmeinhardt/anaconda/lib/python3.5/site-packages (from nbconvert->jupyter_contrib_nbextensions)\n",
      "Requirement already satisfied: entrypoints>=0.2.2 in /Users/ericmeinhardt/anaconda/lib/python3.5/site-packages (from nbconvert->jupyter_contrib_nbextensions)\n",
      "Requirement already satisfied: bleach in /Users/ericmeinhardt/anaconda/lib/python3.5/site-packages (from nbconvert->jupyter_contrib_nbextensions)\n",
      "Requirement already satisfied: pandocfilters>=1.4.1 in /Users/ericmeinhardt/anaconda/lib/python3.5/site-packages (from nbconvert->jupyter_contrib_nbextensions)\n",
      "Requirement already satisfied: testpath in /Users/ericmeinhardt/anaconda/lib/python3.5/site-packages (from nbconvert->jupyter_contrib_nbextensions)\n",
      "Requirement already satisfied: setuptools in /Users/ericmeinhardt/anaconda/lib/python3.5/site-packages/setuptools-27.2.0-py3.5.egg (from jupyter-contrib-core>=0.3->jupyter_contrib_nbextensions)\n",
      "Requirement already satisfied: decorator in /Users/ericmeinhardt/anaconda/lib/python3.5/site-packages (from traitlets>=4.1->jupyter_contrib_nbextensions)\n",
      "Requirement already satisfied: six in /Users/ericmeinhardt/anaconda/lib/python3.5/site-packages (from traitlets>=4.1->jupyter_contrib_nbextensions)\n",
      "Requirement already satisfied: MarkupSafe in /Users/ericmeinhardt/anaconda/lib/python3.5/site-packages (from jinja2->nbconvert->jupyter_contrib_nbextensions)\n",
      "Requirement already satisfied: html5lib!=0.9999,!=0.99999,<0.99999999,>=0.999 in /Users/ericmeinhardt/anaconda/lib/python3.5/site-packages (from bleach->nbconvert->jupyter_contrib_nbextensions)\n",
      "\u001b[32m[I 13:17:35 InstallContribNbextensionsApp]\u001b[m jupyter contrib nbextension install --user\n",
      "\u001b[32m[I 13:17:35 InstallContribNbextensionsApp]\u001b[m Installing jupyter_contrib_nbextensions nbextension files to jupyter data directory\n",
      "\u001b[32m[I 13:17:35 InstallContribNbextensionsApp]\u001b[m Installing /Users/ericmeinhardt/anaconda/lib/python3.5/site-packages/jupyter_contrib_nbextensions/nbextensions/snippets -> snippets\n",
      "\u001b[32m[I 13:17:35 InstallContribNbextensionsApp]\u001b[m Up to date: /Users/ericmeinhardt/Library/Jupyter/nbextensions/snippets/main.js\n",
      "\u001b[32m[I 13:17:35 InstallContribNbextensionsApp]\u001b[m Up to date: /Users/ericmeinhardt/Library/Jupyter/nbextensions/snippets/README.md\n",
      "\u001b[32m[I 13:17:35 InstallContribNbextensionsApp]\u001b[m Up to date: /Users/ericmeinhardt/Library/Jupyter/nbextensions/snippets/snippets-demo.gif\n",
      "\u001b[32m[I 13:17:35 InstallContribNbextensionsApp]\u001b[m Up to date: /Users/ericmeinhardt/Library/Jupyter/nbextensions/snippets/snippets.json\n",
      "\u001b[32m[I 13:17:35 InstallContribNbextensionsApp]\u001b[m Up to date: /Users/ericmeinhardt/Library/Jupyter/nbextensions/snippets/snippets.yaml\n",
      "\u001b[32m[I 13:17:35 InstallContribNbextensionsApp]\u001b[m - Validating: \u001b[32mOK\u001b[0m\n",
      "\u001b[32m[I 13:17:35 InstallContribNbextensionsApp]\u001b[m Installing /Users/ericmeinhardt/anaconda/lib/python3.5/site-packages/jupyter_contrib_nbextensions/nbextensions/toggle_all_line_numbers -> toggle_all_line_numbers\n",
      "\u001b[32m[I 13:17:35 InstallContribNbextensionsApp]\u001b[m Up to date: /Users/ericmeinhardt/Library/Jupyter/nbextensions/toggle_all_line_numbers/icon.png\n",
      "\u001b[32m[I 13:17:35 InstallContribNbextensionsApp]\u001b[m Up to date: /Users/ericmeinhardt/Library/Jupyter/nbextensions/toggle_all_line_numbers/main.js\n",
      "\u001b[32m[I 13:17:35 InstallContribNbextensionsApp]\u001b[m Up to date: /Users/ericmeinhardt/Library/Jupyter/nbextensions/toggle_all_line_numbers/main.yaml\n",
      "\u001b[32m[I 13:17:35 InstallContribNbextensionsApp]\u001b[m Up to date: /Users/ericmeinhardt/Library/Jupyter/nbextensions/toggle_all_line_numbers/readme.md\n",
      "\u001b[32m[I 13:17:35 InstallContribNbextensionsApp]\u001b[m - Validating: \u001b[32mOK\u001b[0m\n",
      "\u001b[32m[I 13:17:35 InstallContribNbextensionsApp]\u001b[m Installing /Users/ericmeinhardt/anaconda/lib/python3.5/site-packages/jupyter_contrib_nbextensions/nbextensions/navigation-hotkeys -> navigation-hotkeys\n",
      "\u001b[32m[I 13:17:35 InstallContribNbextensionsApp]\u001b[m Up to date: /Users/ericmeinhardt/Library/Jupyter/nbextensions/navigation-hotkeys/hotkeys.yaml\n",
      "\u001b[32m[I 13:17:35 InstallContribNbextensionsApp]\u001b[m Up to date: /Users/ericmeinhardt/Library/Jupyter/nbextensions/navigation-hotkeys/icon.png\n",
      "\u001b[32m[I 13:17:35 InstallContribNbextensionsApp]\u001b[m Up to date: /Users/ericmeinhardt/Library/Jupyter/nbextensions/navigation-hotkeys/main.js\n",
      "\u001b[32m[I 13:17:35 InstallContribNbextensionsApp]\u001b[m Up to date: /Users/ericmeinhardt/Library/Jupyter/nbextensions/navigation-hotkeys/readme.md\n",
      "\u001b[32m[I 13:17:35 InstallContribNbextensionsApp]\u001b[m - Validating: \u001b[32mOK\u001b[0m\n",
      "\u001b[32m[I 13:17:35 InstallContribNbextensionsApp]\u001b[m Installing /Users/ericmeinhardt/anaconda/lib/python3.5/site-packages/jupyter_contrib_nbextensions/nbextensions/exercise -> exercise\n",
      "\u001b[32m[I 13:17:35 InstallContribNbextensionsApp]\u001b[m Up to date: /Users/ericmeinhardt/Library/Jupyter/nbextensions/exercise/exercise.yaml\n",
      "\u001b[32m[I 13:17:35 InstallContribNbextensionsApp]\u001b[m Up to date: /Users/ericmeinhardt/Library/Jupyter/nbextensions/exercise/history.md\n",
      "\u001b[32m[I 13:17:35 InstallContribNbextensionsApp]\u001b[m Up to date: /Users/ericmeinhardt/Library/Jupyter/nbextensions/exercise/icon.png\n",
      "\u001b[32m[I 13:17:35 InstallContribNbextensionsApp]\u001b[m Up to date: /Users/ericmeinhardt/Library/Jupyter/nbextensions/exercise/image.gif\n",
      "\u001b[32m[I 13:17:35 InstallContribNbextensionsApp]\u001b[m Up to date: /Users/ericmeinhardt/Library/Jupyter/nbextensions/exercise/main.css\n",
      "\u001b[32m[I 13:17:35 InstallContribNbextensionsApp]\u001b[m Up to date: /Users/ericmeinhardt/Library/Jupyter/nbextensions/exercise/main.js\n",
      "\u001b[32m[I 13:17:35 InstallContribNbextensionsApp]\u001b[m Up to date: /Users/ericmeinhardt/Library/Jupyter/nbextensions/exercise/readme.md\n",
      "\u001b[32m[I 13:17:35 InstallContribNbextensionsApp]\u001b[m - Validating: \u001b[32mOK\u001b[0m\n",
      "\u001b[32m[I 13:17:35 InstallContribNbextensionsApp]\u001b[m Installing /Users/ericmeinhardt/anaconda/lib/python3.5/site-packages/jupyter_contrib_nbextensions/nbextensions/zenmode -> zenmode\n",
      "\u001b[32m[I 13:17:35 InstallContribNbextensionsApp]\u001b[m Up to date: /Users/ericmeinhardt/Library/Jupyter/nbextensions/zenmode/main.css\n",
      "\u001b[32m[I 13:17:35 InstallContribNbextensionsApp]\u001b[m Up to date: /Users/ericmeinhardt/Library/Jupyter/nbextensions/zenmode/main.js\n",
      "\u001b[32m[I 13:17:35 InstallContribNbextensionsApp]\u001b[m Up to date: /Users/ericmeinhardt/Library/Jupyter/nbextensions/zenmode/README.md\n",
      "\u001b[32m[I 13:17:35 InstallContribNbextensionsApp]\u001b[m Up to date: /Users/ericmeinhardt/Library/Jupyter/nbextensions/zenmode/zenmode.yaml\n",
      "\u001b[32m[I 13:17:35 InstallContribNbextensionsApp]\u001b[m Up to date: /Users/ericmeinhardt/Library/Jupyter/nbextensions/zenmode/images/back1.jpg\n",
      "\u001b[32m[I 13:17:35 InstallContribNbextensionsApp]\u001b[m Up to date: /Users/ericmeinhardt/Library/Jupyter/nbextensions/zenmode/images/back11.jpg\n",
      "\u001b[32m[I 13:17:35 InstallContribNbextensionsApp]\u001b[m Up to date: /Users/ericmeinhardt/Library/Jupyter/nbextensions/zenmode/images/back12.jpg\n",
      "\u001b[32m[I 13:17:35 InstallContribNbextensionsApp]\u001b[m Up to date: /Users/ericmeinhardt/Library/Jupyter/nbextensions/zenmode/images/back2.jpg\n",
      "\u001b[32m[I 13:17:35 InstallContribNbextensionsApp]\u001b[m Up to date: /Users/ericmeinhardt/Library/Jupyter/nbextensions/zenmode/images/back21.jpg\n",
      "\u001b[32m[I 13:17:35 InstallContribNbextensionsApp]\u001b[m Up to date: /Users/ericmeinhardt/Library/Jupyter/nbextensions/zenmode/images/back22.jpg\n",
      "\u001b[32m[I 13:17:35 InstallContribNbextensionsApp]\u001b[m Up to date: /Users/ericmeinhardt/Library/Jupyter/nbextensions/zenmode/images/back3.jpg\n",
      "\u001b[32m[I 13:17:35 InstallContribNbextensionsApp]\u001b[m Up to date: /Users/ericmeinhardt/Library/Jupyter/nbextensions/zenmode/images/ipynblogo0.png\n",
      "\u001b[32m[I 13:17:35 InstallContribNbextensionsApp]\u001b[m Up to date: /Users/ericmeinhardt/Library/Jupyter/nbextensions/zenmode/images/ipynblogo1.png\n",
      "\u001b[32m[I 13:17:35 InstallContribNbextensionsApp]\u001b[m - Validating: \u001b[32mOK\u001b[0m\n",
      "\u001b[32m[I 13:17:35 InstallContribNbextensionsApp]\u001b[m Installing /Users/ericmeinhardt/anaconda/lib/python3.5/site-packages/jupyter_contrib_nbextensions/nbextensions/chrome-clipboard -> chrome-clipboard\n",
      "\u001b[32m[I 13:17:35 InstallContribNbextensionsApp]\u001b[m Up to date: /Users/ericmeinhardt/Library/Jupyter/nbextensions/chrome-clipboard/chrome-clipboard.yaml\n",
      "\u001b[32m[I 13:17:35 InstallContribNbextensionsApp]\u001b[m Up to date: /Users/ericmeinhardt/Library/Jupyter/nbextensions/chrome-clipboard/chrome.png\n",
      "\u001b[32m[I 13:17:35 InstallContribNbextensionsApp]\u001b[m Up to date: /Users/ericmeinhardt/Library/Jupyter/nbextensions/chrome-clipboard/main.js\n",
      "\u001b[32m[I 13:17:35 InstallContribNbextensionsApp]\u001b[m Up to date: /Users/ericmeinhardt/Library/Jupyter/nbextensions/chrome-clipboard/readme.md\n",
      "\u001b[32m[I 13:17:35 InstallContribNbextensionsApp]\u001b[m - Validating: \u001b[32mOK\u001b[0m\n",
      "\u001b[32m[I 13:17:35 InstallContribNbextensionsApp]\u001b[m Installing /Users/ericmeinhardt/anaconda/lib/python3.5/site-packages/jupyter_contrib_nbextensions/nbextensions/execute_time -> execute_time\n",
      "\u001b[32m[I 13:17:35 InstallContribNbextensionsApp]\u001b[m Up to date: /Users/ericmeinhardt/Library/Jupyter/nbextensions/execute_time/ExecuteTime.css\n",
      "\u001b[32m[I 13:17:35 InstallContribNbextensionsApp]\u001b[m Up to date: /Users/ericmeinhardt/Library/Jupyter/nbextensions/execute_time/ExecuteTime.js\n",
      "\u001b[32m[I 13:17:35 InstallContribNbextensionsApp]\u001b[m Up to date: /Users/ericmeinhardt/Library/Jupyter/nbextensions/execute_time/ExecuteTime.yaml\n",
      "\u001b[32m[I 13:17:35 InstallContribNbextensionsApp]\u001b[m Up to date: /Users/ericmeinhardt/Library/Jupyter/nbextensions/execute_time/execution-timings-box.png\n",
      "\u001b[32m[I 13:17:35 InstallContribNbextensionsApp]\u001b[m Up to date: /Users/ericmeinhardt/Library/Jupyter/nbextensions/execute_time/execution-timings-menu.png\n",
      "\u001b[32m[I 13:17:35 InstallContribNbextensionsApp]\u001b[m Up to date: /Users/ericmeinhardt/Library/Jupyter/nbextensions/execute_time/icon.png\n",
      "\u001b[32m[I 13:17:35 InstallContribNbextensionsApp]\u001b[m Up to date: /Users/ericmeinhardt/Library/Jupyter/nbextensions/execute_time/readme.md\n",
      "\u001b[32m[I 13:17:35 InstallContribNbextensionsApp]\u001b[m - Validating: \u001b[32mOK\u001b[0m\n",
      "\u001b[32m[I 13:17:35 InstallContribNbextensionsApp]\u001b[m Installing /Users/ericmeinhardt/anaconda/lib/python3.5/site-packages/jupyter_contrib_nbextensions/nbextensions/comment-uncomment -> comment-uncomment\n",
      "\u001b[32m[I 13:17:35 InstallContribNbextensionsApp]\u001b[m Up to date: /Users/ericmeinhardt/Library/Jupyter/nbextensions/comment-uncomment/comment-uncomment.yaml\n",
      "\u001b[32m[I 13:17:35 InstallContribNbextensionsApp]\u001b[m Up to date: /Users/ericmeinhardt/Library/Jupyter/nbextensions/comment-uncomment/icon.png\n",
      "\u001b[32m[I 13:17:35 InstallContribNbextensionsApp]\u001b[m Up to date: /Users/ericmeinhardt/Library/Jupyter/nbextensions/comment-uncomment/main.js\n",
      "\u001b[32m[I 13:17:35 InstallContribNbextensionsApp]\u001b[m Up to date: /Users/ericmeinhardt/Library/Jupyter/nbextensions/comment-uncomment/readme.md\n",
      "\u001b[32m[I 13:17:35 InstallContribNbextensionsApp]\u001b[m - Validating: \u001b[32mOK\u001b[0m\n",
      "\u001b[32m[I 13:17:35 InstallContribNbextensionsApp]\u001b[m Installing /Users/ericmeinhardt/anaconda/lib/python3.5/site-packages/jupyter_contrib_nbextensions/nbextensions/nb_lynt -> nb_lynt\n",
      "\u001b[32m[I 13:17:35 InstallContribNbextensionsApp]\u001b[m Up to date: /Users/ericmeinhardt/Library/Jupyter/nbextensions/nb_lynt/cm_addon_lynt.js\n",
      "\u001b[32m[I 13:17:35 InstallContribNbextensionsApp]\u001b[m Up to date: /Users/ericmeinhardt/Library/Jupyter/nbextensions/nb_lynt/nb_lynt.yaml\n",
      "\u001b[33m[W 13:17:35 InstallContribNbextensionsApp]\u001b[m - Validating: problems found:\n",
      "\u001b[33m[W 13:17:35 InstallContribNbextensionsApp]\u001b[m   \u001b[31m X\u001b[0m  require: /Users/ericmeinhardt/Library/Jupyter/nbextensions/nb_lynt/nb_lynt.js\n",
      "\u001b[32m[I 13:17:35 InstallContribNbextensionsApp]\u001b[m   \u001b[32mOK\u001b[0m section: notebook\n",
      "\u001b[33m[W 13:17:35 InstallContribNbextensionsApp]\u001b[m Full spec: {'section': 'notebook', 'require': 'nb_lynt/nb_lynt', 'dest': 'nb_lynt', 'src': 'nbextensions/nb_lynt'}\n",
      "\u001b[32m[I 13:17:35 InstallContribNbextensionsApp]\u001b[m Installing /Users/ericmeinhardt/anaconda/lib/python3.5/site-packages/jupyter_contrib_nbextensions/nbextensions/autoscroll -> autoscroll\n",
      "\u001b[32m[I 13:17:35 InstallContribNbextensionsApp]\u001b[m Up to date: /Users/ericmeinhardt/Library/Jupyter/nbextensions/autoscroll/autoscroll.yaml\n",
      "\u001b[32m[I 13:17:35 InstallContribNbextensionsApp]\u001b[m Up to date: /Users/ericmeinhardt/Library/Jupyter/nbextensions/autoscroll/icon.png\n",
      "\u001b[32m[I 13:17:35 InstallContribNbextensionsApp]\u001b[m Up to date: /Users/ericmeinhardt/Library/Jupyter/nbextensions/autoscroll/main.js\n",
      "\u001b[32m[I 13:17:35 InstallContribNbextensionsApp]\u001b[m Up to date: /Users/ericmeinhardt/Library/Jupyter/nbextensions/autoscroll/README.md\n",
      "\u001b[32m[I 13:17:35 InstallContribNbextensionsApp]\u001b[m - Validating: \u001b[32mOK\u001b[0m\n",
      "\u001b[32m[I 13:17:35 InstallContribNbextensionsApp]\u001b[m Installing /Users/ericmeinhardt/anaconda/lib/python3.5/site-packages/jupyter_contrib_nbextensions/nbextensions/autosavetime -> autosavetime\n",
      "\u001b[32m[I 13:17:35 InstallContribNbextensionsApp]\u001b[m Up to date: /Users/ericmeinhardt/Library/Jupyter/nbextensions/autosavetime/autosavetime.yaml\n",
      "\u001b[32m[I 13:17:35 InstallContribNbextensionsApp]\u001b[m Up to date: /Users/ericmeinhardt/Library/Jupyter/nbextensions/autosavetime/icon.png\n",
      "\u001b[32m[I 13:17:35 InstallContribNbextensionsApp]\u001b[m Up to date: /Users/ericmeinhardt/Library/Jupyter/nbextensions/autosavetime/main.js\n",
      "\u001b[32m[I 13:17:35 InstallContribNbextensionsApp]\u001b[m Up to date: /Users/ericmeinhardt/Library/Jupyter/nbextensions/autosavetime/README.md\n",
      "\u001b[32m[I 13:17:35 InstallContribNbextensionsApp]\u001b[m - Validating: \u001b[32mOK\u001b[0m\n",
      "\u001b[32m[I 13:17:35 InstallContribNbextensionsApp]\u001b[m Installing /Users/ericmeinhardt/anaconda/lib/python3.5/site-packages/jupyter_contrib_nbextensions/nbextensions/dragdrop -> dragdrop\n",
      "\u001b[32m[I 13:17:35 InstallContribNbextensionsApp]\u001b[m Up to date: /Users/ericmeinhardt/Library/Jupyter/nbextensions/dragdrop/dragdrop.yaml\n",
      "\u001b[32m[I 13:17:35 InstallContribNbextensionsApp]\u001b[m Up to date: /Users/ericmeinhardt/Library/Jupyter/nbextensions/dragdrop/icon.png\n",
      "\u001b[32m[I 13:17:35 InstallContribNbextensionsApp]\u001b[m Up to date: /Users/ericmeinhardt/Library/Jupyter/nbextensions/dragdrop/main.js\n",
      "\u001b[32m[I 13:17:35 InstallContribNbextensionsApp]\u001b[m Up to date: /Users/ericmeinhardt/Library/Jupyter/nbextensions/dragdrop/readme.md\n",
      "\u001b[32m[I 13:17:35 InstallContribNbextensionsApp]\u001b[m - Validating: \u001b[32mOK\u001b[0m\n",
      "\u001b[32m[I 13:17:35 InstallContribNbextensionsApp]\u001b[m Installing /Users/ericmeinhardt/anaconda/lib/python3.5/site-packages/jupyter_contrib_nbextensions/nbextensions/datestamper -> datestamper\n",
      "\u001b[32m[I 13:17:35 InstallContribNbextensionsApp]\u001b[m Up to date: /Users/ericmeinhardt/Library/Jupyter/nbextensions/datestamper/icon.png\n",
      "\u001b[32m[I 13:17:35 InstallContribNbextensionsApp]\u001b[m Up to date: /Users/ericmeinhardt/Library/Jupyter/nbextensions/datestamper/main.js\n",
      "\u001b[32m[I 13:17:35 InstallContribNbextensionsApp]\u001b[m Up to date: /Users/ericmeinhardt/Library/Jupyter/nbextensions/datestamper/main.yaml\n",
      "\u001b[32m[I 13:17:35 InstallContribNbextensionsApp]\u001b[m Up to date: /Users/ericmeinhardt/Library/Jupyter/nbextensions/datestamper/readme.md\n",
      "\u001b[32m[I 13:17:35 InstallContribNbextensionsApp]\u001b[m - Validating: \u001b[32mOK\u001b[0m\n",
      "\u001b[32m[I 13:17:35 InstallContribNbextensionsApp]\u001b[m Installing /Users/ericmeinhardt/anaconda/lib/python3.5/site-packages/jupyter_contrib_nbextensions/nbextensions/search-replace -> search-replace\n",
      "\u001b[32m[I 13:17:35 InstallContribNbextensionsApp]\u001b[m Up to date: /Users/ericmeinhardt/Library/Jupyter/nbextensions/search-replace/icon.png\n",
      "\u001b[32m[I 13:17:35 InstallContribNbextensionsApp]\u001b[m Up to date: /Users/ericmeinhardt/Library/Jupyter/nbextensions/search-replace/main.css\n",
      "\u001b[32m[I 13:17:35 InstallContribNbextensionsApp]\u001b[m Up to date: /Users/ericmeinhardt/Library/Jupyter/nbextensions/search-replace/main.js\n",
      "\u001b[32m[I 13:17:35 InstallContribNbextensionsApp]\u001b[m Up to date: /Users/ericmeinhardt/Library/Jupyter/nbextensions/search-replace/readme.md\n",
      "\u001b[32m[I 13:17:35 InstallContribNbextensionsApp]\u001b[m Up to date: /Users/ericmeinhardt/Library/Jupyter/nbextensions/search-replace/search-replace.yaml\n",
      "\u001b[32m[I 13:17:35 InstallContribNbextensionsApp]\u001b[m - Validating: \u001b[32mOK\u001b[0m\n",
      "\u001b[32m[I 13:17:35 InstallContribNbextensionsApp]\u001b[m Installing /Users/ericmeinhardt/anaconda/lib/python3.5/site-packages/jupyter_contrib_nbextensions/nbextensions/skip-traceback -> skip-traceback\n",
      "\u001b[32m[I 13:17:35 InstallContribNbextensionsApp]\u001b[m Up to date: /Users/ericmeinhardt/Library/Jupyter/nbextensions/skip-traceback/icon.png\n",
      "\u001b[32m[I 13:17:35 InstallContribNbextensionsApp]\u001b[m Up to date: /Users/ericmeinhardt/Library/Jupyter/nbextensions/skip-traceback/main.js\n",
      "\u001b[32m[I 13:17:35 InstallContribNbextensionsApp]\u001b[m Up to date: /Users/ericmeinhardt/Library/Jupyter/nbextensions/skip-traceback/readme.md\n",
      "\u001b[32m[I 13:17:35 InstallContribNbextensionsApp]\u001b[m Up to date: /Users/ericmeinhardt/Library/Jupyter/nbextensions/skip-traceback/skip-traceback.png\n",
      "\u001b[32m[I 13:17:35 InstallContribNbextensionsApp]\u001b[m Up to date: /Users/ericmeinhardt/Library/Jupyter/nbextensions/skip-traceback/skip-traceback.yaml\n",
      "\u001b[32m[I 13:17:35 InstallContribNbextensionsApp]\u001b[m Up to date: /Users/ericmeinhardt/Library/Jupyter/nbextensions/skip-traceback/traceback.png\n",
      "\u001b[32m[I 13:17:35 InstallContribNbextensionsApp]\u001b[m - Validating: \u001b[32mOK\u001b[0m\n",
      "\u001b[32m[I 13:17:35 InstallContribNbextensionsApp]\u001b[m Installing /Users/ericmeinhardt/anaconda/lib/python3.5/site-packages/jupyter_contrib_nbextensions/nbextensions/code_prettify -> code_prettify\n",
      "\u001b[32m[I 13:17:35 InstallContribNbextensionsApp]\u001b[m Up to date: /Users/ericmeinhardt/Library/Jupyter/nbextensions/code_prettify/2to3.js\n",
      "\u001b[32m[I 13:17:35 InstallContribNbextensionsApp]\u001b[m Up to date: /Users/ericmeinhardt/Library/Jupyter/nbextensions/code_prettify/2to3.yaml\n",
      "\u001b[32m[I 13:17:35 InstallContribNbextensionsApp]\u001b[m Up to date: /Users/ericmeinhardt/Library/Jupyter/nbextensions/code_prettify/autopep8.js\n",
      "\u001b[32m[I 13:17:35 InstallContribNbextensionsApp]\u001b[m Up to date: /Users/ericmeinhardt/Library/Jupyter/nbextensions/code_prettify/autopep8.yaml\n",
      "\u001b[32m[I 13:17:35 InstallContribNbextensionsApp]\u001b[m Up to date: /Users/ericmeinhardt/Library/Jupyter/nbextensions/code_prettify/code_prettify.js\n",
      "\u001b[32m[I 13:17:35 InstallContribNbextensionsApp]\u001b[m Up to date: /Users/ericmeinhardt/Library/Jupyter/nbextensions/code_prettify/code_prettify.yaml\n",
      "\u001b[32m[I 13:17:35 InstallContribNbextensionsApp]\u001b[m Up to date: /Users/ericmeinhardt/Library/Jupyter/nbextensions/code_prettify/demo-jv.gif\n",
      "\u001b[32m[I 13:17:35 InstallContribNbextensionsApp]\u001b[m Up to date: /Users/ericmeinhardt/Library/Jupyter/nbextensions/code_prettify/demo-py.gif\n",
      "\u001b[32m[I 13:17:35 InstallContribNbextensionsApp]\u001b[m Up to date: /Users/ericmeinhardt/Library/Jupyter/nbextensions/code_prettify/demo-R.gif\n",
      "\u001b[32m[I 13:17:35 InstallContribNbextensionsApp]\u001b[m Up to date: /Users/ericmeinhardt/Library/Jupyter/nbextensions/code_prettify/demo_2to3.gif\n",
      "\u001b[32m[I 13:17:35 InstallContribNbextensionsApp]\u001b[m Up to date: /Users/ericmeinhardt/Library/Jupyter/nbextensions/code_prettify/kernel_exec_on_cell.js\n",
      "\u001b[32m[I 13:17:35 InstallContribNbextensionsApp]\u001b[m Up to date: /Users/ericmeinhardt/Library/Jupyter/nbextensions/code_prettify/README.md\n",
      "\u001b[32m[I 13:17:35 InstallContribNbextensionsApp]\u001b[m Up to date: /Users/ericmeinhardt/Library/Jupyter/nbextensions/code_prettify/README_2to3.md\n",
      "\u001b[32m[I 13:17:35 InstallContribNbextensionsApp]\u001b[m Up to date: /Users/ericmeinhardt/Library/Jupyter/nbextensions/code_prettify/README_autopep8.md\n",
      "\u001b[32m[I 13:17:35 InstallContribNbextensionsApp]\u001b[m Up to date: /Users/ericmeinhardt/Library/Jupyter/nbextensions/code_prettify/README_code_prettify.md\n",
      "\u001b[32m[I 13:17:35 InstallContribNbextensionsApp]\u001b[m - Validating: \u001b[32mOK\u001b[0m\n",
      "\u001b[32m[I 13:17:35 InstallContribNbextensionsApp]\u001b[m Installing /Users/ericmeinhardt/anaconda/lib/python3.5/site-packages/jupyter_contrib_nbextensions/nbextensions/hide_input_all -> hide_input_all\n",
      "\u001b[32m[I 13:17:35 InstallContribNbextensionsApp]\u001b[m Up to date: /Users/ericmeinhardt/Library/Jupyter/nbextensions/hide_input_all/hide_input_all.yaml\n",
      "\u001b[32m[I 13:17:35 InstallContribNbextensionsApp]\u001b[m Up to date: /Users/ericmeinhardt/Library/Jupyter/nbextensions/hide_input_all/hide_input_all_hide.png\n",
      "\u001b[32m[I 13:17:35 InstallContribNbextensionsApp]\u001b[m Up to date: /Users/ericmeinhardt/Library/Jupyter/nbextensions/hide_input_all/hide_input_all_show.png\n",
      "\u001b[32m[I 13:17:35 InstallContribNbextensionsApp]\u001b[m Up to date: /Users/ericmeinhardt/Library/Jupyter/nbextensions/hide_input_all/icon.png\n",
      "\u001b[32m[I 13:17:35 InstallContribNbextensionsApp]\u001b[m Up to date: /Users/ericmeinhardt/Library/Jupyter/nbextensions/hide_input_all/main.js\n",
      "\u001b[32m[I 13:17:35 InstallContribNbextensionsApp]\u001b[m Up to date: /Users/ericmeinhardt/Library/Jupyter/nbextensions/hide_input_all/readme.md\n",
      "\u001b[32m[I 13:17:35 InstallContribNbextensionsApp]\u001b[m - Validating: \u001b[32mOK\u001b[0m\n",
      "\u001b[32m[I 13:17:35 InstallContribNbextensionsApp]\u001b[m Installing /Users/ericmeinhardt/anaconda/lib/python3.5/site-packages/jupyter_contrib_nbextensions/nbextensions/nbTranslate -> nbTranslate\n",
      "\u001b[32m[I 13:17:35 InstallContribNbextensionsApp]\u001b[m Up to date: /Users/ericmeinhardt/Library/Jupyter/nbextensions/nbTranslate/demo1.gif\n",
      "\u001b[32m[I 13:17:35 InstallContribNbextensionsApp]\u001b[m Up to date: /Users/ericmeinhardt/Library/Jupyter/nbextensions/nbTranslate/demo2.gif\n",
      "\u001b[32m[I 13:17:35 InstallContribNbextensionsApp]\u001b[m Up to date: /Users/ericmeinhardt/Library/Jupyter/nbextensions/nbTranslate/languages.js\n",
      "\u001b[32m[I 13:17:35 InstallContribNbextensionsApp]\u001b[m Up to date: /Users/ericmeinhardt/Library/Jupyter/nbextensions/nbTranslate/main.js\n",
      "\u001b[32m[I 13:17:35 InstallContribNbextensionsApp]\u001b[m Up to date: /Users/ericmeinhardt/Library/Jupyter/nbextensions/nbTranslate/mutils.js\n",
      "\u001b[32m[I 13:17:35 InstallContribNbextensionsApp]\u001b[m Up to date: /Users/ericmeinhardt/Library/Jupyter/nbextensions/nbTranslate/nbTranslate.js\n",
      "\u001b[32m[I 13:17:35 InstallContribNbextensionsApp]\u001b[m Up to date: /Users/ericmeinhardt/Library/Jupyter/nbextensions/nbTranslate/nbTranslate.yaml\n",
      "\u001b[32m[I 13:17:35 InstallContribNbextensionsApp]\u001b[m Up to date: /Users/ericmeinhardt/Library/Jupyter/nbextensions/nbTranslate/README.md\n",
      "\u001b[32m[I 13:17:35 InstallContribNbextensionsApp]\u001b[m - Validating: \u001b[32mOK\u001b[0m\n",
      "\u001b[32m[I 13:17:35 InstallContribNbextensionsApp]\u001b[m Installing /Users/ericmeinhardt/anaconda/lib/python3.5/site-packages/jupyter_contrib_nbextensions/nbextensions/addbefore -> addbefore\n",
      "\u001b[32m[I 13:17:35 InstallContribNbextensionsApp]\u001b[m Up to date: /Users/ericmeinhardt/Library/Jupyter/nbextensions/addbefore/addbefore.yaml\n",
      "\u001b[32m[I 13:17:35 InstallContribNbextensionsApp]\u001b[m Up to date: /Users/ericmeinhardt/Library/Jupyter/nbextensions/addbefore/icon.png\n",
      "\u001b[32m[I 13:17:35 InstallContribNbextensionsApp]\u001b[m Up to date: /Users/ericmeinhardt/Library/Jupyter/nbextensions/addbefore/main.js\n",
      "\u001b[32m[I 13:17:35 InstallContribNbextensionsApp]\u001b[m Up to date: /Users/ericmeinhardt/Library/Jupyter/nbextensions/addbefore/readme.md\n",
      "\u001b[32m[I 13:17:35 InstallContribNbextensionsApp]\u001b[m - Validating: \u001b[32mOK\u001b[0m\n",
      "\u001b[32m[I 13:17:35 InstallContribNbextensionsApp]\u001b[m Installing /Users/ericmeinhardt/anaconda/lib/python3.5/site-packages/jupyter_contrib_nbextensions/nbextensions/notify -> notify\n",
      "\u001b[32m[I 13:17:35 InstallContribNbextensionsApp]\u001b[m Up to date: /Users/ericmeinhardt/Library/Jupyter/nbextensions/notify/notification.png\n",
      "\u001b[32m[I 13:17:35 InstallContribNbextensionsApp]\u001b[m Up to date: /Users/ericmeinhardt/Library/Jupyter/nbextensions/notify/notify.js\n",
      "\u001b[32m[I 13:17:35 InstallContribNbextensionsApp]\u001b[m Up to date: /Users/ericmeinhardt/Library/Jupyter/nbextensions/notify/notify.yaml\n",
      "\u001b[32m[I 13:17:35 InstallContribNbextensionsApp]\u001b[m Up to date: /Users/ericmeinhardt/Library/Jupyter/nbextensions/notify/readme.md\n",
      "\u001b[32m[I 13:17:35 InstallContribNbextensionsApp]\u001b[m - Validating: \u001b[32mOK\u001b[0m\n",
      "\u001b[32m[I 13:17:35 InstallContribNbextensionsApp]\u001b[m Installing /Users/ericmeinhardt/anaconda/lib/python3.5/site-packages/jupyter_contrib_nbextensions/nbextensions/skill -> skill\n",
      "\u001b[32m[I 13:17:35 InstallContribNbextensionsApp]\u001b[m Up to date: /Users/ericmeinhardt/Library/Jupyter/nbextensions/skill/main.js\n",
      "\u001b[32m[I 13:17:35 InstallContribNbextensionsApp]\u001b[m Up to date: /Users/ericmeinhardt/Library/Jupyter/nbextensions/skill/README.md\n",
      "\u001b[32m[I 13:17:35 InstallContribNbextensionsApp]\u001b[m Up to date: /Users/ericmeinhardt/Library/Jupyter/nbextensions/skill/skill.js\n",
      "\u001b[32m[I 13:17:35 InstallContribNbextensionsApp]\u001b[m Up to date: /Users/ericmeinhardt/Library/Jupyter/nbextensions/skill/skill.yaml\n",
      "\u001b[32m[I 13:17:35 InstallContribNbextensionsApp]\u001b[m - Validating: \u001b[32mOK\u001b[0m\n",
      "\u001b[32m[I 13:17:35 InstallContribNbextensionsApp]\u001b[m Installing /Users/ericmeinhardt/anaconda/lib/python3.5/site-packages/jupyter_contrib_nbextensions/nbextensions/toc2 -> toc2\n",
      "\u001b[32m[I 13:17:35 InstallContribNbextensionsApp]\u001b[m Up to date: /Users/ericmeinhardt/Library/Jupyter/nbextensions/toc2/demo.gif\n",
      "\u001b[32m[I 13:17:35 InstallContribNbextensionsApp]\u001b[m Up to date: /Users/ericmeinhardt/Library/Jupyter/nbextensions/toc2/demo2.gif\n",
      "\u001b[32m[I 13:17:35 InstallContribNbextensionsApp]\u001b[m Up to date: /Users/ericmeinhardt/Library/Jupyter/nbextensions/toc2/demo3.gif\n",
      "\u001b[32m[I 13:17:35 InstallContribNbextensionsApp]\u001b[m Up to date: /Users/ericmeinhardt/Library/Jupyter/nbextensions/toc2/icon.png\n",
      "\u001b[32m[I 13:17:35 InstallContribNbextensionsApp]\u001b[m Up to date: /Users/ericmeinhardt/Library/Jupyter/nbextensions/toc2/image.png\n",
      "\u001b[32m[I 13:17:35 InstallContribNbextensionsApp]\u001b[m Up to date: /Users/ericmeinhardt/Library/Jupyter/nbextensions/toc2/main.css\n",
      "\u001b[32m[I 13:17:35 InstallContribNbextensionsApp]\u001b[m Up to date: /Users/ericmeinhardt/Library/Jupyter/nbextensions/toc2/main.js\n",
      "\u001b[32m[I 13:17:35 InstallContribNbextensionsApp]\u001b[m Up to date: /Users/ericmeinhardt/Library/Jupyter/nbextensions/toc2/README.md\n",
      "\u001b[32m[I 13:17:35 InstallContribNbextensionsApp]\u001b[m Up to date: /Users/ericmeinhardt/Library/Jupyter/nbextensions/toc2/toc2.js\n",
      "\u001b[32m[I 13:17:35 InstallContribNbextensionsApp]\u001b[m Up to date: /Users/ericmeinhardt/Library/Jupyter/nbextensions/toc2/toc2.yaml\n",
      "\u001b[32m[I 13:17:35 InstallContribNbextensionsApp]\u001b[m - Validating: \u001b[32mOK\u001b[0m\n",
      "\u001b[32m[I 13:17:35 InstallContribNbextensionsApp]\u001b[m Installing /Users/ericmeinhardt/anaconda/lib/python3.5/site-packages/jupyter_contrib_nbextensions/nbextensions/runtools -> runtools\n",
      "\u001b[32m[I 13:17:35 InstallContribNbextensionsApp]\u001b[m Up to date: /Users/ericmeinhardt/Library/Jupyter/nbextensions/runtools/gutter.css\n",
      "\u001b[32m[I 13:17:35 InstallContribNbextensionsApp]\u001b[m Up to date: /Users/ericmeinhardt/Library/Jupyter/nbextensions/runtools/icon.png\n",
      "\u001b[32m[I 13:17:35 InstallContribNbextensionsApp]\u001b[m Up to date: /Users/ericmeinhardt/Library/Jupyter/nbextensions/runtools/main.css\n",
      "\u001b[32m[I 13:17:35 InstallContribNbextensionsApp]\u001b[m Up to date: /Users/ericmeinhardt/Library/Jupyter/nbextensions/runtools/main.js\n",
      "\u001b[32m[I 13:17:35 InstallContribNbextensionsApp]\u001b[m Up to date: /Users/ericmeinhardt/Library/Jupyter/nbextensions/runtools/readme.md\n",
      "\u001b[32m[I 13:17:35 InstallContribNbextensionsApp]\u001b[m Up to date: /Users/ericmeinhardt/Library/Jupyter/nbextensions/runtools/runtools.yaml\n",
      "\u001b[32m[I 13:17:35 InstallContribNbextensionsApp]\u001b[m Up to date: /Users/ericmeinhardt/Library/Jupyter/nbextensions/runtools/runtools_execute.png\n",
      "\u001b[32m[I 13:17:35 InstallContribNbextensionsApp]\u001b[m Up to date: /Users/ericmeinhardt/Library/Jupyter/nbextensions/runtools/runtools_marker.png\n",
      "\u001b[32m[I 13:17:35 InstallContribNbextensionsApp]\u001b[m Up to date: /Users/ericmeinhardt/Library/Jupyter/nbextensions/runtools/runtools_move_lock.png\n",
      "\u001b[32m[I 13:17:35 InstallContribNbextensionsApp]\u001b[m Up to date: /Users/ericmeinhardt/Library/Jupyter/nbextensions/runtools/runtools_nb.png\n",
      "\u001b[32m[I 13:17:35 InstallContribNbextensionsApp]\u001b[m Up to date: /Users/ericmeinhardt/Library/Jupyter/nbextensions/runtools/runtools_show_hide.png\n",
      "\u001b[32m[I 13:17:35 InstallContribNbextensionsApp]\u001b[m - Validating: \u001b[32mOK\u001b[0m\n",
      "\u001b[32m[I 13:17:35 InstallContribNbextensionsApp]\u001b[m Installing /Users/ericmeinhardt/anaconda/lib/python3.5/site-packages/jupyter_contrib_nbextensions/nbextensions/scratchpad -> scratchpad\n",
      "\u001b[32m[I 13:17:35 InstallContribNbextensionsApp]\u001b[m Up to date: /Users/ericmeinhardt/Library/Jupyter/nbextensions/scratchpad/demo.gif\n",
      "\u001b[32m[I 13:17:35 InstallContribNbextensionsApp]\u001b[m Up to date: /Users/ericmeinhardt/Library/Jupyter/nbextensions/scratchpad/LICENSE\n",
      "\u001b[32m[I 13:17:35 InstallContribNbextensionsApp]\u001b[m Up to date: /Users/ericmeinhardt/Library/Jupyter/nbextensions/scratchpad/main.js\n",
      "\u001b[32m[I 13:17:35 InstallContribNbextensionsApp]\u001b[m Up to date: /Users/ericmeinhardt/Library/Jupyter/nbextensions/scratchpad/README.md\n",
      "\u001b[32m[I 13:17:35 InstallContribNbextensionsApp]\u001b[m Up to date: /Users/ericmeinhardt/Library/Jupyter/nbextensions/scratchpad/scratchpad.css\n",
      "\u001b[32m[I 13:17:35 InstallContribNbextensionsApp]\u001b[m Up to date: /Users/ericmeinhardt/Library/Jupyter/nbextensions/scratchpad/scratchpad.yaml\n",
      "\u001b[32m[I 13:17:35 InstallContribNbextensionsApp]\u001b[m - Validating: \u001b[32mOK\u001b[0m\n",
      "\u001b[32m[I 13:17:35 InstallContribNbextensionsApp]\u001b[m Installing /Users/ericmeinhardt/anaconda/lib/python3.5/site-packages/jupyter_contrib_nbextensions/nbextensions/init_cell -> init_cell\n",
      "\u001b[32m[I 13:17:35 InstallContribNbextensionsApp]\u001b[m Up to date: /Users/ericmeinhardt/Library/Jupyter/nbextensions/init_cell/icon.png\n",
      "\u001b[32m[I 13:17:35 InstallContribNbextensionsApp]\u001b[m Up to date: /Users/ericmeinhardt/Library/Jupyter/nbextensions/init_cell/init_cell.yaml\n",
      "\u001b[32m[I 13:17:35 InstallContribNbextensionsApp]\u001b[m Up to date: /Users/ericmeinhardt/Library/Jupyter/nbextensions/init_cell/main.js\n",
      "\u001b[32m[I 13:17:35 InstallContribNbextensionsApp]\u001b[m Up to date: /Users/ericmeinhardt/Library/Jupyter/nbextensions/init_cell/README.md\n",
      "\u001b[32m[I 13:17:35 InstallContribNbextensionsApp]\u001b[m - Validating: \u001b[32mOK\u001b[0m\n",
      "\u001b[32m[I 13:17:35 InstallContribNbextensionsApp]\u001b[m Installing /Users/ericmeinhardt/anaconda/lib/python3.5/site-packages/jupyter_contrib_nbextensions/nbextensions/equation-numbering -> equation-numbering\n",
      "\u001b[32m[I 13:17:35 InstallContribNbextensionsApp]\u001b[m Up to date: /Users/ericmeinhardt/Library/Jupyter/nbextensions/equation-numbering/button.png\n",
      "\u001b[32m[I 13:17:35 InstallContribNbextensionsApp]\u001b[m Up to date: /Users/ericmeinhardt/Library/Jupyter/nbextensions/equation-numbering/icon.png\n",
      "\u001b[32m[I 13:17:35 InstallContribNbextensionsApp]\u001b[m Up to date: /Users/ericmeinhardt/Library/Jupyter/nbextensions/equation-numbering/info.yaml\n",
      "\u001b[32m[I 13:17:35 InstallContribNbextensionsApp]\u001b[m Up to date: /Users/ericmeinhardt/Library/Jupyter/nbextensions/equation-numbering/main.js\n",
      "\u001b[32m[I 13:17:35 InstallContribNbextensionsApp]\u001b[m Up to date: /Users/ericmeinhardt/Library/Jupyter/nbextensions/equation-numbering/readme.md\n",
      "\u001b[32m[I 13:17:35 InstallContribNbextensionsApp]\u001b[m - Validating: \u001b[32mOK\u001b[0m\n",
      "\u001b[32m[I 13:17:35 InstallContribNbextensionsApp]\u001b[m Installing /Users/ericmeinhardt/anaconda/lib/python3.5/site-packages/jupyter_contrib_nbextensions/nbextensions/table_beautifier -> table_beautifier\n",
      "\u001b[32m[I 13:17:35 InstallContribNbextensionsApp]\u001b[m Up to date: /Users/ericmeinhardt/Library/Jupyter/nbextensions/table_beautifier/main.css\n",
      "\u001b[32m[I 13:17:35 InstallContribNbextensionsApp]\u001b[m Up to date: /Users/ericmeinhardt/Library/Jupyter/nbextensions/table_beautifier/main.js\n",
      "\u001b[32m[I 13:17:35 InstallContribNbextensionsApp]\u001b[m Up to date: /Users/ericmeinhardt/Library/Jupyter/nbextensions/table_beautifier/README.md\n",
      "\u001b[32m[I 13:17:35 InstallContribNbextensionsApp]\u001b[m Up to date: /Users/ericmeinhardt/Library/Jupyter/nbextensions/table_beautifier/table_beautifier.yaml\n",
      "\u001b[32m[I 13:17:35 InstallContribNbextensionsApp]\u001b[m - Validating: \u001b[32mOK\u001b[0m\n",
      "\u001b[32m[I 13:17:35 InstallContribNbextensionsApp]\u001b[m Installing /Users/ericmeinhardt/anaconda/lib/python3.5/site-packages/jupyter_contrib_nbextensions/nbextensions/code_prettify -> code_prettify\n",
      "\u001b[32m[I 13:17:35 InstallContribNbextensionsApp]\u001b[m Up to date: /Users/ericmeinhardt/Library/Jupyter/nbextensions/code_prettify/2to3.js\n",
      "\u001b[32m[I 13:17:35 InstallContribNbextensionsApp]\u001b[m Up to date: /Users/ericmeinhardt/Library/Jupyter/nbextensions/code_prettify/2to3.yaml\n",
      "\u001b[32m[I 13:17:35 InstallContribNbextensionsApp]\u001b[m Up to date: /Users/ericmeinhardt/Library/Jupyter/nbextensions/code_prettify/autopep8.js\n",
      "\u001b[32m[I 13:17:35 InstallContribNbextensionsApp]\u001b[m Up to date: /Users/ericmeinhardt/Library/Jupyter/nbextensions/code_prettify/autopep8.yaml\n",
      "\u001b[32m[I 13:17:35 InstallContribNbextensionsApp]\u001b[m Up to date: /Users/ericmeinhardt/Library/Jupyter/nbextensions/code_prettify/code_prettify.js\n",
      "\u001b[32m[I 13:17:35 InstallContribNbextensionsApp]\u001b[m Up to date: /Users/ericmeinhardt/Library/Jupyter/nbextensions/code_prettify/code_prettify.yaml\n",
      "\u001b[32m[I 13:17:35 InstallContribNbextensionsApp]\u001b[m Up to date: /Users/ericmeinhardt/Library/Jupyter/nbextensions/code_prettify/demo-jv.gif\n",
      "\u001b[32m[I 13:17:35 InstallContribNbextensionsApp]\u001b[m Up to date: /Users/ericmeinhardt/Library/Jupyter/nbextensions/code_prettify/demo-py.gif\n",
      "\u001b[32m[I 13:17:35 InstallContribNbextensionsApp]\u001b[m Up to date: /Users/ericmeinhardt/Library/Jupyter/nbextensions/code_prettify/demo-R.gif\n",
      "\u001b[32m[I 13:17:35 InstallContribNbextensionsApp]\u001b[m Up to date: /Users/ericmeinhardt/Library/Jupyter/nbextensions/code_prettify/demo_2to3.gif\n",
      "\u001b[32m[I 13:17:35 InstallContribNbextensionsApp]\u001b[m Up to date: /Users/ericmeinhardt/Library/Jupyter/nbextensions/code_prettify/kernel_exec_on_cell.js\n",
      "\u001b[32m[I 13:17:35 InstallContribNbextensionsApp]\u001b[m Up to date: /Users/ericmeinhardt/Library/Jupyter/nbextensions/code_prettify/README.md\n",
      "\u001b[32m[I 13:17:35 InstallContribNbextensionsApp]\u001b[m Up to date: /Users/ericmeinhardt/Library/Jupyter/nbextensions/code_prettify/README_2to3.md\n",
      "\u001b[32m[I 13:17:35 InstallContribNbextensionsApp]\u001b[m Up to date: /Users/ericmeinhardt/Library/Jupyter/nbextensions/code_prettify/README_autopep8.md\n",
      "\u001b[32m[I 13:17:35 InstallContribNbextensionsApp]\u001b[m Up to date: /Users/ericmeinhardt/Library/Jupyter/nbextensions/code_prettify/README_code_prettify.md\n",
      "\u001b[32m[I 13:17:35 InstallContribNbextensionsApp]\u001b[m - Validating: \u001b[32mOK\u001b[0m\n",
      "\u001b[32m[I 13:17:35 InstallContribNbextensionsApp]\u001b[m Installing /Users/ericmeinhardt/anaconda/lib/python3.5/site-packages/jupyter_contrib_nbextensions/nbextensions/select_keymap -> select_keymap\n",
      "\u001b[32m[I 13:17:35 InstallContribNbextensionsApp]\u001b[m Up to date: /Users/ericmeinhardt/Library/Jupyter/nbextensions/select_keymap/main.js\n",
      "\u001b[32m[I 13:17:35 InstallContribNbextensionsApp]\u001b[m Up to date: /Users/ericmeinhardt/Library/Jupyter/nbextensions/select_keymap/README.md\n",
      "\u001b[32m[I 13:17:35 InstallContribNbextensionsApp]\u001b[m Up to date: /Users/ericmeinhardt/Library/Jupyter/nbextensions/select_keymap/select_keymap.png\n",
      "\u001b[32m[I 13:17:35 InstallContribNbextensionsApp]\u001b[m Up to date: /Users/ericmeinhardt/Library/Jupyter/nbextensions/select_keymap/select_keymap.yaml\n",
      "\u001b[32m[I 13:17:35 InstallContribNbextensionsApp]\u001b[m - Validating: \u001b[32mOK\u001b[0m\n",
      "\u001b[32m[I 13:17:35 InstallContribNbextensionsApp]\u001b[m Installing /Users/ericmeinhardt/anaconda/lib/python3.5/site-packages/jupyter_contrib_nbextensions/nbextensions/code_font_size -> code_font_size\n",
      "\u001b[32m[I 13:17:35 InstallContribNbextensionsApp]\u001b[m Up to date: /Users/ericmeinhardt/Library/Jupyter/nbextensions/code_font_size/code_font_size.js\n",
      "\u001b[32m[I 13:17:35 InstallContribNbextensionsApp]\u001b[m Up to date: /Users/ericmeinhardt/Library/Jupyter/nbextensions/code_font_size/code_font_size.yaml\n",
      "\u001b[32m[I 13:17:35 InstallContribNbextensionsApp]\u001b[m Up to date: /Users/ericmeinhardt/Library/Jupyter/nbextensions/code_font_size/README.md\n",
      "\u001b[32m[I 13:17:35 InstallContribNbextensionsApp]\u001b[m - Validating: \u001b[32mOK\u001b[0m\n",
      "\u001b[32m[I 13:17:35 InstallContribNbextensionsApp]\u001b[m Installing /Users/ericmeinhardt/anaconda/lib/python3.5/site-packages/jupyter_contrib_nbextensions/nbextensions/varInspector -> varInspector\n",
      "\u001b[32m[I 13:17:35 InstallContribNbextensionsApp]\u001b[m Up to date: /Users/ericmeinhardt/Library/Jupyter/nbextensions/varInspector/demo.gif\n",
      "\u001b[32m[I 13:17:35 InstallContribNbextensionsApp]\u001b[m Up to date: /Users/ericmeinhardt/Library/Jupyter/nbextensions/varInspector/icon.png\n",
      "\u001b[32m[I 13:17:35 InstallContribNbextensionsApp]\u001b[m Up to date: /Users/ericmeinhardt/Library/Jupyter/nbextensions/varInspector/jquery.tablesorter.min.js\n",
      "\u001b[32m[I 13:17:35 InstallContribNbextensionsApp]\u001b[m Up to date: /Users/ericmeinhardt/Library/Jupyter/nbextensions/varInspector/main.css\n",
      "\u001b[32m[I 13:17:35 InstallContribNbextensionsApp]\u001b[m Up to date: /Users/ericmeinhardt/Library/Jupyter/nbextensions/varInspector/main.js\n",
      "\u001b[32m[I 13:17:35 InstallContribNbextensionsApp]\u001b[m Up to date: /Users/ericmeinhardt/Library/Jupyter/nbextensions/varInspector/README.md\n",
      "\u001b[32m[I 13:17:35 InstallContribNbextensionsApp]\u001b[m Up to date: /Users/ericmeinhardt/Library/Jupyter/nbextensions/varInspector/tablesorter_LICENSE.txt\n",
      "\u001b[32m[I 13:17:35 InstallContribNbextensionsApp]\u001b[m Up to date: /Users/ericmeinhardt/Library/Jupyter/nbextensions/varInspector/var_list.py\n",
      "\u001b[32m[I 13:17:35 InstallContribNbextensionsApp]\u001b[m Up to date: /Users/ericmeinhardt/Library/Jupyter/nbextensions/varInspector/var_list.r\n",
      "\u001b[32m[I 13:17:35 InstallContribNbextensionsApp]\u001b[m Up to date: /Users/ericmeinhardt/Library/Jupyter/nbextensions/varInspector/varInspector.yaml\n",
      "\u001b[32m[I 13:17:35 InstallContribNbextensionsApp]\u001b[m Up to date: /Users/ericmeinhardt/Library/Jupyter/nbextensions/varInspector/__pycache__/var_list.cpython-35.pyc\n",
      "\u001b[32m[I 13:17:35 InstallContribNbextensionsApp]\u001b[m - Validating: \u001b[32mOK\u001b[0m\n",
      "\u001b[32m[I 13:17:35 InstallContribNbextensionsApp]\u001b[m Installing /Users/ericmeinhardt/anaconda/lib/python3.5/site-packages/jupyter_contrib_nbextensions/nbextensions/limit_output -> limit_output\n",
      "\u001b[32m[I 13:17:35 InstallContribNbextensionsApp]\u001b[m Up to date: /Users/ericmeinhardt/Library/Jupyter/nbextensions/limit_output/icon.png\n",
      "\u001b[32m[I 13:17:35 InstallContribNbextensionsApp]\u001b[m Up to date: /Users/ericmeinhardt/Library/Jupyter/nbextensions/limit_output/limit-output.yaml\n",
      "\u001b[32m[I 13:17:35 InstallContribNbextensionsApp]\u001b[m Up to date: /Users/ericmeinhardt/Library/Jupyter/nbextensions/limit_output/main.js\n",
      "\u001b[32m[I 13:17:35 InstallContribNbextensionsApp]\u001b[m Up to date: /Users/ericmeinhardt/Library/Jupyter/nbextensions/limit_output/readme.md\n",
      "\u001b[32m[I 13:17:35 InstallContribNbextensionsApp]\u001b[m - Validating: \u001b[32mOK\u001b[0m\n",
      "\u001b[32m[I 13:17:35 InstallContribNbextensionsApp]\u001b[m Installing /Users/ericmeinhardt/anaconda/lib/python3.5/site-packages/jupyter_contrib_nbextensions/nbextensions/hide_header -> hide_header\n",
      "\u001b[32m[I 13:17:35 InstallContribNbextensionsApp]\u001b[m Up to date: /Users/ericmeinhardt/Library/Jupyter/nbextensions/hide_header/hide_header.yaml\n",
      "\u001b[32m[I 13:17:35 InstallContribNbextensionsApp]\u001b[m Up to date: /Users/ericmeinhardt/Library/Jupyter/nbextensions/hide_header/main.js\n",
      "\u001b[32m[I 13:17:35 InstallContribNbextensionsApp]\u001b[m Up to date: /Users/ericmeinhardt/Library/Jupyter/nbextensions/hide_header/README.md\n",
      "\u001b[32m[I 13:17:35 InstallContribNbextensionsApp]\u001b[m - Validating: \u001b[32mOK\u001b[0m\n",
      "\u001b[32m[I 13:17:35 InstallContribNbextensionsApp]\u001b[m Installing /Users/ericmeinhardt/anaconda/lib/python3.5/site-packages/jupyter_contrib_nbextensions/nbextensions/tree-filter -> tree-filter\n",
      "\u001b[32m[I 13:17:35 InstallContribNbextensionsApp]\u001b[m Up to date: /Users/ericmeinhardt/Library/Jupyter/nbextensions/tree-filter/demo.gif\n",
      "\u001b[32m[I 13:17:35 InstallContribNbextensionsApp]\u001b[m Up to date: /Users/ericmeinhardt/Library/Jupyter/nbextensions/tree-filter/index.js\n",
      "\u001b[32m[I 13:17:35 InstallContribNbextensionsApp]\u001b[m Up to date: /Users/ericmeinhardt/Library/Jupyter/nbextensions/tree-filter/readme.md\n",
      "\u001b[32m[I 13:17:35 InstallContribNbextensionsApp]\u001b[m Up to date: /Users/ericmeinhardt/Library/Jupyter/nbextensions/tree-filter/tree-filter.yaml\n",
      "\u001b[32m[I 13:17:35 InstallContribNbextensionsApp]\u001b[m - Validating: \u001b[32mOK\u001b[0m\n",
      "\u001b[32m[I 13:17:35 InstallContribNbextensionsApp]\u001b[m Installing /Users/ericmeinhardt/anaconda/lib/python3.5/site-packages/jupyter_contrib_nbextensions/nbextensions/scroll_down -> scroll_down\n",
      "\u001b[32m[I 13:17:35 InstallContribNbextensionsApp]\u001b[m Up to date: /Users/ericmeinhardt/Library/Jupyter/nbextensions/scroll_down/config.yaml\n",
      "\u001b[32m[I 13:17:35 InstallContribNbextensionsApp]\u001b[m Up to date: /Users/ericmeinhardt/Library/Jupyter/nbextensions/scroll_down/icon.png\n",
      "\u001b[32m[I 13:17:35 InstallContribNbextensionsApp]\u001b[m Up to date: /Users/ericmeinhardt/Library/Jupyter/nbextensions/scroll_down/main.js\n",
      "\u001b[32m[I 13:17:35 InstallContribNbextensionsApp]\u001b[m Up to date: /Users/ericmeinhardt/Library/Jupyter/nbextensions/scroll_down/readme.md\n",
      "\u001b[32m[I 13:17:35 InstallContribNbextensionsApp]\u001b[m - Validating: \u001b[32mOK\u001b[0m\n",
      "\u001b[32m[I 13:17:35 InstallContribNbextensionsApp]\u001b[m Installing /Users/ericmeinhardt/anaconda/lib/python3.5/site-packages/jupyter_contrib_nbextensions/nbextensions/codefolding -> codefolding\n",
      "\u001b[32m[I 13:17:35 InstallContribNbextensionsApp]\u001b[m Up to date: /Users/ericmeinhardt/Library/Jupyter/nbextensions/codefolding/codefolding.yaml\n",
      "\u001b[32m[I 13:17:35 InstallContribNbextensionsApp]\u001b[m Up to date: /Users/ericmeinhardt/Library/Jupyter/nbextensions/codefolding/codefolding_editor.png\n",
      "\u001b[32m[I 13:17:35 InstallContribNbextensionsApp]\u001b[m Up to date: /Users/ericmeinhardt/Library/Jupyter/nbextensions/codefolding/codefolding_editor.yaml\n",
      "\u001b[32m[I 13:17:35 InstallContribNbextensionsApp]\u001b[m Up to date: /Users/ericmeinhardt/Library/Jupyter/nbextensions/codefolding/codefolding_firstline_folded.png\n",
      "\u001b[32m[I 13:17:35 InstallContribNbextensionsApp]\u001b[m Up to date: /Users/ericmeinhardt/Library/Jupyter/nbextensions/codefolding/codefolding_firstline_unfolded.png\n",
      "\u001b[32m[I 13:17:35 InstallContribNbextensionsApp]\u001b[m Up to date: /Users/ericmeinhardt/Library/Jupyter/nbextensions/codefolding/codefolding_indent_folded_1.png\n",
      "\u001b[32m[I 13:17:35 InstallContribNbextensionsApp]\u001b[m Up to date: /Users/ericmeinhardt/Library/Jupyter/nbextensions/codefolding/codefolding_indent_folded_2.png\n",
      "\u001b[32m[I 13:17:35 InstallContribNbextensionsApp]\u001b[m Up to date: /Users/ericmeinhardt/Library/Jupyter/nbextensions/codefolding/codefolding_indent_unfolded.png\n",
      "\u001b[32m[I 13:17:35 InstallContribNbextensionsApp]\u001b[m Up to date: /Users/ericmeinhardt/Library/Jupyter/nbextensions/codefolding/edit.js\n",
      "\u001b[32m[I 13:17:35 InstallContribNbextensionsApp]\u001b[m Up to date: /Users/ericmeinhardt/Library/Jupyter/nbextensions/codefolding/firstline-fold.js\n",
      "\u001b[32m[I 13:17:35 InstallContribNbextensionsApp]\u001b[m Up to date: /Users/ericmeinhardt/Library/Jupyter/nbextensions/codefolding/foldgutter.css\n",
      "\u001b[32m[I 13:17:35 InstallContribNbextensionsApp]\u001b[m Up to date: /Users/ericmeinhardt/Library/Jupyter/nbextensions/codefolding/icon.png\n",
      "\u001b[32m[I 13:17:35 InstallContribNbextensionsApp]\u001b[m Up to date: /Users/ericmeinhardt/Library/Jupyter/nbextensions/codefolding/magic-fold.js\n",
      "\u001b[32m[I 13:17:35 InstallContribNbextensionsApp]\u001b[m Up to date: /Users/ericmeinhardt/Library/Jupyter/nbextensions/codefolding/magic-folded.png\n",
      "\u001b[32m[I 13:17:35 InstallContribNbextensionsApp]\u001b[m Up to date: /Users/ericmeinhardt/Library/Jupyter/nbextensions/codefolding/magic-unfolded.png\n",
      "\u001b[32m[I 13:17:35 InstallContribNbextensionsApp]\u001b[m Up to date: /Users/ericmeinhardt/Library/Jupyter/nbextensions/codefolding/main.js\n",
      "\u001b[32m[I 13:17:35 InstallContribNbextensionsApp]\u001b[m Up to date: /Users/ericmeinhardt/Library/Jupyter/nbextensions/codefolding/readme.md\n",
      "\u001b[32m[I 13:17:35 InstallContribNbextensionsApp]\u001b[m - Validating: \u001b[32mOK\u001b[0m\n",
      "\u001b[32m[I 13:17:35 InstallContribNbextensionsApp]\u001b[m Installing /Users/ericmeinhardt/anaconda/lib/python3.5/site-packages/jupyter_contrib_nbextensions/nbextensions/keyboard_shortcut_editor -> keyboard_shortcut_editor\n",
      "\u001b[32m[I 13:17:35 InstallContribNbextensionsApp]\u001b[m Up to date: /Users/ericmeinhardt/Library/Jupyter/nbextensions/keyboard_shortcut_editor/icon.png\n",
      "\u001b[32m[I 13:17:35 InstallContribNbextensionsApp]\u001b[m Up to date: /Users/ericmeinhardt/Library/Jupyter/nbextensions/keyboard_shortcut_editor/keyboard_shortcut_editor.yaml\n",
      "\u001b[32m[I 13:17:35 InstallContribNbextensionsApp]\u001b[m Up to date: /Users/ericmeinhardt/Library/Jupyter/nbextensions/keyboard_shortcut_editor/kse_components.js\n",
      "\u001b[32m[I 13:17:35 InstallContribNbextensionsApp]\u001b[m Up to date: /Users/ericmeinhardt/Library/Jupyter/nbextensions/keyboard_shortcut_editor/main.css\n",
      "\u001b[32m[I 13:17:35 InstallContribNbextensionsApp]\u001b[m Up to date: /Users/ericmeinhardt/Library/Jupyter/nbextensions/keyboard_shortcut_editor/main.js\n",
      "\u001b[32m[I 13:17:35 InstallContribNbextensionsApp]\u001b[m Up to date: /Users/ericmeinhardt/Library/Jupyter/nbextensions/keyboard_shortcut_editor/quickhelp_shim.js\n",
      "\u001b[32m[I 13:17:35 InstallContribNbextensionsApp]\u001b[m Up to date: /Users/ericmeinhardt/Library/Jupyter/nbextensions/keyboard_shortcut_editor/README.md\n",
      "\u001b[32m[I 13:17:35 InstallContribNbextensionsApp]\u001b[m Up to date: /Users/ericmeinhardt/Library/Jupyter/nbextensions/keyboard_shortcut_editor/readme_add_new_link.png\n",
      "\u001b[32m[I 13:17:35 InstallContribNbextensionsApp]\u001b[m Up to date: /Users/ericmeinhardt/Library/Jupyter/nbextensions/keyboard_shortcut_editor/readme_add_new_select_action.png\n",
      "\u001b[32m[I 13:17:35 InstallContribNbextensionsApp]\u001b[m Up to date: /Users/ericmeinhardt/Library/Jupyter/nbextensions/keyboard_shortcut_editor/readme_comma.png\n",
      "\u001b[32m[I 13:17:35 InstallContribNbextensionsApp]\u001b[m Up to date: /Users/ericmeinhardt/Library/Jupyter/nbextensions/keyboard_shortcut_editor/readme_conflict.png\n",
      "\u001b[32m[I 13:17:35 InstallContribNbextensionsApp]\u001b[m Up to date: /Users/ericmeinhardt/Library/Jupyter/nbextensions/keyboard_shortcut_editor/readme_dropdown.png\n",
      "\u001b[32m[I 13:17:35 InstallContribNbextensionsApp]\u001b[m Up to date: /Users/ericmeinhardt/Library/Jupyter/nbextensions/keyboard_shortcut_editor/readme_menu_item.png\n",
      "\u001b[32m[I 13:17:35 InstallContribNbextensionsApp]\u001b[m Up to date: /Users/ericmeinhardt/Library/Jupyter/nbextensions/keyboard_shortcut_editor/readme_reset_disabled.png\n",
      "\u001b[32m[I 13:17:35 InstallContribNbextensionsApp]\u001b[m Up to date: /Users/ericmeinhardt/Library/Jupyter/nbextensions/keyboard_shortcut_editor/readme_shortcut_editor_blank.png\n",
      "\u001b[32m[I 13:17:35 InstallContribNbextensionsApp]\u001b[m Up to date: /Users/ericmeinhardt/Library/Jupyter/nbextensions/keyboard_shortcut_editor/readme_shortcut_editor_success.png\n",
      "\u001b[32m[I 13:17:35 InstallContribNbextensionsApp]\u001b[m Up to date: /Users/ericmeinhardt/Library/Jupyter/nbextensions/keyboard_shortcut_editor/readme_undefined_key.png\n",
      "\u001b[32m[I 13:17:35 InstallContribNbextensionsApp]\u001b[m - Validating: \u001b[32mOK\u001b[0m\n",
      "\u001b[32m[I 13:17:35 InstallContribNbextensionsApp]\u001b[m Installing /Users/ericmeinhardt/anaconda/lib/python3.5/site-packages/jupyter_contrib_nbextensions/nbextensions/collapsible_headings -> collapsible_headings\n",
      "\u001b[32m[I 13:17:35 InstallContribNbextensionsApp]\u001b[m Up to date: /Users/ericmeinhardt/Library/Jupyter/nbextensions/collapsible_headings/collapsible_headings.yaml\n",
      "\u001b[32m[I 13:17:35 InstallContribNbextensionsApp]\u001b[m Up to date: /Users/ericmeinhardt/Library/Jupyter/nbextensions/collapsible_headings/icon.png\n",
      "\u001b[32m[I 13:17:35 InstallContribNbextensionsApp]\u001b[m Up to date: /Users/ericmeinhardt/Library/Jupyter/nbextensions/collapsible_headings/main.css\n",
      "\u001b[32m[I 13:17:35 InstallContribNbextensionsApp]\u001b[m Up to date: /Users/ericmeinhardt/Library/Jupyter/nbextensions/collapsible_headings/main.js\n",
      "\u001b[32m[I 13:17:35 InstallContribNbextensionsApp]\u001b[m Up to date: /Users/ericmeinhardt/Library/Jupyter/nbextensions/collapsible_headings/readme.md\n",
      "\u001b[32m[I 13:17:35 InstallContribNbextensionsApp]\u001b[m Up to date: /Users/ericmeinhardt/Library/Jupyter/nbextensions/collapsible_headings/screenshot.png\n",
      "\u001b[32m[I 13:17:35 InstallContribNbextensionsApp]\u001b[m - Validating: \u001b[32mOK\u001b[0m\n",
      "\u001b[32m[I 13:17:35 InstallContribNbextensionsApp]\u001b[m Installing /Users/ericmeinhardt/anaconda/lib/python3.5/site-packages/jupyter_contrib_nbextensions/nbextensions/hinterland -> hinterland\n",
      "\u001b[32m[I 13:17:35 InstallContribNbextensionsApp]\u001b[m Up to date: /Users/ericmeinhardt/Library/Jupyter/nbextensions/hinterland/hinterland.js\n",
      "\u001b[32m[I 13:17:35 InstallContribNbextensionsApp]\u001b[m Up to date: /Users/ericmeinhardt/Library/Jupyter/nbextensions/hinterland/hinterland.yaml\n",
      "\u001b[32m[I 13:17:35 InstallContribNbextensionsApp]\u001b[m Up to date: /Users/ericmeinhardt/Library/Jupyter/nbextensions/hinterland/README.md\n",
      "\u001b[32m[I 13:17:35 InstallContribNbextensionsApp]\u001b[m - Validating: \u001b[32mOK\u001b[0m\n",
      "\u001b[32m[I 13:17:35 InstallContribNbextensionsApp]\u001b[m Installing /Users/ericmeinhardt/anaconda/lib/python3.5/site-packages/jupyter_contrib_nbextensions/nbextensions/rubberband -> rubberband\n",
      "\u001b[32m[I 13:17:35 InstallContribNbextensionsApp]\u001b[m Up to date: /Users/ericmeinhardt/Library/Jupyter/nbextensions/rubberband/icon.png\n",
      "\u001b[32m[I 13:17:35 InstallContribNbextensionsApp]\u001b[m Up to date: /Users/ericmeinhardt/Library/Jupyter/nbextensions/rubberband/main.css\n",
      "\u001b[32m[I 13:17:35 InstallContribNbextensionsApp]\u001b[m Up to date: /Users/ericmeinhardt/Library/Jupyter/nbextensions/rubberband/main.js\n",
      "\u001b[32m[I 13:17:35 InstallContribNbextensionsApp]\u001b[m Up to date: /Users/ericmeinhardt/Library/Jupyter/nbextensions/rubberband/readme.md\n",
      "\u001b[32m[I 13:17:35 InstallContribNbextensionsApp]\u001b[m Up to date: /Users/ericmeinhardt/Library/Jupyter/nbextensions/rubberband/rubberband.yaml\n",
      "\u001b[32m[I 13:17:35 InstallContribNbextensionsApp]\u001b[m - Validating: \u001b[32mOK\u001b[0m\n",
      "\u001b[32m[I 13:17:35 InstallContribNbextensionsApp]\u001b[m Installing /Users/ericmeinhardt/anaconda/lib/python3.5/site-packages/jupyter_contrib_nbextensions/nbextensions/codefolding -> codefolding\n",
      "\u001b[32m[I 13:17:35 InstallContribNbextensionsApp]\u001b[m Up to date: /Users/ericmeinhardt/Library/Jupyter/nbextensions/codefolding/codefolding.yaml\n",
      "\u001b[32m[I 13:17:35 InstallContribNbextensionsApp]\u001b[m Up to date: /Users/ericmeinhardt/Library/Jupyter/nbextensions/codefolding/codefolding_editor.png\n",
      "\u001b[32m[I 13:17:35 InstallContribNbextensionsApp]\u001b[m Up to date: /Users/ericmeinhardt/Library/Jupyter/nbextensions/codefolding/codefolding_editor.yaml\n",
      "\u001b[32m[I 13:17:35 InstallContribNbextensionsApp]\u001b[m Up to date: /Users/ericmeinhardt/Library/Jupyter/nbextensions/codefolding/codefolding_firstline_folded.png\n",
      "\u001b[32m[I 13:17:35 InstallContribNbextensionsApp]\u001b[m Up to date: /Users/ericmeinhardt/Library/Jupyter/nbextensions/codefolding/codefolding_firstline_unfolded.png\n",
      "\u001b[32m[I 13:17:35 InstallContribNbextensionsApp]\u001b[m Up to date: /Users/ericmeinhardt/Library/Jupyter/nbextensions/codefolding/codefolding_indent_folded_1.png\n",
      "\u001b[32m[I 13:17:35 InstallContribNbextensionsApp]\u001b[m Up to date: /Users/ericmeinhardt/Library/Jupyter/nbextensions/codefolding/codefolding_indent_folded_2.png\n",
      "\u001b[32m[I 13:17:35 InstallContribNbextensionsApp]\u001b[m Up to date: /Users/ericmeinhardt/Library/Jupyter/nbextensions/codefolding/codefolding_indent_unfolded.png\n",
      "\u001b[32m[I 13:17:35 InstallContribNbextensionsApp]\u001b[m Up to date: /Users/ericmeinhardt/Library/Jupyter/nbextensions/codefolding/edit.js\n",
      "\u001b[32m[I 13:17:35 InstallContribNbextensionsApp]\u001b[m Up to date: /Users/ericmeinhardt/Library/Jupyter/nbextensions/codefolding/firstline-fold.js\n",
      "\u001b[32m[I 13:17:35 InstallContribNbextensionsApp]\u001b[m Up to date: /Users/ericmeinhardt/Library/Jupyter/nbextensions/codefolding/foldgutter.css\n",
      "\u001b[32m[I 13:17:35 InstallContribNbextensionsApp]\u001b[m Up to date: /Users/ericmeinhardt/Library/Jupyter/nbextensions/codefolding/icon.png\n",
      "\u001b[32m[I 13:17:35 InstallContribNbextensionsApp]\u001b[m Up to date: /Users/ericmeinhardt/Library/Jupyter/nbextensions/codefolding/magic-fold.js\n",
      "\u001b[32m[I 13:17:35 InstallContribNbextensionsApp]\u001b[m Up to date: /Users/ericmeinhardt/Library/Jupyter/nbextensions/codefolding/magic-folded.png\n",
      "\u001b[32m[I 13:17:35 InstallContribNbextensionsApp]\u001b[m Up to date: /Users/ericmeinhardt/Library/Jupyter/nbextensions/codefolding/magic-unfolded.png\n",
      "\u001b[32m[I 13:17:35 InstallContribNbextensionsApp]\u001b[m Up to date: /Users/ericmeinhardt/Library/Jupyter/nbextensions/codefolding/main.js\n",
      "\u001b[32m[I 13:17:35 InstallContribNbextensionsApp]\u001b[m Up to date: /Users/ericmeinhardt/Library/Jupyter/nbextensions/codefolding/readme.md\n",
      "\u001b[32m[I 13:17:35 InstallContribNbextensionsApp]\u001b[m - Validating: \u001b[32mOK\u001b[0m\n",
      "\u001b[32m[I 13:17:35 InstallContribNbextensionsApp]\u001b[m Installing /Users/ericmeinhardt/anaconda/lib/python3.5/site-packages/jupyter_contrib_nbextensions/nbextensions/exercise2 -> exercise2\n",
      "\u001b[32m[I 13:17:35 InstallContribNbextensionsApp]\u001b[m Up to date: /Users/ericmeinhardt/Library/Jupyter/nbextensions/exercise2/exercise2.yaml\n",
      "\u001b[32m[I 13:17:35 InstallContribNbextensionsApp]\u001b[m Up to date: /Users/ericmeinhardt/Library/Jupyter/nbextensions/exercise2/icon.png\n",
      "\u001b[32m[I 13:17:35 InstallContribNbextensionsApp]\u001b[m Up to date: /Users/ericmeinhardt/Library/Jupyter/nbextensions/exercise2/image.gif\n",
      "\u001b[32m[I 13:17:35 InstallContribNbextensionsApp]\u001b[m Up to date: /Users/ericmeinhardt/Library/Jupyter/nbextensions/exercise2/main.css\n",
      "\u001b[32m[I 13:17:35 InstallContribNbextensionsApp]\u001b[m Up to date: /Users/ericmeinhardt/Library/Jupyter/nbextensions/exercise2/main.js\n",
      "\u001b[32m[I 13:17:35 InstallContribNbextensionsApp]\u001b[m Up to date: /Users/ericmeinhardt/Library/Jupyter/nbextensions/exercise2/readme.md\n",
      "\u001b[32m[I 13:17:35 InstallContribNbextensionsApp]\u001b[m - Validating: \u001b[32mOK\u001b[0m\n",
      "\u001b[32m[I 13:17:35 InstallContribNbextensionsApp]\u001b[m Installing /Users/ericmeinhardt/anaconda/lib/python3.5/site-packages/jupyter_contrib_nbextensions/nbextensions/splitcell -> splitcell\n",
      "\u001b[32m[I 13:17:35 InstallContribNbextensionsApp]\u001b[m Up to date: /Users/ericmeinhardt/Library/Jupyter/nbextensions/splitcell/icon.png\n",
      "\u001b[32m[I 13:17:35 InstallContribNbextensionsApp]\u001b[m Up to date: /Users/ericmeinhardt/Library/Jupyter/nbextensions/splitcell/readme.md\n",
      "\u001b[32m[I 13:17:35 InstallContribNbextensionsApp]\u001b[m Up to date: /Users/ericmeinhardt/Library/Jupyter/nbextensions/splitcell/splitcell.js\n",
      "\u001b[32m[I 13:17:35 InstallContribNbextensionsApp]\u001b[m Up to date: /Users/ericmeinhardt/Library/Jupyter/nbextensions/splitcell/splitcell.yaml\n",
      "\u001b[32m[I 13:17:35 InstallContribNbextensionsApp]\u001b[m - Validating: \u001b[32mOK\u001b[0m\n",
      "\u001b[32m[I 13:17:35 InstallContribNbextensionsApp]\u001b[m Installing /Users/ericmeinhardt/anaconda/lib/python3.5/site-packages/jupyter_contrib_nbextensions/nbextensions/move_selected_cells -> move_selected_cells\n",
      "\u001b[32m[I 13:17:35 InstallContribNbextensionsApp]\u001b[m Up to date: /Users/ericmeinhardt/Library/Jupyter/nbextensions/move_selected_cells/main.js\n",
      "\u001b[32m[I 13:17:35 InstallContribNbextensionsApp]\u001b[m Up to date: /Users/ericmeinhardt/Library/Jupyter/nbextensions/move_selected_cells/move_selected_cells.yaml\n",
      "\u001b[32m[I 13:17:35 InstallContribNbextensionsApp]\u001b[m Up to date: /Users/ericmeinhardt/Library/Jupyter/nbextensions/move_selected_cells/README.md\n",
      "\u001b[32m[I 13:17:35 InstallContribNbextensionsApp]\u001b[m - Validating: \u001b[32mOK\u001b[0m\n",
      "\u001b[32m[I 13:17:35 InstallContribNbextensionsApp]\u001b[m Installing /Users/ericmeinhardt/anaconda/lib/python3.5/site-packages/jupyter_contrib_nbextensions/nbextensions/contrib_nbextensions_help_item -> contrib_nbextensions_help_item\n",
      "\u001b[32m[I 13:17:35 InstallContribNbextensionsApp]\u001b[m Up to date: /Users/ericmeinhardt/Library/Jupyter/nbextensions/contrib_nbextensions_help_item/contrib_nbextensions_help_item.yaml\n",
      "\u001b[32m[I 13:17:35 InstallContribNbextensionsApp]\u001b[m Up to date: /Users/ericmeinhardt/Library/Jupyter/nbextensions/contrib_nbextensions_help_item/main.js\n",
      "\u001b[32m[I 13:17:35 InstallContribNbextensionsApp]\u001b[m Up to date: /Users/ericmeinhardt/Library/Jupyter/nbextensions/contrib_nbextensions_help_item/README.md\n",
      "\u001b[32m[I 13:17:35 InstallContribNbextensionsApp]\u001b[m - Validating: \u001b[32mOK\u001b[0m\n",
      "\u001b[32m[I 13:17:35 InstallContribNbextensionsApp]\u001b[m Installing /Users/ericmeinhardt/anaconda/lib/python3.5/site-packages/jupyter_contrib_nbextensions/nbextensions/help_panel -> help_panel\n",
      "\u001b[32m[I 13:17:35 InstallContribNbextensionsApp]\u001b[m Up to date: /Users/ericmeinhardt/Library/Jupyter/nbextensions/help_panel/help_panel.css\n",
      "\u001b[32m[I 13:17:35 InstallContribNbextensionsApp]\u001b[m Up to date: /Users/ericmeinhardt/Library/Jupyter/nbextensions/help_panel/help_panel.js\n",
      "\u001b[32m[I 13:17:35 InstallContribNbextensionsApp]\u001b[m Up to date: /Users/ericmeinhardt/Library/Jupyter/nbextensions/help_panel/help_panel.yaml\n",
      "\u001b[32m[I 13:17:35 InstallContribNbextensionsApp]\u001b[m Up to date: /Users/ericmeinhardt/Library/Jupyter/nbextensions/help_panel/help_panel_ext.png\n",
      "\u001b[32m[I 13:17:35 InstallContribNbextensionsApp]\u001b[m Up to date: /Users/ericmeinhardt/Library/Jupyter/nbextensions/help_panel/help_panel_ext_fullscreen.png\n",
      "\u001b[32m[I 13:17:35 InstallContribNbextensionsApp]\u001b[m Up to date: /Users/ericmeinhardt/Library/Jupyter/nbextensions/help_panel/icon.png\n",
      "\u001b[32m[I 13:17:35 InstallContribNbextensionsApp]\u001b[m Up to date: /Users/ericmeinhardt/Library/Jupyter/nbextensions/help_panel/readme.md\n",
      "\u001b[32m[I 13:17:35 InstallContribNbextensionsApp]\u001b[m Up to date: /Users/ericmeinhardt/Library/Jupyter/nbextensions/help_panel/img/handle-v.png\n",
      "\u001b[32m[I 13:17:35 InstallContribNbextensionsApp]\u001b[m - Validating: \u001b[32mOK\u001b[0m\n",
      "\u001b[32m[I 13:17:35 InstallContribNbextensionsApp]\u001b[m Installing /Users/ericmeinhardt/anaconda/lib/python3.5/site-packages/jupyter_contrib_nbextensions/nbextensions/python-markdown -> python-markdown\n",
      "\u001b[32m[I 13:17:35 InstallContribNbextensionsApp]\u001b[m Up to date: /Users/ericmeinhardt/Library/Jupyter/nbextensions/python-markdown/main.css\n",
      "\u001b[32m[I 13:17:35 InstallContribNbextensionsApp]\u001b[m Up to date: /Users/ericmeinhardt/Library/Jupyter/nbextensions/python-markdown/main.js\n",
      "\u001b[32m[I 13:17:35 InstallContribNbextensionsApp]\u001b[m Up to date: /Users/ericmeinhardt/Library/Jupyter/nbextensions/python-markdown/python-markdown-post.png\n",
      "\u001b[32m[I 13:17:35 InstallContribNbextensionsApp]\u001b[m Up to date: /Users/ericmeinhardt/Library/Jupyter/nbextensions/python-markdown/python-markdown-pre.png\n",
      "\u001b[32m[I 13:17:35 InstallContribNbextensionsApp]\u001b[m Up to date: /Users/ericmeinhardt/Library/Jupyter/nbextensions/python-markdown/python-markdown.png\n",
      "\u001b[32m[I 13:17:35 InstallContribNbextensionsApp]\u001b[m Up to date: /Users/ericmeinhardt/Library/Jupyter/nbextensions/python-markdown/python-markdown.yaml\n",
      "\u001b[32m[I 13:17:35 InstallContribNbextensionsApp]\u001b[m Up to date: /Users/ericmeinhardt/Library/Jupyter/nbextensions/python-markdown/readme.md\n",
      "\u001b[32m[I 13:17:35 InstallContribNbextensionsApp]\u001b[m Up to date: /Users/ericmeinhardt/Library/Jupyter/nbextensions/python-markdown/trusted.png\n",
      "\u001b[32m[I 13:17:35 InstallContribNbextensionsApp]\u001b[m Up to date: /Users/ericmeinhardt/Library/Jupyter/nbextensions/python-markdown/untrusted.png\n",
      "\u001b[32m[I 13:17:35 InstallContribNbextensionsApp]\u001b[m - Validating: \u001b[32mOK\u001b[0m\n",
      "\u001b[32m[I 13:17:35 InstallContribNbextensionsApp]\u001b[m Installing /Users/ericmeinhardt/anaconda/lib/python3.5/site-packages/jupyter_contrib_nbextensions/nbextensions/spellchecker -> spellchecker\n",
      "\u001b[32m[I 13:17:35 InstallContribNbextensionsApp]\u001b[m Up to date: /Users/ericmeinhardt/Library/Jupyter/nbextensions/spellchecker/config.yaml\n",
      "\u001b[32m[I 13:17:35 InstallContribNbextensionsApp]\u001b[m Up to date: /Users/ericmeinhardt/Library/Jupyter/nbextensions/spellchecker/download_new_dict.py\n",
      "\u001b[32m[I 13:17:35 InstallContribNbextensionsApp]\u001b[m Up to date: /Users/ericmeinhardt/Library/Jupyter/nbextensions/spellchecker/main.css\n",
      "\u001b[32m[I 13:17:35 InstallContribNbextensionsApp]\u001b[m Up to date: /Users/ericmeinhardt/Library/Jupyter/nbextensions/spellchecker/main.js\n",
      "\u001b[32m[I 13:17:35 InstallContribNbextensionsApp]\u001b[m Up to date: /Users/ericmeinhardt/Library/Jupyter/nbextensions/spellchecker/README.md\n",
      "\u001b[32m[I 13:17:35 InstallContribNbextensionsApp]\u001b[m Up to date: /Users/ericmeinhardt/Library/Jupyter/nbextensions/spellchecker/screenshot.png\n",
      "\u001b[32m[I 13:17:35 InstallContribNbextensionsApp]\u001b[m Up to date: /Users/ericmeinhardt/Library/Jupyter/nbextensions/spellchecker/__pycache__/download_new_dict.cpython-35.pyc\n",
      "\u001b[32m[I 13:17:35 InstallContribNbextensionsApp]\u001b[m Up to date: /Users/ericmeinhardt/Library/Jupyter/nbextensions/spellchecker/typo/LICENSE.txt\n",
      "\u001b[32m[I 13:17:35 InstallContribNbextensionsApp]\u001b[m Up to date: /Users/ericmeinhardt/Library/Jupyter/nbextensions/spellchecker/typo/typo.js\n",
      "\u001b[32m[I 13:17:35 InstallContribNbextensionsApp]\u001b[m - Validating: \u001b[32mOK\u001b[0m\n",
      "\u001b[32m[I 13:17:35 InstallContribNbextensionsApp]\u001b[m Installing /Users/ericmeinhardt/anaconda/lib/python3.5/site-packages/jupyter_contrib_nbextensions/nbextensions/freeze -> freeze\n",
      "\u001b[32m[I 13:17:35 InstallContribNbextensionsApp]\u001b[m Up to date: /Users/ericmeinhardt/Library/Jupyter/nbextensions/freeze/config.yaml\n",
      "\u001b[32m[I 13:17:35 InstallContribNbextensionsApp]\u001b[m Up to date: /Users/ericmeinhardt/Library/Jupyter/nbextensions/freeze/icon.png\n",
      "\u001b[32m[I 13:17:35 InstallContribNbextensionsApp]\u001b[m Up to date: /Users/ericmeinhardt/Library/Jupyter/nbextensions/freeze/main.js\n",
      "\u001b[32m[I 13:17:35 InstallContribNbextensionsApp]\u001b[m Up to date: /Users/ericmeinhardt/Library/Jupyter/nbextensions/freeze/readme.md\n",
      "\u001b[32m[I 13:17:35 InstallContribNbextensionsApp]\u001b[m - Validating: \u001b[32mOK\u001b[0m\n",
      "\u001b[32m[I 13:17:35 InstallContribNbextensionsApp]\u001b[m Installing /Users/ericmeinhardt/anaconda/lib/python3.5/site-packages/jupyter_contrib_nbextensions/nbextensions/highlighter -> highlighter\n",
      "\u001b[32m[I 13:17:35 InstallContribNbextensionsApp]\u001b[m Up to date: /Users/ericmeinhardt/Library/Jupyter/nbextensions/highlighter/demo_highlighter.html\n",
      "\u001b[32m[I 13:17:35 InstallContribNbextensionsApp]\u001b[m Up to date: /Users/ericmeinhardt/Library/Jupyter/nbextensions/highlighter/demo_highlighter.ipynb\n",
      "\u001b[32m[I 13:17:35 InstallContribNbextensionsApp]\u001b[m Up to date: /Users/ericmeinhardt/Library/Jupyter/nbextensions/highlighter/export_highlights.html\n",
      "\u001b[32m[I 13:17:35 InstallContribNbextensionsApp]\u001b[m Up to date: /Users/ericmeinhardt/Library/Jupyter/nbextensions/highlighter/export_highlights.ipynb\n",
      "\u001b[32m[I 13:17:35 InstallContribNbextensionsApp]\u001b[m Up to date: /Users/ericmeinhardt/Library/Jupyter/nbextensions/highlighter/export_highlights.pdf\n",
      "\u001b[32m[I 13:17:35 InstallContribNbextensionsApp]\u001b[m Up to date: /Users/ericmeinhardt/Library/Jupyter/nbextensions/highlighter/export_highlights.tex\n",
      "\u001b[32m[I 13:17:35 InstallContribNbextensionsApp]\u001b[m Up to date: /Users/ericmeinhardt/Library/Jupyter/nbextensions/highlighter/highlighter.css\n",
      "\u001b[32m[I 13:17:35 InstallContribNbextensionsApp]\u001b[m Up to date: /Users/ericmeinhardt/Library/Jupyter/nbextensions/highlighter/highlighter.js\n",
      "\u001b[32m[I 13:17:35 InstallContribNbextensionsApp]\u001b[m Up to date: /Users/ericmeinhardt/Library/Jupyter/nbextensions/highlighter/highlighter.yaml\n",
      "\u001b[32m[I 13:17:35 InstallContribNbextensionsApp]\u001b[m Up to date: /Users/ericmeinhardt/Library/Jupyter/nbextensions/highlighter/icon.png\n",
      "\u001b[32m[I 13:17:35 InstallContribNbextensionsApp]\u001b[m Up to date: /Users/ericmeinhardt/Library/Jupyter/nbextensions/highlighter/image.gif\n",
      "\u001b[32m[I 13:17:35 InstallContribNbextensionsApp]\u001b[m Up to date: /Users/ericmeinhardt/Library/Jupyter/nbextensions/highlighter/readme.md\n",
      "\u001b[32m[I 13:17:35 InstallContribNbextensionsApp]\u001b[m Up to date: /Users/ericmeinhardt/Library/Jupyter/nbextensions/highlighter/tst_highlights.html\n",
      "\u001b[32m[I 13:17:35 InstallContribNbextensionsApp]\u001b[m Up to date: /Users/ericmeinhardt/Library/Jupyter/nbextensions/highlighter/tst_highlights.ipynb\n",
      "\u001b[32m[I 13:17:35 InstallContribNbextensionsApp]\u001b[m Up to date: /Users/ericmeinhardt/Library/Jupyter/nbextensions/highlighter/tst_highlights.pdf\n",
      "\u001b[32m[I 13:17:35 InstallContribNbextensionsApp]\u001b[m Up to date: /Users/ericmeinhardt/Library/Jupyter/nbextensions/highlighter/tst_highlights.tex\n",
      "\u001b[32m[I 13:17:35 InstallContribNbextensionsApp]\u001b[m - Validating: \u001b[32mOK\u001b[0m\n",
      "\u001b[32m[I 13:17:35 InstallContribNbextensionsApp]\u001b[m Installing /Users/ericmeinhardt/anaconda/lib/python3.5/site-packages/jupyter_contrib_nbextensions/nbextensions/hide_input -> hide_input\n",
      "\u001b[32m[I 13:17:35 InstallContribNbextensionsApp]\u001b[m Up to date: /Users/ericmeinhardt/Library/Jupyter/nbextensions/hide_input/hide-input.yaml\n",
      "\u001b[32m[I 13:17:35 InstallContribNbextensionsApp]\u001b[m Up to date: /Users/ericmeinhardt/Library/Jupyter/nbextensions/hide_input/icon.png\n",
      "\u001b[32m[I 13:17:35 InstallContribNbextensionsApp]\u001b[m Up to date: /Users/ericmeinhardt/Library/Jupyter/nbextensions/hide_input/main.js\n",
      "\u001b[32m[I 13:17:35 InstallContribNbextensionsApp]\u001b[m Up to date: /Users/ericmeinhardt/Library/Jupyter/nbextensions/hide_input/readme.md\n",
      "\u001b[32m[I 13:17:35 InstallContribNbextensionsApp]\u001b[m - Validating: \u001b[32mOK\u001b[0m\n",
      "\u001b[32m[I 13:17:35 InstallContribNbextensionsApp]\u001b[m Installing /Users/ericmeinhardt/anaconda/lib/python3.5/site-packages/jupyter_contrib_nbextensions/nbextensions/codemirror_mode_extensions -> codemirror_mode_extensions\n",
      "\u001b[32m[I 13:17:35 InstallContribNbextensionsApp]\u001b[m Up to date: /Users/ericmeinhardt/Library/Jupyter/nbextensions/codemirror_mode_extensions/codemirror_mode_extensions.yaml\n",
      "\u001b[32m[I 13:17:35 InstallContribNbextensionsApp]\u001b[m Up to date: /Users/ericmeinhardt/Library/Jupyter/nbextensions/codemirror_mode_extensions/main.js\n",
      "\u001b[32m[I 13:17:35 InstallContribNbextensionsApp]\u001b[m - Validating: \u001b[32mOK\u001b[0m\n",
      "\u001b[32m[I 13:17:35 InstallContribNbextensionsApp]\u001b[m Installing /Users/ericmeinhardt/anaconda/lib/python3.5/site-packages/jupyter_contrib_nbextensions/nbextensions/ruler -> ruler\n",
      "\u001b[32m[I 13:17:35 InstallContribNbextensionsApp]\u001b[m Up to date: /Users/ericmeinhardt/Library/Jupyter/nbextensions/ruler/icon.png\n",
      "\u001b[32m[I 13:17:35 InstallContribNbextensionsApp]\u001b[m Up to date: /Users/ericmeinhardt/Library/Jupyter/nbextensions/ruler/main.js\n",
      "\u001b[32m[I 13:17:35 InstallContribNbextensionsApp]\u001b[m Up to date: /Users/ericmeinhardt/Library/Jupyter/nbextensions/ruler/readme.md\n",
      "\u001b[32m[I 13:17:35 InstallContribNbextensionsApp]\u001b[m Up to date: /Users/ericmeinhardt/Library/Jupyter/nbextensions/ruler/ruler.yaml\n",
      "\u001b[32m[I 13:17:35 InstallContribNbextensionsApp]\u001b[m - Validating: \u001b[32mOK\u001b[0m\n",
      "\u001b[32m[I 13:17:35 InstallContribNbextensionsApp]\u001b[m Installing /Users/ericmeinhardt/anaconda/lib/python3.5/site-packages/jupyter_contrib_nbextensions/nbextensions/printview -> printview\n",
      "\u001b[32m[I 13:17:35 InstallContribNbextensionsApp]\u001b[m Up to date: /Users/ericmeinhardt/Library/Jupyter/nbextensions/printview/icon.png\n",
      "\u001b[32m[I 13:17:35 InstallContribNbextensionsApp]\u001b[m Up to date: /Users/ericmeinhardt/Library/Jupyter/nbextensions/printview/main.js\n",
      "\u001b[32m[I 13:17:35 InstallContribNbextensionsApp]\u001b[m Up to date: /Users/ericmeinhardt/Library/Jupyter/nbextensions/printview/printview-button.png\n",
      "\u001b[32m[I 13:17:35 InstallContribNbextensionsApp]\u001b[m Up to date: /Users/ericmeinhardt/Library/Jupyter/nbextensions/printview/printview.yaml\n",
      "\u001b[32m[I 13:17:35 InstallContribNbextensionsApp]\u001b[m Up to date: /Users/ericmeinhardt/Library/Jupyter/nbextensions/printview/readme.md\n",
      "\u001b[32m[I 13:17:35 InstallContribNbextensionsApp]\u001b[m - Validating: \u001b[32mOK\u001b[0m\n",
      "\u001b[32m[I 13:17:35 InstallContribNbextensionsApp]\u001b[m Installing /Users/ericmeinhardt/anaconda/lib/python3.5/site-packages/jupyter_contrib_nbextensions/nbextensions/gist_it -> gist_it\n",
      "\u001b[32m[I 13:17:35 InstallContribNbextensionsApp]\u001b[m Up to date: /Users/ericmeinhardt/Library/Jupyter/nbextensions/gist_it/gist_it.yaml\n",
      "\u001b[32m[I 13:17:35 InstallContribNbextensionsApp]\u001b[m Up to date: /Users/ericmeinhardt/Library/Jupyter/nbextensions/gist_it/icon.png\n",
      "\u001b[32m[I 13:17:35 InstallContribNbextensionsApp]\u001b[m Up to date: /Users/ericmeinhardt/Library/Jupyter/nbextensions/gist_it/main.js\n",
      "\u001b[32m[I 13:17:35 InstallContribNbextensionsApp]\u001b[m Up to date: /Users/ericmeinhardt/Library/Jupyter/nbextensions/gist_it/readme.md\n",
      "\u001b[32m[I 13:17:35 InstallContribNbextensionsApp]\u001b[m - Validating: \u001b[32mOK\u001b[0m\n",
      "\u001b[32m[I 13:17:35 InstallContribNbextensionsApp]\u001b[m Installing /Users/ericmeinhardt/anaconda/lib/python3.5/site-packages/jupyter_contrib_nbextensions/nbextensions/code_prettify -> code_prettify\n",
      "\u001b[32m[I 13:17:35 InstallContribNbextensionsApp]\u001b[m Up to date: /Users/ericmeinhardt/Library/Jupyter/nbextensions/code_prettify/2to3.js\n",
      "\u001b[32m[I 13:17:35 InstallContribNbextensionsApp]\u001b[m Up to date: /Users/ericmeinhardt/Library/Jupyter/nbextensions/code_prettify/2to3.yaml\n",
      "\u001b[32m[I 13:17:35 InstallContribNbextensionsApp]\u001b[m Up to date: /Users/ericmeinhardt/Library/Jupyter/nbextensions/code_prettify/autopep8.js\n",
      "\u001b[32m[I 13:17:35 InstallContribNbextensionsApp]\u001b[m Up to date: /Users/ericmeinhardt/Library/Jupyter/nbextensions/code_prettify/autopep8.yaml\n",
      "\u001b[32m[I 13:17:35 InstallContribNbextensionsApp]\u001b[m Up to date: /Users/ericmeinhardt/Library/Jupyter/nbextensions/code_prettify/code_prettify.js\n",
      "\u001b[32m[I 13:17:35 InstallContribNbextensionsApp]\u001b[m Up to date: /Users/ericmeinhardt/Library/Jupyter/nbextensions/code_prettify/code_prettify.yaml\n",
      "\u001b[32m[I 13:17:35 InstallContribNbextensionsApp]\u001b[m Up to date: /Users/ericmeinhardt/Library/Jupyter/nbextensions/code_prettify/demo-jv.gif\n",
      "\u001b[32m[I 13:17:35 InstallContribNbextensionsApp]\u001b[m Up to date: /Users/ericmeinhardt/Library/Jupyter/nbextensions/code_prettify/demo-py.gif\n",
      "\u001b[32m[I 13:17:35 InstallContribNbextensionsApp]\u001b[m Up to date: /Users/ericmeinhardt/Library/Jupyter/nbextensions/code_prettify/demo-R.gif\n",
      "\u001b[32m[I 13:17:35 InstallContribNbextensionsApp]\u001b[m Up to date: /Users/ericmeinhardt/Library/Jupyter/nbextensions/code_prettify/demo_2to3.gif\n",
      "\u001b[32m[I 13:17:35 InstallContribNbextensionsApp]\u001b[m Up to date: /Users/ericmeinhardt/Library/Jupyter/nbextensions/code_prettify/kernel_exec_on_cell.js\n",
      "\u001b[32m[I 13:17:35 InstallContribNbextensionsApp]\u001b[m Up to date: /Users/ericmeinhardt/Library/Jupyter/nbextensions/code_prettify/README.md\n",
      "\u001b[32m[I 13:17:35 InstallContribNbextensionsApp]\u001b[m Up to date: /Users/ericmeinhardt/Library/Jupyter/nbextensions/code_prettify/README_2to3.md\n",
      "\u001b[32m[I 13:17:35 InstallContribNbextensionsApp]\u001b[m Up to date: /Users/ericmeinhardt/Library/Jupyter/nbextensions/code_prettify/README_autopep8.md\n",
      "\u001b[32m[I 13:17:35 InstallContribNbextensionsApp]\u001b[m Up to date: /Users/ericmeinhardt/Library/Jupyter/nbextensions/code_prettify/README_code_prettify.md\n",
      "\u001b[32m[I 13:17:35 InstallContribNbextensionsApp]\u001b[m - Validating: \u001b[32mOK\u001b[0m\n",
      "\u001b[32m[I 13:17:35 InstallContribNbextensionsApp]\u001b[m Installing /Users/ericmeinhardt/anaconda/lib/python3.5/site-packages/jupyter_contrib_nbextensions/nbextensions/qtconsole -> qtconsole\n",
      "\u001b[32m[I 13:17:35 InstallContribNbextensionsApp]\u001b[m Up to date: /Users/ericmeinhardt/Library/Jupyter/nbextensions/qtconsole/qtconsole.js\n",
      "\u001b[32m[I 13:17:35 InstallContribNbextensionsApp]\u001b[m Up to date: /Users/ericmeinhardt/Library/Jupyter/nbextensions/qtconsole/qtconsole.yaml\n",
      "\u001b[32m[I 13:17:35 InstallContribNbextensionsApp]\u001b[m Up to date: /Users/ericmeinhardt/Library/Jupyter/nbextensions/qtconsole/README.md\n",
      "\u001b[32m[I 13:17:35 InstallContribNbextensionsApp]\u001b[m - Validating: \u001b[32mOK\u001b[0m\n",
      "\u001b[32m[I 13:17:35 InstallContribNbextensionsApp]\u001b[m Installing /Users/ericmeinhardt/anaconda/lib/python3.5/site-packages/jupyter_contrib_nbextensions/nbextensions/snippets_menu -> snippets_menu\n",
      "\u001b[32m[I 13:17:35 InstallContribNbextensionsApp]\u001b[m Up to date: /Users/ericmeinhardt/Library/Jupyter/nbextensions/snippets_menu/config.yaml\n",
      "\u001b[32m[I 13:17:35 InstallContribNbextensionsApp]\u001b[m Up to date: /Users/ericmeinhardt/Library/Jupyter/nbextensions/snippets_menu/examples_for_custom.js\n",
      "\u001b[32m[I 13:17:35 InstallContribNbextensionsApp]\u001b[m Up to date: /Users/ericmeinhardt/Library/Jupyter/nbextensions/snippets_menu/main.js\n",
      "\u001b[32m[I 13:17:35 InstallContribNbextensionsApp]\u001b[m Up to date: /Users/ericmeinhardt/Library/Jupyter/nbextensions/snippets_menu/readme.md\n",
      "\u001b[32m[I 13:17:35 InstallContribNbextensionsApp]\u001b[m Up to date: /Users/ericmeinhardt/Library/Jupyter/nbextensions/snippets_menu/screenshot1.png\n",
      "\u001b[32m[I 13:17:35 InstallContribNbextensionsApp]\u001b[m Up to date: /Users/ericmeinhardt/Library/Jupyter/nbextensions/snippets_menu/screenshot2.png\n",
      "\u001b[32m[I 13:17:35 InstallContribNbextensionsApp]\u001b[m Up to date: /Users/ericmeinhardt/Library/Jupyter/nbextensions/snippets_menu/screenshot3.png\n",
      "\u001b[32m[I 13:17:35 InstallContribNbextensionsApp]\u001b[m Up to date: /Users/ericmeinhardt/Library/Jupyter/nbextensions/snippets_menu/snippets_menu.css\n",
      "\u001b[32m[I 13:17:35 InstallContribNbextensionsApp]\u001b[m Up to date: /Users/ericmeinhardt/Library/Jupyter/nbextensions/snippets_menu/snippets_submenu_markdown.js\n",
      "\u001b[32m[I 13:17:35 InstallContribNbextensionsApp]\u001b[m Up to date: /Users/ericmeinhardt/Library/Jupyter/nbextensions/snippets_menu/snippets_submenu_python.js\n",
      "\u001b[32m[I 13:17:35 InstallContribNbextensionsApp]\u001b[m Up to date: /Users/ericmeinhardt/Library/Jupyter/nbextensions/snippets_menu/thumbnail.png\n",
      "\u001b[32m[I 13:17:35 InstallContribNbextensionsApp]\u001b[m Up to date: /Users/ericmeinhardt/Library/Jupyter/nbextensions/snippets_menu/snippets_submenus_python/astropy.js\n",
      "\u001b[32m[I 13:17:35 InstallContribNbextensionsApp]\u001b[m Up to date: /Users/ericmeinhardt/Library/Jupyter/nbextensions/snippets_menu/snippets_submenus_python/h5py.js\n",
      "\u001b[32m[I 13:17:35 InstallContribNbextensionsApp]\u001b[m Up to date: /Users/ericmeinhardt/Library/Jupyter/nbextensions/snippets_menu/snippets_submenus_python/matplotlib.js\n",
      "\u001b[32m[I 13:17:35 InstallContribNbextensionsApp]\u001b[m Up to date: /Users/ericmeinhardt/Library/Jupyter/nbextensions/snippets_menu/snippets_submenus_python/numba.js\n",
      "\u001b[32m[I 13:17:35 InstallContribNbextensionsApp]\u001b[m Up to date: /Users/ericmeinhardt/Library/Jupyter/nbextensions/snippets_menu/snippets_submenus_python/numpy.js\n",
      "\u001b[32m[I 13:17:35 InstallContribNbextensionsApp]\u001b[m Up to date: /Users/ericmeinhardt/Library/Jupyter/nbextensions/snippets_menu/snippets_submenus_python/numpy_polynomial.js\n",
      "\u001b[32m[I 13:17:35 InstallContribNbextensionsApp]\u001b[m Up to date: /Users/ericmeinhardt/Library/Jupyter/nbextensions/snippets_menu/snippets_submenus_python/numpy_ufuncs.js\n",
      "\u001b[32m[I 13:17:35 InstallContribNbextensionsApp]\u001b[m Up to date: /Users/ericmeinhardt/Library/Jupyter/nbextensions/snippets_menu/snippets_submenus_python/pandas.js\n",
      "\u001b[32m[I 13:17:35 InstallContribNbextensionsApp]\u001b[m Up to date: /Users/ericmeinhardt/Library/Jupyter/nbextensions/snippets_menu/snippets_submenus_python/python.js\n",
      "\u001b[32m[I 13:17:35 InstallContribNbextensionsApp]\u001b[m Up to date: /Users/ericmeinhardt/Library/Jupyter/nbextensions/snippets_menu/snippets_submenus_python/python_regex.js\n",
      "\u001b[32m[I 13:17:35 InstallContribNbextensionsApp]\u001b[m Up to date: /Users/ericmeinhardt/Library/Jupyter/nbextensions/snippets_menu/snippets_submenus_python/scipy.js\n",
      "\u001b[32m[I 13:17:35 InstallContribNbextensionsApp]\u001b[m Up to date: /Users/ericmeinhardt/Library/Jupyter/nbextensions/snippets_menu/snippets_submenus_python/scipy_constants.js\n",
      "\u001b[32m[I 13:17:35 InstallContribNbextensionsApp]\u001b[m Up to date: /Users/ericmeinhardt/Library/Jupyter/nbextensions/snippets_menu/snippets_submenus_python/scipy_special.js\n",
      "\u001b[32m[I 13:17:35 InstallContribNbextensionsApp]\u001b[m Up to date: /Users/ericmeinhardt/Library/Jupyter/nbextensions/snippets_menu/snippets_submenus_python/sympy.js\n",
      "\u001b[32m[I 13:17:35 InstallContribNbextensionsApp]\u001b[m Up to date: /Users/ericmeinhardt/Library/Jupyter/nbextensions/snippets_menu/snippets_submenus_python/sympy_assumptions.js\n",
      "\u001b[32m[I 13:17:35 InstallContribNbextensionsApp]\u001b[m Up to date: /Users/ericmeinhardt/Library/Jupyter/nbextensions/snippets_menu/snippets_submenus_python/sympy_functions.js\n",
      "\u001b[32m[I 13:17:35 InstallContribNbextensionsApp]\u001b[m - Validating: \u001b[32mOK\u001b[0m\n",
      "\u001b[32m[I 13:17:35 InstallContribNbextensionsApp]\u001b[m Installing /Users/ericmeinhardt/anaconda/lib/python3.5/site-packages/jupyter_highlight_selected_word/static/highlight_selected_word -> highlight_selected_word\n",
      "\u001b[32m[I 13:17:35 InstallContribNbextensionsApp]\u001b[m Up to date: /Users/ericmeinhardt/Library/Jupyter/nbextensions/highlight_selected_word/configurator.yaml\n",
      "\u001b[32m[I 13:17:35 InstallContribNbextensionsApp]\u001b[m Up to date: /Users/ericmeinhardt/Library/Jupyter/nbextensions/highlight_selected_word/main.css\n",
      "\u001b[32m[I 13:17:35 InstallContribNbextensionsApp]\u001b[m Up to date: /Users/ericmeinhardt/Library/Jupyter/nbextensions/highlight_selected_word/main.js\n",
      "\u001b[32m[I 13:17:35 InstallContribNbextensionsApp]\u001b[m Up to date: /Users/ericmeinhardt/Library/Jupyter/nbextensions/highlight_selected_word/README.md\n",
      "\u001b[32m[I 13:17:35 InstallContribNbextensionsApp]\u001b[m - Validating: \u001b[32mOK\u001b[0m\n",
      "\u001b[32m[I 13:17:35 InstallContribNbextensionsApp]\u001b[m Installing /Users/ericmeinhardt/anaconda/lib/python3.5/site-packages/latex_envs/static -> latex_envs\n",
      "\u001b[32m[I 13:17:35 InstallContribNbextensionsApp]\u001b[m Up to date: /Users/ericmeinhardt/Library/Jupyter/nbextensions/latex_envs/bibInNb4.js\n",
      "\u001b[32m[I 13:17:35 InstallContribNbextensionsApp]\u001b[m Up to date: /Users/ericmeinhardt/Library/Jupyter/nbextensions/latex_envs/bibtex2.js\n",
      "\u001b[32m[I 13:17:35 InstallContribNbextensionsApp]\u001b[m Up to date: /Users/ericmeinhardt/Library/Jupyter/nbextensions/latex_envs/configuration_toolbar.png\n",
      "\u001b[32m[I 13:17:35 InstallContribNbextensionsApp]\u001b[m Up to date: /Users/ericmeinhardt/Library/Jupyter/nbextensions/latex_envs/envsLatex.json\n",
      "\u001b[32m[I 13:17:35 InstallContribNbextensionsApp]\u001b[m Up to date: /Users/ericmeinhardt/Library/Jupyter/nbextensions/latex_envs/example.png\n",
      "\u001b[32m[I 13:17:35 InstallContribNbextensionsApp]\u001b[m Up to date: /Users/ericmeinhardt/Library/Jupyter/nbextensions/latex_envs/example_user_envs.json\n",
      "\u001b[32m[I 13:17:35 InstallContribNbextensionsApp]\u001b[m Up to date: /Users/ericmeinhardt/Library/Jupyter/nbextensions/latex_envs/icon.png\n",
      "\u001b[32m[I 13:17:35 InstallContribNbextensionsApp]\u001b[m Up to date: /Users/ericmeinhardt/Library/Jupyter/nbextensions/latex_envs/initNb.js\n",
      "\u001b[32m[I 13:17:35 InstallContribNbextensionsApp]\u001b[m Up to date: /Users/ericmeinhardt/Library/Jupyter/nbextensions/latex_envs/latex_envs.css\n",
      "\u001b[32m[I 13:17:35 InstallContribNbextensionsApp]\u001b[m Up to date: /Users/ericmeinhardt/Library/Jupyter/nbextensions/latex_envs/latex_envs.js\n",
      "\u001b[32m[I 13:17:35 InstallContribNbextensionsApp]\u001b[m Up to date: /Users/ericmeinhardt/Library/Jupyter/nbextensions/latex_envs/latex_envs.yaml\n",
      "\u001b[32m[I 13:17:35 InstallContribNbextensionsApp]\u001b[m Up to date: /Users/ericmeinhardt/Library/Jupyter/nbextensions/latex_envs/main_toolbar.png\n",
      "\u001b[32m[I 13:17:35 InstallContribNbextensionsApp]\u001b[m Up to date: /Users/ericmeinhardt/Library/Jupyter/nbextensions/latex_envs/README.md\n",
      "\u001b[32m[I 13:17:35 InstallContribNbextensionsApp]\u001b[m Up to date: /Users/ericmeinhardt/Library/Jupyter/nbextensions/latex_envs/thmsInNb4.js\n",
      "\u001b[32m[I 13:17:35 InstallContribNbextensionsApp]\u001b[m Up to date: /Users/ericmeinhardt/Library/Jupyter/nbextensions/latex_envs/doc/biblio_ipython.bib\n",
      "\u001b[32m[I 13:17:35 InstallContribNbextensionsApp]\u001b[m Up to date: /Users/ericmeinhardt/Library/Jupyter/nbextensions/latex_envs/doc/config_toolbar.png\n",
      "\u001b[32m[I 13:17:35 InstallContribNbextensionsApp]\u001b[m Up to date: /Users/ericmeinhardt/Library/Jupyter/nbextensions/latex_envs/doc/configuration_toolbar.png\n",
      "\u001b[32m[I 13:17:35 InstallContribNbextensionsApp]\u001b[m Up to date: /Users/ericmeinhardt/Library/Jupyter/nbextensions/latex_envs/doc/documentation.pdf\n",
      "\u001b[32m[I 13:17:35 InstallContribNbextensionsApp]\u001b[m Up to date: /Users/ericmeinhardt/Library/Jupyter/nbextensions/latex_envs/doc/documentation.tex\n",
      "\u001b[32m[I 13:17:35 InstallContribNbextensionsApp]\u001b[m Up to date: /Users/ericmeinhardt/Library/Jupyter/nbextensions/latex_envs/doc/example.png\n",
      "\u001b[32m[I 13:17:35 InstallContribNbextensionsApp]\u001b[m Up to date: /Users/ericmeinhardt/Library/Jupyter/nbextensions/latex_envs/doc/header.tex\n",
      "\u001b[32m[I 13:17:35 InstallContribNbextensionsApp]\u001b[m Up to date: /Users/ericmeinhardt/Library/Jupyter/nbextensions/latex_envs/doc/IEEEtran.bst\n",
      "\u001b[32m[I 13:17:35 InstallContribNbextensionsApp]\u001b[m Up to date: /Users/ericmeinhardt/Library/Jupyter/nbextensions/latex_envs/doc/latex_env_doc.html\n",
      "\u001b[32m[I 13:17:35 InstallContribNbextensionsApp]\u001b[m Up to date: /Users/ericmeinhardt/Library/Jupyter/nbextensions/latex_envs/doc/latex_env_doc.ipynb\n",
      "\u001b[32m[I 13:17:35 InstallContribNbextensionsApp]\u001b[m Up to date: /Users/ericmeinhardt/Library/Jupyter/nbextensions/latex_envs/doc/latex_env_doc.tex\n",
      "\u001b[32m[I 13:17:35 InstallContribNbextensionsApp]\u001b[m Up to date: /Users/ericmeinhardt/Library/Jupyter/nbextensions/latex_envs/doc/LaTeX_envs_menu.png\n",
      "\u001b[32m[I 13:17:35 InstallContribNbextensionsApp]\u001b[m Up to date: /Users/ericmeinhardt/Library/Jupyter/nbextensions/latex_envs/doc/main_toolbar.png\n",
      "\u001b[32m[I 13:17:35 InstallContribNbextensionsApp]\u001b[m Up to date: /Users/ericmeinhardt/Library/Jupyter/nbextensions/latex_envs/doc/README.md\n",
      "\u001b[32m[I 13:17:35 InstallContribNbextensionsApp]\u001b[m Up to date: /Users/ericmeinhardt/Library/Jupyter/nbextensions/latex_envs/doc/Toggles.png\n",
      "\u001b[32m[I 13:17:35 InstallContribNbextensionsApp]\u001b[m Up to date: /Users/ericmeinhardt/Library/Jupyter/nbextensions/latex_envs/doc/.ipynb_checkpoints/latex_env_doc-checkpoint.ipynb\n",
      "\u001b[32m[I 13:17:35 InstallContribNbextensionsApp]\u001b[m Up to date: /Users/ericmeinhardt/Library/Jupyter/nbextensions/latex_envs/doc/latex_env_doc_files/latex_env_doc_23_2.png\n",
      "\u001b[32m[I 13:17:35 InstallContribNbextensionsApp]\u001b[m Up to date: /Users/ericmeinhardt/Library/Jupyter/nbextensions/latex_envs/doc/latex_env_doc_files/latex_env_doc_24_2.png\n",
      "\u001b[32m[I 13:17:35 InstallContribNbextensionsApp]\u001b[m Up to date: /Users/ericmeinhardt/Library/Jupyter/nbextensions/latex_envs/doc/latex_env_doc_files/latex_env_doc_26_2.png\n",
      "\u001b[32m[I 13:17:35 InstallContribNbextensionsApp]\u001b[m Up to date: /Users/ericmeinhardt/Library/Jupyter/nbextensions/latex_envs/doc/latex_env_doc_files/latex_env_doc_27_2.png\n",
      "\u001b[32m[I 13:17:35 InstallContribNbextensionsApp]\u001b[m Up to date: /Users/ericmeinhardt/Library/Jupyter/nbextensions/latex_envs/doc/latex_env_doc_files/latex_env_doc_41_0.png\n",
      "\u001b[32m[I 13:17:35 InstallContribNbextensionsApp]\u001b[m Up to date: /Users/ericmeinhardt/Library/Jupyter/nbextensions/latex_envs/doc/latex_env_doc_files/latex_env_doc_42_0.png\n",
      "\u001b[32m[I 13:17:35 InstallContribNbextensionsApp]\u001b[m Up to date: /Users/ericmeinhardt/Library/Jupyter/nbextensions/latex_envs/doc/latex_env_doc_files/latex_env_doc_43_0.png\n",
      "\u001b[32m[I 13:17:35 InstallContribNbextensionsApp]\u001b[m Up to date: /Users/ericmeinhardt/Library/Jupyter/nbextensions/latex_envs/doc/latex_env_doc_files/latex_env_doc_44_0.png\n",
      "\u001b[32m[I 13:17:35 InstallContribNbextensionsApp]\u001b[m Up to date: /Users/ericmeinhardt/Library/Jupyter/nbextensions/latex_envs/doc/latex_env_doc_files/latex_env_doc_45_0.png\n",
      "\u001b[32m[I 13:17:35 InstallContribNbextensionsApp]\u001b[m Up to date: /Users/ericmeinhardt/Library/Jupyter/nbextensions/latex_envs/doc/latex_env_doc_files/latex_env_doc_46_0.png\n",
      "\u001b[32m[I 13:17:35 InstallContribNbextensionsApp]\u001b[m Up to date: /Users/ericmeinhardt/Library/Jupyter/nbextensions/latex_envs/doc/latex_env_doc_files/latex_env_doc_47_0.png\n",
      "\u001b[32m[I 13:17:35 InstallContribNbextensionsApp]\u001b[m Up to date: /Users/ericmeinhardt/Library/Jupyter/nbextensions/latex_envs/doc/latex_env_doc_files/latex_env_doc_48_0.png\n",
      "\u001b[32m[I 13:17:35 InstallContribNbextensionsApp]\u001b[m Up to date: /Users/ericmeinhardt/Library/Jupyter/nbextensions/latex_envs/doc/latex_env_doc_files/latex_env_doc_49_0.png\n",
      "\u001b[32m[I 13:17:35 InstallContribNbextensionsApp]\u001b[m Up to date: /Users/ericmeinhardt/Library/Jupyter/nbextensions/latex_envs/doc/latex_env_doc_files/latex_env_doc_50_0.png\n",
      "\u001b[32m[I 13:17:35 InstallContribNbextensionsApp]\u001b[m Up to date: /Users/ericmeinhardt/Library/Jupyter/nbextensions/latex_envs/doc/latex_env_doc_files/latex_env_doc_51_0.png\n",
      "\u001b[32m[I 13:17:35 InstallContribNbextensionsApp]\u001b[m Up to date: /Users/ericmeinhardt/Library/Jupyter/nbextensions/latex_envs/doc/latex_env_doc_files/latex_env_doc_52_0.png\n",
      "\u001b[32m[I 13:17:35 InstallContribNbextensionsApp]\u001b[m - Validating: \u001b[32mOK\u001b[0m\n",
      "\u001b[32m[I 13:17:35 InstallContribNbextensionsApp]\u001b[m Installing jupyter_contrib_nbextensions items to config in /Users/ericmeinhardt/.jupyter\n",
      "Enabling: jupyter_nbextensions_configurator\n",
      "- Writing config: /Users/ericmeinhardt/.jupyter\n",
      "    - Validating...\n",
      "      jupyter_nbextensions_configurator  \u001b[32mOK\u001b[0m\n",
      "Enabling notebook nbextension nbextensions_configurator/config_menu/main...\n",
      "Enabling tree nbextension nbextensions_configurator/tree_tab/main...\n",
      "\u001b[32m[I 13:17:35 InstallContribNbextensionsApp]\u001b[m Enabling notebook extension contrib_nbextensions_help_item/main...\n",
      "\u001b[32m[I 13:17:35 InstallContribNbextensionsApp]\u001b[m       - Validating: \u001b[32mOK\u001b[0m\n",
      "\u001b[32m[I 13:17:35 InstallContribNbextensionsApp]\u001b[m - Editing config: /Users/ericmeinhardt/.jupyter/jupyter_nbconvert_config.json\n",
      "\u001b[32m[I 13:17:35 InstallContribNbextensionsApp]\u001b[m --  Configuring nbconvert template path\n",
      "\u001b[32m[I 13:17:35 InstallContribNbextensionsApp]\u001b[m --  Configuring nbconvert preprocessors\n",
      "\u001b[32m[I 13:17:35 InstallContribNbextensionsApp]\u001b[m - Writing config: /Users/ericmeinhardt/.jupyter/jupyter_nbconvert_config.json\n",
      "\u001b[32m[I 13:17:35 InstallContribNbextensionsApp]\u001b[m --  Writing updated config file /Users/ericmeinhardt/.jupyter/jupyter_nbconvert_config.json\n",
      "Please specify an nbextension/package to enable or disable\n"
     ]
    }
   ],
   "source": [
    "#Installs jupyter notebook extensions:\n",
    "!pip install jupyter_contrib_nbextensions\n",
    "!jupyter contrib nbextension install --user\n",
    "!jupyter nbextension enable \n",
    "#Note that these are shell commands -- the '!' prefix tells Jupyter that's what they are."
   ]
  },
  {
   "cell_type": "code",
   "execution_count": 1,
   "metadata": {
    "ExecuteTime": {
     "end_time": "2017-05-12T17:34:58.603648Z",
     "start_time": "2017-05-12T17:34:58.531499Z"
    },
    "collapsed": true,
    "hide_input": false,
    "init_cell": true,
    "run_control": {
     "frozen": false,
     "read_only": false
    }
   },
   "outputs": [
    {
     "data": {
      "text/html": [
       "<table border=\"1\"> <tr><th>section</th> <th>require path</th> <th>enabled?</th></tr><tr><td>notebook</td><td>nb_anacondacloud/main</td><td>True</td></tr>\n",
       "<tr><td>notebook</td><td>nb_conda/main</td><td>True</td></tr>\n",
       "<tr><td>notebook</td><td>datestamper/main</td><td>False</td></tr>\n",
       "<tr><td>notebook</td><td>main</td><td>True</td></tr>\n",
       "<tr><td>notebook</td><td>highlighter/highlighter</td><td>False</td></tr>\n",
       "<tr><td>notebook</td><td>nbextensions_configurator/config_menu/main</td><td>False</td></tr>\n",
       "<tr><td>notebook</td><td>init_cell/main</td><td>False</td></tr>\n",
       "<tr><td>notebook</td><td>notify/notify</td><td>True</td></tr>\n",
       "<tr><td>notebook</td><td>code_font_size/code_font_size</td><td>False</td></tr>\n",
       "<tr><td>notebook</td><td>jupyter_dashboards/notebook/main</td><td>True</td></tr>\n",
       "<tr><td>notebook</td><td>rubberband/main</td><td>False</td></tr>\n",
       "<tr><td>notebook</td><td>contrib_nbextensions_help_item/main</td><td>False</td></tr>\n",
       "<tr><td>notebook</td><td>jupyter-js-widgets/extension</td><td>True</td></tr>\n",
       "<tr><td>notebook</td><td>codefolding/main</td><td>False</td></tr>\n",
       "<tr><td>notebook</td><td>freeze/main</td><td>False</td></tr>\n",
       "<tr><td>notebook</td><td>python-markdown</td><td>True</td></tr>\n",
       "<tr><td>notebook</td><td>execute_time/ExecuteTime</td><td>True</td></tr>\n",
       "<tr><td>notebook</td><td>tree</td><td>True</td></tr>\n",
       "<tr><td>notebook</td><td>toc2/main</td><td>False</td></tr>\n",
       "<tr><td>notebook</td><td>collapsible_headings/main</td><td>False</td></tr>\n",
       "<tr><td>notebook</td><td>printview/main</td><td>False</td></tr>\n",
       "<tr><td>notebook</td><td>hide_input/main</td><td>False</td></tr>\n",
       "<tr><td>notebook</td><td>nbpresent/js/nbpresent.min</td><td>True</td></tr>\n",
       "<tr><td>notebook</td><td>toggle_all_line_numbers/main</td><td>False</td></tr>\n",
       "<tr><td>notebook</td><td>python-markdown/main</td><td>False</td></tr>\n",
       "<tr><td>tree</td><td>nb_conda/tree</td><td>True</td></tr>\n",
       "<tr><td>tree</td><td>nbextensions_configurator/tree_tab/main</td><td>True</td></tr>\n",
       "<tr><td>edit</td><td>codefolding/edit</td><td>False</td></tr>\n",
       "</table>"
      ],
      "text/plain": [
       "<IPython.core.display.HTML object>"
      ]
     },
     "execution_count": 1,
     "metadata": {},
     "output_type": "execute_result"
    }
   ],
   "source": [
    "#Checks what extensions are loaded...doesn't change anything at all about the notebook \n",
    "# or what's installed on your machine -- it just lets you check whether extensions were \n",
    "# properly installed...\n",
    "import os\n",
    "\n",
    "from IPython.display import HTML\n",
    "from notebook.services.config import ConfigManager\n",
    "\n",
    "table = (\n",
    "    '<table border=\"1\"> <tr>'\n",
    "    '<th>section</th> <th>require path</th> <th>enabled?</th>'\n",
    "    '</tr>{}</table>')\n",
    "table_rows = ''\n",
    "cm = ConfigManager()\n",
    "for section in ['common', 'notebook', 'tree', 'edit', 'terminal']:\n",
    "    for req, enabled in cm.get(section).get('load_extensions', {}).items():\n",
    "        table_rows += '<tr><td>{}</td><td>{}</td><td>{}</td></tr>\\n'.format(\n",
    "            section, req, enabled)\n",
    "HTML(table.format(table_rows))"
   ]
  },
  {
   "cell_type": "markdown",
   "metadata": {
    "run_control": {
     "frozen": false,
     "read_only": false
    }
   },
   "source": [
    "After successful execution of these cells: \n",
    " 1. Close Jupyter notebook.\n",
    " 2. Shutdown the host server (go to your command prompt, hit ctrl+c, etc.)\n",
    " 3. Restart Jupyter.\n",
    " 4. In the new Nbextensions tab of the server page (see screenshot at https://github.com/Jupyter-contrib/jupyter_nbextensions_configurator for an approximate version of what you should look for), enable **Python Markdown**.\n",
    " 5. Open this notebook.\n",
    " 6. **Comment out** the two code cells above (or delete them, if you want; or just don't run them). \n",
    "\n",
    "If installation is unsuccessful, consult http://jupyter-contrib-nbextensions.readthedocs.io/en/latest/install.html. If installation is successful, you shouldn't need to execute the cells in this subsection ($\\S$ 1.1) ever again."
   ]
  },
  {
   "cell_type": "markdown",
   "metadata": {
    "run_control": {
     "frozen": false,
     "read_only": false
    }
   },
   "source": [
    "## Get the Open American National Corpus"
   ]
  },
  {
   "cell_type": "markdown",
   "metadata": {
    "run_control": {
     "frozen": false,
     "read_only": false
    }
   },
   "source": [
    "For $\\S$ 4, download http://www.anc.org/OANC/OANC_GrAF.zip (~650 MB), put it in the same folder as this notebook, and *then* unzip it. **Note that the unzipped corpus is $\\approx$ *6-7 GB!*** \n",
    "\n",
    "Alternatively, there are code cells in $\\S$ 4 that will do both of these things for you; if you use them, you won't be able to execute other code while the download and unzipping are in progress."
   ]
  },
  {
   "cell_type": "markdown",
   "metadata": {
    "run_control": {
     "frozen": false,
     "read_only": false
    }
   },
   "source": [
    "## Run once every time you start the notebook"
   ]
  },
  {
   "cell_type": "code",
   "execution_count": 2,
   "metadata": {
    "ExecuteTime": {
     "end_time": "2017-05-12T17:35:05.001743Z",
     "start_time": "2017-05-12T17:35:04.992140Z"
    },
    "collapsed": false,
    "hide_input": false,
    "init_cell": true,
    "run_control": {
     "frozen": false,
     "read_only": false
    }
   },
   "outputs": [
    {
     "data": {
      "text/html": [
       "<style>.container { width:100% !important; }</style>"
      ],
      "text/plain": [
       "<IPython.core.display.HTML object>"
      ]
     },
     "metadata": {},
     "output_type": "display_data"
    }
   ],
   "source": [
    "#Prints **all** console output, not just last item in cell \n",
    "from IPython.core.interactiveshell import InteractiveShell\n",
    "InteractiveShell.ast_node_interactivity = \"all\"\n",
    "\n",
    "#Makes better use of screen real estate\n",
    "from IPython.core.display import display, HTML\n",
    "display(HTML(\"<style>.container { width:100% !important; }</style>\"))\n",
    "#pd.set_option('max_colwidth',80)"
   ]
  },
  {
   "cell_type": "code",
   "execution_count": 70,
   "metadata": {
    "ExecuteTime": {
     "end_time": "2017-05-12T16:07:59.245226Z",
     "start_time": "2017-05-12T16:07:59.235391Z"
    },
    "collapsed": false,
    "hide_input": false,
    "init_cell": true,
    "run_control": {
     "frozen": false,
     "read_only": false
    }
   },
   "outputs": [
    {
     "data": {
      "text/html": [
       "<style>\n",
       "  table {margin-left: 0 !important;}\n",
       "</style>\n",
       "<!-- aligns tables to the left ->"
      ],
      "text/plain": [
       "<IPython.core.display.HTML object>"
      ]
     },
     "metadata": {},
     "output_type": "display_data"
    }
   ],
   "source": [
    "%%html\n",
    "<style>\n",
    "  table {margin-left: 0 !important;}\n",
    "</style>\n",
    "<!-- aligns tables to the left ->"
   ]
  },
  {
   "cell_type": "code",
   "execution_count": null,
   "metadata": {
    "collapsed": true
   },
   "outputs": [],
   "source": [
    "#installs a plotting library - https://github.com/yhat/ggpy\n",
    "!pip install -U ggplot"
   ]
  },
  {
   "cell_type": "code",
   "execution_count": 3,
   "metadata": {
    "ExecuteTime": {
     "end_time": "2017-05-12T17:35:14.271811Z",
     "start_time": "2017-05-12T17:35:07.417578Z"
    },
    "collapsed": false,
    "init_cell": true,
    "run_control": {
     "frozen": false,
     "read_only": false
    }
   },
   "outputs": [
    {
     "name": "stderr",
     "output_type": "stream",
     "text": [
      "/Users/ericmeinhardt/anaconda/lib/python3.5/site-packages/ggplot/utils.py:81: FutureWarning: pandas.tslib is deprecated and will be removed in a future version.\n",
      "You can access Timestamp as pandas.Timestamp\n",
      "  pd.tslib.Timestamp,\n",
      "/Users/ericmeinhardt/anaconda/lib/python3.5/site-packages/ggplot/stats/smoothers.py:4: FutureWarning: The pandas.lib module is deprecated and will be removed in a future version. These are private functions and can be accessed from pandas._libs.lib instead\n",
      "  from pandas.lib import Timestamp\n",
      "/Users/ericmeinhardt/anaconda/lib/python3.5/site-packages/statsmodels/compat/pandas.py:56: FutureWarning: The pandas.core.datetools module is deprecated and will be removed in a future version. Please use the pandas.tseries module instead.\n",
      "  from pandas.core import datetools\n"
     ]
    }
   ],
   "source": [
    "%matplotlib inline\n",
    "import nltk\n",
    "import numpy as np\n",
    "import pandas as pd\n",
    "from ggplot import *\n",
    "\n",
    "import random, requests, zipfile, glob, itertools"
   ]
  },
  {
   "cell_type": "markdown",
   "metadata": {
    "run_control": {
     "frozen": false,
     "read_only": false
    }
   },
   "source": [
    "# Language modeling lab overview\n",
    "\n",
    "**Previously...**\n",
    "1. **Reading** + **guest lecture** + on **language models**.\n",
    "2. **Mathematical calculation** of **n-gram probabilities** from counts or probabilities.\n",
    "\n",
    "**Goals for today**\n",
    "1. **Hands-on experience building and evaluating an unsmoothed n-gram model.**\n",
    "2. Introduce **visualization tools** - might be useful for your project or other future data analysis...\n",
    "3. Use visualization and performance measures from book/lecture to **evaluate model behavior as we tweak *different input data* and *model choices***."
   ]
  },
  {
   "cell_type": "markdown",
   "metadata": {
    "run_control": {
     "frozen": false,
     "read_only": false
    }
   },
   "source": [
    "# From text to estimating the probability of a word sequence"
   ]
  },
  {
   "cell_type": "markdown",
   "metadata": {
    "run_control": {
     "frozen": false,
     "read_only": false
    }
   },
   "source": [
    "## Our data..."
   ]
  },
  {
   "cell_type": "code",
   "execution_count": 4,
   "metadata": {
    "ExecuteTime": {
     "end_time": "2017-05-12T17:35:14.277274Z",
     "start_time": "2017-05-12T17:35:14.273813Z"
    },
    "collapsed": true,
    "run_control": {
     "frozen": false,
     "read_only": false
    }
   },
   "outputs": [],
   "source": [
    "from nltk.corpus import brown, gutenberg"
   ]
  },
  {
   "cell_type": "code",
   "execution_count": 5,
   "metadata": {
    "ExecuteTime": {
     "end_time": "2017-05-12T17:35:14.379129Z",
     "start_time": "2017-05-12T17:35:14.279254Z"
    },
    "collapsed": false,
    "run_control": {
     "frozen": false,
     "read_only": false
    }
   },
   "outputs": [
    {
     "data": {
      "text/plain": [
       "['The',\n",
       " 'Fulton',\n",
       " 'County',\n",
       " 'Grand',\n",
       " 'Jury',\n",
       " 'said',\n",
       " 'Friday',\n",
       " 'an',\n",
       " 'investigation',\n",
       " 'of']"
      ]
     },
     "execution_count": 5,
     "metadata": {},
     "output_type": "execute_result"
    },
    {
     "data": {
      "text/plain": [
       "['[', 'Emma', 'by', 'Jane', 'Austen', '1816', ']', 'VOLUME', 'I', 'CHAPTER']"
      ]
     },
     "execution_count": 5,
     "metadata": {},
     "output_type": "execute_result"
    }
   ],
   "source": [
    "brown.words()[:10]\n",
    "gutenberg.words()[:10]"
   ]
  },
  {
   "cell_type": "markdown",
   "metadata": {
    "run_control": {
     "frozen": false,
     "read_only": false
    }
   },
   "source": [
    "Looks like we may want to *normalize* our data -- for our purposes here, that can just mean converting all words to lowercase."
   ]
  },
  {
   "cell_type": "code",
   "execution_count": 6,
   "metadata": {
    "ExecuteTime": {
     "end_time": "2017-05-12T17:35:24.867842Z",
     "start_time": "2017-05-12T17:35:14.382500Z"
    },
    "collapsed": false,
    "run_control": {
     "frozen": false,
     "read_only": false
    }
   },
   "outputs": [],
   "source": [
    "def myNormalize(a_string):\n",
    "    return a_string.lower()\n",
    "\n",
    "brown_words = list(map(myNormalize, brown.words() ) )\n",
    "gutenberg_words = list(map(myNormalize, gutenberg.words() ) )"
   ]
  },
  {
   "cell_type": "markdown",
   "metadata": {
    "run_control": {
     "frozen": false,
     "read_only": false
    }
   },
   "source": [
    "Out of curioisty, how much data do we have?"
   ]
  },
  {
   "cell_type": "code",
   "execution_count": 7,
   "metadata": {
    "ExecuteTime": {
     "end_time": "2017-05-12T17:35:49.628502Z",
     "start_time": "2017-05-12T17:35:49.207473Z"
    },
    "collapsed": false,
    "run_control": {
     "frozen": false,
     "read_only": false
    }
   },
   "outputs": [],
   "source": [
    "b_length = len(brown_words)\n",
    "g_length = len(gutenberg_words)\n",
    "normalized_brown_v = set(brown_words)\n",
    "normalized_gutenberg_v = set(gutenberg_words)\n",
    "b = len(normalized_brown_v)\n",
    "g = len(normalized_gutenberg_v)"
   ]
  },
  {
   "cell_type": "markdown",
   "metadata": {
    "run_control": {
     "frozen": false,
     "read_only": false
    },
    "variables": {
     "format(b, ',d')": "20,344",
     "format(b_length, ',d')": "301,186",
     "format(g, ',d')": "17,270",
     "format(g_length, ',d')": "301,186"
    }
   },
   "source": [
    "| Corpus    | Length       | Vocab   |\n",
    "|-----------|--------------|---------|\n",
    "| Brown     | {{format(b_length, ',d')}} | {{format(b, ',d')}}   |\n",
    "| Gutenberg | {{format(g_length, ',d')}} | {{format(g, ',d')}}   |"
   ]
  },
  {
   "cell_type": "markdown",
   "metadata": {
    "run_control": {
     "frozen": false,
     "read_only": false
    }
   },
   "source": [
    "## Getting counts and unsmoothed probability estimates"
   ]
  },
  {
   "cell_type": "markdown",
   "metadata": {
    "run_control": {
     "frozen": false,
     "read_only": false
    }
   },
   "source": [
    "See NLTK \n",
    " - Ch 1 $\\S$ 3 (http://www.nltk.org/book/ch01.html#sec-computing-with-language-simple-statistics)\n",
    " - Ch 2 $\\S$ 2 (http://www.nltk.org/book/ch02.html#sec-conditional-frequency-distributions) \n",
    "\n",
    "for reference."
   ]
  },
  {
   "cell_type": "markdown",
   "metadata": {
    "run_control": {
     "frozen": false,
     "read_only": false
    }
   },
   "source": [
    "### Unigrams"
   ]
  },
  {
   "cell_type": "code",
   "execution_count": 8,
   "metadata": {
    "ExecuteTime": {
     "end_time": "2017-05-12T17:36:01.788581Z",
     "start_time": "2017-05-12T17:36:01.784383Z"
    },
    "collapsed": true,
    "run_control": {
     "frozen": false,
     "read_only": false
    }
   },
   "outputs": [],
   "source": [
    "from nltk.probability import FreqDist"
   ]
  },
  {
   "cell_type": "code",
   "execution_count": 9,
   "metadata": {
    "ExecuteTime": {
     "end_time": "2017-05-12T17:36:02.618516Z",
     "start_time": "2017-05-12T17:36:02.107221Z"
    },
    "collapsed": true,
    "run_control": {
     "frozen": false,
     "read_only": false
    }
   },
   "outputs": [],
   "source": [
    "brown_unigram_dist = FreqDist(brown_words)\n",
    "gutenberg_unigram_dist = FreqDist(gutenberg_words)"
   ]
  },
  {
   "cell_type": "code",
   "execution_count": 10,
   "metadata": {
    "ExecuteTime": {
     "end_time": "2017-05-12T17:36:02.633430Z",
     "start_time": "2017-05-12T17:36:02.620939Z"
    },
    "collapsed": false,
    "run_control": {
     "frozen": false,
     "read_only": false
    }
   },
   "outputs": [
    {
     "data": {
      "text/plain": [
       "133583"
      ]
     },
     "execution_count": 10,
     "metadata": {},
     "output_type": "execute_result"
    },
    {
     "data": {
      "text/plain": [
       "0.05095450777822661"
      ]
     },
     "execution_count": 10,
     "metadata": {},
     "output_type": "execute_result"
    },
    {
     "data": {
      "text/plain": [
       "9"
      ]
     },
     "execution_count": 10,
     "metadata": {},
     "output_type": "execute_result"
    }
   ],
   "source": [
    "gutenberg_unigram_dist['the']\n",
    "gutenberg_unigram_dist.freq('the')\n",
    "gutenberg_unigram_dist['potato']"
   ]
  },
  {
   "cell_type": "markdown",
   "metadata": {
    "run_control": {
     "frozen": false,
     "read_only": false
    }
   },
   "source": [
    "What do the unigram distributions look like? How do they compare?"
   ]
  },
  {
   "cell_type": "code",
   "execution_count": 11,
   "metadata": {
    "ExecuteTime": {
     "end_time": "2017-05-12T17:36:03.363902Z",
     "start_time": "2017-05-12T17:36:03.332620Z"
    },
    "collapsed": false,
    "run_control": {
     "frozen": false,
     "read_only": false
    }
   },
   "outputs": [
    {
     "name": "stdout",
     "output_type": "stream",
     "text": [
      "[('the', 69971), (',', 58334), ('.', 49346), ('of', 36412), ('and', 28853), ('to', 26158), ('a', 23195), ('in', 21337), ('that', 10594), ('is', 10109), ('was', 9815), ('he', 9548), ('for', 9489), ('``', 8837), (\"''\", 8789), ('it', 8760), ('with', 7289), ('as', 7253), ('his', 6996), ('on', 6741), ('be', 6377), (';', 5566), ('at', 5372), ('by', 5306), ('i', 5164)]\n",
      "[(',', 186091), ('the', 133583), ('and', 95442), ('.', 73746), ('of', 71267), ('to', 48057), (':', 47406), ('a', 33960), ('in', 33580), ('i', 30265), ('that', 28798), (';', 27329), ('he', 25857), ('it', 22303), ('his', 21402), (\"'\", 19873), ('for', 19527), ('was', 18715), ('with', 17599), ('not', 17373), ('is', 16435), ('you', 16398), ('be', 16115), ('\"', 15422), ('as', 14528)]\n"
     ]
    }
   ],
   "source": [
    "print(brown_unigram_dist.most_common(25))\n",
    "print(gutenberg_unigram_dist.most_common(25))"
   ]
  },
  {
   "cell_type": "code",
   "execution_count": 12,
   "metadata": {
    "ExecuteTime": {
     "end_time": "2017-05-12T17:36:04.582334Z",
     "start_time": "2017-05-12T17:36:03.703626Z"
    },
    "collapsed": false,
    "run_control": {
     "frozen": false,
     "read_only": false
    }
   },
   "outputs": [
    {
     "data": {
      "image/png": "[encoded data removed]",
      "text/plain": [
       "<matplotlib.figure.Figure at 0x11f618ac8>"
      ]
     },
     "metadata": {},
     "output_type": "display_data"
    },
    {
     "data": {
      "image/png": "[encoded data removed]",
      "text/plain": [
       "<matplotlib.figure.Figure at 0x11fb37dd8>"
      ]
     },
     "metadata": {},
     "output_type": "display_data"
    }
   ],
   "source": [
    "brown_unigram_dist.plot(50)\n",
    "gutenberg_unigram_dist.plot(50)"
   ]
  },
  {
   "cell_type": "markdown",
   "metadata": {
    "run_control": {
     "frozen": false,
     "read_only": false
    }
   },
   "source": [
    "#### Power law distributions and language"
   ]
  },
  {
   "cell_type": "markdown",
   "metadata": {
    "run_control": {
     "frozen": false,
     "read_only": false
    }
   },
   "source": [
    "The distribution shape above plays an important part in why modeling language is difficult. Let's look a little more closely..."
   ]
  },
  {
   "cell_type": "code",
   "execution_count": 13,
   "metadata": {
    "ExecuteTime": {
     "end_time": "2017-05-12T17:37:19.062707Z",
     "start_time": "2017-05-12T17:36:10.815310Z"
    },
    "collapsed": false,
    "run_control": {
     "frozen": false,
     "read_only": false
    }
   },
   "outputs": [
    {
     "data": {
      "image/png": "[encoded data removed]",
      "text/plain": [
       "<matplotlib.figure.Figure at 0x129e87c18>"
      ]
     },
     "metadata": {},
     "output_type": "display_data"
    },
    {
     "data": {
      "image/png": "[encoded data removed]",
      "text/plain": [
       "<matplotlib.figure.Figure at 0x12a11ceb8>"
      ]
     },
     "metadata": {},
     "output_type": "display_data"
    },
    {
     "data": {
      "image/png": "[encoded data removed]",
      "text/plain": [
       "<matplotlib.figure.Figure at 0x12bd49b70>"
      ]
     },
     "metadata": {},
     "output_type": "display_data"
    }
   ],
   "source": [
    "#takes ~1.25m on my i7 MacBook Air\n",
    "brown_unigram_dist.plot(100)\n",
    "brown_unigram_dist.plot(1000)\n",
    "brown_unigram_dist.plot(10000)"
   ]
  },
  {
   "cell_type": "markdown",
   "metadata": {
    "run_control": {
     "frozen": false,
     "read_only": false
    }
   },
   "source": [
    "NLTK's plotting tool is a little underwhelming: let's turn to **scipy's** plotting library (**matplotlib**, inspired by Matlab's plotting capaibilities) and two tools that make it a little easier to use -- **dataframes** from the **pandas** package (dataframes are basically *tables*; these are taken from the R statistics environment) -- and a high-level interface (called **ggplot**) for working with matplotlib inspired by a plotting package from the R language:"
   ]
  },
  {
   "cell_type": "code",
   "execution_count": 14,
   "metadata": {
    "ExecuteTime": {
     "end_time": "2017-05-12T17:37:20.377795Z",
     "start_time": "2017-05-12T17:37:19.064868Z"
    },
    "collapsed": false,
    "run_control": {
     "frozen": false,
     "read_only": false
    }
   },
   "outputs": [
    {
     "data": {
      "text/plain": [
       "[('the', 69971),\n",
       " (',', 58334),\n",
       " ('.', 49346),\n",
       " ('of', 36412),\n",
       " ('and', 28853),\n",
       " ('to', 26158),\n",
       " ('a', 23195),\n",
       " ('in', 21337),\n",
       " ('that', 10594),\n",
       " ('is', 10109)]"
      ]
     },
     "execution_count": 14,
     "metadata": {},
     "output_type": "execute_result"
    },
    {
     "data": {
      "text/plain": [
       "{1: 69971,\n",
       " 2: 58334,\n",
       " 3: 49346,\n",
       " 4: 36412,\n",
       " 5: 28853,\n",
       " 6: 26158,\n",
       " 7: 23195,\n",
       " 8: 21337,\n",
       " 9: 10594,\n",
       " 10: 10109,\n",
       " 11: 9815,\n",
       " 12: 9548,\n",
       " 13: 9489,\n",
       " 14: 8837,\n",
       " 15: 8789,\n",
       " 16: 8760,\n",
       " 17: 7289,\n",
       " 18: 7253,\n",
       " 19: 6996,\n",
       " 20: 6741,\n",
       " 21: 6377,\n",
       " 22: 5566,\n",
       " 23: 5372,\n",
       " 24: 5306,\n",
       " 25: 5164,\n",
       " 26: 5145,\n",
       " 27: 5133,\n",
       " 28: 4693,\n",
       " 29: 4610,\n",
       " 30: 4394,\n",
       " 31: 4381,\n",
       " 32: 4370,\n",
       " 33: 4206,\n",
       " 34: 3942,\n",
       " 35: 3740,\n",
       " 36: 3620,\n",
       " 37: 3561,\n",
       " 38: 3432,\n",
       " 39: 3292,\n",
       " 40: 3286,\n",
       " 41: 3284,\n",
       " 42: 3036,\n",
       " 43: 3001,\n",
       " 44: 2860,\n",
       " 45: 2728,\n",
       " 46: 2714,\n",
       " 47: 2669,\n",
       " 48: 2652,\n",
       " 49: 2619,\n",
       " 50: 2472,\n",
       " 51: 2466,\n",
       " 52: 2437,\n",
       " 53: 2435,\n",
       " 54: 2331,\n",
       " 55: 2252,\n",
       " 56: 2245,\n",
       " 57: 2215,\n",
       " 58: 2198,\n",
       " 59: 2139,\n",
       " 60: 2097,\n",
       " 61: 1985,\n",
       " 62: 1961,\n",
       " 63: 1908,\n",
       " 64: 1890,\n",
       " 65: 1858,\n",
       " 66: 1815,\n",
       " 67: 1795,\n",
       " 68: 1791,\n",
       " 69: 1790,\n",
       " 70: 1788,\n",
       " 71: 1772,\n",
       " 72: 1748,\n",
       " 73: 1702,\n",
       " 74: 1635,\n",
       " 75: 1618,\n",
       " 76: 1601,\n",
       " 77: 1598,\n",
       " 78: 1596,\n",
       " 79: 1573,\n",
       " 80: 1412,\n",
       " 81: 1402,\n",
       " 82: 1380,\n",
       " 83: 1363,\n",
       " 84: 1361,\n",
       " 85: 1344,\n",
       " 86: 1318,\n",
       " 87: 1314,\n",
       " 88: 1303,\n",
       " 89: 1292,\n",
       " 90: 1252,\n",
       " 91: 1236,\n",
       " 92: 1207,\n",
       " 93: 1181,\n",
       " 94: 1170,\n",
       " 95: 1159,\n",
       " 96: 1125,\n",
       " 97: 1069,\n",
       " 98: 1069,\n",
       " 99: 1044,\n",
       " 100: 1030,\n",
       " 101: 1016,\n",
       " 102: 1013,\n",
       " 103: 996,\n",
       " 104: 971,\n",
       " 105: 966,\n",
       " 106: 950,\n",
       " 107: 937,\n",
       " 108: 937,\n",
       " 109: 923,\n",
       " 110: 908,\n",
       " 111: 897,\n",
       " 112: 895,\n",
       " 113: 888,\n",
       " 114: 883,\n",
       " 115: 877,\n",
       " 116: 872,\n",
       " 117: 850,\n",
       " 118: 847,\n",
       " 119: 844,\n",
       " 120: 834,\n",
       " 121: 834,\n",
       " 122: 831,\n",
       " 123: 807,\n",
       " 124: 806,\n",
       " 125: 796,\n",
       " 126: 794,\n",
       " 127: 787,\n",
       " 128: 782,\n",
       " 129: 772,\n",
       " 130: 772,\n",
       " 131: 763,\n",
       " 132: 762,\n",
       " 133: 752,\n",
       " 134: 750,\n",
       " 135: 749,\n",
       " 136: 730,\n",
       " 137: 730,\n",
       " 138: 715,\n",
       " 139: 712,\n",
       " 140: 707,\n",
       " 141: 697,\n",
       " 142: 687,\n",
       " 143: 686,\n",
       " 144: 684,\n",
       " 145: 683,\n",
       " 146: 680,\n",
       " 147: 676,\n",
       " 148: 675,\n",
       " 149: 672,\n",
       " 150: 665,\n",
       " 151: 661,\n",
       " 152: 658,\n",
       " 153: 639,\n",
       " 154: 630,\n",
       " 155: 628,\n",
       " 156: 627,\n",
       " 157: 626,\n",
       " 158: 622,\n",
       " 159: 613,\n",
       " 160: 611,\n",
       " 161: 610,\n",
       " 162: 610,\n",
       " 163: 603,\n",
       " 164: 603,\n",
       " 165: 601,\n",
       " 166: 591,\n",
       " 167: 591,\n",
       " 168: 585,\n",
       " 169: 583,\n",
       " 170: 577,\n",
       " 171: 570,\n",
       " 172: 569,\n",
       " 173: 562,\n",
       " 174: 552,\n",
       " 175: 547,\n",
       " 176: 542,\n",
       " 177: 536,\n",
       " 178: 534,\n",
       " 179: 527,\n",
       " 180: 517,\n",
       " 181: 507,\n",
       " 182: 504,\n",
       " 183: 500,\n",
       " 184: 499,\n",
       " 185: 498,\n",
       " 186: 497,\n",
       " 187: 495,\n",
       " 188: 493,\n",
       " 189: 491,\n",
       " 190: 489,\n",
       " 191: 485,\n",
       " 192: 482,\n",
       " 193: 482,\n",
       " 194: 480,\n",
       " 195: 472,\n",
       " 196: 465,\n",
       " 197: 464,\n",
       " 198: 461,\n",
       " 199: 458,\n",
       " 200: 456,\n",
       " 201: 450,\n",
       " 202: 447,\n",
       " 203: 446,\n",
       " 204: 445,\n",
       " 205: 440,\n",
       " 206: 438,\n",
       " 207: 437,\n",
       " 208: 437,\n",
       " 209: 433,\n",
       " 210: 432,\n",
       " 211: 431,\n",
       " 212: 430,\n",
       " 213: 426,\n",
       " 214: 426,\n",
       " 215: 424,\n",
       " 216: 419,\n",
       " 217: 418,\n",
       " 218: 416,\n",
       " 219: 414,\n",
       " 220: 414,\n",
       " 221: 413,\n",
       " 222: 411,\n",
       " 223: 411,\n",
       " 224: 409,\n",
       " 225: 404,\n",
       " 226: 401,\n",
       " 227: 401,\n",
       " 228: 401,\n",
       " 229: 400,\n",
       " 230: 399,\n",
       " 231: 399,\n",
       " 232: 398,\n",
       " 233: 397,\n",
       " 234: 395,\n",
       " 235: 395,\n",
       " 236: 394,\n",
       " 237: 394,\n",
       " 238: 393,\n",
       " 239: 393,\n",
       " 240: 390,\n",
       " 241: 389,\n",
       " 242: 386,\n",
       " 243: 385,\n",
       " 244: 384,\n",
       " 245: 384,\n",
       " 246: 384,\n",
       " 247: 382,\n",
       " 248: 381,\n",
       " 249: 380,\n",
       " 250: 377,\n",
       " 251: 377,\n",
       " 252: 377,\n",
       " 253: 376,\n",
       " 254: 375,\n",
       " 255: 374,\n",
       " 256: 373,\n",
       " 257: 373,\n",
       " 258: 371,\n",
       " 259: 371,\n",
       " 260: 370,\n",
       " 261: 370,\n",
       " 262: 369,\n",
       " 263: 369,\n",
       " 264: 368,\n",
       " 265: 367,\n",
       " 266: 366,\n",
       " 267: 365,\n",
       " 268: 362,\n",
       " 269: 362,\n",
       " 270: 361,\n",
       " 271: 360,\n",
       " 272: 360,\n",
       " 273: 360,\n",
       " 274: 359,\n",
       " 275: 359,\n",
       " 276: 357,\n",
       " 277: 355,\n",
       " 278: 355,\n",
       " 279: 352,\n",
       " 280: 351,\n",
       " 281: 348,\n",
       " 282: 344,\n",
       " 283: 343,\n",
       " 284: 342,\n",
       " 285: 334,\n",
       " 286: 333,\n",
       " 287: 333,\n",
       " 288: 333,\n",
       " 289: 331,\n",
       " 290: 330,\n",
       " 291: 328,\n",
       " 292: 325,\n",
       " 293: 325,\n",
       " 294: 324,\n",
       " 295: 324,\n",
       " 296: 323,\n",
       " 297: 321,\n",
       " 298: 320,\n",
       " 299: 319,\n",
       " 300: 318,\n",
       " 301: 317,\n",
       " 302: 316,\n",
       " 303: 315,\n",
       " 304: 313,\n",
       " 305: 313,\n",
       " 306: 313,\n",
       " 307: 312,\n",
       " 308: 312,\n",
       " 309: 312,\n",
       " 310: 312,\n",
       " 311: 311,\n",
       " 312: 311,\n",
       " 313: 310,\n",
       " 314: 309,\n",
       " 315: 308,\n",
       " 316: 307,\n",
       " 317: 304,\n",
       " 318: 302,\n",
       " 319: 302,\n",
       " 320: 300,\n",
       " 321: 299,\n",
       " 322: 299,\n",
       " 323: 298,\n",
       " 324: 296,\n",
       " 325: 294,\n",
       " 326: 292,\n",
       " 327: 291,\n",
       " 328: 290,\n",
       " 329: 289,\n",
       " 330: 288,\n",
       " 331: 288,\n",
       " 332: 287,\n",
       " 333: 286,\n",
       " 334: 286,\n",
       " 335: 286,\n",
       " 336: 285,\n",
       " 337: 284,\n",
       " 338: 284,\n",
       " 339: 283,\n",
       " 340: 283,\n",
       " 341: 282,\n",
       " 342: 281,\n",
       " 343: 281,\n",
       " 344: 281,\n",
       " 345: 280,\n",
       " 346: 279,\n",
       " 347: 279,\n",
       " 348: 277,\n",
       " 349: 276,\n",
       " 350: 276,\n",
       " 351: 275,\n",
       " 352: 275,\n",
       " 353: 275,\n",
       " 354: 274,\n",
       " 355: 274,\n",
       " 356: 274,\n",
       " 357: 274,\n",
       " 358: 273,\n",
       " 359: 270,\n",
       " 360: 269,\n",
       " 361: 269,\n",
       " 362: 268,\n",
       " 363: 268,\n",
       " 364: 267,\n",
       " 365: 267,\n",
       " 366: 265,\n",
       " 367: 265,\n",
       " 368: 264,\n",
       " 369: 264,\n",
       " 370: 263,\n",
       " 371: 261,\n",
       " 372: 259,\n",
       " 373: 259,\n",
       " 374: 258,\n",
       " 375: 258,\n",
       " 376: 258,\n",
       " 377: 258,\n",
       " 378: 257,\n",
       " 379: 257,\n",
       " 380: 255,\n",
       " 381: 255,\n",
       " 382: 253,\n",
       " 383: 253,\n",
       " 384: 251,\n",
       " 385: 250,\n",
       " 386: 247,\n",
       " 387: 247,\n",
       " 388: 247,\n",
       " 389: 246,\n",
       " 390: 246,\n",
       " 391: 246,\n",
       " 392: 246,\n",
       " 393: 246,\n",
       " 394: 245,\n",
       " 395: 245,\n",
       " 396: 244,\n",
       " 397: 244,\n",
       " 398: 243,\n",
       " 399: 242,\n",
       " 400: 241,\n",
       " 401: 241,\n",
       " 402: 240,\n",
       " 403: 240,\n",
       " 404: 239,\n",
       " 405: 239,\n",
       " 406: 238,\n",
       " 407: 237,\n",
       " 408: 237,\n",
       " 409: 236,\n",
       " 410: 235,\n",
       " 411: 234,\n",
       " 412: 233,\n",
       " 413: 231,\n",
       " 414: 231,\n",
       " 415: 231,\n",
       " 416: 230,\n",
       " 417: 230,\n",
       " 418: 230,\n",
       " 419: 229,\n",
       " 420: 229,\n",
       " 421: 228,\n",
       " 422: 227,\n",
       " 423: 227,\n",
       " 424: 226,\n",
       " 425: 226,\n",
       " 426: 225,\n",
       " 427: 224,\n",
       " 428: 224,\n",
       " 429: 223,\n",
       " 430: 223,\n",
       " 431: 222,\n",
       " 432: 222,\n",
       " 433: 221,\n",
       " 434: 221,\n",
       " 435: 221,\n",
       " 436: 220,\n",
       " 437: 220,\n",
       " 438: 219,\n",
       " 439: 218,\n",
       " 440: 218,\n",
       " 441: 216,\n",
       " 442: 216,\n",
       " 443: 216,\n",
       " 444: 216,\n",
       " 445: 216,\n",
       " 446: 216,\n",
       " 447: 214,\n",
       " 448: 214,\n",
       " 449: 213,\n",
       " 450: 213,\n",
       " 451: 213,\n",
       " 452: 213,\n",
       " 453: 212,\n",
       " 454: 212,\n",
       " 455: 212,\n",
       " 456: 212,\n",
       " 457: 212,\n",
       " 458: 211,\n",
       " 459: 211,\n",
       " 460: 210,\n",
       " 461: 209,\n",
       " 462: 209,\n",
       " 463: 208,\n",
       " 464: 207,\n",
       " 465: 207,\n",
       " 466: 206,\n",
       " 467: 206,\n",
       " 468: 206,\n",
       " 469: 206,\n",
       " 470: 205,\n",
       " 471: 205,\n",
       " 472: 205,\n",
       " 473: 204,\n",
       " 474: 204,\n",
       " 475: 204,\n",
       " 476: 204,\n",
       " 477: 203,\n",
       " 478: 202,\n",
       " 479: 202,\n",
       " 480: 201,\n",
       " 481: 201,\n",
       " 482: 200,\n",
       " 483: 200,\n",
       " 484: 200,\n",
       " 485: 200,\n",
       " 486: 200,\n",
       " 487: 200,\n",
       " 488: 199,\n",
       " 489: 199,\n",
       " 490: 198,\n",
       " 491: 198,\n",
       " 492: 198,\n",
       " 493: 198,\n",
       " 494: 198,\n",
       " 495: 197,\n",
       " 496: 197,\n",
       " 497: 197,\n",
       " 498: 196,\n",
       " 499: 196,\n",
       " 500: 196,\n",
       " 501: 196,\n",
       " 502: 195,\n",
       " 503: 195,\n",
       " 504: 195,\n",
       " 505: 195,\n",
       " 506: 195,\n",
       " 507: 195,\n",
       " 508: 195,\n",
       " 509: 195,\n",
       " 510: 194,\n",
       " 511: 194,\n",
       " 512: 194,\n",
       " 513: 193,\n",
       " 514: 192,\n",
       " 515: 192,\n",
       " 516: 191,\n",
       " 517: 191,\n",
       " 518: 191,\n",
       " 519: 191,\n",
       " 520: 190,\n",
       " 521: 189,\n",
       " 522: 189,\n",
       " 523: 188,\n",
       " 524: 188,\n",
       " 525: 187,\n",
       " 526: 187,\n",
       " 527: 187,\n",
       " 528: 187,\n",
       " 529: 186,\n",
       " 530: 186,\n",
       " 531: 186,\n",
       " 532: 186,\n",
       " 533: 185,\n",
       " 534: 185,\n",
       " 535: 185,\n",
       " 536: 184,\n",
       " 537: 184,\n",
       " 538: 183,\n",
       " 539: 183,\n",
       " 540: 182,\n",
       " 541: 182,\n",
       " 542: 182,\n",
       " 543: 182,\n",
       " 544: 181,\n",
       " 545: 181,\n",
       " 546: 181,\n",
       " 547: 181,\n",
       " 548: 180,\n",
       " 549: 180,\n",
       " 550: 180,\n",
       " 551: 179,\n",
       " 552: 179,\n",
       " 553: 179,\n",
       " 554: 179,\n",
       " 555: 177,\n",
       " 556: 177,\n",
       " 557: 176,\n",
       " 558: 176,\n",
       " 559: 176,\n",
       " 560: 175,\n",
       " 561: 175,\n",
       " 562: 175,\n",
       " 563: 175,\n",
       " 564: 175,\n",
       " 565: 175,\n",
       " 566: 174,\n",
       " 567: 174,\n",
       " 568: 174,\n",
       " 569: 174,\n",
       " 570: 174,\n",
       " 571: 174,\n",
       " 572: 174,\n",
       " 573: 174,\n",
       " 574: 173,\n",
       " 575: 173,\n",
       " 576: 173,\n",
       " 577: 173,\n",
       " 578: 173,\n",
       " 579: 173,\n",
       " 580: 173,\n",
       " 581: 172,\n",
       " 582: 172,\n",
       " 583: 172,\n",
       " 584: 172,\n",
       " 585: 172,\n",
       " 586: 172,\n",
       " 587: 172,\n",
       " 588: 172,\n",
       " 589: 171,\n",
       " 590: 171,\n",
       " 591: 171,\n",
       " 592: 171,\n",
       " 593: 171,\n",
       " 594: 171,\n",
       " 595: 171,\n",
       " 596: 171,\n",
       " 597: 170,\n",
       " 598: 170,\n",
       " 599: 169,\n",
       " 600: 169,\n",
       " 601: 169,\n",
       " 602: 168,\n",
       " 603: 167,\n",
       " 604: 167,\n",
       " 605: 167,\n",
       " 606: 166,\n",
       " 607: 166,\n",
       " 608: 165,\n",
       " 609: 165,\n",
       " 610: 165,\n",
       " 611: 165,\n",
       " 612: 164,\n",
       " 613: 164,\n",
       " 614: 164,\n",
       " 615: 164,\n",
       " 616: 164,\n",
       " 617: 163,\n",
       " 618: 163,\n",
       " 619: 163,\n",
       " 620: 163,\n",
       " 621: 163,\n",
       " 622: 163,\n",
       " 623: 162,\n",
       " 624: 162,\n",
       " 625: 162,\n",
       " 626: 162,\n",
       " 627: 162,\n",
       " 628: 162,\n",
       " 629: 162,\n",
       " 630: 161,\n",
       " 631: 161,\n",
       " 632: 161,\n",
       " 633: 161,\n",
       " 634: 160,\n",
       " 635: 160,\n",
       " 636: 160,\n",
       " 637: 160,\n",
       " 638: 159,\n",
       " 639: 159,\n",
       " 640: 158,\n",
       " 641: 158,\n",
       " 642: 158,\n",
       " 643: 157,\n",
       " 644: 157,\n",
       " 645: 157,\n",
       " 646: 157,\n",
       " 647: 156,\n",
       " 648: 156,\n",
       " 649: 156,\n",
       " 650: 156,\n",
       " 651: 155,\n",
       " 652: 155,\n",
       " 653: 155,\n",
       " 654: 155,\n",
       " 655: 155,\n",
       " 656: 155,\n",
       " 657: 154,\n",
       " 658: 154,\n",
       " 659: 154,\n",
       " 660: 154,\n",
       " 661: 154,\n",
       " 662: 153,\n",
       " 663: 153,\n",
       " 664: 153,\n",
       " 665: 152,\n",
       " 666: 152,\n",
       " 667: 152,\n",
       " 668: 152,\n",
       " 669: 152,\n",
       " 670: 152,\n",
       " 671: 151,\n",
       " 672: 151,\n",
       " 673: 151,\n",
       " 674: 151,\n",
       " 675: 151,\n",
       " 676: 150,\n",
       " 677: 150,\n",
       " 678: 149,\n",
       " 679: 149,\n",
       " 680: 149,\n",
       " 681: 149,\n",
       " 682: 149,\n",
       " 683: 149,\n",
       " 684: 148,\n",
       " 685: 148,\n",
       " 686: 148,\n",
       " 687: 148,\n",
       " 688: 148,\n",
       " 689: 148,\n",
       " 690: 147,\n",
       " 691: 147,\n",
       " 692: 147,\n",
       " 693: 147,\n",
       " 694: 146,\n",
       " 695: 146,\n",
       " 696: 146,\n",
       " 697: 146,\n",
       " 698: 145,\n",
       " 699: 145,\n",
       " 700: 145,\n",
       " 701: 145,\n",
       " 702: 145,\n",
       " 703: 145,\n",
       " 704: 145,\n",
       " 705: 145,\n",
       " 706: 145,\n",
       " 707: 145,\n",
       " 708: 144,\n",
       " 709: 144,\n",
       " 710: 143,\n",
       " 711: 143,\n",
       " 712: 143,\n",
       " 713: 143,\n",
       " 714: 143,\n",
       " 715: 143,\n",
       " 716: 143,\n",
       " 717: 143,\n",
       " 718: 143,\n",
       " 719: 143,\n",
       " 720: 143,\n",
       " 721: 142,\n",
       " 722: 142,\n",
       " 723: 142,\n",
       " 724: 142,\n",
       " 725: 142,\n",
       " 726: 142,\n",
       " 727: 142,\n",
       " 728: 142,\n",
       " 729: 141,\n",
       " 730: 141,\n",
       " 731: 141,\n",
       " 732: 141,\n",
       " 733: 141,\n",
       " 734: 141,\n",
       " 735: 141,\n",
       " 736: 141,\n",
       " 737: 141,\n",
       " 738: 140,\n",
       " 739: 140,\n",
       " 740: 140,\n",
       " 741: 140,\n",
       " 742: 140,\n",
       " 743: 140,\n",
       " 744: 139,\n",
       " 745: 139,\n",
       " 746: 139,\n",
       " 747: 139,\n",
       " 748: 139,\n",
       " 749: 138,\n",
       " 750: 138,\n",
       " 751: 138,\n",
       " 752: 137,\n",
       " 753: 137,\n",
       " 754: 137,\n",
       " 755: 137,\n",
       " 756: 137,\n",
       " 757: 137,\n",
       " 758: 137,\n",
       " 759: 136,\n",
       " 760: 136,\n",
       " 761: 135,\n",
       " 762: 135,\n",
       " 763: 135,\n",
       " 764: 135,\n",
       " 765: 135,\n",
       " 766: 135,\n",
       " 767: 134,\n",
       " 768: 134,\n",
       " 769: 134,\n",
       " 770: 134,\n",
       " 771: 134,\n",
       " 772: 134,\n",
       " 773: 134,\n",
       " 774: 133,\n",
       " 775: 133,\n",
       " 776: 133,\n",
       " 777: 133,\n",
       " 778: 133,\n",
       " 779: 133,\n",
       " 780: 133,\n",
       " 781: 132,\n",
       " 782: 132,\n",
       " 783: 132,\n",
       " 784: 132,\n",
       " 785: 132,\n",
       " 786: 132,\n",
       " 787: 132,\n",
       " 788: 131,\n",
       " 789: 131,\n",
       " 790: 131,\n",
       " 791: 131,\n",
       " 792: 131,\n",
       " 793: 131,\n",
       " 794: 131,\n",
       " 795: 131,\n",
       " 796: 130,\n",
       " 797: 130,\n",
       " 798: 130,\n",
       " 799: 130,\n",
       " 800: 130,\n",
       " 801: 130,\n",
       " 802: 129,\n",
       " 803: 129,\n",
       " 804: 129,\n",
       " 805: 129,\n",
       " 806: 129,\n",
       " 807: 129,\n",
       " 808: 129,\n",
       " 809: 129,\n",
       " 810: 129,\n",
       " 811: 129,\n",
       " 812: 129,\n",
       " 813: 129,\n",
       " 814: 129,\n",
       " 815: 128,\n",
       " 816: 128,\n",
       " 817: 128,\n",
       " 818: 128,\n",
       " 819: 128,\n",
       " 820: 128,\n",
       " 821: 128,\n",
       " 822: 127,\n",
       " 823: 127,\n",
       " 824: 127,\n",
       " 825: 127,\n",
       " 826: 127,\n",
       " 827: 127,\n",
       " 828: 127,\n",
       " 829: 127,\n",
       " 830: 127,\n",
       " 831: 127,\n",
       " 832: 127,\n",
       " 833: 127,\n",
       " 834: 127,\n",
       " 835: 126,\n",
       " 836: 126,\n",
       " 837: 126,\n",
       " 838: 125,\n",
       " 839: 125,\n",
       " 840: 125,\n",
       " 841: 125,\n",
       " 842: 125,\n",
       " 843: 125,\n",
       " 844: 125,\n",
       " 845: 125,\n",
       " 846: 125,\n",
       " 847: 125,\n",
       " 848: 125,\n",
       " 849: 125,\n",
       " 850: 124,\n",
       " 851: 124,\n",
       " 852: 124,\n",
       " 853: 124,\n",
       " 854: 123,\n",
       " 855: 123,\n",
       " 856: 123,\n",
       " 857: 123,\n",
       " 858: 123,\n",
       " 859: 123,\n",
       " 860: 123,\n",
       " 861: 122,\n",
       " 862: 122,\n",
       " 863: 122,\n",
       " 864: 122,\n",
       " 865: 122,\n",
       " 866: 122,\n",
       " 867: 122,\n",
       " 868: 122,\n",
       " 869: 121,\n",
       " 870: 121,\n",
       " 871: 121,\n",
       " 872: 121,\n",
       " 873: 121,\n",
       " 874: 121,\n",
       " 875: 121,\n",
       " 876: 120,\n",
       " 877: 120,\n",
       " 878: 120,\n",
       " 879: 120,\n",
       " 880: 120,\n",
       " 881: 120,\n",
       " 882: 120,\n",
       " 883: 120,\n",
       " 884: 119,\n",
       " 885: 119,\n",
       " 886: 119,\n",
       " 887: 119,\n",
       " 888: 119,\n",
       " 889: 119,\n",
       " 890: 119,\n",
       " 891: 119,\n",
       " 892: 119,\n",
       " 893: 119,\n",
       " 894: 119,\n",
       " 895: 119,\n",
       " 896: 118,\n",
       " 897: 118,\n",
       " 898: 118,\n",
       " 899: 118,\n",
       " 900: 118,\n",
       " 901: 118,\n",
       " 902: 118,\n",
       " 903: 117,\n",
       " 904: 117,\n",
       " 905: 117,\n",
       " 906: 117,\n",
       " 907: 117,\n",
       " 908: 117,\n",
       " 909: 116,\n",
       " 910: 116,\n",
       " 911: 116,\n",
       " 912: 116,\n",
       " 913: 116,\n",
       " 914: 116,\n",
       " 915: 115,\n",
       " 916: 115,\n",
       " 917: 115,\n",
       " 918: 115,\n",
       " 919: 115,\n",
       " 920: 115,\n",
       " 921: 115,\n",
       " 922: 115,\n",
       " 923: 115,\n",
       " 924: 115,\n",
       " 925: 115,\n",
       " 926: 114,\n",
       " 927: 114,\n",
       " 928: 114,\n",
       " 929: 114,\n",
       " 930: 114,\n",
       " 931: 114,\n",
       " 932: 114,\n",
       " 933: 114,\n",
       " 934: 114,\n",
       " 935: 114,\n",
       " 936: 114,\n",
       " 937: 114,\n",
       " 938: 113,\n",
       " 939: 113,\n",
       " 940: 113,\n",
       " 941: 113,\n",
       " 942: 113,\n",
       " 943: 113,\n",
       " 944: 113,\n",
       " 945: 113,\n",
       " 946: 113,\n",
       " 947: 113,\n",
       " 948: 113,\n",
       " 949: 113,\n",
       " 950: 113,\n",
       " 951: 113,\n",
       " 952: 113,\n",
       " 953: 113,\n",
       " 954: 113,\n",
       " 955: 112,\n",
       " 956: 112,\n",
       " 957: 112,\n",
       " 958: 112,\n",
       " 959: 111,\n",
       " 960: 111,\n",
       " 961: 110,\n",
       " 962: 110,\n",
       " 963: 110,\n",
       " 964: 110,\n",
       " 965: 110,\n",
       " 966: 110,\n",
       " 967: 110,\n",
       " 968: 110,\n",
       " 969: 110,\n",
       " 970: 110,\n",
       " 971: 110,\n",
       " 972: 109,\n",
       " 973: 109,\n",
       " 974: 109,\n",
       " 975: 109,\n",
       " 976: 109,\n",
       " 977: 109,\n",
       " 978: 109,\n",
       " 979: 109,\n",
       " 980: 109,\n",
       " 981: 108,\n",
       " 982: 108,\n",
       " 983: 108,\n",
       " 984: 108,\n",
       " 985: 108,\n",
       " 986: 108,\n",
       " 987: 108,\n",
       " 988: 108,\n",
       " 989: 108,\n",
       " 990: 108,\n",
       " 991: 108,\n",
       " 992: 108,\n",
       " 993: 107,\n",
       " 994: 107,\n",
       " 995: 107,\n",
       " 996: 107,\n",
       " 997: 107,\n",
       " 998: 107,\n",
       " 999: 107,\n",
       " 1000: 107,\n",
       " ...}"
      ]
     },
     "execution_count": 14,
     "metadata": {},
     "output_type": "execute_result"
    }
   ],
   "source": [
    "numWords = int(1e4)\n",
    "#get top 10k unigrams in brown by frequency\n",
    "top10k_brown = brown_unigram_dist.most_common(numWords)\n",
    "top10k_brown[0:10]\n",
    "#collect ranks and frequencies \n",
    "countByRank = {rank+1:pair[1] for rank,pair in enumerate(top10k_brown)}\n",
    "countByRank"
   ]
  },
  {
   "cell_type": "code",
   "execution_count": 15,
   "metadata": {
    "ExecuteTime": {
     "end_time": "2017-05-12T17:37:20.423310Z",
     "start_time": "2017-05-12T17:37:20.381573Z"
    },
    "collapsed": false,
    "run_control": {
     "frozen": false,
     "read_only": false
    }
   },
   "outputs": [
    {
     "data": {
      "text/html": [
       "<div>\n",
       "<style>\n",
       "    .dataframe thead tr:only-child th {\n",
       "        text-align: right;\n",
       "    }\n",
       "\n",
       "    .dataframe thead th {\n",
       "        text-align: left;\n",
       "    }\n",
       "\n",
       "    .dataframe tbody tr th {\n",
       "        vertical-align: top;\n",
       "    }\n",
       "</style>\n",
       "<table border=\"1\" class=\"dataframe\">\n",
       "  <thead>\n",
       "    <tr style=\"text-align: right;\">\n",
       "      <th></th>\n",
       "      <th>Count</th>\n",
       "      <th>Rank</th>\n",
       "    </tr>\n",
       "  </thead>\n",
       "  <tbody>\n",
       "    <tr>\n",
       "      <th>0</th>\n",
       "      <td>69971</td>\n",
       "      <td>1</td>\n",
       "    </tr>\n",
       "    <tr>\n",
       "      <th>1</th>\n",
       "      <td>58334</td>\n",
       "      <td>2</td>\n",
       "    </tr>\n",
       "    <tr>\n",
       "      <th>2</th>\n",
       "      <td>49346</td>\n",
       "      <td>3</td>\n",
       "    </tr>\n",
       "    <tr>\n",
       "      <th>3</th>\n",
       "      <td>36412</td>\n",
       "      <td>4</td>\n",
       "    </tr>\n",
       "    <tr>\n",
       "      <th>4</th>\n",
       "      <td>28853</td>\n",
       "      <td>5</td>\n",
       "    </tr>\n",
       "  </tbody>\n",
       "</table>\n",
       "</div>"
      ],
      "text/plain": [
       "   Count  Rank\n",
       "0  69971     1\n",
       "1  58334     2\n",
       "2  49346     3\n",
       "3  36412     4\n",
       "4  28853     5"
      ]
     },
     "execution_count": 15,
     "metadata": {},
     "output_type": "execute_result"
    }
   ],
   "source": [
    "countByRank_df = pd.DataFrame({'Rank':list(countByRank.keys()), 'Count':list(countByRank.values())})\n",
    "countByRank_df.sort_values(by = 'Rank').head()"
   ]
  },
  {
   "cell_type": "markdown",
   "metadata": {
    "run_control": {
     "frozen": false,
     "read_only": false
    }
   },
   "source": [
    "(Aside: As you can see, dataframes are essentially tables -- Jupyter even renders them as HTML tables. To the extent they are a representation of **relations**, they are a useful data structure that you can apply **relational algebra**-like (https://en.wikipedia.org/wiki/Relational_algebra) operations to; note, however, that to the extent they are an idiosyncratic object mainly developed for the R programming language, they can be finicky to work with. The Python port of the dplyr package *dfply* (https://github.com/kieferk/dfply) goes some ways towards remedying this situation.)"
   ]
  },
  {
   "cell_type": "markdown",
   "metadata": {
    "run_control": {
     "frozen": false,
     "read_only": false
    }
   },
   "source": [
    "Now that our count+rank data is in a *dataframe,* we'll use *ggplot* to graphically examine trends in our data. "
   ]
  },
  {
   "cell_type": "code",
   "execution_count": 16,
   "metadata": {
    "ExecuteTime": {
     "end_time": "2017-05-12T17:37:20.974732Z",
     "start_time": "2017-05-12T17:37:20.425024Z"
    },
    "collapsed": false,
    "run_control": {
     "frozen": false,
     "read_only": false
    }
   },
   "outputs": [
    {
     "data": {
      "image/png": "[encoded data removed]",
      "text/plain": [
       "<matplotlib.figure.Figure at 0x12ca14e48>"
      ]
     },
     "metadata": {},
     "output_type": "display_data"
    },
    {
     "data": {
      "text/plain": [
       "<ggplot: (-9223372036539542398)>"
      ]
     },
     "execution_count": 16,
     "metadata": {},
     "output_type": "execute_result"
    }
   ],
   "source": [
    "ggplot(countByRank_df, aes(x = 'Rank', y = 'Count')) + \\\n",
    "    geom_point(color='blue') + \\\n",
    "    ggtitle('Frequency (count) as a function of rank in the top 10k most frequent words of the Brown corpus')"
   ]
  },
  {
   "cell_type": "markdown",
   "metadata": {
    "run_control": {
     "frozen": false,
     "read_only": false
    }
   },
   "source": [
    "Hmm....hard to see much here. Let's plot freqByRank_df in semi-log and log-log plots..."
   ]
  },
  {
   "cell_type": "markdown",
   "metadata": {
    "run_control": {
     "frozen": false,
     "read_only": false
    }
   },
   "source": [
    "(Aside: Why? How do we interpret these plots? Check out\n",
    " - https://en.wikipedia.org/wiki/Semi-log_plot\n",
    " - https://en.wikipedia.org/wiki/Log–log_plot )"
   ]
  },
  {
   "cell_type": "code",
   "execution_count": 17,
   "metadata": {
    "ExecuteTime": {
     "end_time": "2017-05-12T17:37:23.391209Z",
     "start_time": "2017-05-12T17:37:20.976378Z"
    },
    "collapsed": false,
    "run_control": {
     "frozen": false,
     "read_only": false
    }
   },
   "outputs": [
    {
     "data": {
      "image/png": "[encoded data removed]",
      "text/plain": [
       "<matplotlib.figure.Figure at 0x12eba3b38>"
      ]
     },
     "metadata": {},
     "output_type": "display_data"
    },
    {
     "data": {
      "text/plain": [
       "<ggplot: (-9223372036537245366)>"
      ]
     },
     "execution_count": 17,
     "metadata": {},
     "output_type": "execute_result"
    },
    {
     "data": {
      "image/png": "[encoded data removed]",
      "text/plain": [
       "<matplotlib.figure.Figure at 0x13763df60>"
      ]
     },
     "metadata": {},
     "output_type": "display_data"
    },
    {
     "data": {
      "text/plain": [
       "<ggplot: (-9223372036528267646)>"
      ]
     },
     "execution_count": 17,
     "metadata": {},
     "output_type": "execute_result"
    }
   ],
   "source": [
    " ggplot(countByRank_df, aes(x = 'Rank', y = 'Count')) + \\\n",
    "    geom_point(color='blue') + \\\n",
    "    ggtitle('Frequency (count) as a function of rank in the top 10k most frequent words of the Brown corpus') + \\\n",
    "    scale_x_log()\n",
    "\n",
    " ggplot(countByRank_df, aes(x = 'Rank', y = 'Count')) + \\\n",
    "    geom_point(color='blue') + \\\n",
    "    ggtitle('Frequency (count) as a function of rank in the top 10k most frequent words of the Brown corpus') + \\\n",
    "    scale_x_log() + scale_y_log()"
   ]
  },
  {
   "cell_type": "markdown",
   "metadata": {
    "run_control": {
     "frozen": false,
     "read_only": false
    }
   },
   "source": [
    "What's going on here?"
   ]
  },
  {
   "cell_type": "markdown",
   "metadata": {
    "run_control": {
     "frozen": false,
     "read_only": false
    }
   },
   "source": [
    " - Check out https://en.wikipedia.org/wiki/Zipf%27s_law."
   ]
  },
  {
   "cell_type": "markdown",
   "metadata": {
    "run_control": {
     "frozen": false,
     "read_only": false
    }
   },
   "source": [
    "The **frequency** of a word in a corpus is $\\approx$ inversely proportional to the word's **rank**:\n",
    "\n",
    "$freq(word)$ $f$ as a function of $rank(word)$ $r$ among $N$ words:\n",
    "$$f(r, N, s) = \\frac{1/r^s}{\\sum\\limits^{N}_{n=1} 1/n^s }$$ for some $s$"
   ]
  },
  {
   "cell_type": "markdown",
   "metadata": {
    "run_control": {
     "frozen": false,
     "read_only": false
    }
   },
   "source": [
    "Let's see **what this function predicts** for $N = 10,000$ and $s = 1.0$ and **how it compares to our corpus data**..."
   ]
  },
  {
   "cell_type": "code",
   "execution_count": 18,
   "metadata": {
    "ExecuteTime": {
     "end_time": "2017-05-12T17:37:23.415686Z",
     "start_time": "2017-05-12T17:37:23.393563Z"
    },
    "collapsed": false,
    "run_control": {
     "frozen": false,
     "read_only": false
    }
   },
   "outputs": [
    {
     "data": {
      "text/plain": [
       "0.10217107364402231"
      ]
     },
     "execution_count": 18,
     "metadata": {},
     "output_type": "execute_result"
    }
   ],
   "source": [
    "ranks = range(1,numWords)\n",
    "#naive implementation - takes too long to execute\n",
    "#denominator = lambda s, N: sum([1/(n**s) for n in ranks ])\n",
    "#predicted_freq = lambda r, N, s: (1/(r**s)) / denominator(s,N)\n",
    "#predicted_freq(1,numWords,0.9)\n",
    "\n",
    "def make_freq_predictor(s, N):\n",
    "    my_denominator = sum([1/(n**s) for n in range(1,N)])\n",
    "    def my_predictor(r):\n",
    "        return (1/(r**s)) / my_denominator\n",
    "    return my_predictor\n",
    "\n",
    "predicted_freq = make_freq_predictor(1.0, numWords)\n",
    "predicted_freq(1)"
   ]
  },
  {
   "cell_type": "code",
   "execution_count": 19,
   "metadata": {
    "ExecuteTime": {
     "end_time": "2017-05-12T17:37:23.464031Z",
     "start_time": "2017-05-12T17:37:23.422075Z"
    },
    "collapsed": false,
    "run_control": {
     "frozen": false,
     "read_only": false
    }
   },
   "outputs": [
    {
     "data": {
      "text/plain": [
       "{1: 0.10217107364402231,\n",
       " 2: 0.051085536822011154,\n",
       " 3: 0.034057024548007436,\n",
       " 4: 0.025542768411005577,\n",
       " 5: 0.020434214728804464,\n",
       " 6: 0.017028512274003718,\n",
       " 7: 0.014595867663431758,\n",
       " 8: 0.012771384205502789,\n",
       " 9: 0.011352341516002479,\n",
       " 10: 0.010217107364402232,\n",
       " 11: 0.009288279422183847,\n",
       " 12: 0.008514256137001859,\n",
       " 13: 0.007859313357232486,\n",
       " 14: 0.007297933831715879,\n",
       " 15: 0.006811404909601487,\n",
       " 16: 0.006385692102751394,\n",
       " 17: 0.006010063155530724,\n",
       " 18: 0.005676170758001239,\n",
       " 19: 0.005377424928632753,\n",
       " 20: 0.005108553682201116,\n",
       " 21: 0.004865289221143919,\n",
       " 22: 0.0046441397110919234,\n",
       " 23: 0.004442220593218361,\n",
       " 24: 0.0042571280685009295,\n",
       " 25: 0.004086842945760893,\n",
       " 26: 0.003929656678616243,\n",
       " 27: 0.0037841138386674926,\n",
       " 28: 0.0036489669158579394,\n",
       " 29: 0.0035231404704835277,\n",
       " 30: 0.0034057024548007435,\n",
       " 31: 0.0032958410852910423,\n",
       " 32: 0.003192846051375697,\n",
       " 33: 0.0030960931407279487,\n",
       " 34: 0.003005031577765362,\n",
       " 35: 0.002919173532686352,\n",
       " 36: 0.0028380853790006197,\n",
       " 37: 0.00276138036875736,\n",
       " 38: 0.0026887124643163764,\n",
       " 39: 0.002619771119077495,\n",
       " 40: 0.002554276841100558,\n",
       " 41: 0.0024919774059517638,\n",
       " 42: 0.0024326446105719596,\n",
       " 43: 0.002376071480093542,\n",
       " 44: 0.0023220698555459617,\n",
       " 45: 0.002270468303200496,\n",
       " 46: 0.0022211102966091805,\n",
       " 47: 0.002173852630723879,\n",
       " 48: 0.0021285640342504648,\n",
       " 49: 0.0020851239519188223,\n",
       " 50: 0.0020434214728804463,\n",
       " 51: 0.002003354385176908,\n",
       " 52: 0.0019648283393081216,\n",
       " 53: 0.001927756106490987,\n",
       " 54: 0.0018920569193337463,\n",
       " 55: 0.0018576558844367692,\n",
       " 56: 0.0018244834579289697,\n",
       " 57: 0.0017924749762109177,\n",
       " 58: 0.0017615702352417638,\n",
       " 59: 0.0017317131126105476,\n",
       " 60: 0.0017028512274003718,\n",
       " 61: 0.0016749356335085625,\n",
       " 62: 0.0016479205426455212,\n",
       " 63: 0.0016217630737146397,\n",
       " 64: 0.0015964230256878486,\n",
       " 65: 0.0015718626714464972,\n",
       " 66: 0.0015480465703639743,\n",
       " 67: 0.0015249413976719747,\n",
       " 68: 0.001502515788882681,\n",
       " 69: 0.0014807401977394539,\n",
       " 70: 0.001459586766343176,\n",
       " 71: 0.0014390292062538353,\n",
       " 72: 0.0014190426895003098,\n",
       " 73: 0.0013996037485482506,\n",
       " 74: 0.00138069018437868,\n",
       " 75: 0.0013622809819202975,\n",
       " 76: 0.0013443562321581882,\n",
       " 77: 0.0013268970603119781,\n",
       " 78: 0.0013098855595387476,\n",
       " 79: 0.0012933047296711684,\n",
       " 80: 0.001277138420550279,\n",
       " 81: 0.001261371279555831,\n",
       " 82: 0.0012459887029758819,\n",
       " 83: 0.001230976790891835,\n",
       " 84: 0.0012163223052859798,\n",
       " 85: 0.001202012631106145,\n",
       " 86: 0.001188035740046771,\n",
       " 87: 0.0011743801568278426,\n",
       " 88: 0.0011610349277729809,\n",
       " 89: 0.0011479895915058687,\n",
       " 90: 0.001135234151600248,\n",
       " 91: 0.0011227590510332122,\n",
       " 92: 0.0011105551483045902,\n",
       " 93: 0.0010986136950970143,\n",
       " 94: 0.0010869263153619395,\n",
       " 95: 0.0010754849857265505,\n",
       " 96: 0.0010642820171252324,\n",
       " 97: 0.0010533100375672403,\n",
       " 98: 0.0010425619759594112,\n",
       " 99: 0.0010320310469093164,\n",
       " 100: 0.0010217107364402231,\n",
       " 101: 0.0010115947885546764,\n",
       " 102: 0.001001677192588454,\n",
       " 103: 0.0009919521713011874,\n",
       " 104: 0.0009824141696540608,\n",
       " 105: 0.000973057844228784,\n",
       " 106: 0.0009638780532454935,\n",
       " 107: 0.0009548698471403954,\n",
       " 108: 0.0009460284596668732,\n",
       " 109: 0.0009373492994864432,\n",
       " 110: 0.0009288279422183846,\n",
       " 111: 0.0009204601229191199,\n",
       " 112: 0.0009122417289644849,\n",
       " 113: 0.000904168793309932,\n",
       " 114: 0.0008962374881054589,\n",
       " 115: 0.0008884441186436723,\n",
       " 116: 0.0008807851176208819,\n",
       " 117: 0.0008732570396924984,\n",
       " 118: 0.0008658565563052738,\n",
       " 119: 0.0008585804507901034,\n",
       " 120: 0.0008514256137001859,\n",
       " 121: 0.0008443890383803496,\n",
       " 122: 0.0008374678167542812,\n",
       " 123: 0.0008306591353172547,\n",
       " 124: 0.0008239602713227606,\n",
       " 125: 0.0008173685891521785,\n",
       " 126: 0.0008108815368573198,\n",
       " 127: 0.0008044966428663174,\n",
       " 128: 0.0007982115128439243,\n",
       " 129: 0.0007920238266978473,\n",
       " 130: 0.0007859313357232486,\n",
       " 131: 0.0007799318598780329,\n",
       " 132: 0.0007740232851819872,\n",
       " 133: 0.0007682035612332504,\n",
       " 134: 0.0007624706988359874,\n",
       " 135: 0.0007568227677334986,\n",
       " 136: 0.0007512578944413405,\n",
       " 137: 0.0007457742601753453,\n",
       " 138: 0.0007403700988697269,\n",
       " 139: 0.0007350436952807361,\n",
       " 140: 0.000729793383171588,\n",
       " 141: 0.0007246175435746263,\n",
       " 142: 0.0007195146031269176,\n",
       " 143: 0.0007144830324756805,\n",
       " 144: 0.0007095213447501549,\n",
       " 145: 0.0007046280940967056,\n",
       " 146: 0.0006998018742741253,\n",
       " 147: 0.0006950413173062742,\n",
       " 148: 0.00069034509218934,\n",
       " 149: 0.0006857119036511564,\n",
       " 150: 0.0006811404909601487,\n",
       " 151: 0.0006766296267816047,\n",
       " 152: 0.0006721781160790941,\n",
       " 153: 0.0006677847950589693,\n",
       " 154: 0.0006634485301559891,\n",
       " 155: 0.0006591682170582084,\n",
       " 156: 0.0006549427797693738,\n",
       " 157: 0.0006507711697071485,\n",
       " 158: 0.0006466523648355842,\n",
       " 159: 0.000642585368830329,\n",
       " 160: 0.0006385692102751395,\n",
       " 161: 0.0006346029418883372,\n",
       " 162: 0.0006306856397779155,\n",
       " 163: 0.0006268164027240633,\n",
       " 164: 0.0006229943514879409,\n",
       " 165: 0.0006192186281455897,\n",
       " 166: 0.0006154883954459175,\n",
       " 167: 0.0006118028361917504,\n",
       " 168: 0.0006081611526429899,\n",
       " 169: 0.0006045625659409604,\n",
       " 170: 0.0006010063155530725,\n",
       " 171: 0.0005974916587369725,\n",
       " 172: 0.0005940178700233855,\n",
       " 173: 0.000590584240716892,\n",
       " 174: 0.0005871900784139213,\n",
       " 175: 0.0005838347065372703,\n",
       " 176: 0.0005805174638864904,\n",
       " 177: 0.0005772377042035159,\n",
       " 178: 0.0005739947957529343,\n",
       " 179: 0.0005707881209163258,\n",
       " 180: 0.000567617075800124,\n",
       " 181: 0.0005644810698564769,\n",
       " 182: 0.0005613795255166061,\n",
       " 183: 0.0005583118778361874,\n",
       " 184: 0.0005552775741522951,\n",
       " 185: 0.0005522760737514719,\n",
       " 186: 0.0005493068475485071,\n",
       " 187: 0.0005463693777755204,\n",
       " 188: 0.0005434631576809697,\n",
       " 189: 0.0005405876912382133,\n",
       " 190: 0.0005377424928632753,\n",
       " 191: 0.0005349270871414781,\n",
       " 192: 0.0005321410085626162,\n",
       " 193: 0.0005293838012643643,\n",
       " 194: 0.0005266550187836202,\n",
       " 195: 0.000523954223815499,\n",
       " 196: 0.0005212809879797056,\n",
       " 197: 0.0005186348915940218,\n",
       " 198: 0.0005160155234546582,\n",
       " 199: 0.0005134224806232277,\n",
       " 200: 0.0005108553682201116,\n",
       " 201: 0.0005083137992239916,\n",
       " 202: 0.0005057973942773382,\n",
       " 203: 0.0005033057814976469,\n",
       " 204: 0.000500838596294227,\n",
       " 205: 0.0004983954811903528,\n",
       " 206: 0.0004959760856505937,\n",
       " 207: 0.0004935800659131512,\n",
       " 208: 0.0004912070848270304,\n",
       " 209: 0.0004888568116938867,\n",
       " 210: 0.000486528922114392,\n",
       " 211: 0.0004842230978389683,\n",
       " 212: 0.0004819390266227467,\n",
       " 213: 0.0004796764020846118,\n",
       " 214: 0.0004774349235701977,\n",
       " 215: 0.0004752142960187084,\n",
       " 216: 0.0004730142298334366,\n",
       " 217: 0.0004708344407558632,\n",
       " 218: 0.0004686746497432216,\n",
       " 219: 0.0004665345828494169,\n",
       " 220: 0.0004644139711091923,\n",
       " 221: 0.00046231255042544035,\n",
       " 222: 0.00046023006145955994,\n",
       " 223: 0.00045816624952476373,\n",
       " 224: 0.0004561208644822424,\n",
       " 225: 0.00045409366064009914,\n",
       " 226: 0.000452084396654966,\n",
       " 227: 0.0004500928354362217,\n",
       " 228: 0.00044811874405272943,\n",
       " 229: 0.0004461618936420188,\n",
       " 230: 0.00044422205932183616,\n",
       " 231: 0.0004422990201039927,\n",
       " 232: 0.00044039255881044096,\n",
       " 233: 0.00043850246199151206,\n",
       " 234: 0.0004366285198462492,\n",
       " 235: 0.0004347705261447758,\n",
       " 236: 0.0004329282781526369,\n",
       " 237: 0.00043110157655705614,\n",
       " 238: 0.0004292902253950517,\n",
       " 239: 0.00042749403198335693,\n",
       " 240: 0.00042571280685009294,\n",
       " 241: 0.0004239463636681424,\n",
       " 242: 0.0004221945191901748,\n",
       " 243: 0.00042045709318527704,\n",
       " 244: 0.0004187339083771406,\n",
       " 245: 0.00041702479038376457,\n",
       " 246: 0.00041532956765862733,\n",
       " 247: 0.0004136480714332887,\n",
       " 248: 0.0004119801356613803,\n",
       " 249: 0.000410325596963945,\n",
       " 250: 0.00040868429457608925,\n",
       " 251: 0.0004070560702949096,\n",
       " 252: 0.0004054407684286599,\n",
       " 253: 0.0004038382357471237,\n",
       " 254: 0.0004022483214331587,\n",
       " 255: 0.0004006708770353816,\n",
       " 256: 0.00039910575642196214,\n",
       " 257: 0.0003975528157354954,\n",
       " 258: 0.00039601191334892366,\n",
       " 259: 0.00039448290982248,\n",
       " 260: 0.0003929656678616243,\n",
       " 261: 0.0003914600522759475,\n",
       " 262: 0.00038996592993901646,\n",
       " 263: 0.00038848316974913425,\n",
       " 264: 0.0003870116425909936,\n",
       " 265: 0.0003855512212981974,\n",
       " 266: 0.0003841017806166252,\n",
       " 267: 0.0003826631971686229,\n",
       " 268: 0.0003812353494179937,\n",
       " 269: 0.0003798181176357707,\n",
       " 270: 0.0003784113838667493,\n",
       " 271: 0.0003770150318967613,\n",
       " 272: 0.00037562894722067026,\n",
       " 273: 0.00037425301701107073,\n",
       " 274: 0.00037288713008767264,\n",
       " 275: 0.00037153117688735386,\n",
       " 276: 0.00037018504943486346,\n",
       " 277: 0.00036884864131416,\n",
       " 278: 0.00036752184764036805,\n",
       " 279: 0.00036620456503233805,\n",
       " 280: 0.000364896691585794,\n",
       " 281: 0.0003635981268470545,\n",
       " 282: 0.00036230877178731314,\n",
       " 283: 0.000361028528777464,\n",
       " 284: 0.0003597573015634588,\n",
       " 285: 0.00035849499524218353,\n",
       " 286: 0.00035724151623784024,\n",
       " 287: 0.0003559967722788234,\n",
       " 288: 0.00035476067237507746,\n",
       " 289: 0.00035353312679592495,\n",
       " 290: 0.0003523140470483528,\n",
       " 291: 0.0003511033458557468,\n",
       " 292: 0.00034990093713706266,\n",
       " 293: 0.00034870673598642426,\n",
       " 294: 0.0003475206586531371,\n",
       " 295: 0.0003463426225221095,\n",
       " 296: 0.00034517254609467,\n",
       " 297: 0.0003440103489697721,\n",
       " 298: 0.0003428559518255782,\n",
       " 299: 0.0003417092764014124,\n",
       " 300: 0.00034057024548007436,\n",
       " 301: 0.000339438782870506,\n",
       " 302: 0.00033831481339080234,\n",
       " 303: 0.0003371982628515588,\n",
       " 304: 0.00033608905803954705,\n",
       " 305: 0.0003349871267017125,\n",
       " 306: 0.00033389239752948467,\n",
       " 307: 0.00033280480014339514,\n",
       " 308: 0.00033172426507799453,\n",
       " 309: 0.0003306507237670625,\n",
       " 310: 0.0003295841085291042,\n",
       " 311: 0.0003285243525531264,\n",
       " 312: 0.0003274713898846869,\n",
       " 313: 0.00032642515541221183,\n",
       " 314: 0.00032538558485357424,\n",
       " 315: 0.000324352614742928,\n",
       " 316: 0.0003233261824177921,\n",
       " 317: 0.00032230622600637953,\n",
       " 318: 0.0003212926844151645,\n",
       " 319: 0.0003202854973166843,\n",
       " 320: 0.00031928460513756975,\n",
       " 321: 0.0003182899490467985,\n",
       " 322: 0.0003173014709441686,\n",
       " 323: 0.0003163191134489855,\n",
       " 324: 0.00031534281988895776,\n",
       " 325: 0.0003143725342892994,\n",
       " 326: 0.00031340820136203164,\n",
       " 327: 0.0003124497664954811,\n",
       " 328: 0.00031149717574397047,\n",
       " 329: 0.000310550375817697,\n",
       " 330: 0.00030960931407279487,\n",
       " 331: 0.00030867393850157797,\n",
       " 332: 0.00030774419772295876,\n",
       " 333: 0.00030682004097304,\n",
       " 334: 0.0003059014180958752,\n",
       " 335: 0.00030498827953439494,\n",
       " 336: 0.00030408057632149495,\n",
       " 337: 0.00030317826007128284,\n",
       " 338: 0.0003022812829704802,\n",
       " 339: 0.0003013895977699773,\n",
       " 340: 0.0003005031577765362,\n",
       " 341: 0.0002996219168446402,\n",
       " 342: 0.00029874582936848627,\n",
       " 343: 0.0002978748502741175,\n",
       " 344: 0.00029700893501169277,\n",
       " 345: 0.00029614803954789077,\n",
       " 346: 0.000295292120358446,\n",
       " 347: 0.00029444113442081356,\n",
       " 348: 0.00029359503920696066,\n",
       " 349: 0.0002927537926762817,\n",
       " 350: 0.00029191735326863515,\n",
       " 351: 0.0002910856798974995,\n",
       " 352: 0.0002902587319432452,\n",
       " 353: 0.00028943646924652213,\n",
       " 354: 0.00028861885210175795,\n",
       " 355: 0.0002878058412507671,\n",
       " 356: 0.00028699739787646717,\n",
       " 357: 0.00028619348359670117,\n",
       " 358: 0.0002853940604581629,\n",
       " 359: 0.0002845990909304243,\n",
       " 360: 0.000283808537900062,\n",
       " 361: 0.00028302236466488175,\n",
       " 362: 0.00028224053492823843,\n",
       " 363: 0.0002814630127934499,\n",
       " 364: 0.00028068976275830306,\n",
       " 365: 0.00027992074970965017,\n",
       " 366: 0.0002791559389180937,\n",
       " 367: 0.00027839529603275833,\n",
       " 368: 0.00027763878707614756,\n",
       " 369: 0.00027688637843908487,\n",
       " 370: 0.00027613803687573596,\n",
       " 371: 0.00027539372949871244,\n",
       " 372: 0.00027465342377425356,\n",
       " 373: 0.0002739170875174861,\n",
       " 374: 0.0002731846888877602,\n",
       " 375: 0.0002724561963840595,\n",
       " 376: 0.00027173157884048487,\n",
       " 377: 0.00027101080542180984,\n",
       " 378: 0.00027029384561910665,\n",
       " 379: 0.00026958066924544146,\n",
       " 380: 0.00026887124643163764,\n",
       " 381: 0.0002681655476221058,\n",
       " 382: 0.00026746354357073905,\n",
       " 383: 0.00026676520533687286,\n",
       " 384: 0.0002660705042813081,\n",
       " 385: 0.0002653794120623956,\n",
       " 386: 0.00026469190063218217,\n",
       " 387: 0.0002640079422326158,\n",
       " 388: 0.0002633275093918101,\n",
       " 389: 0.00026265057492036583,\n",
       " 390: 0.0002619771119077495,\n",
       " 391: 0.0002613070937187272,\n",
       " 392: 0.0002606404939898528,\n",
       " 393: 0.000259977286626011,\n",
       " 394: 0.0002593174457970109,\n",
       " 395: 0.0002586609459342337,\n",
       " 396: 0.0002580077617273291,\n",
       " 397: 0.00025735786812096297,\n",
       " 398: 0.00025671124031161383,\n",
       " 399: 0.0002560678537444168,\n",
       " 400: 0.0002554276841100558,\n",
       " 401: 0.0002547907073417015,\n",
       " 402: 0.0002541568996119958,\n",
       " 403: 0.0002535262373300802,\n",
       " 404: 0.0002528986971386691,\n",
       " 405: 0.0002522742559111662,\n",
       " 406: 0.00025165289074882344,\n",
       " 407: 0.0002510345789779418,\n",
       " 408: 0.0002504192981471135,\n",
       " 409: 0.00024980702602450444,\n",
       " 410: 0.0002491977405951764,\n",
       " 411: 0.00024859142005844847,\n",
       " 412: 0.00024798804282529684,\n",
       " 413: 0.00024738758751579253,\n",
       " 414: 0.0002467900329565756,\n",
       " 415: 0.000246195358178367,\n",
       " 416: 0.0002456035424135152,\n",
       " 417: 0.00024501456509357864,\n",
       " 418: 0.00024442840584694333,\n",
       " 419: 0.0002438450444964733,\n",
       " 420: 0.000243264461057196,\n",
       " 421: 0.00024268663573401975,\n",
       " 422: 0.00024211154891948415,\n",
       " 423: 0.0002415391811915421,\n",
       " 424: 0.00024096951331137336,\n",
       " 425: 0.00024040252622122894,\n",
       " 426: 0.0002398382010423059,\n",
       " 427: 0.00023927651907265177,\n",
       " 428: 0.00023871746178509885,\n",
       " 429: 0.00023816101082522684,\n",
       " 430: 0.0002376071480093542,\n",
       " 431: 0.00023705585532255756,\n",
       " 432: 0.0002365071149167183,\n",
       " 433: 0.00023596090910859655,\n",
       " 434: 0.0002354172203779316,\n",
       " 435: 0.00023487603136556853,\n",
       " 436: 0.0002343373248716108,\n",
       " 437: 0.00023380108385359795,\n",
       " 438: 0.00023326729142470845,\n",
       " 439: 0.00023273593085198702,\n",
       " 440: 0.00023220698555459615,\n",
       " 441: 0.00023168043910209142,\n",
       " 442: 0.00023115627521272017,\n",
       " 443: 0.00023063447775174335,\n",
       " 444: 0.00023011503072977997,\n",
       " 445: 0.00022959791830117374,\n",
       " 446: 0.00022908312476238186,\n",
       " 447: 0.00022857063455038548,\n",
       " 448: 0.0002280604322411212,\n",
       " 449: 0.00022755250254793386,\n",
       " 450: 0.00022704683032004957,\n",
       " 451: 0.00022654340054106942,\n",
       " 452: 0.000226042198327483,\n",
       " 453: 0.00022554320892720155,\n",
       " 454: 0.00022504641771811085,\n",
       " 455: 0.00022455181020664244,\n",
       " 456: 0.00022405937202636472,\n",
       " 457: 0.00022356908893659148,\n",
       " 458: 0.0002230809468210094,\n",
       " 459: 0.00022259493168632315,\n",
       " 460: 0.00022211102966091808,\n",
       " 461: 0.00022162922699354081,\n",
       " 462: 0.00022114951005199635,\n",
       " 463: 0.00022067186532186245,\n",
       " 464: 0.00022019627940522048,\n",
       " 465: 0.00021972273901940282,\n",
       " 466: 0.00021925123099575603,\n",
       " 467: 0.00021878174227842037,\n",
       " 468: 0.0002183142599231246,\n",
       " 469: 0.00021784877109599639,\n",
       " 470: 0.0002173852630723879,\n",
       " 471: 0.00021692372323571616,\n",
       " 472: 0.00021646413907631845,\n",
       " 473: 0.000216006498190322,\n",
       " 474: 0.00021555078827852807,\n",
       " 475: 0.00021509699714531013,\n",
       " 476: 0.00021464511269752586,\n",
       " 477: 0.000214195122943443,\n",
       " 478: 0.00021374701599167847,\n",
       " 479: 0.00021330078005015094,\n",
       " 480: 0.00021285640342504647,\n",
       " 481: 0.0002124138745197969,\n",
       " 482: 0.0002119731818340712,\n",
       " 483: 0.00021153431396277913,\n",
       " 484: 0.0002110972595950874,\n",
       " 485: 0.00021066200751344806,\n",
       " 486: 0.00021022854659263852,\n",
       " 487: 0.0002097968657988138,\n",
       " 488: 0.0002093669541885703,\n",
       " 489: 0.0002089388009080211,\n",
       " 490: 0.00020851239519188228,\n",
       " 491: 0.00020808772636257087,\n",
       " 492: 0.00020766478382931367,\n",
       " 493: 0.00020724355708726634,\n",
       " 494: 0.00020682403571664436,\n",
       " 495: 0.00020640620938186326,\n",
       " 496: 0.00020599006783069015,\n",
       " 497: 0.00020557560089340507,\n",
       " 498: 0.0002051627984819725,\n",
       " 499: 0.00020475165058922304,\n",
       " 500: 0.00020434214728804462,\n",
       " 501: 0.00020393427873058344,\n",
       " 502: 0.0002035280351474548,\n",
       " 503: 0.00020312340684696282,\n",
       " 504: 0.00020272038421432996,\n",
       " 505: 0.00020231895771093527,\n",
       " 506: 0.00020191911787356185,\n",
       " 507: 0.0002015208553136535,\n",
       " 508: 0.00020112416071657935,\n",
       " 509: 0.00020072902484090827,\n",
       " 510: 0.0002003354385176908,\n",
       " 511: 0.0001999433926497501,\n",
       " 512: 0.00019955287821098107,\n",
       " 513: 0.0001991638862456575,\n",
       " 514: 0.0001987764078677477,\n",
       " 515: 0.00019839043426023747,\n",
       " 516: 0.00019800595667446183,\n",
       " 517: 0.00019762296642944355,\n",
       " 518: 0.00019724145491124,\n",
       " 519: 0.0001968614135722973,\n",
       " 520: 0.00019648283393081215,\n",
       " 521: 0.0001961057075701004,\n",
       " 522: 0.00019573002613797375,\n",
       " 523: 0.00019535578134612295,\n",
       " 524: 0.00019498296496950823,\n",
       " 525: 0.0001946115688457568,\n",
       " 526: 0.00019424158487456713,\n",
       " 527: 0.00019387300501712013,\n",
       " 528: 0.0001935058212954968,\n",
       " 529: 0.00019314002579210268,\n",
       " 530: 0.0001927756106490987,\n",
       " 531: 0.0001924125680678386,\n",
       " 532: 0.0001920508903083126,\n",
       " 533: 0.00019169056968859722,\n",
       " 534: 0.00019133159858431145,\n",
       " 535: 0.0001909739694280791,\n",
       " 536: 0.00019061767470899684,\n",
       " 537: 0.00019026270697210858,\n",
       " 538: 0.00018990905881788534,\n",
       " 539: 0.00018955672290171116,\n",
       " 540: 0.00018920569193337465,\n",
       " 541: 0.0001888559586765662,\n",
       " 542: 0.00018850751594838065,\n",
       " 543: 0.00018816035661882563,\n",
       " 544: 0.00018781447361033513,\n",
       " 545: 0.00018746985989728866,\n",
       " 546: 0.00018712650850553537,\n",
       " 547: 0.0001867844125119238,\n",
       " 548: 0.00018644356504383632,\n",
       " 549: 0.00018610395927872917,\n",
       " 550: 0.00018576558844367693,\n",
       " 551: 0.0001854284458149225,\n",
       " 552: 0.00018509252471743173,\n",
       " 553: 0.00018475781852445264,\n",
       " 554: 0.00018442432065708,\n",
       " 555: 0.00018409202458382398,\n",
       " 556: 0.00018376092382018402,\n",
       " 557: 0.00018343101192822678,\n",
       " 558: 0.00018310228251616902,\n",
       " 559: 0.00018277472923796477,\n",
       " 560: 0.000182448345792897,\n",
       " 561: 0.00018212312592517344,\n",
       " 562: 0.00018179906342352724,\n",
       " 563: 0.00018147615212082117,\n",
       " 564: 0.00018115438589365657,\n",
       " 565: 0.00018083375866198638,\n",
       " 566: 0.000180514264388732,\n",
       " 567: 0.0001801958970794044,\n",
       " 568: 0.0001798786507817294,\n",
       " 569: 0.00017956251958527647,\n",
       " 570: 0.00017924749762109177,\n",
       " 571: 0.00017893357906133506,\n",
       " 572: 0.00017862075811892012,\n",
       " 573: 0.00017830902904715935,\n",
       " 574: 0.0001779983861394117,\n",
       " 575: 0.00017768882372873446,\n",
       " 576: 0.00017738033618753873,\n",
       " 577: 0.00017707291792724836,\n",
       " 578: 0.00017676656339796247,\n",
       " 579: 0.0001764612670881214,\n",
       " 580: 0.0001761570235241764,\n",
       " 581: 0.00017585382727026215,\n",
       " 582: 0.0001755516729278734,\n",
       " 583: 0.00017525055513554428,\n",
       " 584: 0.00017495046856853133,\n",
       " 585: 0.00017465140793849966,\n",
       " 586: 0.00017435336799321213,\n",
       " 587: 0.000174056343516222,\n",
       " 588: 0.00017376032932656856,\n",
       " 589: 0.0001734653202784759,\n",
       " 590: 0.00017317131126105476,\n",
       " 591: 0.0001728782971980073,\n",
       " 592: 0.000172586273047335,\n",
       " 593: 0.00017229523380104942,\n",
       " 594: 0.00017200517448488604,\n",
       " 595: 0.0001717160901580207,\n",
       " 596: 0.0001714279759127891,\n",
       " 597: 0.00017114082687440924,\n",
       " 598: 0.0001708546382007062,\n",
       " 599: 0.00017056940508184025,\n",
       " 600: 0.00017028512274003718,\n",
       " 601: 0.00017000178642932165,\n",
       " 602: 0.000169719391435253,\n",
       " 603: 0.00016943793307466388,\n",
       " 604: 0.00016915740669540117,\n",
       " 605: 0.00016887780767606994,\n",
       " 606: 0.0001685991314257794,\n",
       " 607: 0.0001683213733838918,\n",
       " 608: 0.00016804452901977352,\n",
       " 609: 0.00016776859383254894,\n",
       " 610: 0.00016749356335085626,\n",
       " 611: 0.0001672194331326061,\n",
       " 612: 0.00016694619876474233,\n",
       " 613: 0.0001666738558630054,\n",
       " 614: 0.00016640240007169757,\n",
       " 615: 0.0001661318270634509,\n",
       " 616: 0.00016586213253899727,\n",
       " 617: 0.00016559331222694052,\n",
       " 618: 0.00016532536188353125,\n",
       " 619: 0.00016505827729244315,\n",
       " 620: 0.0001647920542645521,\n",
       " 621: 0.0001645266886377171,\n",
       " 622: 0.0001642621762765632,\n",
       " 623: 0.00016399851307226696,\n",
       " 624: 0.00016373569494234345,\n",
       " 625: 0.00016347371783043572,\n",
       " 626: 0.00016321257770610592,\n",
       " 627: 0.0001629522705646289,\n",
       " 628: 0.00016269279242678712,\n",
       " 629: 0.00016243413933866822,\n",
       " 630: 0.000162176307371464,\n",
       " 631: 0.00016191929262127149,\n",
       " 632: 0.00016166309120889605,\n",
       " 633: 0.0001614076992796561,\n",
       " 634: 0.00016115311300318977,\n",
       " 635: 0.00016089932857326348,\n",
       " 636: 0.00016064634220758225,\n",
       " 637: 0.00016039415014760175,\n",
       " 638: 0.00016014274865834216,\n",
       " 639: 0.00015989213402820392,\n",
       " 640: 0.00015964230256878487,\n",
       " 641: 0.0001593932506146994,\n",
       " 642: 0.00015914497452339924,\n",
       " 643: 0.00015889747067499582,\n",
       " 644: 0.0001586507354720843,\n",
       " 645: 0.00015840476533956948,\n",
       " 646: 0.00015815955672449276,\n",
       " 647: 0.00015791510609586138,\n",
       " 648: 0.00015767140994447888,\n",
       " 649: 0.00015742846478277706,\n",
       " 650: 0.0001571862671446497,\n",
       " 651: 0.00015694481358528772,\n",
       " 652: 0.00015670410068101582,\n",
       " 653: 0.00015646412502913064,\n",
       " 654: 0.00015622488324774054,\n",
       " 655: 0.0001559863719756066,\n",
       " 656: 0.00015574858787198524,\n",
       " 657: 0.00015551152761647232,\n",
       " 658: 0.0001552751879088485,\n",
       " 659: 0.00015503956546892612,\n",
       " 660: 0.00015480465703639743,\n",
       " 661: 0.0001545704593706843,\n",
       " 662: 0.00015433696925078898,\n",
       " 663: 0.00015410418347514676,\n",
       " 664: 0.00015387209886147938,\n",
       " 665: 0.00015364071224665009,\n",
       " 666: 0.00015341002048652,\n",
       " 667: 0.00015318002045580555,\n",
       " 668: 0.0001529507090479376,\n",
       " 669: 0.00015272208317492123,\n",
       " 670: 0.00015249413976719747,\n",
       " 671: 0.00015226687577350569,\n",
       " 672: 0.00015204028816074748,\n",
       " 673: 0.00015181437391385187,\n",
       " 674: 0.00015158913003564142,\n",
       " 675: 0.0001513645535466997,\n",
       " 676: 0.0001511406414852401,\n",
       " 677: 0.00015091739090697536,\n",
       " 678: 0.00015069479888498864,\n",
       " 679: 0.00015047286250960575,\n",
       " 680: 0.0001502515788882681,\n",
       " 681: 0.0001500309451454072,\n",
       " 682: 0.0001498109584223201,\n",
       " 683: 0.00014959161587704584,\n",
       " 684: 0.00014937291468424313,\n",
       " 685: 0.00014915485203506905,\n",
       " 686: 0.00014893742513705875,\n",
       " 687: 0.00014872063121400627,\n",
       " 688: 0.00014850446750584639,\n",
       " 689: 0.00014828893126853746,\n",
       " 690: 0.00014807401977394539,\n",
       " 691: 0.00014785973030972838,\n",
       " 692: 0.000147646060179223,\n",
       " 693: 0.0001474330067013309,\n",
       " 694: 0.00014722056721040678,\n",
       " 695: 0.0001470087390561472,\n",
       " 696: 0.00014679751960348033,\n",
       " 697: 0.00014658690623245668,\n",
       " 698: 0.00014637689633814085,\n",
       " 699: 0.00014616748733050402,\n",
       " 700: 0.00014595867663431757,\n",
       " 701: 0.00014575046168904753,\n",
       " 702: 0.00014554283994874974,\n",
       " 703: 0.0001453358088819663,\n",
       " 704: 0.0001451293659716226,\n",
       " 705: 0.00014492350871492528,\n",
       " 706: 0.00014471823462326107,\n",
       " 707: 0.00014451354122209663,\n",
       " 708: 0.00014430942605087897,\n",
       " 709: 0.00014410588666293698,\n",
       " 710: 0.00014390292062538355,\n",
       " 711: 0.00014370052551901873,\n",
       " 712: 0.00014349869893823358,\n",
       " 713: 0.00014329743849091488,\n",
       " 714: 0.00014309674179835058,\n",
       " 715: 0.0001428966064951361,\n",
       " 716: 0.00014269703022908145,\n",
       " 717: 0.00014249801066111898,\n",
       " 718: 0.00014229954546521214,\n",
       " 719: 0.00014210163232826467,\n",
       " 720: 0.000141904268950031,\n",
       " 721: 0.0001417074530430268,\n",
       " 722: 0.00014151118233244087,\n",
       " 723: 0.00014131545455604746,\n",
       " 724: 0.00014112026746411922,\n",
       " 725: 0.00014092561881934112,\n",
       " 726: 0.00014073150639672496,\n",
       " 727: 0.0001405379279835245,\n",
       " 728: 0.00014034488137915153,\n",
       " 729: 0.00014015236439509233,\n",
       " 730: 0.00013996037485482509,\n",
       " 731: 0.00013976891059373778,\n",
       " 732: 0.00013957796945904686,\n",
       " 733: 0.00013938754930971665,\n",
       " 734: 0.00013919764801637917,\n",
       " 735: 0.00013900826346125483,\n",
       " 736: 0.00013881939353807378,\n",
       " 737: 0.0001386310361519977,\n",
       " 738: 0.00013844318921954244,\n",
       " 739: 0.0001382558506685011,\n",
       " 740: 0.00013806901843786798,\n",
       " 741: 0.0001378826904777629,\n",
       " 742: 0.00013769686474935622,\n",
       " 743: 0.0001375115392247945,\n",
       " 744: 0.00013732671188712678,\n",
       " 745: 0.0001371423807302313,\n",
       " 746: 0.00013695854375874304,\n",
       " 747: 0.00013677519898798167,\n",
       " 748: 0.0001365923444438801,\n",
       " 749: 0.00013640997816291364,\n",
       " 750: 0.00013622809819202974,\n",
       " 751: 0.00013604670258857832,\n",
       " 752: 0.00013586578942024243,\n",
       " 753: 0.00013568535676496986,\n",
       " 754: 0.00013550540271090492,\n",
       " 755: 0.00013532592535632094,\n",
       " 756: 0.00013514692280955332,\n",
       " 757: 0.00013496839318893303,\n",
       " 758: 0.00013479033462272073,\n",
       " 759: 0.00013461274524904126,\n",
       " 760: 0.00013443562321581882,\n",
       " 761: 0.00013425896668071264,\n",
       " 762: 0.0001340827738110529,\n",
       " 763: 0.0001339070427837776,\n",
       " 764: 0.00013373177178536952,\n",
       " 765: 0.00013355695901179387,\n",
       " 766: 0.00013338260266843643,\n",
       " 767: 0.00013320870097004213,\n",
       " 768: 0.00013303525214065405,\n",
       " 769: 0.00013286225441355308,\n",
       " 770: 0.0001326897060311978,\n",
       " 771: 0.00013251760524516512,\n",
       " 772: 0.00013234595031609109,\n",
       " 773: 0.0001321747395136123,\n",
       " 774: 0.0001320039711163079,\n",
       " 775: 0.00013183364341164168,\n",
       " 776: 0.00013166375469590504,\n",
       " 777: 0.00013149430327415997,\n",
       " 778: 0.00013132528746018292,\n",
       " 779: 0.0001311567055764086,\n",
       " 780: 0.00013098855595387475,\n",
       " 781: 0.00013082083693216685,\n",
       " 782: 0.0001306535468593636,\n",
       " 783: 0.00013048668409198252,\n",
       " 784: 0.0001303202469949264,\n",
       " 785: 0.00013015423394142968,\n",
       " 786: 0.0001299886433130055,\n",
       " 787: 0.00012982347349939304,\n",
       " 788: 0.00012965872289850546,\n",
       " 789: 0.00012949438991637807,\n",
       " 790: 0.00012933047296711684,\n",
       " 791: 0.00012916697047284743,\n",
       " 792: 0.00012900388086366455,\n",
       " 793: 0.00012884120257758173,\n",
       " 794: 0.00012867893406048148,\n",
       " 795: 0.0001285170737660658,\n",
       " 796: 0.00012835562015580692,\n",
       " 797: 0.00012819457169889874,\n",
       " 798: 0.0001280339268722084,\n",
       " 799: 0.00012787368416022817,\n",
       " 800: 0.0001277138420550279,\n",
       " 801: 0.00012755439905620764,\n",
       " 802: 0.00012739535367085075,\n",
       " 803: 0.00012723670441347734,\n",
       " 804: 0.0001270784498059979,\n",
       " 805: 0.00012692058837766748,\n",
       " 806: 0.0001267631186650401,\n",
       " 807: 0.00012660603921192356,\n",
       " 808: 0.00012644934856933455,\n",
       " 809: 0.00012629304529545402,\n",
       " 810: 0.0001261371279555831,\n",
       " 811: 0.00012598159512209903,\n",
       " 812: 0.00012582644537441172,\n",
       " 813: 0.00012567167729892042,\n",
       " 814: 0.0001255172894889709,\n",
       " 815: 0.00012536328054481267,\n",
       " 816: 0.00012520964907355674,\n",
       " 817: 0.00012505639368913377,\n",
       " 818: 0.00012490351301225222,\n",
       " 819: 0.0001247510056703569,\n",
       " 820: 0.0001245988702975882,\n",
       " 821: 0.00012444710553474094,\n",
       " 822: 0.00012429571002922423,\n",
       " 823: 0.00012414468243502103,\n",
       " 824: 0.00012399402141264842,\n",
       " 825: 0.00012384372562911796,\n",
       " 826: 0.00012369379375789627,\n",
       " 827: 0.00012354422447886614,\n",
       " 828: 0.0001233950164782878,\n",
       " 829: 0.00012324616844876032,\n",
       " 830: 0.0001230976790891835,\n",
       " 831: 0.00012294954710472,\n",
       " 832: 0.0001228017712067576,\n",
       " 833: 0.00012265435011287192,\n",
       " 834: 0.00012250728254678932,\n",
       " 835: 0.00012236056723835008,\n",
       " 836: 0.00012221420292347167,\n",
       " 837: 0.00012206818834411267,\n",
       " 838: 0.00012192252224823666,\n",
       " 839: 0.00012177720338977629,\n",
       " 840: 0.000121632230528598,\n",
       " 841: 0.00012148760243046647,\n",
       " 842: 0.00012134331786700987,\n",
       " 843: 0.00012119937561568484,\n",
       " 844: 0.00012105577445974208,\n",
       " 845: 0.00012091251318819208,\n",
       " 846: 0.00012076959059577105,\n",
       " 847: 0.00012062700548290709,\n",
       " 848: 0.00012048475665568668,\n",
       " 849: 0.00012034284292582133,\n",
       " 850: 0.00012020126311061447,\n",
       " 851: 0.00012006001603292867,\n",
       " 852: 0.00011991910052115295,\n",
       " 853: 0.00011977851540917034,\n",
       " 854: 0.00011963825953632588,\n",
       " 855: 0.00011949833174739452,\n",
       " 856: 0.00011935873089254942,\n",
       " 857: 0.00011921945582733058,\n",
       " 858: 0.00011908050541261342,\n",
       " 859: 0.00011894187851457777,\n",
       " 860: 0.0001188035740046771,\n",
       " 861: 0.0001186655907596078,\n",
       " 862: 0.00011852792766127878,\n",
       " 863: 0.00011839058359678136,\n",
       " 864: 0.00011825355745835914,\n",
       " 865: 0.0001181168481433784,\n",
       " 866: 0.00011798045455429827,\n",
       " 867: 0.00011784437559864166,\n",
       " 868: 0.0001177086101889658,\n",
       " 869: 0.0001175731572428335,\n",
       " 870: 0.00011743801568278426,\n",
       " 871: 0.00011730318443630576,\n",
       " 872: 0.0001171686624358054,\n",
       " 873: 0.00011703444861858226,\n",
       " 874: 0.00011690054192679898,\n",
       " 875: 0.00011676694130745407,\n",
       " 876: 0.00011663364571235422,\n",
       " 877: 0.00011650065409808701,\n",
       " 878: 0.00011636796542599351,\n",
       " 879: 0.00011623557866214141,\n",
       " 880: 0.00011610349277729808,\n",
       " 881: 0.00011597170674690387,\n",
       " 882: 0.00011584021955104571,\n",
       " 883: 0.00011570903017443072,\n",
       " 884: 0.00011557813760636009,\n",
       " 885: 0.00011544754084070318,\n",
       " 886: 0.00011531723887587167,\n",
       " 887: 0.00011518723071479402,\n",
       " 888: 0.00011505751536488998,\n",
       " 889: 0.00011492809183804536,\n",
       " 890: 0.00011479895915058687,\n",
       " 891: 0.00011467011632325737,\n",
       " 892: 0.00011454156238119093,\n",
       " 893: 0.00011441329635388836,\n",
       " 894: 0.00011428531727519274,\n",
       " 895: 0.00011415762418326514,\n",
       " 896: 0.0001140302161205606,\n",
       " 897: 0.00011390309213380414,\n",
       " 898: 0.00011377625127396693,\n",
       " 899: 0.00011364969259624283,\n",
       " 900: 0.00011352341516002478,\n",
       " 901: 0.00011339741802888158,\n",
       " 902: 0.00011327170027053471,\n",
       " 903: 0.00011314626095683533,\n",
       " 904: 0.0001130210991637415,\n",
       " 905: 0.00011289621397129538,\n",
       " 906: 0.00011277160446360078,\n",
       " 907: 0.00011264726972880078,\n",
       " 908: 0.00011252320885905542,\n",
       " 909: 0.00011239942095051959,\n",
       " 910: 0.00011227590510332122,\n",
       " 911: 0.00011215266042153931,\n",
       " 912: 0.00011202968601318236,\n",
       " 913: 0.00011190698099016682,\n",
       " 914: 0.00011178454446829574,\n",
       " 915: 0.0001116623755672375,\n",
       " 916: 0.0001115404734105047,\n",
       " 917: 0.00011141883712543327,\n",
       " 918: 0.00011129746584316157,\n",
       " 919: 0.0001111763586986097,\n",
       " 920: 0.00011105551483045904,\n",
       " 921: 0.00011093493338113172,\n",
       " 922: 0.00011081461349677041,\n",
       " 923: 0.0001106945543272181,\n",
       " 924: 0.00011057475502599817,\n",
       " 925: 0.0001104552147502944,\n",
       " 926: 0.00011033593266093123,\n",
       " 927: 0.00011021690792235415,\n",
       " 928: 0.00011009813970261024,\n",
       " 929: 0.00010997962717332864,\n",
       " 930: 0.00010986136950970141,\n",
       " 931: 0.00010974336589046435,\n",
       " 932: 0.00010962561549787802,\n",
       " 933: 0.0001095081175177088,\n",
       " 934: 0.00010939087113921019,\n",
       " 935: 0.00010927387555510408,\n",
       " 936: 0.0001091571299615623,\n",
       " 937: 0.00010904063355818817,\n",
       " 938: 0.00010892438554799819,\n",
       " 939: 0.00010880838513740396,\n",
       " 940: 0.00010869263153619395,\n",
       " 941: 0.00010857712395751573,\n",
       " 942: 0.00010846186161785808,\n",
       " 943: 0.00010834684373703321,\n",
       " 944: 0.00010823206953815922,\n",
       " 945: 0.00010811753824764266,\n",
       " 946: 0.000108003249095161,\n",
       " 947: 0.00010788920131364552,\n",
       " 948: 0.00010777539413926404,\n",
       " 949: 0.0001076618268114039,\n",
       " 950: 0.00010754849857265507,\n",
       " 951: 0.00010743540866879317,\n",
       " 952: 0.00010732255634876293,\n",
       " 953: 0.0001072099408646614,\n",
       " 954: 0.0001070975614717215,\n",
       " 955: 0.00010698541742829562,\n",
       " 956: 0.00010687350799583923,\n",
       " 957: 0.0001067618324388948,\n",
       " 958: 0.00010665039002507547,\n",
       " 959: 0.00010653918002504933,\n",
       " 960: 0.00010642820171252324,\n",
       " 961: 0.00010631745436422718,\n",
       " 962: 0.00010620693725989846,\n",
       " 963: 0.00010609664968226615,\n",
       " 964: 0.0001059865909170356,\n",
       " 965: 0.00010587676025287285,\n",
       " 966: 0.00010576715698138956,\n",
       " 967: 0.00010565778039712753,\n",
       " 968: 0.0001055486297975437,\n",
       " 969: 0.00010543970448299515,\n",
       " 970: 0.00010533100375672403,\n",
       " 971: 0.00010522252692484275,\n",
       " 972: 0.00010511427329631926,\n",
       " 973: 0.0001050062421829623,\n",
       " 974: 0.0001048984328994069,\n",
       " 975: 0.00010479084476309981,\n",
       " 976: 0.00010468347709428515,\n",
       " 977: 0.00010457632921599008,\n",
       " 978: 0.00010446940045401055,\n",
       " 979: 0.00010436269013689715,\n",
       " 980: 0.00010425619759594114,\n",
       " 981: 0.00010414992216516036,\n",
       " 982: 0.00010404386318128543,\n",
       " 983: 0.00010393801998374599,\n",
       " 984: 0.00010383239191465683,\n",
       " 985: 0.00010372697831880437,\n",
       " 986: 0.00010362177854363317,\n",
       " 987: 0.00010351679193923233,\n",
       " 988: 0.00010341201785832218,\n",
       " 989: 0.00010330745565624096,\n",
       " 990: 0.00010320310469093163,\n",
       " 991: 0.00010309896432292867,\n",
       " 992: 0.00010299503391534507,\n",
       " 993: 0.00010289131283385932,\n",
       " 994: 0.00010278780044670254,\n",
       " 995: 0.00010268449612464555,\n",
       " 996: 0.00010258139924098624,\n",
       " 997: 0.00010247850917153693,\n",
       " 998: 0.00010237582529461152,\n",
       " 999: 0.00010227334699101332,\n",
       " 1000: 0.00010217107364402231,\n",
       " ...}"
      ]
     },
     "execution_count": 19,
     "metadata": {},
     "output_type": "execute_result"
    }
   ],
   "source": [
    "predicted_freqByRank = {rank:predicted_freq(rank) for rank in ranks}\n",
    "predicted_freqByRank"
   ]
  },
  {
   "cell_type": "code",
   "execution_count": 20,
   "metadata": {
    "ExecuteTime": {
     "end_time": "2017-05-12T17:37:23.485351Z",
     "start_time": "2017-05-12T17:37:23.466117Z"
    },
    "collapsed": false,
    "run_control": {
     "frozen": false,
     "read_only": false
    }
   },
   "outputs": [
    {
     "data": {
      "text/html": [
       "<div>\n",
       "<style>\n",
       "    .dataframe thead tr:only-child th {\n",
       "        text-align: right;\n",
       "    }\n",
       "\n",
       "    .dataframe thead th {\n",
       "        text-align: left;\n",
       "    }\n",
       "\n",
       "    .dataframe tbody tr th {\n",
       "        vertical-align: top;\n",
       "    }\n",
       "</style>\n",
       "<table border=\"1\" class=\"dataframe\">\n",
       "  <thead>\n",
       "    <tr style=\"text-align: right;\">\n",
       "      <th></th>\n",
       "      <th>Frequency</th>\n",
       "      <th>Rank</th>\n",
       "    </tr>\n",
       "  </thead>\n",
       "  <tbody>\n",
       "    <tr>\n",
       "      <th>0</th>\n",
       "      <td>0.102171</td>\n",
       "      <td>1</td>\n",
       "    </tr>\n",
       "    <tr>\n",
       "      <th>1</th>\n",
       "      <td>0.051086</td>\n",
       "      <td>2</td>\n",
       "    </tr>\n",
       "    <tr>\n",
       "      <th>2</th>\n",
       "      <td>0.034057</td>\n",
       "      <td>3</td>\n",
       "    </tr>\n",
       "    <tr>\n",
       "      <th>3</th>\n",
       "      <td>0.025543</td>\n",
       "      <td>4</td>\n",
       "    </tr>\n",
       "    <tr>\n",
       "      <th>4</th>\n",
       "      <td>0.020434</td>\n",
       "      <td>5</td>\n",
       "    </tr>\n",
       "  </tbody>\n",
       "</table>\n",
       "</div>"
      ],
      "text/plain": [
       "   Frequency  Rank\n",
       "0   0.102171     1\n",
       "1   0.051086     2\n",
       "2   0.034057     3\n",
       "3   0.025543     4\n",
       "4   0.020434     5"
      ]
     },
     "execution_count": 20,
     "metadata": {},
     "output_type": "execute_result"
    }
   ],
   "source": [
    "predicted_freqByRank_df = pd.DataFrame({'Rank':list(predicted_freqByRank.keys()), 'Frequency':list(predicted_freqByRank.values())})\n",
    "predicted_freqByRank_df.sort_values(by = 'Rank').head()"
   ]
  },
  {
   "cell_type": "code",
   "execution_count": 21,
   "metadata": {
    "ExecuteTime": {
     "end_time": "2017-05-12T17:37:25.347208Z",
     "start_time": "2017-05-12T17:37:23.489182Z"
    },
    "collapsed": false,
    "run_control": {
     "frozen": false,
     "read_only": false
    }
   },
   "outputs": [
    {
     "data": {
      "image/png": "[encoded data removed]",
      "text/plain": [
       "<matplotlib.figure.Figure at 0x136e778d0>"
      ]
     },
     "metadata": {},
     "output_type": "display_data"
    },
    {
     "data": {
      "text/plain": [
       "<ggplot: (-9223372036528768007)>"
      ]
     },
     "execution_count": 21,
     "metadata": {},
     "output_type": "execute_result"
    },
    {
     "data": {
      "image/png": "[encoded data removed]",
      "text/plain": [
       "<matplotlib.figure.Figure at 0x136e7be80>"
      ]
     },
     "metadata": {},
     "output_type": "display_data"
    },
    {
     "data": {
      "text/plain": [
       "<ggplot: (-9223372036528341984)>"
      ]
     },
     "execution_count": 21,
     "metadata": {},
     "output_type": "execute_result"
    }
   ],
   "source": [
    " ggplot(predicted_freqByRank_df, aes(x = 'Rank', y = 'Frequency')) + \\\n",
    "    geom_point(color='red') + \\\n",
    "    ggtitle(\"Frequency as a function of rank in the top 10k most frequent words, as predicted by a power law\")\n",
    "\n",
    " ggplot(predicted_freqByRank_df, aes(x = 'Rank', y = 'Frequency')) + \\\n",
    "    geom_point(color='red') + \\\n",
    "    ggtitle(\"Frequency as a function of rank in the top 10k most frequent words, as predicted by a power law\") + \\\n",
    "    scale_x_log()"
   ]
  },
  {
   "cell_type": "markdown",
   "metadata": {
    "run_control": {
     "frozen": false,
     "read_only": false
    }
   },
   "source": [
    "Let's try to compare these two distributions (predicted vs. actual) by overlaying the same datapoints on a single plot."
   ]
  },
  {
   "cell_type": "markdown",
   "metadata": {
    "run_control": {
     "frozen": false,
     "read_only": false
    }
   },
   "source": [
    "We'll start by making our data comparable -- i.e. transforming our Brown counts to relative frequencies:"
   ]
  },
  {
   "cell_type": "code",
   "execution_count": 22,
   "metadata": {
    "ExecuteTime": {
     "end_time": "2017-05-12T17:37:25.389901Z",
     "start_time": "2017-05-12T17:37:25.350236Z"
    },
    "collapsed": false,
    "run_control": {
     "frozen": false,
     "read_only": false
    }
   },
   "outputs": [
    {
     "data": {
      "text/plain": [
       "1078467"
      ]
     },
     "execution_count": 22,
     "metadata": {},
     "output_type": "execute_result"
    },
    {
     "data": {
      "text/plain": [
       "{1: 0.06488005659885746,\n",
       " 2: 0.05408974034439626,\n",
       " 3: 0.04575568839843964,\n",
       " 4: 0.03376273914732671,\n",
       " 5: 0.026753716154504496,\n",
       " 6: 0.024254798709649902,\n",
       " 7: 0.021507380383451697,\n",
       " 8: 0.0197845645717486,\n",
       " 9: 0.009823202749829155,\n",
       " 10: 0.009373490333964785,\n",
       " 11: 0.009100881158162466,\n",
       " 12: 0.00885330751891342,\n",
       " 13: 0.008798600235334044,\n",
       " 14: 0.0081940383896772,\n",
       " 15: 0.008149530769138045,\n",
       " 16: 0.00812264074839564,\n",
       " 17: 0.006758667627289477,\n",
       " 18: 0.006725286911885111,\n",
       " 19: 0.006486985693581723,\n",
       " 20: 0.006250538959467466,\n",
       " 21: 0.005913022837045547,\n",
       " 22: 0.005161029498352754,\n",
       " 23: 0.004981144532007006,\n",
       " 24: 0.004919946553765669,\n",
       " 25: 0.004788278176337338,\n",
       " 26: 0.00477066057654059,\n",
       " 27: 0.0047595336714058014,\n",
       " 28: 0.0043515471497968874,\n",
       " 29: 0.004274586055947933,\n",
       " 30: 0.0040743017635217395,\n",
       " 31: 0.004062247616292386,\n",
       " 32: 0.0040520479532521626,\n",
       " 33: 0.0038999802497433856,\n",
       " 34: 0.0036551883367780375,\n",
       " 35: 0.0034678854336757637,\n",
       " 36: 0.0033566163823278783,\n",
       " 37: 0.003301909098748501,\n",
       " 38: 0.0031822948685495244,\n",
       " 39: 0.003052480975310325,\n",
       " 40: 0.0030469175227429307,\n",
       " 41: 0.0030450630385537992,\n",
       " 42: 0.0028151069991015024,\n",
       " 43: 0.0027826535257917027,\n",
       " 44: 0.002651912390457937,\n",
       " 45: 0.002529516433975263,\n",
       " 46: 0.0025165350446513433,\n",
       " 47: 0.002474809150395886,\n",
       " 48: 0.002459046034788269,\n",
       " 49: 0.0024284470456676006,\n",
       " 50: 0.0022921424577664407,\n",
       " 51: 0.0022865790051990464,\n",
       " 52: 0.002259688984456641,\n",
       " 53: 0.0022578345002675095,\n",
       " 54: 0.0021614013224326755,\n",
       " 55: 0.002088149196961984,\n",
       " 56: 0.002081658502300024,\n",
       " 57: 0.0020538412394630525,\n",
       " 58: 0.0020380781238554355,\n",
       " 59: 0.0019833708402760587,\n",
       " 60: 0.0019444266723042986,\n",
       " 61: 0.0018405755577129389,\n",
       " 62: 0.0018183217474433617,\n",
       " 63: 0.001769177916431379,\n",
       " 64: 0.0017524875587291962,\n",
       " 65: 0.0017228158117030933,\n",
       " 66: 0.0016829444016367677,\n",
       " 67: 0.0016643995597454535,\n",
       " 68: 0.0016606905913671907,\n",
       " 69: 0.001659763349272625,\n",
       " 70: 0.0016579088650834936,\n",
       " 71: 0.001643072991570442,\n",
       " 72: 0.001620819181300865,\n",
       " 73: 0.0015781660449508423,\n",
       " 74: 0.0015160408246149394,\n",
       " 75: 0.0015002777090073224,\n",
       " 76: 0.0014845145933997054,\n",
       " 77: 0.0014817328671160083,\n",
       " 78: 0.0014798783829268768,\n",
       " 79: 0.0014585518147518654,\n",
       " 80: 0.0013092658375267858,\n",
       " 81: 0.0012999934165811287,\n",
       " 82: 0.001279594090500683,\n",
       " 83: 0.0012638309748930659,\n",
       " 84: 0.0012619764907039345,\n",
       " 85: 0.0012462133750963172,\n",
       " 86: 0.0012221050806376088,\n",
       " 87: 0.001218396112259346,\n",
       " 88: 0.001208196449219123,\n",
       " 89: 0.0011979967861789002,\n",
       " 90: 0.0011609071023962717,\n",
       " 91: 0.0011460712288832203,\n",
       " 92: 0.0011191812081408146,\n",
       " 93: 0.0010950729136821062,\n",
       " 94: 0.0010848732506418834,\n",
       " 95: 0.0010746735876016604,\n",
       " 96: 0.0010431473563864264,\n",
       " 97: 0.0009912217990907465,\n",
       " 98: 0.0009912217990907465,\n",
       " 99: 0.0009680407467266036,\n",
       " 100: 0.0009550593574026836,\n",
       " 101: 0.0009420779680787637,\n",
       " 102: 0.0009392962417950666,\n",
       " 103: 0.0009235331261874494,\n",
       " 104: 0.0009003520738233066,\n",
       " 105: 0.0008957158633504781,\n",
       " 106: 0.0008808799898374266,\n",
       " 107: 0.0008688258426080723,\n",
       " 108: 0.0008688258426080723,\n",
       " 109: 0.0008558444532841524,\n",
       " 110: 0.0008419358218656667,\n",
       " 111: 0.0008317361588254439,\n",
       " 112: 0.0008298816746363125,\n",
       " 113: 0.0008233909799743524,\n",
       " 114: 0.0008187547695015239,\n",
       " 115: 0.0008131913169341297,\n",
       " 116: 0.0008085551064613011,\n",
       " 117: 0.0007881557803808554,\n",
       " 118: 0.0007853740540971583,\n",
       " 119: 0.0007825923278134612,\n",
       " 120: 0.000773319906867804,\n",
       " 121: 0.000773319906867804,\n",
       " 122: 0.0007705381805841069,\n",
       " 123: 0.0007482843703145298,\n",
       " 124: 0.0007473571282199641,\n",
       " 125: 0.000738084707274307,\n",
       " 126: 0.0007362302230851755,\n",
       " 127: 0.0007297395284232155,\n",
       " 128: 0.000725103317950387,\n",
       " 129: 0.0007158308970047299,\n",
       " 130: 0.0007158308970047299,\n",
       " 131: 0.0007074857181536384,\n",
       " 132: 0.0007065584760590727,\n",
       " 133: 0.0006972860551134157,\n",
       " 134: 0.0006954315709242842,\n",
       " 135: 0.0006945043288297185,\n",
       " 136: 0.00067688672903297,\n",
       " 137: 0.00067688672903297,\n",
       " 138: 0.0006629780976144843,\n",
       " 139: 0.0006601963713307871,\n",
       " 140: 0.0006555601608579586,\n",
       " 141: 0.0006462877399123014,\n",
       " 142: 0.0006370153189666443,\n",
       " 143: 0.0006360880768720786,\n",
       " 144: 0.0006342335926829472,\n",
       " 145: 0.0006333063505883815,\n",
       " 146: 0.0006305246243046844,\n",
       " 147: 0.0006268156559264214,\n",
       " 148: 0.0006258884138318557,\n",
       " 149: 0.0006231066875481586,\n",
       " 150: 0.0006166159928861987,\n",
       " 151: 0.0006129070245079358,\n",
       " 152: 0.0006101252982242387,\n",
       " 153: 0.0005925076984274901,\n",
       " 154: 0.0005841625195763988,\n",
       " 155: 0.0005823080353872672,\n",
       " 156: 0.0005813807932927015,\n",
       " 157: 0.0005804535511981358,\n",
       " 158: 0.000576744582819873,\n",
       " 159: 0.0005683994039687816,\n",
       " 160: 0.0005665449197796502,\n",
       " 161: 0.0005656176776850845,\n",
       " 162: 0.0005656176776850845,\n",
       " 163: 0.0005591269830231244,\n",
       " 164: 0.0005591269830231244,\n",
       " 165: 0.000557272498833993,\n",
       " 166: 0.000548000077888336,\n",
       " 167: 0.000548000077888336,\n",
       " 168: 0.0005424366253209417,\n",
       " 169: 0.0005405821411318103,\n",
       " 170: 0.0005350186885644159,\n",
       " 171: 0.000528527993902456,\n",
       " 172: 0.0005276007518078903,\n",
       " 173: 0.0005211100571459303,\n",
       " 174: 0.0005118376362002731,\n",
       " 175: 0.0005072014257274446,\n",
       " 176: 0.0005025652152546161,\n",
       " 177: 0.0004970017626872218,\n",
       " 178: 0.0004951472784980903,\n",
       " 179: 0.0004886565838361303,\n",
       " 180: 0.00047938416289047326,\n",
       " 181: 0.00047011174194481613,\n",
       " 182: 0.00046733001566111895,\n",
       " 183: 0.0004636210472828561,\n",
       " 184: 0.0004626938051882904,\n",
       " 185: 0.0004617665630937247,\n",
       " 186: 0.000460839320999159,\n",
       " 187: 0.0004589848368100276,\n",
       " 188: 0.00045713035262089617,\n",
       " 189: 0.0004552758684317647,\n",
       " 190: 0.0004534213842426333,\n",
       " 191: 0.00044971241586437045,\n",
       " 192: 0.00044693068958067333,\n",
       " 193: 0.00044693068958067333,\n",
       " 194: 0.00044507620539154186,\n",
       " 195: 0.0004376582686350162,\n",
       " 196: 0.0004311675739730562,\n",
       " 197: 0.0004302403318784905,\n",
       " 198: 0.00042745860559479336,\n",
       " 199: 0.00042467687931109624,\n",
       " 200: 0.00042282239512196477,\n",
       " 201: 0.0004172589425545705,\n",
       " 202: 0.0004144772162708734,\n",
       " 203: 0.0004135499741763077,\n",
       " 204: 0.00041262273208174193,\n",
       " 205: 0.0004079865216089134,\n",
       " 206: 0.000406132037419782,\n",
       " 207: 0.00040520479532521627,\n",
       " 208: 0.00040520479532521627,\n",
       " 209: 0.0004014958269469534,\n",
       " 210: 0.0004005685848523877,\n",
       " 211: 0.00039964134275782197,\n",
       " 212: 0.00039871410066325626,\n",
       " 213: 0.00039500513228499343,\n",
       " 214: 0.00039500513228499343,\n",
       " 215: 0.000393150648095862,\n",
       " 216: 0.0003885144376230334,\n",
       " 217: 0.0003875871955284677,\n",
       " 218: 0.0003857327113393363,\n",
       " 219: 0.0003838782271502049,\n",
       " 220: 0.0003838782271502049,\n",
       " 221: 0.0003829509850556392,\n",
       " 222: 0.00038109650086650776,\n",
       " 223: 0.00038109650086650776,\n",
       " 224: 0.0003792420166773763,\n",
       " 225: 0.00037460580620454775,\n",
       " 226: 0.00037182407992085063,\n",
       " 227: 0.00037182407992085063,\n",
       " 228: 0.00037182407992085063,\n",
       " 229: 0.0003708968378262849,\n",
       " 230: 0.0003699695957317192,\n",
       " 231: 0.0003699695957317192,\n",
       " 232: 0.0003690423536371535,\n",
       " 233: 0.00036811511154258774,\n",
       " 234: 0.00036626062735345633,\n",
       " 235: 0.00036626062735345633,\n",
       " 236: 0.0003653333852588906,\n",
       " 237: 0.0003653333852588906,\n",
       " 238: 0.0003644061431643249,\n",
       " 239: 0.0003644061431643249,\n",
       " 240: 0.0003616244168806278,\n",
       " 241: 0.0003606971747860621,\n",
       " 242: 0.00035791544850236496,\n",
       " 243: 0.0003569882064077992,\n",
       " 244: 0.0003560609643132335,\n",
       " 245: 0.0003560609643132335,\n",
       " 246: 0.0003560609643132335,\n",
       " 247: 0.0003542064801241021,\n",
       " 248: 0.00035327923802953637,\n",
       " 249: 0.00035235199593497066,\n",
       " 250: 0.00034957026965127353,\n",
       " 251: 0.00034957026965127353,\n",
       " 252: 0.00034957026965127353,\n",
       " 253: 0.0003486430275567078,\n",
       " 254: 0.0003477157854621421,\n",
       " 255: 0.00034678854336757636,\n",
       " 256: 0.00034586130127301065,\n",
       " 257: 0.00034586130127301065,\n",
       " 258: 0.00034400681708387923,\n",
       " 259: 0.00034400681708387923,\n",
       " 260: 0.0003430795749893135,\n",
       " 261: 0.0003430795749893135,\n",
       " 262: 0.0003421523328947478,\n",
       " 263: 0.0003421523328947478,\n",
       " 264: 0.0003412250908001821,\n",
       " 265: 0.0003402978487056164,\n",
       " 266: 0.0003393706066110507,\n",
       " 267: 0.000338443364516485,\n",
       " 268: 0.0003356616382327878,\n",
       " 269: 0.0003356616382327878,\n",
       " 270: 0.0003347343961382221,\n",
       " 271: 0.0003338071540436564,\n",
       " 272: 0.0003338071540436564,\n",
       " 273: 0.0003338071540436564,\n",
       " 274: 0.0003328799119490907,\n",
       " 275: 0.0003328799119490907,\n",
       " 276: 0.00033102542775995927,\n",
       " 277: 0.00032917094357082786,\n",
       " 278: 0.00032917094357082786,\n",
       " 279: 0.00032638921728713073,\n",
       " 280: 0.000325461975192565,\n",
       " 281: 0.00032268024890886785,\n",
       " 282: 0.000318971280530605,\n",
       " 283: 0.0003180440384360393,\n",
       " 284: 0.0003171167963414736,\n",
       " 285: 0.0003096988595849479,\n",
       " 286: 0.0003087716174903822,\n",
       " 287: 0.0003087716174903822,\n",
       " 288: 0.0003087716174903822,\n",
       " 289: 0.00030691713330125076,\n",
       " 290: 0.00030598989120668506,\n",
       " 291: 0.00030413540701755364,\n",
       " 292: 0.00030135368073385646,\n",
       " 293: 0.00030135368073385646,\n",
       " 294: 0.00030042643863929076,\n",
       " 295: 0.00030042643863929076,\n",
       " 296: 0.00029949919654472505,\n",
       " 297: 0.00029764471235559363,\n",
       " 298: 0.0002967174702610279,\n",
       " 299: 0.0002957902281664622,\n",
       " 300: 0.0002948629860718965,\n",
       " 301: 0.0002939357439773308,\n",
       " 302: 0.0002930085018827651,\n",
       " 303: 0.0002920812597881994,\n",
       " 304: 0.0002902267755990679,\n",
       " 305: 0.0002902267755990679,\n",
       " 306: 0.0002902267755990679,\n",
       " 307: 0.0002892995335045022,\n",
       " 308: 0.0002892995335045022,\n",
       " 309: 0.0002892995335045022,\n",
       " 310: 0.0002892995335045022,\n",
       " 311: 0.0002883722914099365,\n",
       " 312: 0.0002883722914099365,\n",
       " 313: 0.0002874450493153708,\n",
       " 314: 0.0002865178072208051,\n",
       " 315: 0.0002855905651262394,\n",
       " 316: 0.00028466332303167367,\n",
       " 317: 0.00028188159674797655,\n",
       " 318: 0.0002800271125588451,\n",
       " 319: 0.0002800271125588451,\n",
       " 320: 0.00027817262836971366,\n",
       " 321: 0.00027724538627514796,\n",
       " 322: 0.00027724538627514796,\n",
       " 323: 0.00027631814418058225,\n",
       " 324: 0.00027446365999145083,\n",
       " 325: 0.0002726091758023194,\n",
       " 326: 0.000270754691613188,\n",
       " 327: 0.0002698274495186223,\n",
       " 328: 0.00026890020742405653,\n",
       " 329: 0.0002679729653294908,\n",
       " 330: 0.0002670457232349251,\n",
       " 331: 0.0002670457232349251,\n",
       " 332: 0.0002661184811403594,\n",
       " 333: 0.0002651912390457937,\n",
       " 334: 0.0002651912390457937,\n",
       " 335: 0.0002651912390457937,\n",
       " 336: 0.000264263996951228,\n",
       " 337: 0.0002633367548566623,\n",
       " 338: 0.0002633367548566623,\n",
       " 339: 0.0002624095127620966,\n",
       " 340: 0.0002624095127620966,\n",
       " 341: 0.00026148227066753087,\n",
       " 342: 0.00026055502857296516,\n",
       " 343: 0.00026055502857296516,\n",
       " 344: 0.00026055502857296516,\n",
       " 345: 0.00025962778647839945,\n",
       " 346: 0.0002587005443838337,\n",
       " 347: 0.0002587005443838337,\n",
       " 348: 0.0002568460601947023,\n",
       " 349: 0.00025591881810013657,\n",
       " 350: 0.00025591881810013657,\n",
       " 351: 0.00025499157600557086,\n",
       " 352: 0.00025499157600557086,\n",
       " 353: 0.00025499157600557086,\n",
       " 354: 0.00025406433391100515,\n",
       " 355: 0.00025406433391100515,\n",
       " 356: 0.00025406433391100515,\n",
       " 357: 0.00025406433391100515,\n",
       " 358: 0.00025313709181643945,\n",
       " 359: 0.0002503553655327423,\n",
       " 360: 0.0002494281234381766,\n",
       " 361: 0.0002494281234381766,\n",
       " 362: 0.0002485008813436109,\n",
       " 363: 0.0002485008813436109,\n",
       " 364: 0.00024757363924904515,\n",
       " 365: 0.00024757363924904515,\n",
       " 366: 0.00024571915505991373,\n",
       " 367: 0.00024571915505991373,\n",
       " 368: 0.000244791912965348,\n",
       " 369: 0.000244791912965348,\n",
       " 370: 0.00024386467087078232,\n",
       " 371: 0.0002420101866816509,\n",
       " 372: 0.00024015570249251948,\n",
       " 373: 0.00024015570249251948,\n",
       " 374: 0.00023922846039795375,\n",
       " 375: 0.00023922846039795375,\n",
       " 376: 0.00023922846039795375,\n",
       " 377: 0.00023922846039795375,\n",
       " 378: 0.00023830121830338804,\n",
       " 379: 0.00023830121830338804,\n",
       " 380: 0.00023644673411425663,\n",
       " 381: 0.00023644673411425663,\n",
       " 382: 0.0002345922499251252,\n",
       " 383: 0.0002345922499251252,\n",
       " 384: 0.00023273776573599377,\n",
       " 385: 0.00023181052364142806,\n",
       " 386: 0.00022902879735773094,\n",
       " 387: 0.00022902879735773094,\n",
       " 388: 0.00022902879735773094,\n",
       " 389: 0.0002281015552631652,\n",
       " 390: 0.0002281015552631652,\n",
       " 391: 0.0002281015552631652,\n",
       " 392: 0.0002281015552631652,\n",
       " 393: 0.0002281015552631652,\n",
       " 394: 0.0002271743131685995,\n",
       " 395: 0.0002271743131685995,\n",
       " 396: 0.0002262470710740338,\n",
       " 397: 0.0002262470710740338,\n",
       " 398: 0.00022531982897946808,\n",
       " 399: 0.00022439258688490237,\n",
       " 400: 0.00022346534479033667,\n",
       " 401: 0.00022346534479033667,\n",
       " 402: 0.00022253810269577093,\n",
       " 403: 0.00022253810269577093,\n",
       " 404: 0.00022161086060120522,\n",
       " 405: 0.00022161086060120522,\n",
       " 406: 0.00022068361850663951,\n",
       " 407: 0.0002197563764120738,\n",
       " 408: 0.0002197563764120738,\n",
       " 409: 0.0002188291343175081,\n",
       " 410: 0.0002179018922229424,\n",
       " 411: 0.00021697465012837666,\n",
       " 412: 0.00021604740803381095,\n",
       " 413: 0.00021419292384467953,\n",
       " 414: 0.00021419292384467953,\n",
       " 415: 0.00021419292384467953,\n",
       " 416: 0.00021326568175011383,\n",
       " 417: 0.00021326568175011383,\n",
       " 418: 0.00021326568175011383,\n",
       " 419: 0.00021233843965554812,\n",
       " 420: 0.00021233843965554812,\n",
       " 421: 0.00021141119756098238,\n",
       " 422: 0.00021048395546641668,\n",
       " 423: 0.00021048395546641668,\n",
       " 424: 0.00020955671337185097,\n",
       " 425: 0.00020955671337185097,\n",
       " 426: 0.00020862947127728526,\n",
       " 427: 0.00020770222918271955,\n",
       " 428: 0.00020770222918271955,\n",
       " 429: 0.00020677498708815385,\n",
       " 430: 0.00020677498708815385,\n",
       " 431: 0.0002058477449935881,\n",
       " 432: 0.0002058477449935881,\n",
       " 433: 0.0002049205028990224,\n",
       " 434: 0.0002049205028990224,\n",
       " 435: 0.0002049205028990224,\n",
       " 436: 0.0002039932608044567,\n",
       " 437: 0.0002039932608044567,\n",
       " 438: 0.000203066018709891,\n",
       " 439: 0.00020213877661532528,\n",
       " 440: 0.00020213877661532528,\n",
       " 441: 0.00020028429242619384,\n",
       " 442: 0.00020028429242619384,\n",
       " 443: 0.00020028429242619384,\n",
       " 444: 0.00020028429242619384,\n",
       " 445: 0.00020028429242619384,\n",
       " 446: 0.00020028429242619384,\n",
       " 447: 0.00019842980823706242,\n",
       " 448: 0.00019842980823706242,\n",
       " 449: 0.00019750256614249671,\n",
       " 450: 0.00019750256614249671,\n",
       " 451: 0.00019750256614249671,\n",
       " 452: 0.00019750256614249671,\n",
       " 453: 0.000196575324047931,\n",
       " 454: 0.000196575324047931,\n",
       " 455: 0.000196575324047931,\n",
       " 456: 0.000196575324047931,\n",
       " 457: 0.000196575324047931,\n",
       " 458: 0.0001956480819533653,\n",
       " 459: 0.0001956480819533653,\n",
       " 460: 0.00019472083985879956,\n",
       " 461: 0.00019379359776423386,\n",
       " 462: 0.00019379359776423386,\n",
       " 463: 0.00019286635566966815,\n",
       " 464: 0.00019193911357510244,\n",
       " 465: 0.00019193911357510244,\n",
       " 466: 0.00019101187148053673,\n",
       " 467: 0.00019101187148053673,\n",
       " 468: 0.00019101187148053673,\n",
       " 469: 0.00019101187148053673,\n",
       " 470: 0.00019008462938597103,\n",
       " 471: 0.00019008462938597103,\n",
       " 472: 0.00019008462938597103,\n",
       " 473: 0.0001891573872914053,\n",
       " 474: 0.0001891573872914053,\n",
       " 475: 0.0001891573872914053,\n",
       " 476: 0.0001891573872914053,\n",
       " 477: 0.00018823014519683958,\n",
       " 478: 0.00018730290310227388,\n",
       " 479: 0.00018730290310227388,\n",
       " 480: 0.00018637566100770817,\n",
       " 481: 0.00018637566100770817,\n",
       " 482: 0.00018544841891314246,\n",
       " 483: 0.00018544841891314246,\n",
       " 484: 0.00018544841891314246,\n",
       " 485: 0.00018544841891314246,\n",
       " 486: 0.00018544841891314246,\n",
       " 487: 0.00018544841891314246,\n",
       " 488: 0.00018452117681857675,\n",
       " 489: 0.00018452117681857675,\n",
       " 490: 0.00018359393472401102,\n",
       " 491: 0.00018359393472401102,\n",
       " 492: 0.00018359393472401102,\n",
       " 493: 0.00018359393472401102,\n",
       " 494: 0.00018359393472401102,\n",
       " 495: 0.0001826666926294453,\n",
       " 496: 0.0001826666926294453,\n",
       " 497: 0.0001826666926294453,\n",
       " 498: 0.0001817394505348796,\n",
       " 499: 0.0001817394505348796,\n",
       " 500: 0.0001817394505348796,\n",
       " 501: 0.0001817394505348796,\n",
       " 502: 0.0001808122084403139,\n",
       " 503: 0.0001808122084403139,\n",
       " 504: 0.0001808122084403139,\n",
       " 505: 0.0001808122084403139,\n",
       " 506: 0.0001808122084403139,\n",
       " 507: 0.0001808122084403139,\n",
       " 508: 0.0001808122084403139,\n",
       " 509: 0.0001808122084403139,\n",
       " 510: 0.0001798849663457482,\n",
       " 511: 0.0001798849663457482,\n",
       " 512: 0.0001798849663457482,\n",
       " 513: 0.00017895772425118248,\n",
       " 514: 0.00017803048215661674,\n",
       " 515: 0.00017803048215661674,\n",
       " 516: 0.00017710324006205104,\n",
       " 517: 0.00017710324006205104,\n",
       " 518: 0.00017710324006205104,\n",
       " 519: 0.00017710324006205104,\n",
       " 520: 0.00017617599796748533,\n",
       " 521: 0.00017524875587291962,\n",
       " 522: 0.00017524875587291962,\n",
       " 523: 0.0001743215137783539,\n",
       " 524: 0.0001743215137783539,\n",
       " 525: 0.00017339427168378818,\n",
       " 526: 0.00017339427168378818,\n",
       " 527: 0.00017339427168378818,\n",
       " 528: 0.00017339427168378818,\n",
       " 529: 0.00017246702958922247,\n",
       " 530: 0.00017246702958922247,\n",
       " 531: 0.00017246702958922247,\n",
       " 532: 0.00017246702958922247,\n",
       " 533: 0.00017153978749465676,\n",
       " 534: 0.00017153978749465676,\n",
       " 535: 0.00017153978749465676,\n",
       " 536: 0.00017061254540009106,\n",
       " 537: 0.00017061254540009106,\n",
       " 538: 0.00016968530330552535,\n",
       " 539: 0.00016968530330552535,\n",
       " 540: 0.00016875806121095964,\n",
       " 541: 0.00016875806121095964,\n",
       " 542: 0.00016875806121095964,\n",
       " 543: 0.00016875806121095964,\n",
       " 544: 0.0001678308191163939,\n",
       " 545: 0.0001678308191163939,\n",
       " 546: 0.0001678308191163939,\n",
       " 547: 0.0001678308191163939,\n",
       " 548: 0.0001669035770218282,\n",
       " 549: 0.0001669035770218282,\n",
       " 550: 0.0001669035770218282,\n",
       " 551: 0.0001659763349272625,\n",
       " 552: 0.0001659763349272625,\n",
       " 553: 0.0001659763349272625,\n",
       " 554: 0.0001659763349272625,\n",
       " 555: 0.00016412185073813107,\n",
       " 556: 0.00016412185073813107,\n",
       " 557: 0.00016319460864356537,\n",
       " 558: 0.00016319460864356537,\n",
       " 559: 0.00016319460864356537,\n",
       " 560: 0.00016226736654899963,\n",
       " 561: 0.00016226736654899963,\n",
       " 562: 0.00016226736654899963,\n",
       " 563: 0.00016226736654899963,\n",
       " 564: 0.00016226736654899963,\n",
       " 565: 0.00016226736654899963,\n",
       " 566: 0.00016134012445443392,\n",
       " 567: 0.00016134012445443392,\n",
       " 568: 0.00016134012445443392,\n",
       " 569: 0.00016134012445443392,\n",
       " 570: 0.00016134012445443392,\n",
       " 571: 0.00016134012445443392,\n",
       " 572: 0.00016134012445443392,\n",
       " 573: 0.00016134012445443392,\n",
       " 574: 0.00016041288235986822,\n",
       " 575: 0.00016041288235986822,\n",
       " 576: 0.00016041288235986822,\n",
       " 577: 0.00016041288235986822,\n",
       " 578: 0.00016041288235986822,\n",
       " 579: 0.00016041288235986822,\n",
       " 580: 0.00016041288235986822,\n",
       " 581: 0.0001594856402653025,\n",
       " 582: 0.0001594856402653025,\n",
       " 583: 0.0001594856402653025,\n",
       " 584: 0.0001594856402653025,\n",
       " 585: 0.0001594856402653025,\n",
       " 586: 0.0001594856402653025,\n",
       " 587: 0.0001594856402653025,\n",
       " 588: 0.0001594856402653025,\n",
       " 589: 0.0001585583981707368,\n",
       " 590: 0.0001585583981707368,\n",
       " 591: 0.0001585583981707368,\n",
       " 592: 0.0001585583981707368,\n",
       " 593: 0.0001585583981707368,\n",
       " 594: 0.0001585583981707368,\n",
       " 595: 0.0001585583981707368,\n",
       " 596: 0.0001585583981707368,\n",
       " 597: 0.0001576311560761711,\n",
       " 598: 0.0001576311560761711,\n",
       " 599: 0.00015670391398160536,\n",
       " 600: 0.00015670391398160536,\n",
       " 601: 0.00015670391398160536,\n",
       " 602: 0.00015577667188703965,\n",
       " 603: 0.00015484942979247394,\n",
       " 604: 0.00015484942979247394,\n",
       " 605: 0.00015484942979247394,\n",
       " 606: 0.00015392218769790824,\n",
       " 607: 0.00015392218769790824,\n",
       " 608: 0.00015299494560334253,\n",
       " 609: 0.00015299494560334253,\n",
       " 610: 0.00015299494560334253,\n",
       " 611: 0.00015299494560334253,\n",
       " 612: 0.00015206770350877682,\n",
       " 613: 0.00015206770350877682,\n",
       " 614: 0.00015206770350877682,\n",
       " 615: 0.00015206770350877682,\n",
       " 616: 0.00015206770350877682,\n",
       " 617: 0.00015114046141421109,\n",
       " 618: 0.00015114046141421109,\n",
       " 619: 0.00015114046141421109,\n",
       " 620: 0.00015114046141421109,\n",
       " 621: 0.00015114046141421109,\n",
       " 622: 0.00015114046141421109,\n",
       " 623: 0.00015021321931964538,\n",
       " 624: 0.00015021321931964538,\n",
       " 625: 0.00015021321931964538,\n",
       " 626: 0.00015021321931964538,\n",
       " 627: 0.00015021321931964538,\n",
       " 628: 0.00015021321931964538,\n",
       " 629: 0.00015021321931964538,\n",
       " 630: 0.00014928597722507967,\n",
       " 631: 0.00014928597722507967,\n",
       " 632: 0.00014928597722507967,\n",
       " 633: 0.00014928597722507967,\n",
       " 634: 0.00014835873513051396,\n",
       " 635: 0.00014835873513051396,\n",
       " 636: 0.00014835873513051396,\n",
       " 637: 0.00014835873513051396,\n",
       " 638: 0.00014743149303594825,\n",
       " 639: 0.00014743149303594825,\n",
       " 640: 0.00014650425094138255,\n",
       " 641: 0.00014650425094138255,\n",
       " 642: 0.00014650425094138255,\n",
       " 643: 0.0001455770088468168,\n",
       " 644: 0.0001455770088468168,\n",
       " 645: 0.0001455770088468168,\n",
       " 646: 0.0001455770088468168,\n",
       " 647: 0.0001446497667522511,\n",
       " 648: 0.0001446497667522511,\n",
       " 649: 0.0001446497667522511,\n",
       " 650: 0.0001446497667522511,\n",
       " 651: 0.0001437225246576854,\n",
       " 652: 0.0001437225246576854,\n",
       " 653: 0.0001437225246576854,\n",
       " 654: 0.0001437225246576854,\n",
       " 655: 0.0001437225246576854,\n",
       " 656: 0.0001437225246576854,\n",
       " 657: 0.0001427952825631197,\n",
       " 658: 0.0001427952825631197,\n",
       " 659: 0.0001427952825631197,\n",
       " 660: 0.0001427952825631197,\n",
       " 661: 0.0001427952825631197,\n",
       " 662: 0.00014186804046855398,\n",
       " 663: 0.00014186804046855398,\n",
       " 664: 0.00014186804046855398,\n",
       " 665: 0.00014094079837398827,\n",
       " 666: 0.00014094079837398827,\n",
       " 667: 0.00014094079837398827,\n",
       " 668: 0.00014094079837398827,\n",
       " 669: 0.00014094079837398827,\n",
       " 670: 0.00014094079837398827,\n",
       " 671: 0.00014001355627942254,\n",
       " 672: 0.00014001355627942254,\n",
       " 673: 0.00014001355627942254,\n",
       " 674: 0.00014001355627942254,\n",
       " 675: 0.00014001355627942254,\n",
       " 676: 0.00013908631418485683,\n",
       " 677: 0.00013908631418485683,\n",
       " 678: 0.00013815907209029112,\n",
       " 679: 0.00013815907209029112,\n",
       " 680: 0.00013815907209029112,\n",
       " 681: 0.00013815907209029112,\n",
       " 682: 0.00013815907209029112,\n",
       " 683: 0.00013815907209029112,\n",
       " 684: 0.00013723182999572542,\n",
       " 685: 0.00013723182999572542,\n",
       " 686: 0.00013723182999572542,\n",
       " 687: 0.00013723182999572542,\n",
       " 688: 0.00013723182999572542,\n",
       " 689: 0.00013723182999572542,\n",
       " 690: 0.0001363045879011597,\n",
       " 691: 0.0001363045879011597,\n",
       " 692: 0.0001363045879011597,\n",
       " 693: 0.0001363045879011597,\n",
       " 694: 0.000135377345806594,\n",
       " 695: 0.000135377345806594,\n",
       " 696: 0.000135377345806594,\n",
       " 697: 0.000135377345806594,\n",
       " 698: 0.00013445010371202827,\n",
       " 699: 0.00013445010371202827,\n",
       " 700: 0.00013445010371202827,\n",
       " 701: 0.00013445010371202827,\n",
       " 702: 0.00013445010371202827,\n",
       " 703: 0.00013445010371202827,\n",
       " 704: 0.00013445010371202827,\n",
       " 705: 0.00013445010371202827,\n",
       " 706: 0.00013445010371202827,\n",
       " 707: 0.00013445010371202827,\n",
       " 708: 0.00013352286161746256,\n",
       " 709: 0.00013352286161746256,\n",
       " 710: 0.00013259561952289685,\n",
       " 711: 0.00013259561952289685,\n",
       " 712: 0.00013259561952289685,\n",
       " 713: 0.00013259561952289685,\n",
       " 714: 0.00013259561952289685,\n",
       " 715: 0.00013259561952289685,\n",
       " 716: 0.00013259561952289685,\n",
       " 717: 0.00013259561952289685,\n",
       " 718: 0.00013259561952289685,\n",
       " 719: 0.00013259561952289685,\n",
       " 720: 0.00013259561952289685,\n",
       " 721: 0.00013166837742833114,\n",
       " 722: 0.00013166837742833114,\n",
       " 723: 0.00013166837742833114,\n",
       " 724: 0.00013166837742833114,\n",
       " 725: 0.00013166837742833114,\n",
       " 726: 0.00013166837742833114,\n",
       " 727: 0.00013166837742833114,\n",
       " 728: 0.00013166837742833114,\n",
       " 729: 0.00013074113533376544,\n",
       " 730: 0.00013074113533376544,\n",
       " 731: 0.00013074113533376544,\n",
       " 732: 0.00013074113533376544,\n",
       " 733: 0.00013074113533376544,\n",
       " 734: 0.00013074113533376544,\n",
       " 735: 0.00013074113533376544,\n",
       " 736: 0.00013074113533376544,\n",
       " 737: 0.00013074113533376544,\n",
       " 738: 0.00012981389323919973,\n",
       " 739: 0.00012981389323919973,\n",
       " 740: 0.00012981389323919973,\n",
       " 741: 0.00012981389323919973,\n",
       " 742: 0.00012981389323919973,\n",
       " 743: 0.00012981389323919973,\n",
       " 744: 0.000128886651144634,\n",
       " 745: 0.000128886651144634,\n",
       " 746: 0.000128886651144634,\n",
       " 747: 0.000128886651144634,\n",
       " 748: 0.000128886651144634,\n",
       " 749: 0.00012795940905006828,\n",
       " 750: 0.00012795940905006828,\n",
       " 751: 0.00012795940905006828,\n",
       " 752: 0.00012703216695550258,\n",
       " 753: 0.00012703216695550258,\n",
       " 754: 0.00012703216695550258,\n",
       " 755: 0.00012703216695550258,\n",
       " 756: 0.00012703216695550258,\n",
       " 757: 0.00012703216695550258,\n",
       " 758: 0.00012703216695550258,\n",
       " 759: 0.00012610492486093687,\n",
       " 760: 0.00012610492486093687,\n",
       " 761: 0.00012517768276637116,\n",
       " 762: 0.00012517768276637116,\n",
       " 763: 0.00012517768276637116,\n",
       " 764: 0.00012517768276637116,\n",
       " 765: 0.00012517768276637116,\n",
       " 766: 0.00012517768276637116,\n",
       " 767: 0.00012425044067180545,\n",
       " 768: 0.00012425044067180545,\n",
       " 769: 0.00012425044067180545,\n",
       " 770: 0.00012425044067180545,\n",
       " 771: 0.00012425044067180545,\n",
       " 772: 0.00012425044067180545,\n",
       " 773: 0.00012425044067180545,\n",
       " 774: 0.00012332319857723972,\n",
       " 775: 0.00012332319857723972,\n",
       " 776: 0.00012332319857723972,\n",
       " 777: 0.00012332319857723972,\n",
       " 778: 0.00012332319857723972,\n",
       " 779: 0.00012332319857723972,\n",
       " 780: 0.00012332319857723972,\n",
       " 781: 0.000122395956482674,\n",
       " 782: 0.000122395956482674,\n",
       " 783: 0.000122395956482674,\n",
       " 784: 0.000122395956482674,\n",
       " 785: 0.000122395956482674,\n",
       " 786: 0.000122395956482674,\n",
       " 787: 0.000122395956482674,\n",
       " 788: 0.0001214687143881083,\n",
       " 789: 0.0001214687143881083,\n",
       " 790: 0.0001214687143881083,\n",
       " 791: 0.0001214687143881083,\n",
       " 792: 0.0001214687143881083,\n",
       " 793: 0.0001214687143881083,\n",
       " 794: 0.0001214687143881083,\n",
       " 795: 0.0001214687143881083,\n",
       " 796: 0.0001205414722935426,\n",
       " 797: 0.0001205414722935426,\n",
       " 798: 0.0001205414722935426,\n",
       " 799: 0.0001205414722935426,\n",
       " 800: 0.0001205414722935426,\n",
       " 801: 0.0001205414722935426,\n",
       " 802: 0.00011961423019897688,\n",
       " 803: 0.00011961423019897688,\n",
       " 804: 0.00011961423019897688,\n",
       " 805: 0.00011961423019897688,\n",
       " 806: 0.00011961423019897688,\n",
       " 807: 0.00011961423019897688,\n",
       " 808: 0.00011961423019897688,\n",
       " 809: 0.00011961423019897688,\n",
       " 810: 0.00011961423019897688,\n",
       " 811: 0.00011961423019897688,\n",
       " 812: 0.00011961423019897688,\n",
       " 813: 0.00011961423019897688,\n",
       " 814: 0.00011961423019897688,\n",
       " 815: 0.00011868698810441117,\n",
       " 816: 0.00011868698810441117,\n",
       " 817: 0.00011868698810441117,\n",
       " 818: 0.00011868698810441117,\n",
       " 819: 0.00011868698810441117,\n",
       " 820: 0.00011868698810441117,\n",
       " 821: 0.00011868698810441117,\n",
       " 822: 0.00011775974600984546,\n",
       " 823: 0.00011775974600984546,\n",
       " 824: 0.00011775974600984546,\n",
       " 825: 0.00011775974600984546,\n",
       " 826: 0.00011775974600984546,\n",
       " 827: 0.00011775974600984546,\n",
       " 828: 0.00011775974600984546,\n",
       " 829: 0.00011775974600984546,\n",
       " 830: 0.00011775974600984546,\n",
       " 831: 0.00011775974600984546,\n",
       " 832: 0.00011775974600984546,\n",
       " 833: 0.00011775974600984546,\n",
       " 834: 0.00011775974600984546,\n",
       " 835: 0.00011683250391527974,\n",
       " 836: 0.00011683250391527974,\n",
       " 837: 0.00011683250391527974,\n",
       " 838: 0.00011590526182071403,\n",
       " 839: 0.00011590526182071403,\n",
       " 840: 0.00011590526182071403,\n",
       " 841: 0.00011590526182071403,\n",
       " 842: 0.00011590526182071403,\n",
       " 843: 0.00011590526182071403,\n",
       " 844: 0.00011590526182071403,\n",
       " 845: 0.00011590526182071403,\n",
       " 846: 0.00011590526182071403,\n",
       " 847: 0.00011590526182071403,\n",
       " 848: 0.00011590526182071403,\n",
       " 849: 0.00011590526182071403,\n",
       " 850: 0.00011497801972614832,\n",
       " 851: 0.00011497801972614832,\n",
       " 852: 0.00011497801972614832,\n",
       " 853: 0.00011497801972614832,\n",
       " 854: 0.0001140507776315826,\n",
       " 855: 0.0001140507776315826,\n",
       " 856: 0.0001140507776315826,\n",
       " 857: 0.0001140507776315826,\n",
       " 858: 0.0001140507776315826,\n",
       " 859: 0.0001140507776315826,\n",
       " 860: 0.0001140507776315826,\n",
       " 861: 0.0001131235355370169,\n",
       " 862: 0.0001131235355370169,\n",
       " 863: 0.0001131235355370169,\n",
       " 864: 0.0001131235355370169,\n",
       " 865: 0.0001131235355370169,\n",
       " 866: 0.0001131235355370169,\n",
       " 867: 0.0001131235355370169,\n",
       " 868: 0.0001131235355370169,\n",
       " 869: 0.00011219629344245119,\n",
       " 870: 0.00011219629344245119,\n",
       " 871: 0.00011219629344245119,\n",
       " 872: 0.00011219629344245119,\n",
       " 873: 0.00011219629344245119,\n",
       " 874: 0.00011219629344245119,\n",
       " 875: 0.00011219629344245119,\n",
       " 876: 0.00011126905134788547,\n",
       " 877: 0.00011126905134788547,\n",
       " 878: 0.00011126905134788547,\n",
       " 879: 0.00011126905134788547,\n",
       " 880: 0.00011126905134788547,\n",
       " 881: 0.00011126905134788547,\n",
       " 882: 0.00011126905134788547,\n",
       " 883: 0.00011126905134788547,\n",
       " 884: 0.00011034180925331976,\n",
       " 885: 0.00011034180925331976,\n",
       " 886: 0.00011034180925331976,\n",
       " 887: 0.00011034180925331976,\n",
       " 888: 0.00011034180925331976,\n",
       " 889: 0.00011034180925331976,\n",
       " 890: 0.00011034180925331976,\n",
       " 891: 0.00011034180925331976,\n",
       " 892: 0.00011034180925331976,\n",
       " 893: 0.00011034180925331976,\n",
       " 894: 0.00011034180925331976,\n",
       " 895: 0.00011034180925331976,\n",
       " 896: 0.00010941456715875405,\n",
       " 897: 0.00010941456715875405,\n",
       " 898: 0.00010941456715875405,\n",
       " 899: 0.00010941456715875405,\n",
       " 900: 0.00010941456715875405,\n",
       " 901: 0.00010941456715875405,\n",
       " 902: 0.00010941456715875405,\n",
       " 903: 0.00010848732506418833,\n",
       " 904: 0.00010848732506418833,\n",
       " 905: 0.00010848732506418833,\n",
       " 906: 0.00010848732506418833,\n",
       " 907: 0.00010848732506418833,\n",
       " 908: 0.00010848732506418833,\n",
       " 909: 0.00010756008296962262,\n",
       " 910: 0.00010756008296962262,\n",
       " 911: 0.00010756008296962262,\n",
       " 912: 0.00010756008296962262,\n",
       " 913: 0.00010756008296962262,\n",
       " 914: 0.00010756008296962262,\n",
       " 915: 0.00010663284087505691,\n",
       " 916: 0.00010663284087505691,\n",
       " 917: 0.00010663284087505691,\n",
       " 918: 0.00010663284087505691,\n",
       " 919: 0.00010663284087505691,\n",
       " 920: 0.00010663284087505691,\n",
       " 921: 0.00010663284087505691,\n",
       " 922: 0.00010663284087505691,\n",
       " 923: 0.00010663284087505691,\n",
       " 924: 0.00010663284087505691,\n",
       " 925: 0.00010663284087505691,\n",
       " 926: 0.00010570559878049119,\n",
       " 927: 0.00010570559878049119,\n",
       " 928: 0.00010570559878049119,\n",
       " 929: 0.00010570559878049119,\n",
       " 930: 0.00010570559878049119,\n",
       " 931: 0.00010570559878049119,\n",
       " 932: 0.00010570559878049119,\n",
       " 933: 0.00010570559878049119,\n",
       " 934: 0.00010570559878049119,\n",
       " 935: 0.00010570559878049119,\n",
       " 936: 0.00010570559878049119,\n",
       " 937: 0.00010570559878049119,\n",
       " 938: 0.00010477835668592548,\n",
       " 939: 0.00010477835668592548,\n",
       " 940: 0.00010477835668592548,\n",
       " 941: 0.00010477835668592548,\n",
       " 942: 0.00010477835668592548,\n",
       " 943: 0.00010477835668592548,\n",
       " 944: 0.00010477835668592548,\n",
       " 945: 0.00010477835668592548,\n",
       " 946: 0.00010477835668592548,\n",
       " 947: 0.00010477835668592548,\n",
       " 948: 0.00010477835668592548,\n",
       " 949: 0.00010477835668592548,\n",
       " 950: 0.00010477835668592548,\n",
       " 951: 0.00010477835668592548,\n",
       " 952: 0.00010477835668592548,\n",
       " 953: 0.00010477835668592548,\n",
       " 954: 0.00010477835668592548,\n",
       " 955: 0.00010385111459135978,\n",
       " 956: 0.00010385111459135978,\n",
       " 957: 0.00010385111459135978,\n",
       " 958: 0.00010385111459135978,\n",
       " 959: 0.00010292387249679406,\n",
       " 960: 0.00010292387249679406,\n",
       " 961: 0.00010199663040222835,\n",
       " 962: 0.00010199663040222835,\n",
       " 963: 0.00010199663040222835,\n",
       " 964: 0.00010199663040222835,\n",
       " 965: 0.00010199663040222835,\n",
       " 966: 0.00010199663040222835,\n",
       " 967: 0.00010199663040222835,\n",
       " 968: 0.00010199663040222835,\n",
       " 969: 0.00010199663040222835,\n",
       " 970: 0.00010199663040222835,\n",
       " 971: 0.00010199663040222835,\n",
       " 972: 0.00010106938830766264,\n",
       " 973: 0.00010106938830766264,\n",
       " 974: 0.00010106938830766264,\n",
       " 975: 0.00010106938830766264,\n",
       " 976: 0.00010106938830766264,\n",
       " 977: 0.00010106938830766264,\n",
       " 978: 0.00010106938830766264,\n",
       " 979: 0.00010106938830766264,\n",
       " 980: 0.00010106938830766264,\n",
       " 981: 0.00010014214621309692,\n",
       " 982: 0.00010014214621309692,\n",
       " 983: 0.00010014214621309692,\n",
       " 984: 0.00010014214621309692,\n",
       " 985: 0.00010014214621309692,\n",
       " 986: 0.00010014214621309692,\n",
       " 987: 0.00010014214621309692,\n",
       " 988: 0.00010014214621309692,\n",
       " 989: 0.00010014214621309692,\n",
       " 990: 0.00010014214621309692,\n",
       " 991: 0.00010014214621309692,\n",
       " 992: 0.00010014214621309692,\n",
       " 993: 9.921490411853121e-05,\n",
       " 994: 9.921490411853121e-05,\n",
       " 995: 9.921490411853121e-05,\n",
       " 996: 9.921490411853121e-05,\n",
       " 997: 9.921490411853121e-05,\n",
       " 998: 9.921490411853121e-05,\n",
       " 999: 9.921490411853121e-05,\n",
       " 1000: 9.921490411853121e-05,\n",
       " ...}"
      ]
     },
     "execution_count": 22,
     "metadata": {},
     "output_type": "execute_result"
    }
   ],
   "source": [
    "totalCount = sum([pair[1] for pair in top10k_brown])\n",
    "totalCount\n",
    "freqByRank = {rank+1:pair[1]/totalCount for rank,pair in enumerate(top10k_brown)}\n",
    "freqByRank"
   ]
  },
  {
   "cell_type": "code",
   "execution_count": 23,
   "metadata": {
    "ExecuteTime": {
     "end_time": "2017-05-12T17:37:25.433860Z",
     "start_time": "2017-05-12T17:37:25.391770Z"
    },
    "collapsed": false,
    "run_control": {
     "frozen": false,
     "read_only": false
    }
   },
   "outputs": [
    {
     "data": {
      "text/html": [
       "<div>\n",
       "<style>\n",
       "    .dataframe thead tr:only-child th {\n",
       "        text-align: right;\n",
       "    }\n",
       "\n",
       "    .dataframe thead th {\n",
       "        text-align: left;\n",
       "    }\n",
       "\n",
       "    .dataframe tbody tr th {\n",
       "        vertical-align: top;\n",
       "    }\n",
       "</style>\n",
       "<table border=\"1\" class=\"dataframe\">\n",
       "  <thead>\n",
       "    <tr style=\"text-align: right;\">\n",
       "      <th></th>\n",
       "      <th>Frequency</th>\n",
       "      <th>Rank</th>\n",
       "      <th>Real data</th>\n",
       "    </tr>\n",
       "  </thead>\n",
       "  <tbody>\n",
       "    <tr>\n",
       "      <th>0</th>\n",
       "      <td>0.064880</td>\n",
       "      <td>1</td>\n",
       "      <td>True</td>\n",
       "    </tr>\n",
       "    <tr>\n",
       "      <th>1</th>\n",
       "      <td>0.054090</td>\n",
       "      <td>2</td>\n",
       "      <td>True</td>\n",
       "    </tr>\n",
       "    <tr>\n",
       "      <th>2</th>\n",
       "      <td>0.045756</td>\n",
       "      <td>3</td>\n",
       "      <td>True</td>\n",
       "    </tr>\n",
       "    <tr>\n",
       "      <th>3</th>\n",
       "      <td>0.033763</td>\n",
       "      <td>4</td>\n",
       "      <td>True</td>\n",
       "    </tr>\n",
       "    <tr>\n",
       "      <th>4</th>\n",
       "      <td>0.026754</td>\n",
       "      <td>5</td>\n",
       "      <td>True</td>\n",
       "    </tr>\n",
       "  </tbody>\n",
       "</table>\n",
       "</div>"
      ],
      "text/plain": [
       "   Frequency  Rank  Real data\n",
       "0   0.064880     1       True\n",
       "1   0.054090     2       True\n",
       "2   0.045756     3       True\n",
       "3   0.033763     4       True\n",
       "4   0.026754     5       True"
      ]
     },
     "execution_count": 23,
     "metadata": {},
     "output_type": "execute_result"
    },
    {
     "data": {
      "text/html": [
       "<div>\n",
       "<style>\n",
       "    .dataframe thead tr:only-child th {\n",
       "        text-align: right;\n",
       "    }\n",
       "\n",
       "    .dataframe thead th {\n",
       "        text-align: left;\n",
       "    }\n",
       "\n",
       "    .dataframe tbody tr th {\n",
       "        vertical-align: top;\n",
       "    }\n",
       "</style>\n",
       "<table border=\"1\" class=\"dataframe\">\n",
       "  <thead>\n",
       "    <tr style=\"text-align: right;\">\n",
       "      <th></th>\n",
       "      <th>Frequency</th>\n",
       "      <th>Rank</th>\n",
       "      <th>Real data</th>\n",
       "    </tr>\n",
       "  </thead>\n",
       "  <tbody>\n",
       "    <tr>\n",
       "      <th>0</th>\n",
       "      <td>0.102171</td>\n",
       "      <td>1</td>\n",
       "      <td>False</td>\n",
       "    </tr>\n",
       "    <tr>\n",
       "      <th>1</th>\n",
       "      <td>0.051086</td>\n",
       "      <td>2</td>\n",
       "      <td>False</td>\n",
       "    </tr>\n",
       "    <tr>\n",
       "      <th>2</th>\n",
       "      <td>0.034057</td>\n",
       "      <td>3</td>\n",
       "      <td>False</td>\n",
       "    </tr>\n",
       "    <tr>\n",
       "      <th>3</th>\n",
       "      <td>0.025543</td>\n",
       "      <td>4</td>\n",
       "      <td>False</td>\n",
       "    </tr>\n",
       "    <tr>\n",
       "      <th>4</th>\n",
       "      <td>0.020434</td>\n",
       "      <td>5</td>\n",
       "      <td>False</td>\n",
       "    </tr>\n",
       "  </tbody>\n",
       "</table>\n",
       "</div>"
      ],
      "text/plain": [
       "   Frequency  Rank  Real data\n",
       "0   0.102171     1      False\n",
       "1   0.051086     2      False\n",
       "2   0.034057     3      False\n",
       "3   0.025543     4      False\n",
       "4   0.020434     5      False"
      ]
     },
     "execution_count": 23,
     "metadata": {},
     "output_type": "execute_result"
    }
   ],
   "source": [
    "freqByRank_df = pd.DataFrame({'Rank':list(freqByRank.keys()), 'Frequency':list(freqByRank.values()), 'Real data':[True for each in freqByRank.keys()]})\n",
    "freqByRank_df.sort_values(by = 'Rank').head()\n",
    "predicted_freqByRank_df = pd.DataFrame({'Rank':list(predicted_freqByRank.keys()), 'Frequency':list(predicted_freqByRank.values()), 'Real data':[False for each in predicted_freqByRank.keys()] })\n",
    "predicted_freqByRank_df.sort_values(by = 'Rank').head()"
   ]
  },
  {
   "cell_type": "markdown",
   "metadata": {
    "run_control": {
     "frozen": false,
     "read_only": false
    }
   },
   "source": [
    "Now we need data in a common dataframe:"
   ]
  },
  {
   "cell_type": "code",
   "execution_count": 24,
   "metadata": {
    "ExecuteTime": {
     "end_time": "2017-05-12T17:37:25.457238Z",
     "start_time": "2017-05-12T17:37:25.435700Z"
    },
    "collapsed": false,
    "run_control": {
     "frozen": false,
     "read_only": false
    }
   },
   "outputs": [
    {
     "data": {
      "text/html": [
       "<div>\n",
       "<style>\n",
       "    .dataframe thead tr:only-child th {\n",
       "        text-align: right;\n",
       "    }\n",
       "\n",
       "    .dataframe thead th {\n",
       "        text-align: left;\n",
       "    }\n",
       "\n",
       "    .dataframe tbody tr th {\n",
       "        vertical-align: top;\n",
       "    }\n",
       "</style>\n",
       "<table border=\"1\" class=\"dataframe\">\n",
       "  <thead>\n",
       "    <tr style=\"text-align: right;\">\n",
       "      <th></th>\n",
       "      <th>Frequency</th>\n",
       "      <th>Rank</th>\n",
       "      <th>Real data</th>\n",
       "    </tr>\n",
       "  </thead>\n",
       "  <tbody>\n",
       "    <tr>\n",
       "      <th>0</th>\n",
       "      <td>0.064880</td>\n",
       "      <td>1</td>\n",
       "      <td>True</td>\n",
       "    </tr>\n",
       "    <tr>\n",
       "      <th>1</th>\n",
       "      <td>0.054090</td>\n",
       "      <td>2</td>\n",
       "      <td>True</td>\n",
       "    </tr>\n",
       "    <tr>\n",
       "      <th>2</th>\n",
       "      <td>0.045756</td>\n",
       "      <td>3</td>\n",
       "      <td>True</td>\n",
       "    </tr>\n",
       "    <tr>\n",
       "      <th>3</th>\n",
       "      <td>0.033763</td>\n",
       "      <td>4</td>\n",
       "      <td>True</td>\n",
       "    </tr>\n",
       "    <tr>\n",
       "      <th>4</th>\n",
       "      <td>0.026754</td>\n",
       "      <td>5</td>\n",
       "      <td>True</td>\n",
       "    </tr>\n",
       "  </tbody>\n",
       "</table>\n",
       "</div>"
      ],
      "text/plain": [
       "   Frequency  Rank  Real data\n",
       "0   0.064880     1       True\n",
       "1   0.054090     2       True\n",
       "2   0.045756     3       True\n",
       "3   0.033763     4       True\n",
       "4   0.026754     5       True"
      ]
     },
     "execution_count": 24,
     "metadata": {},
     "output_type": "execute_result"
    },
    {
     "data": {
      "text/html": [
       "<div>\n",
       "<style>\n",
       "    .dataframe thead tr:only-child th {\n",
       "        text-align: right;\n",
       "    }\n",
       "\n",
       "    .dataframe thead th {\n",
       "        text-align: left;\n",
       "    }\n",
       "\n",
       "    .dataframe tbody tr th {\n",
       "        vertical-align: top;\n",
       "    }\n",
       "</style>\n",
       "<table border=\"1\" class=\"dataframe\">\n",
       "  <thead>\n",
       "    <tr style=\"text-align: right;\">\n",
       "      <th></th>\n",
       "      <th>Frequency</th>\n",
       "      <th>Rank</th>\n",
       "      <th>Real data</th>\n",
       "    </tr>\n",
       "  </thead>\n",
       "  <tbody>\n",
       "    <tr>\n",
       "      <th>9994</th>\n",
       "      <td>0.00001</td>\n",
       "      <td>9995</td>\n",
       "      <td>False</td>\n",
       "    </tr>\n",
       "    <tr>\n",
       "      <th>9995</th>\n",
       "      <td>0.00001</td>\n",
       "      <td>9996</td>\n",
       "      <td>False</td>\n",
       "    </tr>\n",
       "    <tr>\n",
       "      <th>9996</th>\n",
       "      <td>0.00001</td>\n",
       "      <td>9997</td>\n",
       "      <td>False</td>\n",
       "    </tr>\n",
       "    <tr>\n",
       "      <th>9997</th>\n",
       "      <td>0.00001</td>\n",
       "      <td>9998</td>\n",
       "      <td>False</td>\n",
       "    </tr>\n",
       "    <tr>\n",
       "      <th>9998</th>\n",
       "      <td>0.00001</td>\n",
       "      <td>9999</td>\n",
       "      <td>False</td>\n",
       "    </tr>\n",
       "  </tbody>\n",
       "</table>\n",
       "</div>"
      ],
      "text/plain": [
       "      Frequency  Rank  Real data\n",
       "9994    0.00001  9995      False\n",
       "9995    0.00001  9996      False\n",
       "9996    0.00001  9997      False\n",
       "9997    0.00001  9998      False\n",
       "9998    0.00001  9999      False"
      ]
     },
     "execution_count": 24,
     "metadata": {},
     "output_type": "execute_result"
    }
   ],
   "source": [
    "combined_df = freqByRank_df.append( predicted_freqByRank_df )\n",
    "combined_df.head()\n",
    "combined_df.tail()"
   ]
  },
  {
   "cell_type": "code",
   "execution_count": 25,
   "metadata": {
    "ExecuteTime": {
     "end_time": "2017-05-12T17:37:26.851087Z",
     "start_time": "2017-05-12T17:37:25.458989Z"
    },
    "collapsed": false,
    "run_control": {
     "frozen": false,
     "read_only": false
    }
   },
   "outputs": [
    {
     "data": {
      "image/png": "[encoded data removed]",
      "text/plain": [
       "<matplotlib.figure.Figure at 0x12a298a90>"
      ]
     },
     "metadata": {},
     "output_type": "display_data"
    },
    {
     "data": {
      "text/plain": [
       "<ggplot: (325697193)>"
      ]
     },
     "execution_count": 25,
     "metadata": {},
     "output_type": "execute_result"
    }
   ],
   "source": [
    "ggplot(combined_df, aes(x = 'Rank', y = 'Frequency', color='Real data')) + \\\n",
    "    geom_point(size = 40, alpha = 0.6) + \\\n",
    "    ggtitle('Frequency as a function of rank in the top 10k most frequent words of the Brown corpus and as predicted by a power law') + \\\n",
    "    scale_x_log()"
   ]
  },
  {
   "cell_type": "markdown",
   "metadata": {
    "run_control": {
     "frozen": false,
     "read_only": false
    }
   },
   "source": [
    "That something as messy as natural language should follow such a pattern should be striking."
   ]
  },
  {
   "cell_type": "markdown",
   "metadata": {
    "run_control": {
     "frozen": false,
     "read_only": false
    }
   },
   "source": [
    "*What does it mean, though?* **Who cares?** For a mix of engineering and scientific consequences, check out:\n",
    " - https://en.wikipedia.org/wiki/Power_law#Properties\n",
    " - Volume 6 of Linguistic Issues in Language Technology (LiLT; http://journals.linguisticsociety.org/elanguage/lilt/issue/view/330.html)\n",
    "  - Kay, M. (2011). *Zipf’s Law and L’Arbitraire du Signe.* http://journals.linguisticsociety.org/elanguage/lilt/article/download/2584/2584-5332-1-PB.pdf\n",
    "  - Steedman, M. (2011). *Romantics and Revolutionaries: What Theoretical and Computational Linguists Need to Know about Each Other, But Were Afraid To Ask.* http://journals.linguisticsociety.org/elanguage/lilt/article/download/2587/2587-5344-1-PB.pdf\n",
    " - Piantadosi, S. (2015). *Zipf’s word frequency law in natural language: A critical review and future directions.* https://colala.bcs.rochester.edu/papers/piantadosi2014zipfs.pdf\n",
    " \n",
    " Also related:\n",
    "  - Piantadosi, S., Tily, H., & Gibson E. (2011). *Word lengths are optimized for efficient communication.* https://colala.bcs.rochester.edu/papers/PNAS-2011-Piantadosi-1012551108.pdf\n",
    "  - Piantadosi, S., Tily, H., & Gibson E. (2011). *The communicative function of ambiguity in language.* https://colala.bcs.rochester.edu/papers/piantadosi2012communicative.pdf"
   ]
  },
  {
   "cell_type": "markdown",
   "metadata": {
    "run_control": {
     "frozen": false,
     "read_only": false
    }
   },
   "source": [
    "#### Unigram language model"
   ]
  },
  {
   "cell_type": "markdown",
   "metadata": {
    "run_control": {
     "frozen": false,
     "read_only": false
    }
   },
   "source": [
    "$$p(w_1,w_2...w_n) = \\prod\\limits_{i=1}^{i=n} w_i$$"
   ]
  },
  {
   "cell_type": "code",
   "execution_count": 26,
   "metadata": {
    "ExecuteTime": {
     "end_time": "2017-05-12T17:37:27.625056Z",
     "start_time": "2017-05-12T17:37:26.852660Z"
    },
    "collapsed": false,
    "run_control": {
     "frozen": false,
     "read_only": false
    }
   },
   "outputs": [
    {
     "name": "stdout",
     "output_type": "stream",
     "text": [
      "['to', 'these', 'people', ',', 'solidarity', 'and', 'unity', 'with', 'china', 'should', 'be', 'the', 'real', 'basis', 'of', \"russia's\", 'future', 'policy', '.']\n"
     ]
    }
   ],
   "source": [
    "def joint_unigram_prob(a_sentence, a_FreqDist, lookInside = False):\n",
    "    '''Calculates the unigram MLE of word sequence a_sentence using an NLTK FreqDist (unsmoothed unigram MLE).\n",
    "    Example usage:\n",
    "    joint_unigram_prob(['i', 'dislike', 'eggs', 'and', 'ham'], FreqDist([w.lower() for w in brown.words()]))\n",
    "    '''\n",
    "    if lookInside:\n",
    "        print([a_FreqDist.freq(word) for word in a_sentence])\n",
    "    return np.prod([a_FreqDist.freq(word) for word in a_sentence])\n",
    "\n",
    "s = brown.sents()[7364]\n",
    "s_norm = list(map( myNormalize, s) )\n",
    "print(s_norm)"
   ]
  },
  {
   "cell_type": "code",
   "execution_count": 27,
   "metadata": {
    "ExecuteTime": {
     "end_time": "2017-05-12T17:37:27.715206Z",
     "start_time": "2017-05-12T17:37:27.626680Z"
    },
    "collapsed": false,
    "run_control": {
     "frozen": false,
     "read_only": false
    }
   },
   "outputs": [
    {
     "data": {
      "text/plain": [
       "3.7954198498745699e-56"
      ]
     },
     "execution_count": 27,
     "metadata": {},
     "output_type": "execute_result"
    },
    {
     "data": {
      "text/plain": [
       "0.0"
      ]
     },
     "execution_count": 27,
     "metadata": {},
     "output_type": "execute_result"
    }
   ],
   "source": [
    "joint_unigram_prob(s_norm, brown_unigram_dist)\n",
    "joint_unigram_prob(s_norm, gutenberg_unigram_dist)"
   ]
  },
  {
   "cell_type": "markdown",
   "metadata": {
    "run_control": {
     "frozen": false,
     "read_only": false
    }
   },
   "source": [
    "Hmmm...Why does the Gutenberg-based model assign 0 probability to this sentence?"
   ]
  },
  {
   "cell_type": "code",
   "execution_count": 28,
   "metadata": {
    "ExecuteTime": {
     "end_time": "2017-05-12T17:37:27.760161Z",
     "start_time": "2017-05-12T17:37:27.716970Z"
    },
    "collapsed": false,
    "run_control": {
     "frozen": false,
     "read_only": false
    }
   },
   "outputs": [
    {
     "data": {
      "text/plain": [
       "[0.018331080903245443,\n",
       " 0.0010871169772197497,\n",
       " 0.0010688076386560488,\n",
       " 0.07098339838870192,\n",
       " 3.8144455341043855e-07,\n",
       " 0.03640583106659907,\n",
       " 2.288667320462631e-06,\n",
       " 0.006713042695470308,\n",
       " 1.4876337583007102e-05,\n",
       " 0.0009726836111966183,\n",
       " 0.006146978978209217,\n",
       " 0.05095450777822661,\n",
       " 0.00010031991754694534,\n",
       " 3.8144455341043854e-06,\n",
       " 0.027184408987901722,\n",
       " 0.0,\n",
       " 6.026823943884929e-05,\n",
       " 9.154669281850524e-06,\n",
       " 0.0281300100358062]"
      ]
     },
     "execution_count": 28,
     "metadata": {},
     "output_type": "execute_result"
    },
    {
     "data": {
      "text/plain": [
       "\"russia's\""
      ]
     },
     "execution_count": 28,
     "metadata": {},
     "output_type": "execute_result"
    },
    {
     "data": {
      "text/plain": [
       "0.0"
      ]
     },
     "execution_count": 28,
     "metadata": {},
     "output_type": "execute_result"
    }
   ],
   "source": [
    "[gutenberg_unigram_dist.freq(word) for word in s_norm]\n",
    "s_norm[15]\n",
    "gutenberg_unigram_dist.freq(s_norm[15])"
   ]
  },
  {
   "cell_type": "code",
   "execution_count": 29,
   "metadata": {
    "ExecuteTime": {
     "end_time": "2017-05-12T17:37:27.830583Z",
     "start_time": "2017-05-12T17:37:27.762502Z"
    },
    "collapsed": false,
    "run_control": {
     "frozen": false,
     "read_only": false
    }
   },
   "outputs": [
    {
     "name": "stdout",
     "output_type": "stream",
     "text": [
      "['to', 'these', 'people', ',', 'solidarity', 'and', 'unity', 'with', 'china', 'should', 'be', 'the', 'real', 'basis', 'of', 'russia', 'future', 'policy', '.']\n"
     ]
    },
    {
     "data": {
      "text/plain": [
       "1.951930208506922e-55"
      ]
     },
     "execution_count": 29,
     "metadata": {},
     "output_type": "execute_result"
    }
   ],
   "source": [
    "s_norm[15] = \"russia\"\n",
    "print(s_norm)\n",
    "\n",
    "brown_prob = joint_unigram_prob(s_norm, brown_unigram_dist)\n",
    "brown_prob"
   ]
  },
  {
   "cell_type": "markdown",
   "metadata": {
    "run_control": {
     "frozen": false,
     "read_only": false
    }
   },
   "source": [
    "How do the unigram and gutenberg estimates compare on this sentence? Why might that be?"
   ]
  },
  {
   "cell_type": "code",
   "execution_count": 30,
   "metadata": {
    "ExecuteTime": {
     "end_time": "2017-05-12T17:37:27.873039Z",
     "start_time": "2017-05-12T17:37:27.832334Z"
    },
    "collapsed": false,
    "run_control": {
     "frozen": false,
     "read_only": false
    }
   },
   "outputs": [
    {
     "data": {
      "text/plain": [
       "1.951930208506922e-55"
      ]
     },
     "execution_count": 30,
     "metadata": {},
     "output_type": "execute_result"
    },
    {
     "data": {
      "text/plain": [
       "2.7010293360229245e-64"
      ]
     },
     "execution_count": 30,
     "metadata": {},
     "output_type": "execute_result"
    },
    {
     "data": {
      "text/plain": [
       "'722,661,609.9553372'"
      ]
     },
     "execution_count": 30,
     "metadata": {},
     "output_type": "execute_result"
    }
   ],
   "source": [
    "gutenberg_prob = joint_unigram_prob(s_norm, gutenberg_unigram_dist)\n",
    "brown_prob\n",
    "gutenberg_prob\n",
    "'{:,}'.format(brown_prob / gutenberg_prob)"
   ]
  },
  {
   "cell_type": "markdown",
   "metadata": {
    "run_control": {
     "frozen": false,
     "read_only": false
    }
   },
   "source": [
    "### Bigrams"
   ]
  },
  {
   "cell_type": "code",
   "execution_count": 31,
   "metadata": {
    "ExecuteTime": {
     "end_time": "2017-05-12T17:37:28.979612Z",
     "start_time": "2017-05-12T17:37:27.874801Z"
    },
    "collapsed": false,
    "run_control": {
     "frozen": false,
     "read_only": false
    }
   },
   "outputs": [
    {
     "data": {
      "text/plain": [
       "[('previous', 'grand'),\n",
       " ('grand', 'juries'),\n",
       " ('juries', ','),\n",
       " (',', 'the'),\n",
       " ('the', 'atlanta'),\n",
       " ('atlanta', 'bar'),\n",
       " ('bar', 'association'),\n",
       " ('association', 'and'),\n",
       " ('and', 'an'),\n",
       " ('an', 'interim')]"
      ]
     },
     "execution_count": 31,
     "metadata": {},
     "output_type": "execute_result"
    },
    {
     "data": {
      "text/plain": [
       "['previous grand',\n",
       " 'grand juries',\n",
       " 'juries ,',\n",
       " ', the',\n",
       " 'the atlanta',\n",
       " 'atlanta bar',\n",
       " 'bar association',\n",
       " 'association and',\n",
       " 'and an',\n",
       " 'an interim']"
      ]
     },
     "execution_count": 31,
     "metadata": {},
     "output_type": "execute_result"
    }
   ],
   "source": [
    "from nltk import bigrams\n",
    "brown_bigrams = list( bigrams(brown_words) )\n",
    "brown_bigrams[543:543+10]\n",
    "joined_bigrams = [' '.join([first, second]) for first,second in brown_bigrams]\n",
    "joined_bigrams[543:543+10]"
   ]
  },
  {
   "cell_type": "markdown",
   "metadata": {
    "run_control": {
     "frozen": false,
     "read_only": false
    }
   },
   "source": [
    "How does the shape of the prior distribution over bigrams ('ordered word pairs') compare to the prior over unigrams? How do the two data sources compare?"
   ]
  },
  {
   "cell_type": "code",
   "execution_count": 32,
   "metadata": {
    "ExecuteTime": {
     "end_time": "2017-05-12T17:37:34.654253Z",
     "start_time": "2017-05-12T17:37:28.981635Z"
    },
    "collapsed": false,
    "run_control": {
     "frozen": false,
     "read_only": false
    }
   },
   "outputs": [
    {
     "data": {
      "image/png": "[encoded data removed]",
      "text/plain": [
       "<matplotlib.figure.Figure at 0x13907fb00>"
      ]
     },
     "metadata": {},
     "output_type": "display_data"
    },
    {
     "data": {
      "image/png": "[encoded data removed]",
      "text/plain": [
       "<matplotlib.figure.Figure at 0x13734c358>"
      ]
     },
     "metadata": {},
     "output_type": "display_data"
    }
   ],
   "source": [
    "brown_bigram_joint_dist = FreqDist(joined_bigrams)\n",
    "brown_bigram_joint_dist.plot(50)\n",
    "\n",
    "gutenberg_bigrams = list( bigrams(gutenberg_words) )\n",
    "joined_g_bigrams = [' '.join([first, second]) for first,second in gutenberg_bigrams]\n",
    "gutenberg_bigram_joint_dist = FreqDist(joined_g_bigrams)\n",
    "gutenberg_bigram_joint_dist.plot(50)"
   ]
  },
  {
   "cell_type": "markdown",
   "metadata": {
    "run_control": {
     "frozen": false,
     "read_only": false
    }
   },
   "source": [
    "#### Bigram language model"
   ]
  },
  {
   "cell_type": "code",
   "execution_count": 33,
   "metadata": {
    "ExecuteTime": {
     "end_time": "2017-05-12T17:37:39.690091Z",
     "start_time": "2017-05-12T17:37:34.655895Z"
    },
    "collapsed": false,
    "run_control": {
     "frozen": false,
     "read_only": false
    }
   },
   "outputs": [
    {
     "data": {
      "text/plain": [
       "nltk.probability.FreqDist"
      ]
     },
     "execution_count": 33,
     "metadata": {},
     "output_type": "execute_result"
    }
   ],
   "source": [
    "from nltk import ConditionalFreqDist\n",
    "\n",
    "brown_bigram_conditional_dist = ConditionalFreqDist(brown_bigrams)\n",
    "gutenberg_bigram_conditional_dist = ConditionalFreqDist(gutenberg_bigrams)\n",
    "\n",
    "brown_p_word_given_eat = brown_bigram_conditional_dist['eat']\n",
    "gutenberg_p_word_given_eat = gutenberg_bigram_conditional_dist['eat']\n",
    "type(brown_p_word_given_eat)"
   ]
  },
  {
   "cell_type": "markdown",
   "metadata": {
    "run_control": {
     "frozen": false,
     "read_only": false
    }
   },
   "source": [
    "Notice that here we get a familiar object -- a FreqDist."
   ]
  },
  {
   "cell_type": "markdown",
   "metadata": {
    "run_control": {
     "frozen": false,
     "read_only": false
    }
   },
   "source": [
    "How do the brown and gutenberg-based models differ? Why might that be? "
   ]
  },
  {
   "cell_type": "code",
   "execution_count": 34,
   "metadata": {
    "ExecuteTime": {
     "end_time": "2017-05-12T17:37:40.678958Z",
     "start_time": "2017-05-12T17:37:39.691775Z"
    },
    "collapsed": false,
    "run_control": {
     "frozen": false,
     "read_only": false
    }
   },
   "outputs": [
    {
     "data": {
      "image/png": "[encoded data removed]",
      "text/plain": [
       "<matplotlib.figure.Figure at 0x136ecb4a8>"
      ]
     },
     "metadata": {},
     "output_type": "display_data"
    },
    {
     "data": {
      "image/png": "[encoded data removed]",
      "text/plain": [
       "<matplotlib.figure.Figure at 0x136ecb748>"
      ]
     },
     "metadata": {},
     "output_type": "display_data"
    }
   ],
   "source": [
    "brown_p_word_given_eat.plot(50)\n",
    "gutenberg_p_word_given_eat.plot(50)"
   ]
  },
  {
   "cell_type": "code",
   "execution_count": 35,
   "metadata": {
    "ExecuteTime": {
     "end_time": "2017-05-12T17:37:40.693371Z",
     "start_time": "2017-05-12T17:37:40.680690Z"
    },
    "collapsed": false,
    "run_control": {
     "frozen": false,
     "read_only": false
    }
   },
   "outputs": [
    {
     "data": {
      "text/plain": [
       "4"
      ]
     },
     "execution_count": 35,
     "metadata": {},
     "output_type": "execute_result"
    },
    {
     "data": {
      "text/plain": [
       "75"
      ]
     },
     "execution_count": 35,
     "metadata": {},
     "output_type": "execute_result"
    },
    {
     "data": {
      "text/plain": [
       "0.06557377049180328"
      ]
     },
     "execution_count": 35,
     "metadata": {},
     "output_type": "execute_result"
    },
    {
     "data": {
      "text/plain": [
       "0.08833922261484099"
      ]
     },
     "execution_count": 35,
     "metadata": {},
     "output_type": "execute_result"
    },
    {
     "data": {
      "text/plain": [
       "0.7422950819672132"
      ]
     },
     "execution_count": 35,
     "metadata": {},
     "output_type": "execute_result"
    }
   ],
   "source": [
    "brown_bigram_conditional_dist['eat']['the']\n",
    "gutenberg_bigram_conditional_dist['eat']['the']\n",
    "p_the_given_eat_brown = brown_bigram_conditional_dist['eat'].freq('the')\n",
    "p_the_given_eat_gutenberg = gutenberg_bigram_conditional_dist['eat'].freq('the')\n",
    "p_the_given_eat_brown\n",
    "p_the_given_eat_gutenberg\n",
    "p_the_given_eat_brown / p_the_given_eat_gutenberg "
   ]
  },
  {
   "cell_type": "markdown",
   "metadata": {
    "run_control": {
     "frozen": false,
     "read_only": false
    }
   },
   "source": [
    "$$p(w_1,w_2...w_n) = \\prod\\limits_{i=1}^{i=n} p(w_i|w_{i-1})$$\n",
    "*Recall that we can treat every sentence as having special start and stop symbols (common choices include \\$, ^, $\\ltimes$, $\\rtimes$, START, STOP) at $w_0$ and $w_{n+1}$.*"
   ]
  },
  {
   "cell_type": "code",
   "execution_count": 36,
   "metadata": {
    "ExecuteTime": {
     "end_time": "2017-05-12T17:37:40.703915Z",
     "start_time": "2017-05-12T17:37:40.695202Z"
    },
    "collapsed": false,
    "run_control": {
     "frozen": false,
     "read_only": false
    }
   },
   "outputs": [],
   "source": [
    "def joint_bigram_prob(a_sentence, a_ConditionalFreqDist, lookInside = False):\n",
    "    '''Calculates the joint probability of word sequence a_sentence using an NLTK \n",
    "    ConditionalFreqDist (unsmoothed MLE of the conditional prob of a word given one \n",
    "    previous word).\n",
    "\n",
    "    Example usage:\n",
    "    joint_bigram_prob(['i', 'dislike', 'eggs', 'and', 'ham'], ConditionalFreqDist(bigrams(brown_words)))\n",
    "    '''\n",
    "    cfd = a_ConditionalFreqDist\n",
    "    if lookInside:\n",
    "        print([cfd['.'].freq(a_sentence[0])] + [cfd[word].freq(a_sentence[i+1]) for i,word in enumerate(a_sentence[:-1])])\n",
    "\n",
    "        #Using '.' as a (crude) end-of-sentence/start-of-sentence symbol...\n",
    "    return np.prod( [cfd['.'].freq(a_sentence[0])] + [cfd[word].freq(a_sentence[i+1]) for i,word in enumerate(a_sentence[:-1])])"
   ]
  },
  {
   "cell_type": "code",
   "execution_count": 37,
   "metadata": {
    "ExecuteTime": {
     "end_time": "2017-05-12T17:37:40.724617Z",
     "start_time": "2017-05-12T17:37:40.706340Z"
    },
    "collapsed": false,
    "run_control": {
     "frozen": false,
     "read_only": false
    }
   },
   "outputs": [
    {
     "data": {
      "text/plain": [
       "6.3885589948779599e-13"
      ]
     },
     "execution_count": 37,
     "metadata": {},
     "output_type": "execute_result"
    },
    {
     "data": {
      "text/plain": [
       "0.0"
      ]
     },
     "execution_count": 37,
     "metadata": {},
     "output_type": "execute_result"
    },
    {
     "data": {
      "text/plain": [
       "9.9303376412477014e-13"
      ]
     },
     "execution_count": 37,
     "metadata": {},
     "output_type": "execute_result"
    },
    {
     "data": {
      "text/plain": [
       "2.8553106583647879e-12"
      ]
     },
     "execution_count": 37,
     "metadata": {},
     "output_type": "execute_result"
    }
   ],
   "source": [
    "s1 = list(map(myNormalize, \"The workers are on strike\".split() ))\n",
    "s2 = list(map(myNormalize, \"The old man was in his house\".split() ))\n",
    "joint_bigram_prob(s1, brown_bigram_conditional_dist)\n",
    "joint_bigram_prob(s1, gutenberg_bigram_conditional_dist)\n",
    "joint_bigram_prob(s2, brown_bigram_conditional_dist)\n",
    "joint_bigram_prob(s2, gutenberg_bigram_conditional_dist)"
   ]
  },
  {
   "cell_type": "markdown",
   "metadata": {
    "run_control": {
     "frozen": false,
     "read_only": false
    }
   },
   "source": [
    "How do the Brown and Gutenberg-based models differ? Why might that be?"
   ]
  },
  {
   "cell_type": "code",
   "execution_count": 38,
   "metadata": {
    "ExecuteTime": {
     "end_time": "2017-05-12T17:37:40.734334Z",
     "start_time": "2017-05-12T17:37:40.726104Z"
    },
    "collapsed": false,
    "run_control": {
     "frozen": false,
     "read_only": false
    }
   },
   "outputs": [
    {
     "data": {
      "text/plain": [
       "['the', 'workers', 'are', 'on', 'strike']"
      ]
     },
     "execution_count": 38,
     "metadata": {},
     "output_type": "execute_result"
    },
    {
     "name": "stdout",
     "output_type": "stream",
     "text": [
      "[0.036721133636178724, 0.0001422336674576855, 0.0, 0.003355704697986577, 0.0]\n"
     ]
    },
    {
     "data": {
      "text/plain": [
       "0.0"
      ]
     },
     "execution_count": 38,
     "metadata": {},
     "output_type": "execute_result"
    }
   ],
   "source": [
    "s1\n",
    "joint_bigram_prob(s1, gutenberg_bigram_conditional_dist, True)"
   ]
  },
  {
   "cell_type": "code",
   "execution_count": 39,
   "metadata": {
    "ExecuteTime": {
     "end_time": "2017-05-12T17:37:40.753401Z",
     "start_time": "2017-05-12T17:37:40.736475Z"
    },
    "collapsed": false,
    "run_control": {
     "frozen": false,
     "read_only": false
    }
   },
   "outputs": [
    {
     "data": {
      "text/plain": [
       "['the', 'old', 'man', 'was', 'in', 'his', 'house']"
      ]
     },
     "execution_count": 39,
     "metadata": {},
     "output_type": "execute_result"
    },
    {
     "name": "stdout",
     "output_type": "stream",
     "text": [
      "[0.12323437025027865, 0.003344242614797559, 0.10136157337367625, 0.028169014084507043, 0.018441161487519103, 0.029104372685944603, 0.0015723270440251573]\n"
     ]
    },
    {
     "data": {
      "text/plain": [
       "9.9303376412477014e-13"
      ]
     },
     "execution_count": 39,
     "metadata": {},
     "output_type": "execute_result"
    },
    {
     "name": "stdout",
     "output_type": "stream",
     "text": [
      "[0.036721133636178724, 0.003750477231384233, 0.10812109562710236, 0.01460373998219056, 0.027464600587763826, 0.05220369267421084, 0.009158022614708905]\n"
     ]
    },
    {
     "data": {
      "text/plain": [
       "2.8553106583647879e-12"
      ]
     },
     "execution_count": 39,
     "metadata": {},
     "output_type": "execute_result"
    }
   ],
   "source": [
    "s2\n",
    "joint_bigram_prob(s2, brown_bigram_conditional_dist, True)\n",
    "joint_bigram_prob(s2, gutenberg_bigram_conditional_dist, True)"
   ]
  },
  {
   "cell_type": "markdown",
   "metadata": {
    "run_control": {
     "frozen": false,
     "read_only": false
    }
   },
   "source": [
    "# Sparsity and corpus properties"
   ]
  },
  {
   "cell_type": "markdown",
   "metadata": {
    "run_control": {
     "frozen": false,
     "read_only": false
    }
   },
   "source": [
    "## Modeling segue 1"
   ]
  },
  {
   "cell_type": "markdown",
   "metadata": {
    "run_control": {
     "frozen": false,
     "read_only": false
    }
   },
   "source": [
    " 1. *Mathematically,* why was **normalization** a good idea?\n",
    " 2. *In this specific case*, **what are some ways we can measure how much it helped?** \n",
    " 3. **How do the data sources compare?** *Why might they be that way?*"
   ]
  },
  {
   "cell_type": "markdown",
   "metadata": {
    "run_control": {
     "frozen": false,
     "read_only": false
    },
    "variables": {
     "format(b, ',d')": "49,815",
     "format(g, ',d')": "42,339"
    }
   },
   "source": [
    "##### Sparsity \n",
    "\n",
    "For a vocabulary with $V$ words, \n",
    " - a bigram model needs to give probabilities for $O(V^2)$ words\n",
    " - a trigram model needs to give probabilities for $O(V^3)$ words\n",
    " - a 4-gram model needs to give probabilities for $O(V^4)$ words... \n",
    "\n",
    "Our normalized datasets:\n",
    " - normalized Brown corpus $V = b = ${{format(b, ',d')}}\n",
    " - normalized Gutenberg corpus $V = g = ${{format(g, ',d')}}\n",
    " \n",
    "How different are those from the unnormalized ones $B,G$?"
   ]
  },
  {
   "cell_type": "code",
   "execution_count": 40,
   "metadata": {
    "ExecuteTime": {
     "end_time": "2017-05-12T17:37:55.942002Z",
     "start_time": "2017-05-12T17:37:46.232771Z"
    },
    "collapsed": false,
    "run_control": {
     "frozen": false,
     "read_only": false
    }
   },
   "outputs": [],
   "source": [
    "unnormalized_brown_v = set(brown.words())\n",
    "unnormalized_gutenberg_v = set(gutenberg.words())"
   ]
  },
  {
   "cell_type": "code",
   "execution_count": 41,
   "metadata": {
    "ExecuteTime": {
     "end_time": "2017-05-12T17:37:55.947582Z",
     "start_time": "2017-05-12T17:37:55.943534Z"
    },
    "collapsed": false,
    "run_control": {
     "frozen": false,
     "read_only": false
    }
   },
   "outputs": [],
   "source": [
    "B = len(unnormalized_brown_v)\n",
    "G = len(unnormalized_gutenberg_v)"
   ]
  },
  {
   "cell_type": "markdown",
   "metadata": {
    "run_control": {
     "frozen": false,
     "read_only": false
    },
    "variables": {
     "format(B**2, ',d')": "490,356,736",
     "format(B**3, ',d')": "10,858,459,561,984",
     "format(B**4, ',d')": "240,449,728,540,573,696",
     "format(B, ',d')": "22,144",
     "format(G**2, ',d')": "374,577,316",
     "format(G**3, ',d')": "7,249,569,373,864",
     "format(G**4, ',d')": "140,308,165,661,763,856",
     "format(G, ',d')": "19,354",
     "format(b**2, ',d')": "413,878,336",
     "format(b**3, ',d')": "8,419,940,867,584",
     "format(b**4, ',d')": "171,295,277,010,128,896",
     "format(b, ',d')": "20,344",
     "format(g**2, ',d')": "298,252,900",
     "format(g**3, ',d')": "5,150,827,583,000",
     "format(g**4, ',d')": "88,954,792,358,410,000",
     "format(g, ',d')": "17,270"
    }
   },
   "source": [
    "| Corpus              | Vocab                  | Vocab^2                  | Vocab^3                  | Vocab^4                 |\n",
    "|---------------------|------------------------|--------------------------|--------------------------|-------------------------|\n",
    "| Unnormed Brown      | {{format(B, ',d')}}    | {{format(B**2, ',d')}} | {{format(B**3, ',d')}} | {{format(B**4, ',d')}} |\n",
    "| Normed Brown     | {{format(b, ',d')}} | {{format(b**2, ',d')}} | {{format(b**3, ',d')}} | {{format(b**4, ',d')}} |\n",
    "| Unnormed Gutenberg  | {{format(G, ',d')}}    | {{format(G**2, ',d')}} | {{format(G**3, ',d')}} | {{format(G**4, ',d')}} |\n",
    "| Normed Gutenberg | {{format(g, ',d')}} | {{format(g**2, ',d')}} | {{format(g**3, ',d')}} | {{format(g**4, ',d')}} |"
   ]
  },
  {
   "cell_type": "markdown",
   "metadata": {
    "run_control": {
     "frozen": false,
     "read_only": false
    },
    "variables": {
     "format( (B-b)/B , ',f')": "0.081286",
     "format( (G-g)/G, ',f')": "0.107678",
     "format( (pow(B,2) - pow(b,2))/pow(B,2), ',f' )": "0.155965",
     "format( (pow(B,3) - pow(b,3))/pow(B,3), ',f' )": "0.224573",
     "format( (pow(B,4) - pow(b,4))/pow(B,4), ',f' )": "0.287605",
     "format( (pow(G,2) - pow(g,2))/pow(G,2), ',f' )": "0.203761",
     "format( (pow(G,3) - pow(g,3))/pow(G,3), ',f' )": "0.289499",
     "format( (pow(G,4) - pow(g,4))/pow(G,4), ',f' )": "0.366004",
     "format(B - b, ',d')": "1,800",
     "format(B, ',d')": "22,144",
     "format(G - g, ',d')": "2,084",
     "format(G, ',d')": "19,354",
     "format(b, ',d')": "20,344",
     "format(b_length, ',d')": "301,186",
     "format(g, ',d')": "17,270",
     "format(g_length, ',d')": "301,186"
    }
   },
   "source": [
    "| Corpus    | Length                     | Normed Vocab              | Unnormed Vocab      | V - v                   | (V-v)/V                     | (V^2 - v^2)/V^2 | (V^3 - v^3)/V^3 | (V^4 - v^4)/V^4 |\n",
    "|-----------|----------------------------|---------------------------|---------------------|-------------------------|-----------------------------|-----------------|-----------\n",
    "| Brown     | {{format(b_length, ',d')}} | {{format(b, ',d')}}       | {{format(B, ',d')}} | {{format(B - b, ',d')}} | {{format( (B-b)/B , ',f')}} | {{format( (pow(B,2) - pow(b,2))/pow(B,2), ',f' )}} | {{format( (pow(B,3) - pow(b,3))/pow(B,3), ',f' )}} | {{format( (pow(B,4) - pow(b,4))/pow(B,4), ',f' )}} |\n",
    "| Gutenberg | {{format(g_length, ',d')}} | {{format(g, ',d')}}       | {{format(G, ',d')}} | {{format(G - g, ',d')}} | {{format( (G-g)/G, ',f')}}  | {{format( (pow(G,2) - pow(g,2))/pow(G,2), ',f' )}} | {{format( (pow(G,3) - pow(g,3))/pow(G,3), ',f' )}} | {{format( (pow(G,4) - pow(g,4))/pow(G,4), ',f' )}} |"
   ]
  },
  {
   "cell_type": "markdown",
   "metadata": {
    "run_control": {
     "frozen": false,
     "read_only": false
    }
   },
   "source": [
    "...why? How do our data sources compare?"
   ]
  },
  {
   "cell_type": "markdown",
   "metadata": {
    "run_control": {
     "frozen": false,
     "read_only": false
    }
   },
   "source": [
    "http://www.nltk.org/nltk_data/"
   ]
  },
  {
   "cell_type": "code",
   "execution_count": 42,
   "metadata": {
    "ExecuteTime": {
     "end_time": "2017-05-12T17:37:55.962145Z",
     "start_time": "2017-05-12T17:37:55.949755Z"
    },
    "collapsed": false,
    "run_control": {
     "frozen": false,
     "read_only": false
    },
    "scrolled": true
   },
   "outputs": [
    {
     "data": {
      "text/plain": [
       "['adventure',\n",
       " 'belles_lettres',\n",
       " 'editorial',\n",
       " 'fiction',\n",
       " 'government',\n",
       " 'hobbies',\n",
       " 'humor',\n",
       " 'learned',\n",
       " 'lore',\n",
       " 'mystery',\n",
       " 'news',\n",
       " 'religion',\n",
       " 'reviews',\n",
       " 'romance',\n",
       " 'science_fiction']"
      ]
     },
     "execution_count": 42,
     "metadata": {},
     "output_type": "execute_result"
    },
    {
     "data": {
      "text/plain": [
       "['austen-emma.txt',\n",
       " 'austen-persuasion.txt',\n",
       " 'austen-sense.txt',\n",
       " 'bible-kjv.txt',\n",
       " 'blake-poems.txt',\n",
       " 'bryant-stories.txt',\n",
       " 'burgess-busterbrown.txt',\n",
       " 'carroll-alice.txt',\n",
       " 'chesterton-ball.txt',\n",
       " 'chesterton-brown.txt',\n",
       " 'chesterton-thursday.txt',\n",
       " 'edgeworth-parents.txt',\n",
       " 'melville-moby_dick.txt',\n",
       " 'milton-paradise.txt',\n",
       " 'shakespeare-caesar.txt',\n",
       " 'shakespeare-hamlet.txt',\n",
       " 'shakespeare-macbeth.txt',\n",
       " 'whitman-leaves.txt']"
      ]
     },
     "execution_count": 42,
     "metadata": {},
     "output_type": "execute_result"
    }
   ],
   "source": [
    "brown.categories()\n",
    "gutenberg.fileids()"
   ]
  },
  {
   "cell_type": "markdown",
   "metadata": {
    "run_control": {
     "frozen": false,
     "read_only": false
    }
   },
   "source": [
    "How much data in Brown is comparable to the Gutenberg data?"
   ]
  },
  {
   "cell_type": "code",
   "execution_count": 43,
   "metadata": {
    "ExecuteTime": {
     "end_time": "2017-05-12T17:37:56.825916Z",
     "start_time": "2017-05-12T17:37:55.964434Z"
    },
    "collapsed": false,
    "run_control": {
     "frozen": false,
     "read_only": false
    }
   },
   "outputs": [
    {
     "data": {
      "text/plain": [
       "'301,186'"
      ]
     },
     "execution_count": 43,
     "metadata": {},
     "output_type": "execute_result"
    }
   ],
   "source": [
    "brown_imaginative_prose_cats = ['fiction','mystery','science_fiction','adventure','romance','humor']\n",
    "'{:,}'.format(len(brown.words(categories=brown_imaginative_prose_cats)))"
   ]
  },
  {
   "cell_type": "code",
   "execution_count": 44,
   "metadata": {
    "ExecuteTime": {
     "end_time": "2017-05-12T17:38:01.973084Z",
     "start_time": "2017-05-12T17:37:56.827490Z"
    },
    "collapsed": false,
    "run_control": {
     "frozen": false,
     "read_only": false
    }
   },
   "outputs": [],
   "source": [
    "#import random\n",
    "matched_sample_brown = brown.words(categories = brown_imaginative_prose_cats)\n",
    "\n",
    "def getMatchedGutenbergSample():\n",
    "    return random.sample([word for word in gutenberg.words()], len(matched_sample_brown))\n",
    "\n",
    "matched_sample_gutenberg = getMatchedGutenbergSample()"
   ]
  },
  {
   "cell_type": "code",
   "execution_count": 45,
   "metadata": {
    "ExecuteTime": {
     "end_time": "2017-05-12T17:38:04.117453Z",
     "start_time": "2017-05-12T17:38:01.975027Z"
    },
    "collapsed": true,
    "run_control": {
     "frozen": false,
     "read_only": false
    }
   },
   "outputs": [],
   "source": [
    "brown_words = [word.lower() for word in matched_sample_brown] # last identifier was 'brown.words()' up above\n",
    "gutenberg_words = [word.lower() for word in matched_sample_gutenberg] # last identifier was 'gutenberg.words()' up above\n",
    "b_length = len(brown_words)\n",
    "g_length = len(gutenberg_words)\n",
    "\n",
    "normalized_brown_v = set(brown_words)\n",
    "normalized_gutenberg_v = set(gutenberg_words)\n",
    "b = len(normalized_brown_v)\n",
    "g = len(normalized_gutenberg_v)\n",
    "\n",
    "unnormalized_brown_v = set(matched_sample_brown)\n",
    "unnormalized_gutenberg_v = set(matched_sample_gutenberg)\n",
    "B = len(unnormalized_brown_v)\n",
    "G = len(unnormalized_gutenberg_v)"
   ]
  },
  {
   "cell_type": "markdown",
   "metadata": {
    "run_control": {
     "frozen": false,
     "read_only": false
    },
    "variables": {
     "format( (B-b)/B , ',f')": "0.081286",
     "format( (G-g)/G, ',f')": "0.107678",
     "format( (pow(B,2) - pow(b,2))/pow(B,2), ',f' )": "0.155965",
     "format( (pow(B,3) - pow(b,3))/pow(B,3), ',f' )": "0.224573",
     "format( (pow(B,4) - pow(b,4))/pow(B,4), ',f' )": "0.287605",
     "format( (pow(G,2) - pow(g,2))/pow(G,2), ',f' )": "0.203761",
     "format( (pow(G,3) - pow(g,3))/pow(G,3), ',f' )": "0.289499",
     "format( (pow(G,4) - pow(g,4))/pow(G,4), ',f' )": "0.366004",
     "format(B - b, ',d')": "1,800",
     "format(B, ',d')": "22,144",
     "format(G - g, ',d')": "2,084",
     "format(G, ',d')": "19,354",
     "format(b, ',d')": "20,344",
     "format(b_length, ',d')": "301,186",
     "format(g, ',d')": "17,270",
     "format(g_length, ',d')": "301,186"
    }
   },
   "source": [
    "| Corpus    | Length                     | Normed Vocab              | Unnormed Vocab      | V - v                   | (V-v)/V                     | (V^2 - v^2)/V^2 | (V^3 - v^3)/V^3 | (V^4 - v^4)/V^4 |\n",
    "|-----------|----------------------------|---------------------------|---------------------|-------------------------|-----------------------------|-----------------|-----------\n",
    "| Brown     | {{format(b_length, ',d')}} | {{format(b, ',d')}}       | {{format(B, ',d')}} | {{format(B - b, ',d')}} | {{format( (B-b)/B , ',f')}} | {{format( (pow(B,2) - pow(b,2))/pow(B,2), ',f' )}} | {{format( (pow(B,3) - pow(b,3))/pow(B,3), ',f' )}} | {{format( (pow(B,4) - pow(b,4))/pow(B,4), ',f' )}} |\n",
    "| Gutenberg | {{format(g_length, ',d')}} | {{format(g, ',d')}}       | {{format(G, ',d')}} | {{format(G - g, ',d')}} | {{format( (G-g)/G, ',f')}}  | {{format( (pow(G,2) - pow(g,2))/pow(G,2), ',f' )}} | {{format( (pow(G,3) - pow(g,3))/pow(G,3), ',f' )}} | {{format( (pow(G,4) - pow(g,4))/pow(G,4), ',f' )}} |"
   ]
  },
  {
   "cell_type": "markdown",
   "metadata": {
    "run_control": {
     "frozen": false,
     "read_only": false
    }
   },
   "source": [
    "Hmm...Maybe we were just unlucky?"
   ]
  },
  {
   "cell_type": "code",
   "execution_count": 46,
   "metadata": {
    "ExecuteTime": {
     "end_time": "2017-05-12T17:38:04.125612Z",
     "start_time": "2017-05-12T17:38:04.119323Z"
    },
    "collapsed": true,
    "run_control": {
     "frozen": false,
     "read_only": false
    }
   },
   "outputs": [],
   "source": [
    "#import numpy as np\n",
    "\n",
    "def createKsamples(k, samplingFunction, aCollection):\n",
    "    return [samplingFunction(aCollection) for i in range(k)]\n",
    "\n",
    "def avgAcrossSamples(measureOfSample, samples):\n",
    "    return np.mean([measureOfSample(sample) for sample in samples])\n",
    "\n",
    "def stdAcrossSamples(measureOfSample, samples):\n",
    "    return np.std([measureOfSample(sample) for sample in samples])"
   ]
  },
  {
   "cell_type": "code",
   "execution_count": 47,
   "metadata": {
    "ExecuteTime": {
     "end_time": "2017-05-12T17:38:32.801044Z",
     "start_time": "2017-05-12T17:38:04.127836Z"
    },
    "collapsed": false,
    "run_control": {
     "frozen": false,
     "read_only": false
    }
   },
   "outputs": [],
   "source": [
    "#Takes ~30s with num_samples = 20 on a 2.2 GHz Intel Core i7 MacBookAir \n",
    "num_samples = 20\n",
    "sample_length = len(matched_sample_brown)\n",
    "unnormalized_gutenberg_words = [word for word in gutenberg.words()]\n",
    "normalized_gutenberg_words = [word.lower() for word in gutenberg.words()]\n",
    "\n",
    "unnormalized_matched_gutenberg_samples = createKsamples(num_samples, lambda data: np.random.choice(data, size = sample_length, replace = False), unnormalized_gutenberg_words)\n",
    "normalized_matched_gutenberg_samples = createKsamples(num_samples, lambda data: np.random.choice(data, size = sample_length, replace = False), normalized_gutenberg_words)"
   ]
  },
  {
   "cell_type": "code",
   "execution_count": 48,
   "metadata": {
    "ExecuteTime": {
     "end_time": "2017-05-12T17:38:46.720537Z",
     "start_time": "2017-05-12T17:38:32.808055Z"
    },
    "collapsed": false,
    "run_control": {
     "frozen": false,
     "read_only": false
    }
   },
   "outputs": [],
   "source": [
    "#Takes ~15s with num_samples = 20 on a 2.2 GHz Intel Core i7 MBA\n",
    "#avg length - should be exactly the same as len(matched_sample_brown)\n",
    "unnormalized_G_length = avgAcrossSamples(len, unnormalized_matched_gutenberg_samples)\n",
    "normalized_g_length = avgAcrossSamples(len, normalized_matched_gutenberg_samples)\n",
    "\n",
    "#avg, std of vocab size\n",
    "unnormalized_G = avgAcrossSamples(lambda data: len(set(data)), unnormalized_matched_gutenberg_samples)\n",
    "std_G = stdAcrossSamples(lambda data: len(set(data)), unnormalized_matched_gutenberg_samples)\n",
    "\n",
    "normalized_g = avgAcrossSamples(lambda data: len(set(data)), normalized_matched_gutenberg_samples)\n",
    "std_g = stdAcrossSamples(lambda data: len(set(data)), normalized_matched_gutenberg_samples)"
   ]
  },
  {
   "cell_type": "code",
   "execution_count": 49,
   "metadata": {
    "ExecuteTime": {
     "end_time": "2017-05-12T17:38:46.744219Z",
     "start_time": "2017-05-12T17:38:46.723064Z"
    },
    "collapsed": false,
    "run_control": {
     "frozen": false,
     "read_only": false
    }
   },
   "outputs": [
    {
     "data": {
      "text/plain": [
       "301186.0"
      ]
     },
     "execution_count": 49,
     "metadata": {},
     "output_type": "execute_result"
    },
    {
     "data": {
      "text/plain": [
       "301186.0"
      ]
     },
     "execution_count": 49,
     "metadata": {},
     "output_type": "execute_result"
    },
    {
     "data": {
      "text/plain": [
       "19340.150000000001"
      ]
     },
     "execution_count": 49,
     "metadata": {},
     "output_type": "execute_result"
    },
    {
     "data": {
      "text/plain": [
       "70.710165464380026"
      ]
     },
     "execution_count": 49,
     "metadata": {},
     "output_type": "execute_result"
    },
    {
     "data": {
      "text/plain": [
       "17243.200000000001"
      ]
     },
     "execution_count": 49,
     "metadata": {},
     "output_type": "execute_result"
    },
    {
     "data": {
      "text/plain": [
       "62.655087582733451"
      ]
     },
     "execution_count": 49,
     "metadata": {},
     "output_type": "execute_result"
    }
   ],
   "source": [
    "unnormalized_G_length\n",
    "normalized_g_length\n",
    "unnormalized_G\n",
    "std_G\n",
    "normalized_g\n",
    "std_g"
   ]
  },
  {
   "cell_type": "markdown",
   "metadata": {
    "run_control": {
     "frozen": false,
     "read_only": false
    }
   },
   "source": [
    "## Modeling segue 2"
   ]
  },
  {
   "cell_type": "markdown",
   "metadata": {
    "run_control": {
     "frozen": false,
     "read_only": false
    }
   },
   "source": [
    "How much does the **word type count** (vocabulary) grow as a function of **word token count** while controlling for genre?"
   ]
  },
  {
   "cell_type": "markdown",
   "metadata": {
    "run_control": {
     "frozen": false,
     "read_only": false
    }
   },
   "source": [
    "The answer to this question will be a lot clearer with a corpus that has a lot more than 1-2 million words -- the free/open portion of the American National Corpus (http://www.anc.org/data/oanc/) has ~15 million words."
   ]
  },
  {
   "cell_type": "markdown",
   "metadata": {
    "run_control": {
     "frozen": false,
     "read_only": false
    }
   },
   "source": [
    "*(NB: The **download** and **unzipping** below will take a while -- **do this part of the lab outside of class...**)*"
   ]
  },
  {
   "cell_type": "code",
   "execution_count": 55,
   "metadata": {
    "ExecuteTime": {
     "end_time": "2017-05-12T14:37:01.429580Z",
     "start_time": "2017-05-12T14:36:01.105692Z"
    },
    "collapsed": true,
    "run_control": {
     "frozen": false,
     "read_only": false
    }
   },
   "outputs": [
    {
     "ename": "KeyboardInterrupt",
     "evalue": "",
     "output_type": "error",
     "traceback": [
      "\u001b[0;31m---------------------------------------------------------------------------\u001b[0m",
      "\u001b[0;31mKeyboardInterrupt\u001b[0m                         Traceback (most recent call last)",
      "\u001b[0;32m<ipython-input-55-aff0e23653d3>\u001b[0m in \u001b[0;36m<module>\u001b[0;34m()\u001b[0m\n\u001b[1;32m     12\u001b[0m     \u001b[0;32mreturn\u001b[0m \u001b[0mlocal_filename\u001b[0m\u001b[0;34m\u001b[0m\u001b[0m\n\u001b[1;32m     13\u001b[0m \u001b[0;34m\u001b[0m\u001b[0m\n\u001b[0;32m---> 14\u001b[0;31m \u001b[0mdownload_file\u001b[0m\u001b[0;34m(\u001b[0m\u001b[0moanc_URL\u001b[0m\u001b[0;34m)\u001b[0m\u001b[0;34m\u001b[0m\u001b[0m\n\u001b[0m",
      "\u001b[0;32m<ipython-input-55-aff0e23653d3>\u001b[0m in \u001b[0;36mdownload_file\u001b[0;34m(url)\u001b[0m\n\u001b[1;32m      9\u001b[0m         \u001b[0;32mfor\u001b[0m \u001b[0mchunk\u001b[0m \u001b[0;32min\u001b[0m \u001b[0mr\u001b[0m\u001b[0;34m.\u001b[0m\u001b[0miter_content\u001b[0m\u001b[0;34m(\u001b[0m\u001b[0mchunk_size\u001b[0m\u001b[0;34m=\u001b[0m\u001b[0;36m1024\u001b[0m\u001b[0;34m)\u001b[0m\u001b[0;34m:\u001b[0m\u001b[0;34m\u001b[0m\u001b[0m\n\u001b[1;32m     10\u001b[0m             \u001b[0;32mif\u001b[0m \u001b[0mchunk\u001b[0m\u001b[0;34m:\u001b[0m \u001b[0;31m# filter out keep-alive new chunks\u001b[0m\u001b[0;34m\u001b[0m\u001b[0m\n\u001b[0;32m---> 11\u001b[0;31m                 \u001b[0mf\u001b[0m\u001b[0;34m.\u001b[0m\u001b[0mwrite\u001b[0m\u001b[0;34m(\u001b[0m\u001b[0mchunk\u001b[0m\u001b[0;34m)\u001b[0m\u001b[0;34m\u001b[0m\u001b[0m\n\u001b[0m\u001b[1;32m     12\u001b[0m     \u001b[0;32mreturn\u001b[0m \u001b[0mlocal_filename\u001b[0m\u001b[0;34m\u001b[0m\u001b[0m\n\u001b[1;32m     13\u001b[0m \u001b[0;34m\u001b[0m\u001b[0m\n",
      "\u001b[0;31mKeyboardInterrupt\u001b[0m: "
     ]
    }
   ],
   "source": [
    "oanc_URL = 'http://www.anc.org/OANC/OANC_GrAF.zip'\n",
    "\n",
    "#import requests\n",
    "#from http://stackoverflow.com/questions/16694907/how-to-download-large-file-in-python-with-requests-py\n",
    "def download_file(url):\n",
    "    local_filename = url.split('/')[-1]\n",
    "    r = requests.get(url, stream=True)\n",
    "    with open(local_filename, 'wb') as f:\n",
    "        for chunk in r.iter_content(chunk_size=1024): \n",
    "            if chunk: # filter out keep-alive new chunks\n",
    "                f.write(chunk)\n",
    "    return local_filename\n",
    "\n",
    "download_file(oanc_URL)"
   ]
  },
  {
   "cell_type": "code",
   "execution_count": 56,
   "metadata": {
    "ExecuteTime": {
     "end_time": "2017-05-12T14:37:01.453721Z",
     "start_time": "2017-05-12T14:37:01.432494Z"
    },
    "collapsed": true,
    "run_control": {
     "frozen": false,
     "read_only": false
    }
   },
   "outputs": [
    {
     "ename": "BadZipFile",
     "evalue": "File is not a zip file",
     "output_type": "error",
     "traceback": [
      "\u001b[0;31m---------------------------------------------------------------------------\u001b[0m",
      "\u001b[0;31mBadZipFile\u001b[0m                                Traceback (most recent call last)",
      "\u001b[0;32m<ipython-input-56-dc9807e7a77b>\u001b[0m in \u001b[0;36m<module>\u001b[0;34m()\u001b[0m\n\u001b[1;32m      1\u001b[0m \u001b[0;31m#import zipfile\u001b[0m\u001b[0;34m\u001b[0m\u001b[0;34m\u001b[0m\u001b[0m\n\u001b[0;32m----> 2\u001b[0;31m \u001b[0;32mwith\u001b[0m \u001b[0mzipfile\u001b[0m\u001b[0;34m.\u001b[0m\u001b[0mZipFile\u001b[0m\u001b[0;34m(\u001b[0m\u001b[0;34m\"OANC_GrAF.zip\"\u001b[0m\u001b[0;34m,\u001b[0m\u001b[0;34m\"r\"\u001b[0m\u001b[0;34m)\u001b[0m \u001b[0;32mas\u001b[0m \u001b[0mzip_ref\u001b[0m\u001b[0;34m:\u001b[0m\u001b[0;34m\u001b[0m\u001b[0m\n\u001b[0m\u001b[1;32m      3\u001b[0m     \u001b[0mzip_ref\u001b[0m\u001b[0;34m.\u001b[0m\u001b[0mextractall\u001b[0m\u001b[0;34m(\u001b[0m\u001b[0;34m)\u001b[0m\u001b[0;34m\u001b[0m\u001b[0m\n",
      "\u001b[0;32m/Users/ericmeinhardt/anaconda/lib/python3.5/zipfile.py\u001b[0m in \u001b[0;36m__init__\u001b[0;34m(self, file, mode, compression, allowZip64)\u001b[0m\n\u001b[1;32m   1024\u001b[0m         \u001b[0;32mtry\u001b[0m\u001b[0;34m:\u001b[0m\u001b[0;34m\u001b[0m\u001b[0m\n\u001b[1;32m   1025\u001b[0m             \u001b[0;32mif\u001b[0m \u001b[0mmode\u001b[0m \u001b[0;34m==\u001b[0m \u001b[0;34m'r'\u001b[0m\u001b[0;34m:\u001b[0m\u001b[0;34m\u001b[0m\u001b[0m\n\u001b[0;32m-> 1026\u001b[0;31m                 \u001b[0mself\u001b[0m\u001b[0;34m.\u001b[0m\u001b[0m_RealGetContents\u001b[0m\u001b[0;34m(\u001b[0m\u001b[0;34m)\u001b[0m\u001b[0;34m\u001b[0m\u001b[0m\n\u001b[0m\u001b[1;32m   1027\u001b[0m             \u001b[0;32melif\u001b[0m \u001b[0mmode\u001b[0m \u001b[0;32min\u001b[0m \u001b[0;34m(\u001b[0m\u001b[0;34m'w'\u001b[0m\u001b[0;34m,\u001b[0m \u001b[0;34m'x'\u001b[0m\u001b[0;34m)\u001b[0m\u001b[0;34m:\u001b[0m\u001b[0;34m\u001b[0m\u001b[0m\n\u001b[1;32m   1028\u001b[0m                 \u001b[0;31m# set the modified flag so central directory gets written\u001b[0m\u001b[0;34m\u001b[0m\u001b[0;34m\u001b[0m\u001b[0m\n",
      "\u001b[0;32m/Users/ericmeinhardt/anaconda/lib/python3.5/zipfile.py\u001b[0m in \u001b[0;36m_RealGetContents\u001b[0;34m(self)\u001b[0m\n\u001b[1;32m   1091\u001b[0m             \u001b[0;32mraise\u001b[0m \u001b[0mBadZipFile\u001b[0m\u001b[0;34m(\u001b[0m\u001b[0;34m\"File is not a zip file\"\u001b[0m\u001b[0;34m)\u001b[0m\u001b[0;34m\u001b[0m\u001b[0m\n\u001b[1;32m   1092\u001b[0m         \u001b[0;32mif\u001b[0m \u001b[0;32mnot\u001b[0m \u001b[0mendrec\u001b[0m\u001b[0;34m:\u001b[0m\u001b[0;34m\u001b[0m\u001b[0m\n\u001b[0;32m-> 1093\u001b[0;31m             \u001b[0;32mraise\u001b[0m \u001b[0mBadZipFile\u001b[0m\u001b[0;34m(\u001b[0m\u001b[0;34m\"File is not a zip file\"\u001b[0m\u001b[0;34m)\u001b[0m\u001b[0;34m\u001b[0m\u001b[0m\n\u001b[0m\u001b[1;32m   1094\u001b[0m         \u001b[0;32mif\u001b[0m \u001b[0mself\u001b[0m\u001b[0;34m.\u001b[0m\u001b[0mdebug\u001b[0m \u001b[0;34m>\u001b[0m \u001b[0;36m1\u001b[0m\u001b[0;34m:\u001b[0m\u001b[0;34m\u001b[0m\u001b[0m\n\u001b[1;32m   1095\u001b[0m             \u001b[0mprint\u001b[0m\u001b[0;34m(\u001b[0m\u001b[0mendrec\u001b[0m\u001b[0;34m)\u001b[0m\u001b[0;34m\u001b[0m\u001b[0m\n",
      "\u001b[0;31mBadZipFile\u001b[0m: File is not a zip file"
     ]
    }
   ],
   "source": [
    "#import zipfile\n",
    "with zipfile.ZipFile(\"OANC_GrAF.zip\",\"r\") as zip_ref:\n",
    "    zip_ref.extractall()"
   ]
  },
  {
   "cell_type": "markdown",
   "metadata": {
    "run_control": {
     "frozen": false,
     "read_only": false
    }
   },
   "source": [
    "Let's grab all text files in the current working directory..."
   ]
  },
  {
   "cell_type": "code",
   "execution_count": 50,
   "metadata": {
    "ExecuteTime": {
     "end_time": "2017-05-12T17:38:49.804667Z",
     "start_time": "2017-05-12T17:38:46.747497Z"
    },
    "collapsed": false,
    "run_control": {
     "frozen": false,
     "read_only": false
    }
   },
   "outputs": [
    {
     "data": {
      "text/plain": [
       "['OANC-GrAF/data/spoken/face-to-face/charlotte/AdamsElissa.txt',\n",
       " 'OANC-GrAF/data/spoken/face-to-face/charlotte/AdamsStephanie.txt',\n",
       " 'OANC-GrAF/data/spoken/face-to-face/charlotte/AdinolfiDavidandGail.txt',\n",
       " 'OANC-GrAF/data/spoken/face-to-face/charlotte/ArguetaBertila-ENG.txt',\n",
       " 'OANC-GrAF/data/spoken/face-to-face/charlotte/AverittShannon.txt',\n",
       " 'OANC-GrAF/data/spoken/face-to-face/charlotte/BlanchardTracy.txt',\n",
       " 'OANC-GrAF/data/spoken/face-to-face/charlotte/BorelRaymondHydeII.txt',\n",
       " 'OANC-GrAF/data/spoken/face-to-face/charlotte/BorelRaymondHydeIII.txt',\n",
       " 'OANC-GrAF/data/spoken/face-to-face/charlotte/BranchElbert.txt',\n",
       " 'OANC-GrAF/data/spoken/face-to-face/charlotte/CaseCullen.txt',\n",
       " 'OANC-GrAF/data/spoken/face-to-face/charlotte/CerdaAdam.txt',\n",
       " 'OANC-GrAF/data/spoken/face-to-face/charlotte/ChapmanDebbie.txt',\n",
       " 'OANC-GrAF/data/spoken/face-to-face/charlotte/CheezemBurt.txt',\n",
       " 'OANC-GrAF/data/spoken/face-to-face/charlotte/CombsJane.txt',\n",
       " 'OANC-GrAF/data/spoken/face-to-face/charlotte/CorderoRosalinda.txt',\n",
       " 'OANC-GrAF/data/spoken/face-to-face/charlotte/CottonGloria.txt',\n",
       " 'OANC-GrAF/data/spoken/face-to-face/charlotte/CoxJeremy.txt',\n",
       " 'OANC-GrAF/data/spoken/face-to-face/charlotte/DeLuciaBrian.txt',\n",
       " 'OANC-GrAF/data/spoken/face-to-face/charlotte/EmrichDavid.txt',\n",
       " 'OANC-GrAF/data/spoken/face-to-face/charlotte/EmrichMegan.txt',\n",
       " 'OANC-GrAF/data/spoken/face-to-face/charlotte/FarrowThomas.txt',\n",
       " 'OANC-GrAF/data/spoken/face-to-face/charlotte/FeberAngelina.txt',\n",
       " 'OANC-GrAF/data/spoken/face-to-face/charlotte/FlonoFannie.txt',\n",
       " 'OANC-GrAF/data/spoken/face-to-face/charlotte/FosterDimitra.txt',\n",
       " 'OANC-GrAF/data/spoken/face-to-face/charlotte/FrancisClem.txt',\n",
       " 'OANC-GrAF/data/spoken/face-to-face/charlotte/FunkBernie.txt',\n",
       " 'OANC-GrAF/data/spoken/face-to-face/charlotte/GavinJeff.txt',\n",
       " 'OANC-GrAF/data/spoken/face-to-face/charlotte/GillardSylvia.txt',\n",
       " 'OANC-GrAF/data/spoken/face-to-face/charlotte/GoedekeThomas.txt',\n",
       " 'OANC-GrAF/data/spoken/face-to-face/charlotte/GoodroeBarbara.txt',\n",
       " 'OANC-GrAF/data/spoken/face-to-face/charlotte/GreeneKevin.txt',\n",
       " 'OANC-GrAF/data/spoken/face-to-face/charlotte/GregoryAvis.txt',\n",
       " 'OANC-GrAF/data/spoken/face-to-face/charlotte/GubbinsPat.txt',\n",
       " 'OANC-GrAF/data/spoken/face-to-face/charlotte/HebardCliff.txt',\n",
       " 'OANC-GrAF/data/spoken/face-to-face/charlotte/HicksDebra.txt',\n",
       " 'OANC-GrAF/data/spoken/face-to-face/charlotte/HodgesSamuel.txt',\n",
       " 'OANC-GrAF/data/spoken/face-to-face/charlotte/HouseJennifer.txt',\n",
       " 'OANC-GrAF/data/spoken/face-to-face/charlotte/JamiesonSean.txt',\n",
       " 'OANC-GrAF/data/spoken/face-to-face/charlotte/JandaJanet.txt',\n",
       " 'OANC-GrAF/data/spoken/face-to-face/charlotte/JenkinsJoe.txt',\n",
       " 'OANC-GrAF/data/spoken/face-to-face/charlotte/KalbererLauren.txt',\n",
       " 'OANC-GrAF/data/spoken/face-to-face/charlotte/LeakJeffrey.txt',\n",
       " 'OANC-GrAF/data/spoken/face-to-face/charlotte/LidingtonLinda.txt',\n",
       " 'OANC-GrAF/data/spoken/face-to-face/charlotte/LloydTabatha.txt',\n",
       " 'OANC-GrAF/data/spoken/face-to-face/charlotte/LowranceHugh.txt',\n",
       " 'OANC-GrAF/data/spoken/face-to-face/charlotte/LowranceSally.txt',\n",
       " 'OANC-GrAF/data/spoken/face-to-face/charlotte/LuhrChantal.txt',\n",
       " 'OANC-GrAF/data/spoken/face-to-face/charlotte/ManserAlexis.txt',\n",
       " 'OANC-GrAF/data/spoken/face-to-face/charlotte/McCloskeyKevin.txt',\n",
       " 'OANC-GrAF/data/spoken/face-to-face/charlotte/MevilleSusan.txt',\n",
       " 'OANC-GrAF/data/spoken/face-to-face/charlotte/MillerFlora.txt',\n",
       " 'OANC-GrAF/data/spoken/face-to-face/charlotte/MillsJanie.txt',\n",
       " 'OANC-GrAF/data/spoken/face-to-face/charlotte/MorrisKatie.txt',\n",
       " 'OANC-GrAF/data/spoken/face-to-face/charlotte/MottSara.txt',\n",
       " 'OANC-GrAF/data/spoken/face-to-face/charlotte/MurphySarah.txt',\n",
       " 'OANC-GrAF/data/spoken/face-to-face/charlotte/MylesDorian.txt',\n",
       " 'OANC-GrAF/data/spoken/face-to-face/charlotte/NapierDianne.txt',\n",
       " 'OANC-GrAF/data/spoken/face-to-face/charlotte/NesbittFrank.txt',\n",
       " 'OANC-GrAF/data/spoken/face-to-face/charlotte/O_ConnorChris.txt',\n",
       " 'OANC-GrAF/data/spoken/face-to-face/charlotte/PetersDamien.txt',\n",
       " 'OANC-GrAF/data/spoken/face-to-face/charlotte/PhillipsJason.txt',\n",
       " 'OANC-GrAF/data/spoken/face-to-face/charlotte/PolkMaria.txt',\n",
       " 'OANC-GrAF/data/spoken/face-to-face/charlotte/PrevatteStephanie.txt',\n",
       " 'OANC-GrAF/data/spoken/face-to-face/charlotte/PropstKenny.txt',\n",
       " 'OANC-GrAF/data/spoken/face-to-face/charlotte/PurdieMatthew.txt',\n",
       " 'OANC-GrAF/data/spoken/face-to-face/charlotte/PutnamScott.txt',\n",
       " 'OANC-GrAF/data/spoken/face-to-face/charlotte/QuelerAdam.txt',\n",
       " 'OANC-GrAF/data/spoken/face-to-face/charlotte/RagoneseLaura.txt',\n",
       " 'OANC-GrAF/data/spoken/face-to-face/charlotte/ReeseJennifer.txt',\n",
       " 'OANC-GrAF/data/spoken/face-to-face/charlotte/ReidSandra.txt',\n",
       " 'OANC-GrAF/data/spoken/face-to-face/charlotte/RindnerBonnie.txt',\n",
       " 'OANC-GrAF/data/spoken/face-to-face/charlotte/RussellMary.txt',\n",
       " 'OANC-GrAF/data/spoken/face-to-face/charlotte/ShamblinGladys.txt',\n",
       " 'OANC-GrAF/data/spoken/face-to-face/charlotte/SheltonMichael.txt',\n",
       " 'OANC-GrAF/data/spoken/face-to-face/charlotte/ShieldsStacy.txt',\n",
       " 'OANC-GrAF/data/spoken/face-to-face/charlotte/SilvaCaroline.txt',\n",
       " 'OANC-GrAF/data/spoken/face-to-face/charlotte/SilvaIvonne.txt',\n",
       " 'OANC-GrAF/data/spoken/face-to-face/charlotte/SmithPatricia.txt',\n",
       " 'OANC-GrAF/data/spoken/face-to-face/charlotte/SpeckmanNancy.txt',\n",
       " 'OANC-GrAF/data/spoken/face-to-face/charlotte/StackCarmen.txt',\n",
       " 'OANC-GrAF/data/spoken/face-to-face/charlotte/StJohnEric.txt',\n",
       " 'OANC-GrAF/data/spoken/face-to-face/charlotte/StoweCatherine.txt',\n",
       " 'OANC-GrAF/data/spoken/face-to-face/charlotte/ThomasKay.txt',\n",
       " 'OANC-GrAF/data/spoken/face-to-face/charlotte/ThomasLamar.txt',\n",
       " 'OANC-GrAF/data/spoken/face-to-face/charlotte/WenlyRichard.txt',\n",
       " 'OANC-GrAF/data/spoken/face-to-face/charlotte/WentzLarry.txt',\n",
       " 'OANC-GrAF/data/spoken/face-to-face/charlotte/WentzLinda.txt',\n",
       " 'OANC-GrAF/data/spoken/face-to-face/charlotte/WerthChristopher.txt',\n",
       " 'OANC-GrAF/data/spoken/face-to-face/charlotte/WhiteChristine.txt',\n",
       " 'OANC-GrAF/data/spoken/face-to-face/charlotte/WhiteJustin.txt',\n",
       " 'OANC-GrAF/data/spoken/face-to-face/charlotte/WorthingtonFrances.txt',\n",
       " 'OANC-GrAF/data/spoken/face-to-face/charlotte/WynnTammi.txt',\n",
       " 'OANC-GrAF/data/spoken/face-to-face/charlotte/YoussefJoseph.txt',\n",
       " 'OANC-GrAF/data/spoken/telephone/switchboard/20/sw2001-ms98-a-trans.txt',\n",
       " 'OANC-GrAF/data/spoken/telephone/switchboard/20/sw2005-ms98-a-trans.txt',\n",
       " 'OANC-GrAF/data/spoken/telephone/switchboard/20/sw2006-ms98-a-trans.txt',\n",
       " 'OANC-GrAF/data/spoken/telephone/switchboard/20/sw2008-ms98-a-trans.txt',\n",
       " 'OANC-GrAF/data/spoken/telephone/switchboard/20/sw2009-ms98-a-trans.txt',\n",
       " 'OANC-GrAF/data/spoken/telephone/switchboard/20/sw2010-ms98-a-trans.txt',\n",
       " 'OANC-GrAF/data/spoken/telephone/switchboard/20/sw2012-ms98-a-trans.txt',\n",
       " 'OANC-GrAF/data/spoken/telephone/switchboard/20/sw2013-ms98-a-trans.txt',\n",
       " 'OANC-GrAF/data/spoken/telephone/switchboard/20/sw2014-ms98-a-trans.txt',\n",
       " 'OANC-GrAF/data/spoken/telephone/switchboard/20/sw2015-ms98-a-trans.txt',\n",
       " 'OANC-GrAF/data/spoken/telephone/switchboard/20/sw2017-ms98-a-trans.txt',\n",
       " 'OANC-GrAF/data/spoken/telephone/switchboard/20/sw2018-ms98-a-trans.txt',\n",
       " 'OANC-GrAF/data/spoken/telephone/switchboard/20/sw2020-ms98-a-trans.txt',\n",
       " 'OANC-GrAF/data/spoken/telephone/switchboard/20/sw2022-ms98-a-trans.txt',\n",
       " 'OANC-GrAF/data/spoken/telephone/switchboard/20/sw2023-ms98-a-trans.txt',\n",
       " 'OANC-GrAF/data/spoken/telephone/switchboard/20/sw2024-ms98-a-trans.txt',\n",
       " 'OANC-GrAF/data/spoken/telephone/switchboard/20/sw2025-ms98-a-trans.txt',\n",
       " 'OANC-GrAF/data/spoken/telephone/switchboard/20/sw2027-ms98-a-trans.txt',\n",
       " 'OANC-GrAF/data/spoken/telephone/switchboard/20/sw2028-ms98-a-trans.txt',\n",
       " 'OANC-GrAF/data/spoken/telephone/switchboard/20/sw2035-ms98-a-trans.txt',\n",
       " 'OANC-GrAF/data/spoken/telephone/switchboard/20/sw2036-ms98-a-trans.txt',\n",
       " 'OANC-GrAF/data/spoken/telephone/switchboard/20/sw2038-ms98-a-trans.txt',\n",
       " 'OANC-GrAF/data/spoken/telephone/switchboard/20/sw2039-ms98-a-trans.txt',\n",
       " 'OANC-GrAF/data/spoken/telephone/switchboard/20/sw2040-ms98-a-trans.txt',\n",
       " 'OANC-GrAF/data/spoken/telephone/switchboard/20/sw2041-ms98-a-trans.txt',\n",
       " 'OANC-GrAF/data/spoken/telephone/switchboard/20/sw2044-ms98-a-trans.txt',\n",
       " 'OANC-GrAF/data/spoken/telephone/switchboard/20/sw2045-ms98-a-trans.txt',\n",
       " 'OANC-GrAF/data/spoken/telephone/switchboard/20/sw2050-ms98-a-trans.txt',\n",
       " 'OANC-GrAF/data/spoken/telephone/switchboard/20/sw2051-ms98-a-trans.txt',\n",
       " 'OANC-GrAF/data/spoken/telephone/switchboard/20/sw2053-ms98-a-trans.txt',\n",
       " 'OANC-GrAF/data/spoken/telephone/switchboard/20/sw2055-ms98-a-trans.txt',\n",
       " 'OANC-GrAF/data/spoken/telephone/switchboard/20/sw2056-ms98-a-trans.txt',\n",
       " 'OANC-GrAF/data/spoken/telephone/switchboard/20/sw2057-ms98-a-trans.txt',\n",
       " 'OANC-GrAF/data/spoken/telephone/switchboard/20/sw2060-ms98-a-trans.txt',\n",
       " 'OANC-GrAF/data/spoken/telephone/switchboard/20/sw2061-ms98-a-trans.txt',\n",
       " 'OANC-GrAF/data/spoken/telephone/switchboard/20/sw2062-ms98-a-trans.txt',\n",
       " 'OANC-GrAF/data/spoken/telephone/switchboard/20/sw2064-ms98-a-trans.txt',\n",
       " 'OANC-GrAF/data/spoken/telephone/switchboard/20/sw2065-ms98-a-trans.txt',\n",
       " 'OANC-GrAF/data/spoken/telephone/switchboard/20/sw2067-ms98-a-trans.txt',\n",
       " 'OANC-GrAF/data/spoken/telephone/switchboard/20/sw2071-ms98-a-trans.txt',\n",
       " 'OANC-GrAF/data/spoken/telephone/switchboard/20/sw2072-ms98-a-trans.txt',\n",
       " 'OANC-GrAF/data/spoken/telephone/switchboard/20/sw2073-ms98-a-trans.txt',\n",
       " 'OANC-GrAF/data/spoken/telephone/switchboard/20/sw2078-ms98-a-trans.txt',\n",
       " 'OANC-GrAF/data/spoken/telephone/switchboard/20/sw2079-ms98-a-trans.txt',\n",
       " 'OANC-GrAF/data/spoken/telephone/switchboard/20/sw2096-ms98-a-trans.txt',\n",
       " 'OANC-GrAF/data/spoken/telephone/switchboard/21/sw2101-ms98-a-trans.txt',\n",
       " 'OANC-GrAF/data/spoken/telephone/switchboard/21/sw2102-ms98-a-trans.txt',\n",
       " 'OANC-GrAF/data/spoken/telephone/switchboard/21/sw2104-ms98-a-trans.txt',\n",
       " 'OANC-GrAF/data/spoken/telephone/switchboard/21/sw2107-ms98-a-trans.txt',\n",
       " 'OANC-GrAF/data/spoken/telephone/switchboard/21/sw2108-ms98-a-trans.txt',\n",
       " 'OANC-GrAF/data/spoken/telephone/switchboard/21/sw2109-ms98-a-trans.txt',\n",
       " 'OANC-GrAF/data/spoken/telephone/switchboard/21/sw2110-ms98-a-trans.txt',\n",
       " 'OANC-GrAF/data/spoken/telephone/switchboard/21/sw2111-ms98-a-trans.txt',\n",
       " 'OANC-GrAF/data/spoken/telephone/switchboard/21/sw2113-ms98-a-trans.txt',\n",
       " 'OANC-GrAF/data/spoken/telephone/switchboard/21/sw2114-ms98-a-trans.txt',\n",
       " 'OANC-GrAF/data/spoken/telephone/switchboard/21/sw2116-ms98-a-trans.txt',\n",
       " 'OANC-GrAF/data/spoken/telephone/switchboard/21/sw2118-ms98-a-trans.txt',\n",
       " 'OANC-GrAF/data/spoken/telephone/switchboard/21/sw2120-ms98-a-trans.txt',\n",
       " 'OANC-GrAF/data/spoken/telephone/switchboard/21/sw2121-ms98-a-trans.txt',\n",
       " 'OANC-GrAF/data/spoken/telephone/switchboard/21/sw2122-ms98-a-trans.txt',\n",
       " 'OANC-GrAF/data/spoken/telephone/switchboard/21/sw2123-ms98-a-trans.txt',\n",
       " 'OANC-GrAF/data/spoken/telephone/switchboard/21/sw2124-ms98-a-trans.txt',\n",
       " 'OANC-GrAF/data/spoken/telephone/switchboard/21/sw2125-ms98-a-trans.txt',\n",
       " 'OANC-GrAF/data/spoken/telephone/switchboard/21/sw2129-ms98-a-trans.txt',\n",
       " 'OANC-GrAF/data/spoken/telephone/switchboard/21/sw2130-ms98-a-trans.txt',\n",
       " 'OANC-GrAF/data/spoken/telephone/switchboard/21/sw2131-ms98-a-trans.txt',\n",
       " 'OANC-GrAF/data/spoken/telephone/switchboard/21/sw2136-ms98-a-trans.txt',\n",
       " 'OANC-GrAF/data/spoken/telephone/switchboard/21/sw2139-ms98-a-trans.txt',\n",
       " 'OANC-GrAF/data/spoken/telephone/switchboard/21/sw2141-ms98-a-trans.txt',\n",
       " 'OANC-GrAF/data/spoken/telephone/switchboard/21/sw2145-ms98-a-trans.txt',\n",
       " 'OANC-GrAF/data/spoken/telephone/switchboard/21/sw2149-ms98-a-trans.txt',\n",
       " 'OANC-GrAF/data/spoken/telephone/switchboard/21/sw2150-ms98-a-trans.txt',\n",
       " 'OANC-GrAF/data/spoken/telephone/switchboard/21/sw2151-ms98-a-trans.txt',\n",
       " 'OANC-GrAF/data/spoken/telephone/switchboard/21/sw2152-ms98-a-trans.txt',\n",
       " 'OANC-GrAF/data/spoken/telephone/switchboard/21/sw2153-ms98-a-trans.txt',\n",
       " 'OANC-GrAF/data/spoken/telephone/switchboard/21/sw2154-ms98-a-trans.txt',\n",
       " 'OANC-GrAF/data/spoken/telephone/switchboard/21/sw2155-ms98-a-trans.txt',\n",
       " 'OANC-GrAF/data/spoken/telephone/switchboard/21/sw2157-ms98-a-trans.txt',\n",
       " 'OANC-GrAF/data/spoken/telephone/switchboard/21/sw2158-ms98-a-trans.txt',\n",
       " 'OANC-GrAF/data/spoken/telephone/switchboard/21/sw2160-ms98-a-trans.txt',\n",
       " 'OANC-GrAF/data/spoken/telephone/switchboard/21/sw2161-ms98-a-trans.txt',\n",
       " 'OANC-GrAF/data/spoken/telephone/switchboard/21/sw2162-ms98-a-trans.txt',\n",
       " 'OANC-GrAF/data/spoken/telephone/switchboard/21/sw2163-ms98-a-trans.txt',\n",
       " 'OANC-GrAF/data/spoken/telephone/switchboard/21/sw2164-ms98-a-trans.txt',\n",
       " 'OANC-GrAF/data/spoken/telephone/switchboard/21/sw2165-ms98-a-trans.txt',\n",
       " 'OANC-GrAF/data/spoken/telephone/switchboard/21/sw2166-ms98-a-trans.txt',\n",
       " 'OANC-GrAF/data/spoken/telephone/switchboard/21/sw2167-ms98-a-trans.txt',\n",
       " 'OANC-GrAF/data/spoken/telephone/switchboard/21/sw2169-ms98-a-trans.txt',\n",
       " 'OANC-GrAF/data/spoken/telephone/switchboard/21/sw2171-ms98-a-trans.txt',\n",
       " 'OANC-GrAF/data/spoken/telephone/switchboard/21/sw2172-ms98-a-trans.txt',\n",
       " 'OANC-GrAF/data/spoken/telephone/switchboard/21/sw2173-ms98-a-trans.txt',\n",
       " 'OANC-GrAF/data/spoken/telephone/switchboard/21/sw2174-ms98-a-trans.txt',\n",
       " 'OANC-GrAF/data/spoken/telephone/switchboard/21/sw2176-ms98-a-trans.txt',\n",
       " 'OANC-GrAF/data/spoken/telephone/switchboard/21/sw2177-ms98-a-trans.txt',\n",
       " 'OANC-GrAF/data/spoken/telephone/switchboard/21/sw2178-ms98-a-trans.txt',\n",
       " 'OANC-GrAF/data/spoken/telephone/switchboard/21/sw2179-ms98-a-trans.txt',\n",
       " 'OANC-GrAF/data/spoken/telephone/switchboard/21/sw2180-ms98-a-trans.txt',\n",
       " 'OANC-GrAF/data/spoken/telephone/switchboard/21/sw2181-ms98-a-trans.txt',\n",
       " 'OANC-GrAF/data/spoken/telephone/switchboard/21/sw2182-ms98-a-trans.txt',\n",
       " 'OANC-GrAF/data/spoken/telephone/switchboard/21/sw2184-ms98-a-trans.txt',\n",
       " 'OANC-GrAF/data/spoken/telephone/switchboard/21/sw2185-ms98-a-trans.txt',\n",
       " 'OANC-GrAF/data/spoken/telephone/switchboard/21/sw2186-ms98-a-trans.txt',\n",
       " 'OANC-GrAF/data/spoken/telephone/switchboard/21/sw2187-ms98-a-trans.txt',\n",
       " 'OANC-GrAF/data/spoken/telephone/switchboard/21/sw2189-ms98-a-trans.txt',\n",
       " 'OANC-GrAF/data/spoken/telephone/switchboard/21/sw2190-ms98-a-trans.txt',\n",
       " 'OANC-GrAF/data/spoken/telephone/switchboard/21/sw2191-ms98-a-trans.txt',\n",
       " 'OANC-GrAF/data/spoken/telephone/switchboard/21/sw2193-ms98-a-trans.txt',\n",
       " 'OANC-GrAF/data/spoken/telephone/switchboard/21/sw2194-ms98-a-trans.txt',\n",
       " 'OANC-GrAF/data/spoken/telephone/switchboard/21/sw2195-ms98-a-trans.txt',\n",
       " 'OANC-GrAF/data/spoken/telephone/switchboard/21/sw2196-ms98-a-trans.txt',\n",
       " 'OANC-GrAF/data/spoken/telephone/switchboard/21/sw2197-ms98-a-trans.txt',\n",
       " 'OANC-GrAF/data/spoken/telephone/switchboard/21/sw2198-ms98-a-trans.txt',\n",
       " 'OANC-GrAF/data/spoken/telephone/switchboard/21/sw2199-ms98-a-trans.txt',\n",
       " 'OANC-GrAF/data/spoken/telephone/switchboard/22/sw2201-ms98-a-trans.txt',\n",
       " 'OANC-GrAF/data/spoken/telephone/switchboard/22/sw2202-ms98-a-trans.txt',\n",
       " 'OANC-GrAF/data/spoken/telephone/switchboard/22/sw2203-ms98-a-trans.txt',\n",
       " 'OANC-GrAF/data/spoken/telephone/switchboard/22/sw2204-ms98-a-trans.txt',\n",
       " 'OANC-GrAF/data/spoken/telephone/switchboard/22/sw2205-ms98-a-trans.txt',\n",
       " 'OANC-GrAF/data/spoken/telephone/switchboard/22/sw2206-ms98-a-trans.txt',\n",
       " 'OANC-GrAF/data/spoken/telephone/switchboard/22/sw2220-ms98-a-trans.txt',\n",
       " 'OANC-GrAF/data/spoken/telephone/switchboard/22/sw2221-ms98-a-trans.txt',\n",
       " 'OANC-GrAF/data/spoken/telephone/switchboard/22/sw2222-ms98-a-trans.txt',\n",
       " 'OANC-GrAF/data/spoken/telephone/switchboard/22/sw2223-ms98-a-trans.txt',\n",
       " 'OANC-GrAF/data/spoken/telephone/switchboard/22/sw2224-ms98-a-trans.txt',\n",
       " 'OANC-GrAF/data/spoken/telephone/switchboard/22/sw2226-ms98-a-trans.txt',\n",
       " 'OANC-GrAF/data/spoken/telephone/switchboard/22/sw2227-ms98-a-trans.txt',\n",
       " 'OANC-GrAF/data/spoken/telephone/switchboard/22/sw2228-ms98-a-trans.txt',\n",
       " 'OANC-GrAF/data/spoken/telephone/switchboard/22/sw2229-ms98-a-trans.txt',\n",
       " 'OANC-GrAF/data/spoken/telephone/switchboard/22/sw2230-ms98-a-trans.txt',\n",
       " 'OANC-GrAF/data/spoken/telephone/switchboard/22/sw2231-ms98-a-trans.txt',\n",
       " 'OANC-GrAF/data/spoken/telephone/switchboard/22/sw2232-ms98-a-trans.txt',\n",
       " 'OANC-GrAF/data/spoken/telephone/switchboard/22/sw2233-ms98-a-trans.txt',\n",
       " 'OANC-GrAF/data/spoken/telephone/switchboard/22/sw2234-ms98-a-trans.txt',\n",
       " 'OANC-GrAF/data/spoken/telephone/switchboard/22/sw2235-ms98-a-trans.txt',\n",
       " 'OANC-GrAF/data/spoken/telephone/switchboard/22/sw2236-ms98-a-trans.txt',\n",
       " 'OANC-GrAF/data/spoken/telephone/switchboard/22/sw2237-ms98-a-trans.txt',\n",
       " 'OANC-GrAF/data/spoken/telephone/switchboard/22/sw2238-ms98-a-trans.txt',\n",
       " 'OANC-GrAF/data/spoken/telephone/switchboard/22/sw2239-ms98-a-trans.txt',\n",
       " 'OANC-GrAF/data/spoken/telephone/switchboard/22/sw2240-ms98-a-trans.txt',\n",
       " 'OANC-GrAF/data/spoken/telephone/switchboard/22/sw2242-ms98-a-trans.txt',\n",
       " 'OANC-GrAF/data/spoken/telephone/switchboard/22/sw2243-ms98-a-trans.txt',\n",
       " 'OANC-GrAF/data/spoken/telephone/switchboard/22/sw2244-ms98-a-trans.txt',\n",
       " 'OANC-GrAF/data/spoken/telephone/switchboard/22/sw2245-ms98-a-trans.txt',\n",
       " 'OANC-GrAF/data/spoken/telephone/switchboard/22/sw2246-ms98-a-trans.txt',\n",
       " 'OANC-GrAF/data/spoken/telephone/switchboard/22/sw2247-ms98-a-trans.txt',\n",
       " 'OANC-GrAF/data/spoken/telephone/switchboard/22/sw2248-ms98-a-trans.txt',\n",
       " 'OANC-GrAF/data/spoken/telephone/switchboard/22/sw2249-ms98-a-trans.txt',\n",
       " 'OANC-GrAF/data/spoken/telephone/switchboard/22/sw2250-ms98-a-trans.txt',\n",
       " 'OANC-GrAF/data/spoken/telephone/switchboard/22/sw2251-ms98-a-trans.txt',\n",
       " 'OANC-GrAF/data/spoken/telephone/switchboard/22/sw2252-ms98-a-trans.txt',\n",
       " 'OANC-GrAF/data/spoken/telephone/switchboard/22/sw2253-ms98-a-trans.txt',\n",
       " 'OANC-GrAF/data/spoken/telephone/switchboard/22/sw2254-ms98-a-trans.txt',\n",
       " 'OANC-GrAF/data/spoken/telephone/switchboard/22/sw2255-ms98-a-trans.txt',\n",
       " 'OANC-GrAF/data/spoken/telephone/switchboard/22/sw2256-ms98-a-trans.txt',\n",
       " 'OANC-GrAF/data/spoken/telephone/switchboard/22/sw2257-ms98-a-trans.txt',\n",
       " 'OANC-GrAF/data/spoken/telephone/switchboard/22/sw2258-ms98-a-trans.txt',\n",
       " 'OANC-GrAF/data/spoken/telephone/switchboard/22/sw2259-ms98-a-trans.txt',\n",
       " 'OANC-GrAF/data/spoken/telephone/switchboard/22/sw2260-ms98-a-trans.txt',\n",
       " 'OANC-GrAF/data/spoken/telephone/switchboard/22/sw2261-ms98-a-trans.txt',\n",
       " 'OANC-GrAF/data/spoken/telephone/switchboard/22/sw2262-ms98-a-trans.txt',\n",
       " 'OANC-GrAF/data/spoken/telephone/switchboard/22/sw2263-ms98-a-trans.txt',\n",
       " 'OANC-GrAF/data/spoken/telephone/switchboard/22/sw2265-ms98-a-trans.txt',\n",
       " 'OANC-GrAF/data/spoken/telephone/switchboard/22/sw2266-ms98-a-trans.txt',\n",
       " 'OANC-GrAF/data/spoken/telephone/switchboard/22/sw2268-ms98-a-trans.txt',\n",
       " 'OANC-GrAF/data/spoken/telephone/switchboard/22/sw2269-ms98-a-trans.txt',\n",
       " 'OANC-GrAF/data/spoken/telephone/switchboard/22/sw2270-ms98-a-trans.txt',\n",
       " 'OANC-GrAF/data/spoken/telephone/switchboard/22/sw2271-ms98-a-trans.txt',\n",
       " 'OANC-GrAF/data/spoken/telephone/switchboard/22/sw2272-ms98-a-trans.txt',\n",
       " 'OANC-GrAF/data/spoken/telephone/switchboard/22/sw2273-ms98-a-trans.txt',\n",
       " 'OANC-GrAF/data/spoken/telephone/switchboard/22/sw2274-ms98-a-trans.txt',\n",
       " 'OANC-GrAF/data/spoken/telephone/switchboard/22/sw2275-ms98-a-trans.txt',\n",
       " 'OANC-GrAF/data/spoken/telephone/switchboard/22/sw2276-ms98-a-trans.txt',\n",
       " 'OANC-GrAF/data/spoken/telephone/switchboard/22/sw2277-ms98-a-trans.txt',\n",
       " 'OANC-GrAF/data/spoken/telephone/switchboard/22/sw2278-ms98-a-trans.txt',\n",
       " 'OANC-GrAF/data/spoken/telephone/switchboard/22/sw2279-ms98-a-trans.txt',\n",
       " 'OANC-GrAF/data/spoken/telephone/switchboard/22/sw2280-ms98-a-trans.txt',\n",
       " 'OANC-GrAF/data/spoken/telephone/switchboard/22/sw2281-ms98-a-trans.txt',\n",
       " 'OANC-GrAF/data/spoken/telephone/switchboard/22/sw2282-ms98-a-trans.txt',\n",
       " 'OANC-GrAF/data/spoken/telephone/switchboard/22/sw2283-ms98-a-trans.txt',\n",
       " 'OANC-GrAF/data/spoken/telephone/switchboard/22/sw2284-ms98-a-trans.txt',\n",
       " 'OANC-GrAF/data/spoken/telephone/switchboard/22/sw2285-ms98-a-trans.txt',\n",
       " 'OANC-GrAF/data/spoken/telephone/switchboard/22/sw2286-ms98-a-trans.txt',\n",
       " 'OANC-GrAF/data/spoken/telephone/switchboard/22/sw2287-ms98-a-trans.txt',\n",
       " 'OANC-GrAF/data/spoken/telephone/switchboard/22/sw2288-ms98-a-trans.txt',\n",
       " 'OANC-GrAF/data/spoken/telephone/switchboard/22/sw2289-ms98-a-trans.txt',\n",
       " 'OANC-GrAF/data/spoken/telephone/switchboard/22/sw2290-ms98-a-trans.txt',\n",
       " 'OANC-GrAF/data/spoken/telephone/switchboard/22/sw2291-ms98-a-trans.txt',\n",
       " 'OANC-GrAF/data/spoken/telephone/switchboard/22/sw2292-ms98-a-trans.txt',\n",
       " 'OANC-GrAF/data/spoken/telephone/switchboard/22/sw2293-ms98-a-trans.txt',\n",
       " 'OANC-GrAF/data/spoken/telephone/switchboard/22/sw2294-ms98-a-trans.txt',\n",
       " 'OANC-GrAF/data/spoken/telephone/switchboard/22/sw2295-ms98-a-trans.txt',\n",
       " 'OANC-GrAF/data/spoken/telephone/switchboard/22/sw2296-ms98-a-trans.txt',\n",
       " 'OANC-GrAF/data/spoken/telephone/switchboard/22/sw2298-ms98-a-trans.txt',\n",
       " 'OANC-GrAF/data/spoken/telephone/switchboard/22/sw2299-ms98-a-trans.txt',\n",
       " 'OANC-GrAF/data/spoken/telephone/switchboard/23/sw2300-ms98-a-trans.txt',\n",
       " 'OANC-GrAF/data/spoken/telephone/switchboard/23/sw2301-ms98-a-trans.txt',\n",
       " 'OANC-GrAF/data/spoken/telephone/switchboard/23/sw2302-ms98-a-trans.txt',\n",
       " 'OANC-GrAF/data/spoken/telephone/switchboard/23/sw2303-ms98-a-trans.txt',\n",
       " 'OANC-GrAF/data/spoken/telephone/switchboard/23/sw2304-ms98-a-trans.txt',\n",
       " 'OANC-GrAF/data/spoken/telephone/switchboard/23/sw2305-ms98-a-trans.txt',\n",
       " 'OANC-GrAF/data/spoken/telephone/switchboard/23/sw2306-ms98-a-trans.txt',\n",
       " 'OANC-GrAF/data/spoken/telephone/switchboard/23/sw2307-ms98-a-trans.txt',\n",
       " 'OANC-GrAF/data/spoken/telephone/switchboard/23/sw2308-ms98-a-trans.txt',\n",
       " 'OANC-GrAF/data/spoken/telephone/switchboard/23/sw2309-ms98-a-trans.txt',\n",
       " 'OANC-GrAF/data/spoken/telephone/switchboard/23/sw2310-ms98-a-trans.txt',\n",
       " 'OANC-GrAF/data/spoken/telephone/switchboard/23/sw2312-ms98-a-trans.txt',\n",
       " 'OANC-GrAF/data/spoken/telephone/switchboard/23/sw2313-ms98-a-trans.txt',\n",
       " 'OANC-GrAF/data/spoken/telephone/switchboard/23/sw2314-ms98-a-trans.txt',\n",
       " 'OANC-GrAF/data/spoken/telephone/switchboard/23/sw2315-ms98-a-trans.txt',\n",
       " 'OANC-GrAF/data/spoken/telephone/switchboard/23/sw2316-ms98-a-trans.txt',\n",
       " 'OANC-GrAF/data/spoken/telephone/switchboard/23/sw2317-ms98-a-trans.txt',\n",
       " 'OANC-GrAF/data/spoken/telephone/switchboard/23/sw2318-ms98-a-trans.txt',\n",
       " 'OANC-GrAF/data/spoken/telephone/switchboard/23/sw2319-ms98-a-trans.txt',\n",
       " 'OANC-GrAF/data/spoken/telephone/switchboard/23/sw2320-ms98-a-trans.txt',\n",
       " 'OANC-GrAF/data/spoken/telephone/switchboard/23/sw2323-ms98-a-trans.txt',\n",
       " 'OANC-GrAF/data/spoken/telephone/switchboard/23/sw2324-ms98-a-trans.txt',\n",
       " 'OANC-GrAF/data/spoken/telephone/switchboard/23/sw2326-ms98-a-trans.txt',\n",
       " 'OANC-GrAF/data/spoken/telephone/switchboard/23/sw2327-ms98-a-trans.txt',\n",
       " 'OANC-GrAF/data/spoken/telephone/switchboard/23/sw2328-ms98-a-trans.txt',\n",
       " 'OANC-GrAF/data/spoken/telephone/switchboard/23/sw2329-ms98-a-trans.txt',\n",
       " 'OANC-GrAF/data/spoken/telephone/switchboard/23/sw2330-ms98-a-trans.txt',\n",
       " 'OANC-GrAF/data/spoken/telephone/switchboard/23/sw2331-ms98-a-trans.txt',\n",
       " 'OANC-GrAF/data/spoken/telephone/switchboard/23/sw2332-ms98-a-trans.txt',\n",
       " 'OANC-GrAF/data/spoken/telephone/switchboard/23/sw2333-ms98-a-trans.txt',\n",
       " 'OANC-GrAF/data/spoken/telephone/switchboard/23/sw2334-ms98-a-trans.txt',\n",
       " 'OANC-GrAF/data/spoken/telephone/switchboard/23/sw2335-ms98-a-trans.txt',\n",
       " 'OANC-GrAF/data/spoken/telephone/switchboard/23/sw2336-ms98-a-trans.txt',\n",
       " 'OANC-GrAF/data/spoken/telephone/switchboard/23/sw2337-ms98-a-trans.txt',\n",
       " 'OANC-GrAF/data/spoken/telephone/switchboard/23/sw2338-ms98-a-trans.txt',\n",
       " 'OANC-GrAF/data/spoken/telephone/switchboard/23/sw2339-ms98-a-trans.txt',\n",
       " 'OANC-GrAF/data/spoken/telephone/switchboard/23/sw2340-ms98-a-trans.txt',\n",
       " 'OANC-GrAF/data/spoken/telephone/switchboard/23/sw2341-ms98-a-trans.txt',\n",
       " 'OANC-GrAF/data/spoken/telephone/switchboard/23/sw2342-ms98-a-trans.txt',\n",
       " 'OANC-GrAF/data/spoken/telephone/switchboard/23/sw2343-ms98-a-trans.txt',\n",
       " 'OANC-GrAF/data/spoken/telephone/switchboard/23/sw2344-ms98-a-trans.txt',\n",
       " 'OANC-GrAF/data/spoken/telephone/switchboard/23/sw2345-ms98-a-trans.txt',\n",
       " 'OANC-GrAF/data/spoken/telephone/switchboard/23/sw2346-ms98-a-trans.txt',\n",
       " 'OANC-GrAF/data/spoken/telephone/switchboard/23/sw2347-ms98-a-trans.txt',\n",
       " 'OANC-GrAF/data/spoken/telephone/switchboard/23/sw2348-ms98-a-trans.txt',\n",
       " 'OANC-GrAF/data/spoken/telephone/switchboard/23/sw2349-ms98-a-trans.txt',\n",
       " 'OANC-GrAF/data/spoken/telephone/switchboard/23/sw2350-ms98-a-trans.txt',\n",
       " 'OANC-GrAF/data/spoken/telephone/switchboard/23/sw2352-ms98-a-trans.txt',\n",
       " 'OANC-GrAF/data/spoken/telephone/switchboard/23/sw2353-ms98-a-trans.txt',\n",
       " 'OANC-GrAF/data/spoken/telephone/switchboard/23/sw2354-ms98-a-trans.txt',\n",
       " 'OANC-GrAF/data/spoken/telephone/switchboard/23/sw2355-ms98-a-trans.txt',\n",
       " 'OANC-GrAF/data/spoken/telephone/switchboard/23/sw2358-ms98-a-trans.txt',\n",
       " 'OANC-GrAF/data/spoken/telephone/switchboard/23/sw2359-ms98-a-trans.txt',\n",
       " 'OANC-GrAF/data/spoken/telephone/switchboard/23/sw2360-ms98-a-trans.txt',\n",
       " 'OANC-GrAF/data/spoken/telephone/switchboard/23/sw2361-ms98-a-trans.txt',\n",
       " 'OANC-GrAF/data/spoken/telephone/switchboard/23/sw2362-ms98-a-trans.txt',\n",
       " 'OANC-GrAF/data/spoken/telephone/switchboard/23/sw2363-ms98-a-trans.txt',\n",
       " 'OANC-GrAF/data/spoken/telephone/switchboard/23/sw2365-ms98-a-trans.txt',\n",
       " 'OANC-GrAF/data/spoken/telephone/switchboard/23/sw2366-ms98-a-trans.txt',\n",
       " 'OANC-GrAF/data/spoken/telephone/switchboard/23/sw2367-ms98-a-trans.txt',\n",
       " 'OANC-GrAF/data/spoken/telephone/switchboard/23/sw2368-ms98-a-trans.txt',\n",
       " 'OANC-GrAF/data/spoken/telephone/switchboard/23/sw2369-ms98-a-trans.txt',\n",
       " 'OANC-GrAF/data/spoken/telephone/switchboard/23/sw2370-ms98-a-trans.txt',\n",
       " 'OANC-GrAF/data/spoken/telephone/switchboard/23/sw2371-ms98-a-trans.txt',\n",
       " 'OANC-GrAF/data/spoken/telephone/switchboard/23/sw2372-ms98-a-trans.txt',\n",
       " 'OANC-GrAF/data/spoken/telephone/switchboard/23/sw2373-ms98-a-trans.txt',\n",
       " 'OANC-GrAF/data/spoken/telephone/switchboard/23/sw2374-ms98-a-trans.txt',\n",
       " 'OANC-GrAF/data/spoken/telephone/switchboard/23/sw2375-ms98-a-trans.txt',\n",
       " 'OANC-GrAF/data/spoken/telephone/switchboard/23/sw2376-ms98-a-trans.txt',\n",
       " 'OANC-GrAF/data/spoken/telephone/switchboard/23/sw2377-ms98-a-trans.txt',\n",
       " 'OANC-GrAF/data/spoken/telephone/switchboard/23/sw2378-ms98-a-trans.txt',\n",
       " 'OANC-GrAF/data/spoken/telephone/switchboard/23/sw2379-ms98-a-trans.txt',\n",
       " 'OANC-GrAF/data/spoken/telephone/switchboard/23/sw2380-ms98-a-trans.txt',\n",
       " 'OANC-GrAF/data/spoken/telephone/switchboard/23/sw2381-ms98-a-trans.txt',\n",
       " 'OANC-GrAF/data/spoken/telephone/switchboard/23/sw2382-ms98-a-trans.txt',\n",
       " 'OANC-GrAF/data/spoken/telephone/switchboard/23/sw2383-ms98-a-trans.txt',\n",
       " 'OANC-GrAF/data/spoken/telephone/switchboard/23/sw2384-ms98-a-trans.txt',\n",
       " 'OANC-GrAF/data/spoken/telephone/switchboard/23/sw2386-ms98-a-trans.txt',\n",
       " 'OANC-GrAF/data/spoken/telephone/switchboard/23/sw2387-ms98-a-trans.txt',\n",
       " 'OANC-GrAF/data/spoken/telephone/switchboard/23/sw2388-ms98-a-trans.txt',\n",
       " 'OANC-GrAF/data/spoken/telephone/switchboard/23/sw2389-ms98-a-trans.txt',\n",
       " 'OANC-GrAF/data/spoken/telephone/switchboard/23/sw2390-ms98-a-trans.txt',\n",
       " 'OANC-GrAF/data/spoken/telephone/switchboard/23/sw2392-ms98-a-trans.txt',\n",
       " 'OANC-GrAF/data/spoken/telephone/switchboard/23/sw2393-ms98-a-trans.txt',\n",
       " 'OANC-GrAF/data/spoken/telephone/switchboard/23/sw2395-ms98-a-trans.txt',\n",
       " 'OANC-GrAF/data/spoken/telephone/switchboard/23/sw2396-ms98-a-trans.txt',\n",
       " 'OANC-GrAF/data/spoken/telephone/switchboard/23/sw2397-ms98-a-trans.txt',\n",
       " 'OANC-GrAF/data/spoken/telephone/switchboard/23/sw2398-ms98-a-trans.txt',\n",
       " 'OANC-GrAF/data/spoken/telephone/switchboard/24/sw2401-ms98-a-trans.txt',\n",
       " 'OANC-GrAF/data/spoken/telephone/switchboard/24/sw2402-ms98-a-trans.txt',\n",
       " 'OANC-GrAF/data/spoken/telephone/switchboard/24/sw2404-ms98-a-trans.txt',\n",
       " 'OANC-GrAF/data/spoken/telephone/switchboard/24/sw2405-ms98-a-trans.txt',\n",
       " 'OANC-GrAF/data/spoken/telephone/switchboard/24/sw2406-ms98-a-trans.txt',\n",
       " 'OANC-GrAF/data/spoken/telephone/switchboard/24/sw2407-ms98-a-trans.txt',\n",
       " 'OANC-GrAF/data/spoken/telephone/switchboard/24/sw2408-ms98-a-trans.txt',\n",
       " 'OANC-GrAF/data/spoken/telephone/switchboard/24/sw2409-ms98-a-trans.txt',\n",
       " 'OANC-GrAF/data/spoken/telephone/switchboard/24/sw2410-ms98-a-trans.txt',\n",
       " 'OANC-GrAF/data/spoken/telephone/switchboard/24/sw2411-ms98-a-trans.txt',\n",
       " 'OANC-GrAF/data/spoken/telephone/switchboard/24/sw2413-ms98-a-trans.txt',\n",
       " 'OANC-GrAF/data/spoken/telephone/switchboard/24/sw2415-ms98-a-trans.txt',\n",
       " 'OANC-GrAF/data/spoken/telephone/switchboard/24/sw2416-ms98-a-trans.txt',\n",
       " 'OANC-GrAF/data/spoken/telephone/switchboard/24/sw2417-ms98-a-trans.txt',\n",
       " 'OANC-GrAF/data/spoken/telephone/switchboard/24/sw2418-ms98-a-trans.txt',\n",
       " 'OANC-GrAF/data/spoken/telephone/switchboard/24/sw2419-ms98-a-trans.txt',\n",
       " 'OANC-GrAF/data/spoken/telephone/switchboard/24/sw2420-ms98-a-trans.txt',\n",
       " 'OANC-GrAF/data/spoken/telephone/switchboard/24/sw2421-ms98-a-trans.txt',\n",
       " 'OANC-GrAF/data/spoken/telephone/switchboard/24/sw2422-ms98-a-trans.txt',\n",
       " 'OANC-GrAF/data/spoken/telephone/switchboard/24/sw2423-ms98-a-trans.txt',\n",
       " 'OANC-GrAF/data/spoken/telephone/switchboard/24/sw2424-ms98-a-trans.txt',\n",
       " 'OANC-GrAF/data/spoken/telephone/switchboard/24/sw2426-ms98-a-trans.txt',\n",
       " 'OANC-GrAF/data/spoken/telephone/switchboard/24/sw2427-ms98-a-trans.txt',\n",
       " 'OANC-GrAF/data/spoken/telephone/switchboard/24/sw2428-ms98-a-trans.txt',\n",
       " 'OANC-GrAF/data/spoken/telephone/switchboard/24/sw2429-ms98-a-trans.txt',\n",
       " 'OANC-GrAF/data/spoken/telephone/switchboard/24/sw2430-ms98-a-trans.txt',\n",
       " 'OANC-GrAF/data/spoken/telephone/switchboard/24/sw2431-ms98-a-trans.txt',\n",
       " 'OANC-GrAF/data/spoken/telephone/switchboard/24/sw2432-ms98-a-trans.txt',\n",
       " 'OANC-GrAF/data/spoken/telephone/switchboard/24/sw2433-ms98-a-trans.txt',\n",
       " 'OANC-GrAF/data/spoken/telephone/switchboard/24/sw2435-ms98-a-trans.txt',\n",
       " 'OANC-GrAF/data/spoken/telephone/switchboard/24/sw2436-ms98-a-trans.txt',\n",
       " 'OANC-GrAF/data/spoken/telephone/switchboard/24/sw2437-ms98-a-trans.txt',\n",
       " 'OANC-GrAF/data/spoken/telephone/switchboard/24/sw2438-ms98-a-trans.txt',\n",
       " 'OANC-GrAF/data/spoken/telephone/switchboard/24/sw2439-ms98-a-trans.txt',\n",
       " 'OANC-GrAF/data/spoken/telephone/switchboard/24/sw2440-ms98-a-trans.txt',\n",
       " 'OANC-GrAF/data/spoken/telephone/switchboard/24/sw2442-ms98-a-trans.txt',\n",
       " 'OANC-GrAF/data/spoken/telephone/switchboard/24/sw2443-ms98-a-trans.txt',\n",
       " 'OANC-GrAF/data/spoken/telephone/switchboard/24/sw2444-ms98-a-trans.txt',\n",
       " 'OANC-GrAF/data/spoken/telephone/switchboard/24/sw2445-ms98-a-trans.txt',\n",
       " 'OANC-GrAF/data/spoken/telephone/switchboard/24/sw2446-ms98-a-trans.txt',\n",
       " 'OANC-GrAF/data/spoken/telephone/switchboard/24/sw2447-ms98-a-trans.txt',\n",
       " 'OANC-GrAF/data/spoken/telephone/switchboard/24/sw2448-ms98-a-trans.txt',\n",
       " 'OANC-GrAF/data/spoken/telephone/switchboard/24/sw2450-ms98-a-trans.txt',\n",
       " 'OANC-GrAF/data/spoken/telephone/switchboard/24/sw2452-ms98-a-trans.txt',\n",
       " 'OANC-GrAF/data/spoken/telephone/switchboard/24/sw2453-ms98-a-trans.txt',\n",
       " 'OANC-GrAF/data/spoken/telephone/switchboard/24/sw2454-ms98-a-trans.txt',\n",
       " 'OANC-GrAF/data/spoken/telephone/switchboard/24/sw2455-ms98-a-trans.txt',\n",
       " 'OANC-GrAF/data/spoken/telephone/switchboard/24/sw2456-ms98-a-trans.txt',\n",
       " 'OANC-GrAF/data/spoken/telephone/switchboard/24/sw2457-ms98-a-trans.txt',\n",
       " 'OANC-GrAF/data/spoken/telephone/switchboard/24/sw2458-ms98-a-trans.txt',\n",
       " 'OANC-GrAF/data/spoken/telephone/switchboard/24/sw2459-ms98-a-trans.txt',\n",
       " 'OANC-GrAF/data/spoken/telephone/switchboard/24/sw2460-ms98-a-trans.txt',\n",
       " 'OANC-GrAF/data/spoken/telephone/switchboard/24/sw2461-ms98-a-trans.txt',\n",
       " 'OANC-GrAF/data/spoken/telephone/switchboard/24/sw2463-ms98-a-trans.txt',\n",
       " 'OANC-GrAF/data/spoken/telephone/switchboard/24/sw2464-ms98-a-trans.txt',\n",
       " 'OANC-GrAF/data/spoken/telephone/switchboard/24/sw2465-ms98-a-trans.txt',\n",
       " 'OANC-GrAF/data/spoken/telephone/switchboard/24/sw2466-ms98-a-trans.txt',\n",
       " 'OANC-GrAF/data/spoken/telephone/switchboard/24/sw2467-ms98-a-trans.txt',\n",
       " 'OANC-GrAF/data/spoken/telephone/switchboard/24/sw2468-ms98-a-trans.txt',\n",
       " 'OANC-GrAF/data/spoken/telephone/switchboard/24/sw2469-ms98-a-trans.txt',\n",
       " 'OANC-GrAF/data/spoken/telephone/switchboard/24/sw2470-ms98-a-trans.txt',\n",
       " 'OANC-GrAF/data/spoken/telephone/switchboard/24/sw2471-ms98-a-trans.txt',\n",
       " 'OANC-GrAF/data/spoken/telephone/switchboard/24/sw2473-ms98-a-trans.txt',\n",
       " 'OANC-GrAF/data/spoken/telephone/switchboard/24/sw2476-ms98-a-trans.txt',\n",
       " 'OANC-GrAF/data/spoken/telephone/switchboard/24/sw2477-ms98-a-trans.txt',\n",
       " 'OANC-GrAF/data/spoken/telephone/switchboard/24/sw2478-ms98-a-trans.txt',\n",
       " 'OANC-GrAF/data/spoken/telephone/switchboard/24/sw2479-ms98-a-trans.txt',\n",
       " 'OANC-GrAF/data/spoken/telephone/switchboard/24/sw2481-ms98-a-trans.txt',\n",
       " 'OANC-GrAF/data/spoken/telephone/switchboard/24/sw2482-ms98-a-trans.txt',\n",
       " 'OANC-GrAF/data/spoken/telephone/switchboard/24/sw2484-ms98-a-trans.txt',\n",
       " 'OANC-GrAF/data/spoken/telephone/switchboard/24/sw2485-ms98-a-trans.txt',\n",
       " 'OANC-GrAF/data/spoken/telephone/switchboard/24/sw2486-ms98-a-trans.txt',\n",
       " 'OANC-GrAF/data/spoken/telephone/switchboard/24/sw2487-ms98-a-trans.txt',\n",
       " 'OANC-GrAF/data/spoken/telephone/switchboard/24/sw2488-ms98-a-trans.txt',\n",
       " 'OANC-GrAF/data/spoken/telephone/switchboard/24/sw2489-ms98-a-trans.txt',\n",
       " 'OANC-GrAF/data/spoken/telephone/switchboard/24/sw2490-ms98-a-trans.txt',\n",
       " 'OANC-GrAF/data/spoken/telephone/switchboard/24/sw2491-ms98-a-trans.txt',\n",
       " 'OANC-GrAF/data/spoken/telephone/switchboard/24/sw2492-ms98-a-trans.txt',\n",
       " 'OANC-GrAF/data/spoken/telephone/switchboard/24/sw2493-ms98-a-trans.txt',\n",
       " 'OANC-GrAF/data/spoken/telephone/switchboard/24/sw2494-ms98-a-trans.txt',\n",
       " 'OANC-GrAF/data/spoken/telephone/switchboard/24/sw2495-ms98-a-trans.txt',\n",
       " 'OANC-GrAF/data/spoken/telephone/switchboard/24/sw2496-ms98-a-trans.txt',\n",
       " 'OANC-GrAF/data/spoken/telephone/switchboard/24/sw2497-ms98-a-trans.txt',\n",
       " 'OANC-GrAF/data/spoken/telephone/switchboard/24/sw2498-ms98-a-trans.txt',\n",
       " 'OANC-GrAF/data/spoken/telephone/switchboard/24/sw2499-ms98-a-trans.txt',\n",
       " 'OANC-GrAF/data/spoken/telephone/switchboard/25/sw2500-ms98-a-trans.txt',\n",
       " 'OANC-GrAF/data/spoken/telephone/switchboard/25/sw2501-ms98-a-trans.txt',\n",
       " 'OANC-GrAF/data/spoken/telephone/switchboard/25/sw2502-ms98-a-trans.txt',\n",
       " 'OANC-GrAF/data/spoken/telephone/switchboard/25/sw2503-ms98-a-trans.txt',\n",
       " 'OANC-GrAF/data/spoken/telephone/switchboard/25/sw2504-ms98-a-trans.txt',\n",
       " 'OANC-GrAF/data/spoken/telephone/switchboard/25/sw2505-ms98-a-trans.txt',\n",
       " 'OANC-GrAF/data/spoken/telephone/switchboard/25/sw2506-ms98-a-trans.txt',\n",
       " 'OANC-GrAF/data/spoken/telephone/switchboard/25/sw2507-ms98-a-trans.txt',\n",
       " 'OANC-GrAF/data/spoken/telephone/switchboard/25/sw2508-ms98-a-trans.txt',\n",
       " 'OANC-GrAF/data/spoken/telephone/switchboard/25/sw2509-ms98-a-trans.txt',\n",
       " 'OANC-GrAF/data/spoken/telephone/switchboard/25/sw2510-ms98-a-trans.txt',\n",
       " 'OANC-GrAF/data/spoken/telephone/switchboard/25/sw2511-ms98-a-trans.txt',\n",
       " 'OANC-GrAF/data/spoken/telephone/switchboard/25/sw2513-ms98-a-trans.txt',\n",
       " 'OANC-GrAF/data/spoken/telephone/switchboard/25/sw2514-ms98-a-trans.txt',\n",
       " 'OANC-GrAF/data/spoken/telephone/switchboard/25/sw2515-ms98-a-trans.txt',\n",
       " 'OANC-GrAF/data/spoken/telephone/switchboard/25/sw2517-ms98-a-trans.txt',\n",
       " 'OANC-GrAF/data/spoken/telephone/switchboard/25/sw2518-ms98-a-trans.txt',\n",
       " 'OANC-GrAF/data/spoken/telephone/switchboard/25/sw2519-ms98-a-trans.txt',\n",
       " 'OANC-GrAF/data/spoken/telephone/switchboard/25/sw2520-ms98-a-trans.txt',\n",
       " 'OANC-GrAF/data/spoken/telephone/switchboard/25/sw2521-ms98-a-trans.txt',\n",
       " 'OANC-GrAF/data/spoken/telephone/switchboard/25/sw2522-ms98-a-trans.txt',\n",
       " 'OANC-GrAF/data/spoken/telephone/switchboard/25/sw2523-ms98-a-trans.txt',\n",
       " 'OANC-GrAF/data/spoken/telephone/switchboard/25/sw2524-ms98-a-trans.txt',\n",
       " 'OANC-GrAF/data/spoken/telephone/switchboard/25/sw2525-ms98-a-trans.txt',\n",
       " 'OANC-GrAF/data/spoken/telephone/switchboard/25/sw2526-ms98-a-trans.txt',\n",
       " 'OANC-GrAF/data/spoken/telephone/switchboard/25/sw2527-ms98-a-trans.txt',\n",
       " 'OANC-GrAF/data/spoken/telephone/switchboard/25/sw2528-ms98-a-trans.txt',\n",
       " 'OANC-GrAF/data/spoken/telephone/switchboard/25/sw2529-ms98-a-trans.txt',\n",
       " 'OANC-GrAF/data/spoken/telephone/switchboard/25/sw2530-ms98-a-trans.txt',\n",
       " 'OANC-GrAF/data/spoken/telephone/switchboard/25/sw2531-ms98-a-trans.txt',\n",
       " 'OANC-GrAF/data/spoken/telephone/switchboard/25/sw2532-ms98-a-trans.txt',\n",
       " 'OANC-GrAF/data/spoken/telephone/switchboard/25/sw2533-ms98-a-trans.txt',\n",
       " 'OANC-GrAF/data/spoken/telephone/switchboard/25/sw2534-ms98-a-trans.txt',\n",
       " 'OANC-GrAF/data/spoken/telephone/switchboard/25/sw2535-ms98-a-trans.txt',\n",
       " 'OANC-GrAF/data/spoken/telephone/switchboard/25/sw2536-ms98-a-trans.txt',\n",
       " 'OANC-GrAF/data/spoken/telephone/switchboard/25/sw2537-ms98-a-trans.txt',\n",
       " 'OANC-GrAF/data/spoken/telephone/switchboard/25/sw2538-ms98-a-trans.txt',\n",
       " 'OANC-GrAF/data/spoken/telephone/switchboard/25/sw2539-ms98-a-trans.txt',\n",
       " 'OANC-GrAF/data/spoken/telephone/switchboard/25/sw2540-ms98-a-trans.txt',\n",
       " 'OANC-GrAF/data/spoken/telephone/switchboard/25/sw2543-ms98-a-trans.txt',\n",
       " 'OANC-GrAF/data/spoken/telephone/switchboard/25/sw2545-ms98-a-trans.txt',\n",
       " 'OANC-GrAF/data/spoken/telephone/switchboard/25/sw2546-ms98-a-trans.txt',\n",
       " 'OANC-GrAF/data/spoken/telephone/switchboard/25/sw2547-ms98-a-trans.txt',\n",
       " 'OANC-GrAF/data/spoken/telephone/switchboard/25/sw2548-ms98-a-trans.txt',\n",
       " 'OANC-GrAF/data/spoken/telephone/switchboard/25/sw2550-ms98-a-trans.txt',\n",
       " 'OANC-GrAF/data/spoken/telephone/switchboard/25/sw2551-ms98-a-trans.txt',\n",
       " 'OANC-GrAF/data/spoken/telephone/switchboard/25/sw2552-ms98-a-trans.txt',\n",
       " 'OANC-GrAF/data/spoken/telephone/switchboard/25/sw2553-ms98-a-trans.txt',\n",
       " 'OANC-GrAF/data/spoken/telephone/switchboard/25/sw2554-ms98-a-trans.txt',\n",
       " 'OANC-GrAF/data/spoken/telephone/switchboard/25/sw2556-ms98-a-trans.txt',\n",
       " 'OANC-GrAF/data/spoken/telephone/switchboard/25/sw2557-ms98-a-trans.txt',\n",
       " 'OANC-GrAF/data/spoken/telephone/switchboard/25/sw2558-ms98-a-trans.txt',\n",
       " 'OANC-GrAF/data/spoken/telephone/switchboard/25/sw2559-ms98-a-trans.txt',\n",
       " 'OANC-GrAF/data/spoken/telephone/switchboard/25/sw2560-ms98-a-trans.txt',\n",
       " 'OANC-GrAF/data/spoken/telephone/switchboard/25/sw2561-ms98-a-trans.txt',\n",
       " 'OANC-GrAF/data/spoken/telephone/switchboard/25/sw2562-ms98-a-trans.txt',\n",
       " 'OANC-GrAF/data/spoken/telephone/switchboard/25/sw2563-ms98-a-trans.txt',\n",
       " 'OANC-GrAF/data/spoken/telephone/switchboard/25/sw2564-ms98-a-trans.txt',\n",
       " 'OANC-GrAF/data/spoken/telephone/switchboard/25/sw2565-ms98-a-trans.txt',\n",
       " 'OANC-GrAF/data/spoken/telephone/switchboard/25/sw2566-ms98-a-trans.txt',\n",
       " 'OANC-GrAF/data/spoken/telephone/switchboard/25/sw2567-ms98-a-trans.txt',\n",
       " 'OANC-GrAF/data/spoken/telephone/switchboard/25/sw2568-ms98-a-trans.txt',\n",
       " 'OANC-GrAF/data/spoken/telephone/switchboard/25/sw2569-ms98-a-trans.txt',\n",
       " 'OANC-GrAF/data/spoken/telephone/switchboard/25/sw2570-ms98-a-trans.txt',\n",
       " 'OANC-GrAF/data/spoken/telephone/switchboard/25/sw2571-ms98-a-trans.txt',\n",
       " 'OANC-GrAF/data/spoken/telephone/switchboard/25/sw2572-ms98-a-trans.txt',\n",
       " 'OANC-GrAF/data/spoken/telephone/switchboard/25/sw2573-ms98-a-trans.txt',\n",
       " 'OANC-GrAF/data/spoken/telephone/switchboard/25/sw2574-ms98-a-trans.txt',\n",
       " 'OANC-GrAF/data/spoken/telephone/switchboard/25/sw2575-ms98-a-trans.txt',\n",
       " 'OANC-GrAF/data/spoken/telephone/switchboard/25/sw2576-ms98-a-trans.txt',\n",
       " 'OANC-GrAF/data/spoken/telephone/switchboard/25/sw2577-ms98-a-trans.txt',\n",
       " 'OANC-GrAF/data/spoken/telephone/switchboard/25/sw2578-ms98-a-trans.txt',\n",
       " 'OANC-GrAF/data/spoken/telephone/switchboard/25/sw2579-ms98-a-trans.txt',\n",
       " 'OANC-GrAF/data/spoken/telephone/switchboard/25/sw2580-ms98-a-trans.txt',\n",
       " 'OANC-GrAF/data/spoken/telephone/switchboard/25/sw2582-ms98-a-trans.txt',\n",
       " 'OANC-GrAF/data/spoken/telephone/switchboard/25/sw2583-ms98-a-trans.txt',\n",
       " 'OANC-GrAF/data/spoken/telephone/switchboard/25/sw2584-ms98-a-trans.txt',\n",
       " 'OANC-GrAF/data/spoken/telephone/switchboard/25/sw2585-ms98-a-trans.txt',\n",
       " 'OANC-GrAF/data/spoken/telephone/switchboard/25/sw2586-ms98-a-trans.txt',\n",
       " 'OANC-GrAF/data/spoken/telephone/switchboard/25/sw2587-ms98-a-trans.txt',\n",
       " 'OANC-GrAF/data/spoken/telephone/switchboard/25/sw2588-ms98-a-trans.txt',\n",
       " 'OANC-GrAF/data/spoken/telephone/switchboard/25/sw2589-ms98-a-trans.txt',\n",
       " 'OANC-GrAF/data/spoken/telephone/switchboard/25/sw2591-ms98-a-trans.txt',\n",
       " 'OANC-GrAF/data/spoken/telephone/switchboard/25/sw2592-ms98-a-trans.txt',\n",
       " 'OANC-GrAF/data/spoken/telephone/switchboard/25/sw2593-ms98-a-trans.txt',\n",
       " 'OANC-GrAF/data/spoken/telephone/switchboard/25/sw2594-ms98-a-trans.txt',\n",
       " 'OANC-GrAF/data/spoken/telephone/switchboard/25/sw2595-ms98-a-trans.txt',\n",
       " 'OANC-GrAF/data/spoken/telephone/switchboard/25/sw2597-ms98-a-trans.txt',\n",
       " 'OANC-GrAF/data/spoken/telephone/switchboard/25/sw2598-ms98-a-trans.txt',\n",
       " 'OANC-GrAF/data/spoken/telephone/switchboard/25/sw2599-ms98-a-trans.txt',\n",
       " 'OANC-GrAF/data/spoken/telephone/switchboard/26/sw2600-ms98-a-trans.txt',\n",
       " 'OANC-GrAF/data/spoken/telephone/switchboard/26/sw2602-ms98-a-trans.txt',\n",
       " 'OANC-GrAF/data/spoken/telephone/switchboard/26/sw2603-ms98-a-trans.txt',\n",
       " 'OANC-GrAF/data/spoken/telephone/switchboard/26/sw2604-ms98-a-trans.txt',\n",
       " 'OANC-GrAF/data/spoken/telephone/switchboard/26/sw2605-ms98-a-trans.txt',\n",
       " 'OANC-GrAF/data/spoken/telephone/switchboard/26/sw2606-ms98-a-trans.txt',\n",
       " 'OANC-GrAF/data/spoken/telephone/switchboard/26/sw2608-ms98-a-trans.txt',\n",
       " 'OANC-GrAF/data/spoken/telephone/switchboard/26/sw2609-ms98-a-trans.txt',\n",
       " 'OANC-GrAF/data/spoken/telephone/switchboard/26/sw2610-ms98-a-trans.txt',\n",
       " 'OANC-GrAF/data/spoken/telephone/switchboard/26/sw2611-ms98-a-trans.txt',\n",
       " 'OANC-GrAF/data/spoken/telephone/switchboard/26/sw2612-ms98-a-trans.txt',\n",
       " 'OANC-GrAF/data/spoken/telephone/switchboard/26/sw2613-ms98-a-trans.txt',\n",
       " 'OANC-GrAF/data/spoken/telephone/switchboard/26/sw2614-ms98-a-trans.txt',\n",
       " 'OANC-GrAF/data/spoken/telephone/switchboard/26/sw2615-ms98-a-trans.txt',\n",
       " 'OANC-GrAF/data/spoken/telephone/switchboard/26/sw2616-ms98-a-trans.txt',\n",
       " 'OANC-GrAF/data/spoken/telephone/switchboard/26/sw2617-ms98-a-trans.txt',\n",
       " 'OANC-GrAF/data/spoken/telephone/switchboard/26/sw2618-ms98-a-trans.txt',\n",
       " 'OANC-GrAF/data/spoken/telephone/switchboard/26/sw2619-ms98-a-trans.txt',\n",
       " 'OANC-GrAF/data/spoken/telephone/switchboard/26/sw2620-ms98-a-trans.txt',\n",
       " 'OANC-GrAF/data/spoken/telephone/switchboard/26/sw2621-ms98-a-trans.txt',\n",
       " 'OANC-GrAF/data/spoken/telephone/switchboard/26/sw2622-ms98-a-trans.txt',\n",
       " 'OANC-GrAF/data/spoken/telephone/switchboard/26/sw2623-ms98-a-trans.txt',\n",
       " 'OANC-GrAF/data/spoken/telephone/switchboard/26/sw2624-ms98-a-trans.txt',\n",
       " 'OANC-GrAF/data/spoken/telephone/switchboard/26/sw2625-ms98-a-trans.txt',\n",
       " 'OANC-GrAF/data/spoken/telephone/switchboard/26/sw2626-ms98-a-trans.txt',\n",
       " 'OANC-GrAF/data/spoken/telephone/switchboard/26/sw2627-ms98-a-trans.txt',\n",
       " 'OANC-GrAF/data/spoken/telephone/switchboard/26/sw2628-ms98-a-trans.txt',\n",
       " 'OANC-GrAF/data/spoken/telephone/switchboard/26/sw2629-ms98-a-trans.txt',\n",
       " 'OANC-GrAF/data/spoken/telephone/switchboard/26/sw2630-ms98-a-trans.txt',\n",
       " 'OANC-GrAF/data/spoken/telephone/switchboard/26/sw2631-ms98-a-trans.txt',\n",
       " 'OANC-GrAF/data/spoken/telephone/switchboard/26/sw2632-ms98-a-trans.txt',\n",
       " 'OANC-GrAF/data/spoken/telephone/switchboard/26/sw2633-ms98-a-trans.txt',\n",
       " 'OANC-GrAF/data/spoken/telephone/switchboard/26/sw2634-ms98-a-trans.txt',\n",
       " 'OANC-GrAF/data/spoken/telephone/switchboard/26/sw2635-ms98-a-trans.txt',\n",
       " 'OANC-GrAF/data/spoken/telephone/switchboard/26/sw2637-ms98-a-trans.txt',\n",
       " 'OANC-GrAF/data/spoken/telephone/switchboard/26/sw2638-ms98-a-trans.txt',\n",
       " 'OANC-GrAF/data/spoken/telephone/switchboard/26/sw2640-ms98-a-trans.txt',\n",
       " 'OANC-GrAF/data/spoken/telephone/switchboard/26/sw2641-ms98-a-trans.txt',\n",
       " 'OANC-GrAF/data/spoken/telephone/switchboard/26/sw2642-ms98-a-trans.txt',\n",
       " 'OANC-GrAF/data/spoken/telephone/switchboard/26/sw2643-ms98-a-trans.txt',\n",
       " 'OANC-GrAF/data/spoken/telephone/switchboard/26/sw2644-ms98-a-trans.txt',\n",
       " 'OANC-GrAF/data/spoken/telephone/switchboard/26/sw2645-ms98-a-trans.txt',\n",
       " 'OANC-GrAF/data/spoken/telephone/switchboard/26/sw2646-ms98-a-trans.txt',\n",
       " 'OANC-GrAF/data/spoken/telephone/switchboard/26/sw2647-ms98-a-trans.txt',\n",
       " 'OANC-GrAF/data/spoken/telephone/switchboard/26/sw2648-ms98-a-trans.txt',\n",
       " 'OANC-GrAF/data/spoken/telephone/switchboard/26/sw2649-ms98-a-trans.txt',\n",
       " 'OANC-GrAF/data/spoken/telephone/switchboard/26/sw2650-ms98-a-trans.txt',\n",
       " 'OANC-GrAF/data/spoken/telephone/switchboard/26/sw2651-ms98-a-trans.txt',\n",
       " 'OANC-GrAF/data/spoken/telephone/switchboard/26/sw2652-ms98-a-trans.txt',\n",
       " 'OANC-GrAF/data/spoken/telephone/switchboard/26/sw2653-ms98-a-trans.txt',\n",
       " 'OANC-GrAF/data/spoken/telephone/switchboard/26/sw2654-ms98-a-trans.txt',\n",
       " 'OANC-GrAF/data/spoken/telephone/switchboard/26/sw2656-ms98-a-trans.txt',\n",
       " 'OANC-GrAF/data/spoken/telephone/switchboard/26/sw2657-ms98-a-trans.txt',\n",
       " 'OANC-GrAF/data/spoken/telephone/switchboard/26/sw2658-ms98-a-trans.txt',\n",
       " 'OANC-GrAF/data/spoken/telephone/switchboard/26/sw2659-ms98-a-trans.txt',\n",
       " 'OANC-GrAF/data/spoken/telephone/switchboard/26/sw2661-ms98-a-trans.txt',\n",
       " 'OANC-GrAF/data/spoken/telephone/switchboard/26/sw2662-ms98-a-trans.txt',\n",
       " 'OANC-GrAF/data/spoken/telephone/switchboard/26/sw2663-ms98-a-trans.txt',\n",
       " 'OANC-GrAF/data/spoken/telephone/switchboard/26/sw2664-ms98-a-trans.txt',\n",
       " 'OANC-GrAF/data/spoken/telephone/switchboard/26/sw2665-ms98-a-trans.txt',\n",
       " 'OANC-GrAF/data/spoken/telephone/switchboard/26/sw2666-ms98-a-trans.txt',\n",
       " 'OANC-GrAF/data/spoken/telephone/switchboard/26/sw2667-ms98-a-trans.txt',\n",
       " 'OANC-GrAF/data/spoken/telephone/switchboard/26/sw2668-ms98-a-trans.txt',\n",
       " 'OANC-GrAF/data/spoken/telephone/switchboard/26/sw2669-ms98-a-trans.txt',\n",
       " 'OANC-GrAF/data/spoken/telephone/switchboard/26/sw2670-ms98-a-trans.txt',\n",
       " 'OANC-GrAF/data/spoken/telephone/switchboard/26/sw2671-ms98-a-trans.txt',\n",
       " 'OANC-GrAF/data/spoken/telephone/switchboard/26/sw2672-ms98-a-trans.txt',\n",
       " 'OANC-GrAF/data/spoken/telephone/switchboard/26/sw2673-ms98-a-trans.txt',\n",
       " 'OANC-GrAF/data/spoken/telephone/switchboard/26/sw2674-ms98-a-trans.txt',\n",
       " 'OANC-GrAF/data/spoken/telephone/switchboard/26/sw2675-ms98-a-trans.txt',\n",
       " 'OANC-GrAF/data/spoken/telephone/switchboard/26/sw2676-ms98-a-trans.txt',\n",
       " 'OANC-GrAF/data/spoken/telephone/switchboard/26/sw2678-ms98-a-trans.txt',\n",
       " 'OANC-GrAF/data/spoken/telephone/switchboard/26/sw2679-ms98-a-trans.txt',\n",
       " 'OANC-GrAF/data/spoken/telephone/switchboard/26/sw2680-ms98-a-trans.txt',\n",
       " 'OANC-GrAF/data/spoken/telephone/switchboard/26/sw2681-ms98-a-trans.txt',\n",
       " 'OANC-GrAF/data/spoken/telephone/switchboard/26/sw2682-ms98-a-trans.txt',\n",
       " 'OANC-GrAF/data/spoken/telephone/switchboard/26/sw2684-ms98-a-trans.txt',\n",
       " 'OANC-GrAF/data/spoken/telephone/switchboard/26/sw2685-ms98-a-trans.txt',\n",
       " 'OANC-GrAF/data/spoken/telephone/switchboard/26/sw2686-ms98-a-trans.txt',\n",
       " 'OANC-GrAF/data/spoken/telephone/switchboard/26/sw2687-ms98-a-trans.txt',\n",
       " 'OANC-GrAF/data/spoken/telephone/switchboard/26/sw2688-ms98-a-trans.txt',\n",
       " 'OANC-GrAF/data/spoken/telephone/switchboard/26/sw2689-ms98-a-trans.txt',\n",
       " 'OANC-GrAF/data/spoken/telephone/switchboard/26/sw2690-ms98-a-trans.txt',\n",
       " 'OANC-GrAF/data/spoken/telephone/switchboard/26/sw2691-ms98-a-trans.txt',\n",
       " 'OANC-GrAF/data/spoken/telephone/switchboard/26/sw2692-ms98-a-trans.txt',\n",
       " 'OANC-GrAF/data/spoken/telephone/switchboard/26/sw2693-ms98-a-trans.txt',\n",
       " 'OANC-GrAF/data/spoken/telephone/switchboard/26/sw2694-ms98-a-trans.txt',\n",
       " 'OANC-GrAF/data/spoken/telephone/switchboard/26/sw2695-ms98-a-trans.txt',\n",
       " 'OANC-GrAF/data/spoken/telephone/switchboard/26/sw2696-ms98-a-trans.txt',\n",
       " 'OANC-GrAF/data/spoken/telephone/switchboard/26/sw2697-ms98-a-trans.txt',\n",
       " 'OANC-GrAF/data/spoken/telephone/switchboard/26/sw2698-ms98-a-trans.txt',\n",
       " 'OANC-GrAF/data/spoken/telephone/switchboard/26/sw2699-ms98-a-trans.txt',\n",
       " 'OANC-GrAF/data/spoken/telephone/switchboard/27/sw2700-ms98-a-trans.txt',\n",
       " 'OANC-GrAF/data/spoken/telephone/switchboard/27/sw2701-ms98-a-trans.txt',\n",
       " 'OANC-GrAF/data/spoken/telephone/switchboard/27/sw2702-ms98-a-trans.txt',\n",
       " 'OANC-GrAF/data/spoken/telephone/switchboard/27/sw2705-ms98-a-trans.txt',\n",
       " 'OANC-GrAF/data/spoken/telephone/switchboard/27/sw2706-ms98-a-trans.txt',\n",
       " 'OANC-GrAF/data/spoken/telephone/switchboard/27/sw2707-ms98-a-trans.txt',\n",
       " 'OANC-GrAF/data/spoken/telephone/switchboard/27/sw2708-ms98-a-trans.txt',\n",
       " 'OANC-GrAF/data/spoken/telephone/switchboard/27/sw2709-ms98-a-trans.txt',\n",
       " 'OANC-GrAF/data/spoken/telephone/switchboard/27/sw2710-ms98-a-trans.txt',\n",
       " 'OANC-GrAF/data/spoken/telephone/switchboard/27/sw2711-ms98-a-trans.txt',\n",
       " 'OANC-GrAF/data/spoken/telephone/switchboard/27/sw2712-ms98-a-trans.txt',\n",
       " 'OANC-GrAF/data/spoken/telephone/switchboard/27/sw2713-ms98-a-trans.txt',\n",
       " 'OANC-GrAF/data/spoken/telephone/switchboard/27/sw2714-ms98-a-trans.txt',\n",
       " 'OANC-GrAF/data/spoken/telephone/switchboard/27/sw2715-ms98-a-trans.txt',\n",
       " 'OANC-GrAF/data/spoken/telephone/switchboard/27/sw2716-ms98-a-trans.txt',\n",
       " 'OANC-GrAF/data/spoken/telephone/switchboard/27/sw2717-ms98-a-trans.txt',\n",
       " 'OANC-GrAF/data/spoken/telephone/switchboard/27/sw2718-ms98-a-trans.txt',\n",
       " 'OANC-GrAF/data/spoken/telephone/switchboard/27/sw2719-ms98-a-trans.txt',\n",
       " 'OANC-GrAF/data/spoken/telephone/switchboard/27/sw2720-ms98-a-trans.txt',\n",
       " 'OANC-GrAF/data/spoken/telephone/switchboard/27/sw2721-ms98-a-trans.txt',\n",
       " 'OANC-GrAF/data/spoken/telephone/switchboard/27/sw2722-ms98-a-trans.txt',\n",
       " 'OANC-GrAF/data/spoken/telephone/switchboard/27/sw2723-ms98-a-trans.txt',\n",
       " 'OANC-GrAF/data/spoken/telephone/switchboard/27/sw2724-ms98-a-trans.txt',\n",
       " 'OANC-GrAF/data/spoken/telephone/switchboard/27/sw2726-ms98-a-trans.txt',\n",
       " 'OANC-GrAF/data/spoken/telephone/switchboard/27/sw2727-ms98-a-trans.txt',\n",
       " 'OANC-GrAF/data/spoken/telephone/switchboard/27/sw2728-ms98-a-trans.txt',\n",
       " 'OANC-GrAF/data/spoken/telephone/switchboard/27/sw2729-ms98-a-trans.txt',\n",
       " 'OANC-GrAF/data/spoken/telephone/switchboard/27/sw2730-ms98-a-trans.txt',\n",
       " 'OANC-GrAF/data/spoken/telephone/switchboard/27/sw2731-ms98-a-trans.txt',\n",
       " 'OANC-GrAF/data/spoken/telephone/switchboard/27/sw2732-ms98-a-trans.txt',\n",
       " 'OANC-GrAF/data/spoken/telephone/switchboard/27/sw2733-ms98-a-trans.txt',\n",
       " 'OANC-GrAF/data/spoken/telephone/switchboard/27/sw2734-ms98-a-trans.txt',\n",
       " 'OANC-GrAF/data/spoken/telephone/switchboard/27/sw2735-ms98-a-trans.txt',\n",
       " 'OANC-GrAF/data/spoken/telephone/switchboard/27/sw2736-ms98-a-trans.txt',\n",
       " 'OANC-GrAF/data/spoken/telephone/switchboard/27/sw2737-ms98-a-trans.txt',\n",
       " 'OANC-GrAF/data/spoken/telephone/switchboard/27/sw2738-ms98-a-trans.txt',\n",
       " 'OANC-GrAF/data/spoken/telephone/switchboard/27/sw2739-ms98-a-trans.txt',\n",
       " 'OANC-GrAF/data/spoken/telephone/switchboard/27/sw2740-ms98-a-trans.txt',\n",
       " 'OANC-GrAF/data/spoken/telephone/switchboard/27/sw2741-ms98-a-trans.txt',\n",
       " 'OANC-GrAF/data/spoken/telephone/switchboard/27/sw2742-ms98-a-trans.txt',\n",
       " 'OANC-GrAF/data/spoken/telephone/switchboard/27/sw2743-ms98-a-trans.txt',\n",
       " 'OANC-GrAF/data/spoken/telephone/switchboard/27/sw2746-ms98-a-trans.txt',\n",
       " 'OANC-GrAF/data/spoken/telephone/switchboard/27/sw2747-ms98-a-trans.txt',\n",
       " 'OANC-GrAF/data/spoken/telephone/switchboard/27/sw2748-ms98-a-trans.txt',\n",
       " 'OANC-GrAF/data/spoken/telephone/switchboard/27/sw2749-ms98-a-trans.txt',\n",
       " 'OANC-GrAF/data/spoken/telephone/switchboard/27/sw2750-ms98-a-trans.txt',\n",
       " 'OANC-GrAF/data/spoken/telephone/switchboard/27/sw2751-ms98-a-trans.txt',\n",
       " 'OANC-GrAF/data/spoken/telephone/switchboard/27/sw2752-ms98-a-trans.txt',\n",
       " 'OANC-GrAF/data/spoken/telephone/switchboard/27/sw2755-ms98-a-trans.txt',\n",
       " 'OANC-GrAF/data/spoken/telephone/switchboard/27/sw2756-ms98-a-trans.txt',\n",
       " 'OANC-GrAF/data/spoken/telephone/switchboard/27/sw2757-ms98-a-trans.txt',\n",
       " 'OANC-GrAF/data/spoken/telephone/switchboard/27/sw2758-ms98-a-trans.txt',\n",
       " 'OANC-GrAF/data/spoken/telephone/switchboard/27/sw2759-ms98-a-trans.txt',\n",
       " 'OANC-GrAF/data/spoken/telephone/switchboard/27/sw2760-ms98-a-trans.txt',\n",
       " 'OANC-GrAF/data/spoken/telephone/switchboard/27/sw2761-ms98-a-trans.txt',\n",
       " 'OANC-GrAF/data/spoken/telephone/switchboard/27/sw2762-ms98-a-trans.txt',\n",
       " 'OANC-GrAF/data/spoken/telephone/switchboard/27/sw2763-ms98-a-trans.txt',\n",
       " 'OANC-GrAF/data/spoken/telephone/switchboard/27/sw2764-ms98-a-trans.txt',\n",
       " 'OANC-GrAF/data/spoken/telephone/switchboard/27/sw2765-ms98-a-trans.txt',\n",
       " 'OANC-GrAF/data/spoken/telephone/switchboard/27/sw2766-ms98-a-trans.txt',\n",
       " 'OANC-GrAF/data/spoken/telephone/switchboard/27/sw2767-ms98-a-trans.txt',\n",
       " 'OANC-GrAF/data/spoken/telephone/switchboard/27/sw2768-ms98-a-trans.txt',\n",
       " 'OANC-GrAF/data/spoken/telephone/switchboard/27/sw2769-ms98-a-trans.txt',\n",
       " 'OANC-GrAF/data/spoken/telephone/switchboard/27/sw2770-ms98-a-trans.txt',\n",
       " 'OANC-GrAF/data/spoken/telephone/switchboard/27/sw2771-ms98-a-trans.txt',\n",
       " 'OANC-GrAF/data/spoken/telephone/switchboard/27/sw2772-ms98-a-trans.txt',\n",
       " 'OANC-GrAF/data/spoken/telephone/switchboard/27/sw2773-ms98-a-trans.txt',\n",
       " 'OANC-GrAF/data/spoken/telephone/switchboard/27/sw2774-ms98-a-trans.txt',\n",
       " 'OANC-GrAF/data/spoken/telephone/switchboard/27/sw2775-ms98-a-trans.txt',\n",
       " 'OANC-GrAF/data/spoken/telephone/switchboard/27/sw2776-ms98-a-trans.txt',\n",
       " 'OANC-GrAF/data/spoken/telephone/switchboard/27/sw2777-ms98-a-trans.txt',\n",
       " 'OANC-GrAF/data/spoken/telephone/switchboard/27/sw2778-ms98-a-trans.txt',\n",
       " 'OANC-GrAF/data/spoken/telephone/switchboard/27/sw2779-ms98-a-trans.txt',\n",
       " 'OANC-GrAF/data/spoken/telephone/switchboard/27/sw2780-ms98-a-trans.txt',\n",
       " 'OANC-GrAF/data/spoken/telephone/switchboard/27/sw2781-ms98-a-trans.txt',\n",
       " 'OANC-GrAF/data/spoken/telephone/switchboard/27/sw2782-ms98-a-trans.txt',\n",
       " 'OANC-GrAF/data/spoken/telephone/switchboard/27/sw2783-ms98-a-trans.txt',\n",
       " 'OANC-GrAF/data/spoken/telephone/switchboard/27/sw2784-ms98-a-trans.txt',\n",
       " 'OANC-GrAF/data/spoken/telephone/switchboard/27/sw2785-ms98-a-trans.txt',\n",
       " 'OANC-GrAF/data/spoken/telephone/switchboard/27/sw2786-ms98-a-trans.txt',\n",
       " 'OANC-GrAF/data/spoken/telephone/switchboard/27/sw2787-ms98-a-trans.txt',\n",
       " 'OANC-GrAF/data/spoken/telephone/switchboard/27/sw2788-ms98-a-trans.txt',\n",
       " 'OANC-GrAF/data/spoken/telephone/switchboard/27/sw2789-ms98-a-trans.txt',\n",
       " 'OANC-GrAF/data/spoken/telephone/switchboard/27/sw2790-ms98-a-trans.txt',\n",
       " 'OANC-GrAF/data/spoken/telephone/switchboard/27/sw2791-ms98-a-trans.txt',\n",
       " 'OANC-GrAF/data/spoken/telephone/switchboard/27/sw2792-ms98-a-trans.txt',\n",
       " 'OANC-GrAF/data/spoken/telephone/switchboard/27/sw2793-ms98-a-trans.txt',\n",
       " 'OANC-GrAF/data/spoken/telephone/switchboard/27/sw2794-ms98-a-trans.txt',\n",
       " 'OANC-GrAF/data/spoken/telephone/switchboard/27/sw2795-ms98-a-trans.txt',\n",
       " 'OANC-GrAF/data/spoken/telephone/switchboard/27/sw2796-ms98-a-trans.txt',\n",
       " 'OANC-GrAF/data/spoken/telephone/switchboard/27/sw2797-ms98-a-trans.txt',\n",
       " 'OANC-GrAF/data/spoken/telephone/switchboard/27/sw2798-ms98-a-trans.txt',\n",
       " 'OANC-GrAF/data/spoken/telephone/switchboard/27/sw2799-ms98-a-trans.txt',\n",
       " 'OANC-GrAF/data/spoken/telephone/switchboard/28/sw2800-ms98-a-trans.txt',\n",
       " 'OANC-GrAF/data/spoken/telephone/switchboard/28/sw2801-ms98-a-trans.txt',\n",
       " 'OANC-GrAF/data/spoken/telephone/switchboard/28/sw2802-ms98-a-trans.txt',\n",
       " 'OANC-GrAF/data/spoken/telephone/switchboard/28/sw2803-ms98-a-trans.txt',\n",
       " 'OANC-GrAF/data/spoken/telephone/switchboard/28/sw2804-ms98-a-trans.txt',\n",
       " 'OANC-GrAF/data/spoken/telephone/switchboard/28/sw2805-ms98-a-trans.txt',\n",
       " 'OANC-GrAF/data/spoken/telephone/switchboard/28/sw2806-ms98-a-trans.txt',\n",
       " 'OANC-GrAF/data/spoken/telephone/switchboard/28/sw2808-ms98-a-trans.txt',\n",
       " 'OANC-GrAF/data/spoken/telephone/switchboard/28/sw2809-ms98-a-trans.txt',\n",
       " 'OANC-GrAF/data/spoken/telephone/switchboard/28/sw2810-ms98-a-trans.txt',\n",
       " 'OANC-GrAF/data/spoken/telephone/switchboard/28/sw2811-ms98-a-trans.txt',\n",
       " 'OANC-GrAF/data/spoken/telephone/switchboard/28/sw2812-ms98-a-trans.txt',\n",
       " 'OANC-GrAF/data/spoken/telephone/switchboard/28/sw2813-ms98-a-trans.txt',\n",
       " 'OANC-GrAF/data/spoken/telephone/switchboard/28/sw2814-ms98-a-trans.txt',\n",
       " 'OANC-GrAF/data/spoken/telephone/switchboard/28/sw2815-ms98-a-trans.txt',\n",
       " 'OANC-GrAF/data/spoken/telephone/switchboard/28/sw2817-ms98-a-trans.txt',\n",
       " 'OANC-GrAF/data/spoken/telephone/switchboard/28/sw2818-ms98-a-trans.txt',\n",
       " 'OANC-GrAF/data/spoken/telephone/switchboard/28/sw2819-ms98-a-trans.txt',\n",
       " 'OANC-GrAF/data/spoken/telephone/switchboard/28/sw2820-ms98-a-trans.txt',\n",
       " 'OANC-GrAF/data/spoken/telephone/switchboard/28/sw2821-ms98-a-trans.txt',\n",
       " 'OANC-GrAF/data/spoken/telephone/switchboard/28/sw2822-ms98-a-trans.txt',\n",
       " 'OANC-GrAF/data/spoken/telephone/switchboard/28/sw2823-ms98-a-trans.txt',\n",
       " 'OANC-GrAF/data/spoken/telephone/switchboard/28/sw2824-ms98-a-trans.txt',\n",
       " 'OANC-GrAF/data/spoken/telephone/switchboard/28/sw2825-ms98-a-trans.txt',\n",
       " 'OANC-GrAF/data/spoken/telephone/switchboard/28/sw2826-ms98-a-trans.txt',\n",
       " 'OANC-GrAF/data/spoken/telephone/switchboard/28/sw2827-ms98-a-trans.txt',\n",
       " 'OANC-GrAF/data/spoken/telephone/switchboard/28/sw2828-ms98-a-trans.txt',\n",
       " 'OANC-GrAF/data/spoken/telephone/switchboard/28/sw2829-ms98-a-trans.txt',\n",
       " 'OANC-GrAF/data/spoken/telephone/switchboard/28/sw2831-ms98-a-trans.txt',\n",
       " 'OANC-GrAF/data/spoken/telephone/switchboard/28/sw2832-ms98-a-trans.txt',\n",
       " 'OANC-GrAF/data/spoken/telephone/switchboard/28/sw2833-ms98-a-trans.txt',\n",
       " 'OANC-GrAF/data/spoken/telephone/switchboard/28/sw2834-ms98-a-trans.txt',\n",
       " 'OANC-GrAF/data/spoken/telephone/switchboard/28/sw2835-ms98-a-trans.txt',\n",
       " 'OANC-GrAF/data/spoken/telephone/switchboard/28/sw2836-ms98-a-trans.txt',\n",
       " 'OANC-GrAF/data/spoken/telephone/switchboard/28/sw2837-ms98-a-trans.txt',\n",
       " 'OANC-GrAF/data/spoken/telephone/switchboard/28/sw2838-ms98-a-trans.txt',\n",
       " 'OANC-GrAF/data/spoken/telephone/switchboard/28/sw2839-ms98-a-trans.txt',\n",
       " 'OANC-GrAF/data/spoken/telephone/switchboard/28/sw2840-ms98-a-trans.txt',\n",
       " 'OANC-GrAF/data/spoken/telephone/switchboard/28/sw2841-ms98-a-trans.txt',\n",
       " 'OANC-GrAF/data/spoken/telephone/switchboard/28/sw2842-ms98-a-trans.txt',\n",
       " 'OANC-GrAF/data/spoken/telephone/switchboard/28/sw2843-ms98-a-trans.txt',\n",
       " 'OANC-GrAF/data/spoken/telephone/switchboard/28/sw2844-ms98-a-trans.txt',\n",
       " 'OANC-GrAF/data/spoken/telephone/switchboard/28/sw2845-ms98-a-trans.txt',\n",
       " 'OANC-GrAF/data/spoken/telephone/switchboard/28/sw2846-ms98-a-trans.txt',\n",
       " 'OANC-GrAF/data/spoken/telephone/switchboard/28/sw2847-ms98-a-trans.txt',\n",
       " 'OANC-GrAF/data/spoken/telephone/switchboard/28/sw2848-ms98-a-trans.txt',\n",
       " 'OANC-GrAF/data/spoken/telephone/switchboard/28/sw2851-ms98-a-trans.txt',\n",
       " 'OANC-GrAF/data/spoken/telephone/switchboard/28/sw2852-ms98-a-trans.txt',\n",
       " 'OANC-GrAF/data/spoken/telephone/switchboard/28/sw2853-ms98-a-trans.txt',\n",
       " 'OANC-GrAF/data/spoken/telephone/switchboard/28/sw2854-ms98-a-trans.txt',\n",
       " 'OANC-GrAF/data/spoken/telephone/switchboard/28/sw2855-ms98-a-trans.txt',\n",
       " 'OANC-GrAF/data/spoken/telephone/switchboard/28/sw2858-ms98-a-trans.txt',\n",
       " 'OANC-GrAF/data/spoken/telephone/switchboard/28/sw2859-ms98-a-trans.txt',\n",
       " 'OANC-GrAF/data/spoken/telephone/switchboard/28/sw2860-ms98-a-trans.txt',\n",
       " 'OANC-GrAF/data/spoken/telephone/switchboard/28/sw2861-ms98-a-trans.txt',\n",
       " 'OANC-GrAF/data/spoken/telephone/switchboard/28/sw2862-ms98-a-trans.txt',\n",
       " 'OANC-GrAF/data/spoken/telephone/switchboard/28/sw2863-ms98-a-trans.txt',\n",
       " 'OANC-GrAF/data/spoken/telephone/switchboard/28/sw2864-ms98-a-trans.txt',\n",
       " 'OANC-GrAF/data/spoken/telephone/switchboard/28/sw2865-ms98-a-trans.txt',\n",
       " 'OANC-GrAF/data/spoken/telephone/switchboard/28/sw2866-ms98-a-trans.txt',\n",
       " 'OANC-GrAF/data/spoken/telephone/switchboard/28/sw2867-ms98-a-trans.txt',\n",
       " 'OANC-GrAF/data/spoken/telephone/switchboard/28/sw2868-ms98-a-trans.txt',\n",
       " 'OANC-GrAF/data/spoken/telephone/switchboard/28/sw2869-ms98-a-trans.txt',\n",
       " 'OANC-GrAF/data/spoken/telephone/switchboard/28/sw2870-ms98-a-trans.txt',\n",
       " 'OANC-GrAF/data/spoken/telephone/switchboard/28/sw2871-ms98-a-trans.txt',\n",
       " 'OANC-GrAF/data/spoken/telephone/switchboard/28/sw2872-ms98-a-trans.txt',\n",
       " 'OANC-GrAF/data/spoken/telephone/switchboard/28/sw2873-ms98-a-trans.txt',\n",
       " 'OANC-GrAF/data/spoken/telephone/switchboard/28/sw2874-ms98-a-trans.txt',\n",
       " 'OANC-GrAF/data/spoken/telephone/switchboard/28/sw2875-ms98-a-trans.txt',\n",
       " 'OANC-GrAF/data/spoken/telephone/switchboard/28/sw2876-ms98-a-trans.txt',\n",
       " 'OANC-GrAF/data/spoken/telephone/switchboard/28/sw2877-ms98-a-trans.txt',\n",
       " 'OANC-GrAF/data/spoken/telephone/switchboard/28/sw2878-ms98-a-trans.txt',\n",
       " 'OANC-GrAF/data/spoken/telephone/switchboard/28/sw2879-ms98-a-trans.txt',\n",
       " 'OANC-GrAF/data/spoken/telephone/switchboard/28/sw2882-ms98-a-trans.txt',\n",
       " 'OANC-GrAF/data/spoken/telephone/switchboard/28/sw2883-ms98-a-trans.txt',\n",
       " 'OANC-GrAF/data/spoken/telephone/switchboard/28/sw2884-ms98-a-trans.txt',\n",
       " 'OANC-GrAF/data/spoken/telephone/switchboard/28/sw2885-ms98-a-trans.txt',\n",
       " 'OANC-GrAF/data/spoken/telephone/switchboard/28/sw2886-ms98-a-trans.txt',\n",
       " 'OANC-GrAF/data/spoken/telephone/switchboard/28/sw2888-ms98-a-trans.txt',\n",
       " 'OANC-GrAF/data/spoken/telephone/switchboard/28/sw2889-ms98-a-trans.txt',\n",
       " 'OANC-GrAF/data/spoken/telephone/switchboard/28/sw2890-ms98-a-trans.txt',\n",
       " 'OANC-GrAF/data/spoken/telephone/switchboard/28/sw2891-ms98-a-trans.txt',\n",
       " 'OANC-GrAF/data/spoken/telephone/switchboard/28/sw2892-ms98-a-trans.txt',\n",
       " 'OANC-GrAF/data/spoken/telephone/switchboard/28/sw2893-ms98-a-trans.txt',\n",
       " 'OANC-GrAF/data/spoken/telephone/switchboard/28/sw2895-ms98-a-trans.txt',\n",
       " 'OANC-GrAF/data/spoken/telephone/switchboard/28/sw2896-ms98-a-trans.txt',\n",
       " 'OANC-GrAF/data/spoken/telephone/switchboard/28/sw2897-ms98-a-trans.txt',\n",
       " 'OANC-GrAF/data/spoken/telephone/switchboard/28/sw2898-ms98-a-trans.txt',\n",
       " 'OANC-GrAF/data/spoken/telephone/switchboard/28/sw2899-ms98-a-trans.txt',\n",
       " 'OANC-GrAF/data/spoken/telephone/switchboard/29/sw2900-ms98-a-trans.txt',\n",
       " 'OANC-GrAF/data/spoken/telephone/switchboard/29/sw2909-ms98-a-trans.txt',\n",
       " 'OANC-GrAF/data/spoken/telephone/switchboard/29/sw2910-ms98-a-trans.txt',\n",
       " 'OANC-GrAF/data/spoken/telephone/switchboard/29/sw2911-ms98-a-trans.txt',\n",
       " 'OANC-GrAF/data/spoken/telephone/switchboard/29/sw2912-ms98-a-trans.txt',\n",
       " 'OANC-GrAF/data/spoken/telephone/switchboard/29/sw2913-ms98-a-trans.txt',\n",
       " 'OANC-GrAF/data/spoken/telephone/switchboard/29/sw2914-ms98-a-trans.txt',\n",
       " 'OANC-GrAF/data/spoken/telephone/switchboard/29/sw2915-ms98-a-trans.txt',\n",
       " 'OANC-GrAF/data/spoken/telephone/switchboard/29/sw2916-ms98-a-trans.txt',\n",
       " 'OANC-GrAF/data/spoken/telephone/switchboard/29/sw2917-ms98-a-trans.txt',\n",
       " 'OANC-GrAF/data/spoken/telephone/switchboard/29/sw2918-ms98-a-trans.txt',\n",
       " 'OANC-GrAF/data/spoken/telephone/switchboard/29/sw2919-ms98-a-trans.txt',\n",
       " 'OANC-GrAF/data/spoken/telephone/switchboard/29/sw2920-ms98-a-trans.txt',\n",
       " 'OANC-GrAF/data/spoken/telephone/switchboard/29/sw2921-ms98-a-trans.txt',\n",
       " 'OANC-GrAF/data/spoken/telephone/switchboard/29/sw2922-ms98-a-trans.txt',\n",
       " 'OANC-GrAF/data/spoken/telephone/switchboard/29/sw2923-ms98-a-trans.txt',\n",
       " 'OANC-GrAF/data/spoken/telephone/switchboard/29/sw2924-ms98-a-trans.txt',\n",
       " 'OANC-GrAF/data/spoken/telephone/switchboard/29/sw2925-ms98-a-trans.txt',\n",
       " 'OANC-GrAF/data/spoken/telephone/switchboard/29/sw2926-ms98-a-trans.txt',\n",
       " 'OANC-GrAF/data/spoken/telephone/switchboard/29/sw2927-ms98-a-trans.txt',\n",
       " 'OANC-GrAF/data/spoken/telephone/switchboard/29/sw2928-ms98-a-trans.txt',\n",
       " 'OANC-GrAF/data/spoken/telephone/switchboard/29/sw2929-ms98-a-trans.txt',\n",
       " 'OANC-GrAF/data/spoken/telephone/switchboard/29/sw2930-ms98-a-trans.txt',\n",
       " 'OANC-GrAF/data/spoken/telephone/switchboard/29/sw2931-ms98-a-trans.txt',\n",
       " 'OANC-GrAF/data/spoken/telephone/switchboard/29/sw2932-ms98-a-trans.txt',\n",
       " 'OANC-GrAF/data/spoken/telephone/switchboard/29/sw2933-ms98-a-trans.txt',\n",
       " 'OANC-GrAF/data/spoken/telephone/switchboard/29/sw2934-ms98-a-trans.txt',\n",
       " 'OANC-GrAF/data/spoken/telephone/switchboard/29/sw2935-ms98-a-trans.txt',\n",
       " 'OANC-GrAF/data/spoken/telephone/switchboard/29/sw2936-ms98-a-trans.txt',\n",
       " 'OANC-GrAF/data/spoken/telephone/switchboard/29/sw2937-ms98-a-trans.txt',\n",
       " 'OANC-GrAF/data/spoken/telephone/switchboard/29/sw2938-ms98-a-trans.txt',\n",
       " 'OANC-GrAF/data/spoken/telephone/switchboard/29/sw2939-ms98-a-trans.txt',\n",
       " 'OANC-GrAF/data/spoken/telephone/switchboard/29/sw2940-ms98-a-trans.txt',\n",
       " 'OANC-GrAF/data/spoken/telephone/switchboard/29/sw2941-ms98-a-trans.txt',\n",
       " 'OANC-GrAF/data/spoken/telephone/switchboard/29/sw2942-ms98-a-trans.txt',\n",
       " 'OANC-GrAF/data/spoken/telephone/switchboard/29/sw2943-ms98-a-trans.txt',\n",
       " 'OANC-GrAF/data/spoken/telephone/switchboard/29/sw2944-ms98-a-trans.txt',\n",
       " 'OANC-GrAF/data/spoken/telephone/switchboard/29/sw2945-ms98-a-trans.txt',\n",
       " 'OANC-GrAF/data/spoken/telephone/switchboard/29/sw2950-ms98-a-trans.txt',\n",
       " 'OANC-GrAF/data/spoken/telephone/switchboard/29/sw2951-ms98-a-trans.txt',\n",
       " 'OANC-GrAF/data/spoken/telephone/switchboard/29/sw2952-ms98-a-trans.txt',\n",
       " 'OANC-GrAF/data/spoken/telephone/switchboard/29/sw2953-ms98-a-trans.txt',\n",
       " 'OANC-GrAF/data/spoken/telephone/switchboard/29/sw2954-ms98-a-trans.txt',\n",
       " 'OANC-GrAF/data/spoken/telephone/switchboard/29/sw2955-ms98-a-trans.txt',\n",
       " 'OANC-GrAF/data/spoken/telephone/switchboard/29/sw2956-ms98-a-trans.txt',\n",
       " 'OANC-GrAF/data/spoken/telephone/switchboard/29/sw2957-ms98-a-trans.txt',\n",
       " 'OANC-GrAF/data/spoken/telephone/switchboard/29/sw2958-ms98-a-trans.txt',\n",
       " 'OANC-GrAF/data/spoken/telephone/switchboard/29/sw2959-ms98-a-trans.txt',\n",
       " 'OANC-GrAF/data/spoken/telephone/switchboard/29/sw2960-ms98-a-trans.txt',\n",
       " 'OANC-GrAF/data/spoken/telephone/switchboard/29/sw2961-ms98-a-trans.txt',\n",
       " 'OANC-GrAF/data/spoken/telephone/switchboard/29/sw2962-ms98-a-trans.txt',\n",
       " 'OANC-GrAF/data/spoken/telephone/switchboard/29/sw2963-ms98-a-trans.txt',\n",
       " 'OANC-GrAF/data/spoken/telephone/switchboard/29/sw2964-ms98-a-trans.txt',\n",
       " 'OANC-GrAF/data/spoken/telephone/switchboard/29/sw2965-ms98-a-trans.txt',\n",
       " 'OANC-GrAF/data/spoken/telephone/switchboard/29/sw2966-ms98-a-trans.txt',\n",
       " 'OANC-GrAF/data/spoken/telephone/switchboard/29/sw2967-ms98-a-trans.txt',\n",
       " 'OANC-GrAF/data/spoken/telephone/switchboard/29/sw2968-ms98-a-trans.txt',\n",
       " 'OANC-GrAF/data/spoken/telephone/switchboard/29/sw2969-ms98-a-trans.txt',\n",
       " 'OANC-GrAF/data/spoken/telephone/switchboard/29/sw2970-ms98-a-trans.txt',\n",
       " 'OANC-GrAF/data/spoken/telephone/switchboard/29/sw2973-ms98-a-trans.txt',\n",
       " 'OANC-GrAF/data/spoken/telephone/switchboard/29/sw2978-ms98-a-trans.txt',\n",
       " 'OANC-GrAF/data/spoken/telephone/switchboard/29/sw2979-ms98-a-trans.txt',\n",
       " 'OANC-GrAF/data/spoken/telephone/switchboard/29/sw2980-ms98-a-trans.txt',\n",
       " 'OANC-GrAF/data/spoken/telephone/switchboard/29/sw2981-ms98-a-trans.txt',\n",
       " 'OANC-GrAF/data/spoken/telephone/switchboard/29/sw2982-ms98-a-trans.txt',\n",
       " 'OANC-GrAF/data/spoken/telephone/switchboard/29/sw2983-ms98-a-trans.txt',\n",
       " 'OANC-GrAF/data/spoken/telephone/switchboard/29/sw2984-ms98-a-trans.txt',\n",
       " 'OANC-GrAF/data/spoken/telephone/switchboard/29/sw2985-ms98-a-trans.txt',\n",
       " 'OANC-GrAF/data/spoken/telephone/switchboard/29/sw2986-ms98-a-trans.txt',\n",
       " 'OANC-GrAF/data/spoken/telephone/switchboard/29/sw2987-ms98-a-trans.txt',\n",
       " 'OANC-GrAF/data/spoken/telephone/switchboard/29/sw2988-ms98-a-trans.txt',\n",
       " 'OANC-GrAF/data/spoken/telephone/switchboard/29/sw2989-ms98-a-trans.txt',\n",
       " 'OANC-GrAF/data/spoken/telephone/switchboard/29/sw2990-ms98-a-trans.txt',\n",
       " 'OANC-GrAF/data/spoken/telephone/switchboard/29/sw2991-ms98-a-trans.txt',\n",
       " 'OANC-GrAF/data/spoken/telephone/switchboard/29/sw2992-ms98-a-trans.txt',\n",
       " 'OANC-GrAF/data/spoken/telephone/switchboard/29/sw2993-ms98-a-trans.txt',\n",
       " 'OANC-GrAF/data/spoken/telephone/switchboard/29/sw2994-ms98-a-trans.txt',\n",
       " 'OANC-GrAF/data/spoken/telephone/switchboard/29/sw2995-ms98-a-trans.txt',\n",
       " 'OANC-GrAF/data/spoken/telephone/switchboard/29/sw2996-ms98-a-trans.txt',\n",
       " 'OANC-GrAF/data/spoken/telephone/switchboard/29/sw2997-ms98-a-trans.txt',\n",
       " 'OANC-GrAF/data/spoken/telephone/switchboard/29/sw2998-ms98-a-trans.txt',\n",
       " 'OANC-GrAF/data/spoken/telephone/switchboard/29/sw2999-ms98-a-trans.txt',\n",
       " 'OANC-GrAF/data/spoken/telephone/switchboard/30/sw3000-ms98-a-trans.txt',\n",
       " 'OANC-GrAF/data/spoken/telephone/switchboard/30/sw3001-ms98-a-trans.txt',\n",
       " 'OANC-GrAF/data/spoken/telephone/switchboard/30/sw3002-ms98-a-trans.txt',\n",
       " 'OANC-GrAF/data/spoken/telephone/switchboard/30/sw3004-ms98-a-trans.txt',\n",
       " 'OANC-GrAF/data/spoken/telephone/switchboard/30/sw3005-ms98-a-trans.txt',\n",
       " 'OANC-GrAF/data/spoken/telephone/switchboard/30/sw3006-ms98-a-trans.txt',\n",
       " 'OANC-GrAF/data/spoken/telephone/switchboard/30/sw3007-ms98-a-trans.txt',\n",
       " 'OANC-GrAF/data/spoken/telephone/switchboard/30/sw3008-ms98-a-trans.txt',\n",
       " 'OANC-GrAF/data/spoken/telephone/switchboard/30/sw3009-ms98-a-trans.txt',\n",
       " 'OANC-GrAF/data/spoken/telephone/switchboard/30/sw3010-ms98-a-trans.txt',\n",
       " 'OANC-GrAF/data/spoken/telephone/switchboard/30/sw3011-ms98-a-trans.txt',\n",
       " 'OANC-GrAF/data/spoken/telephone/switchboard/30/sw3012-ms98-a-trans.txt',\n",
       " 'OANC-GrAF/data/spoken/telephone/switchboard/30/sw3013-ms98-a-trans.txt',\n",
       " 'OANC-GrAF/data/spoken/telephone/switchboard/30/sw3014-ms98-a-trans.txt',\n",
       " 'OANC-GrAF/data/spoken/telephone/switchboard/30/sw3015-ms98-a-trans.txt',\n",
       " 'OANC-GrAF/data/spoken/telephone/switchboard/30/sw3016-ms98-a-trans.txt',\n",
       " 'OANC-GrAF/data/spoken/telephone/switchboard/30/sw3017-ms98-a-trans.txt',\n",
       " 'OANC-GrAF/data/spoken/telephone/switchboard/30/sw3018-ms98-a-trans.txt',\n",
       " 'OANC-GrAF/data/spoken/telephone/switchboard/30/sw3019-ms98-a-trans.txt',\n",
       " 'OANC-GrAF/data/spoken/telephone/switchboard/30/sw3020-ms98-a-trans.txt',\n",
       " 'OANC-GrAF/data/spoken/telephone/switchboard/30/sw3021-ms98-a-trans.txt',\n",
       " 'OANC-GrAF/data/spoken/telephone/switchboard/30/sw3022-ms98-a-trans.txt',\n",
       " 'OANC-GrAF/data/spoken/telephone/switchboard/30/sw3023-ms98-a-trans.txt',\n",
       " 'OANC-GrAF/data/spoken/telephone/switchboard/30/sw3024-ms98-a-trans.txt',\n",
       " 'OANC-GrAF/data/spoken/telephone/switchboard/30/sw3025-ms98-a-trans.txt',\n",
       " 'OANC-GrAF/data/spoken/telephone/switchboard/30/sw3026-ms98-a-trans.txt',\n",
       " 'OANC-GrAF/data/spoken/telephone/switchboard/30/sw3027-ms98-a-trans.txt',\n",
       " 'OANC-GrAF/data/spoken/telephone/switchboard/30/sw3028-ms98-a-trans.txt',\n",
       " 'OANC-GrAF/data/spoken/telephone/switchboard/30/sw3029-ms98-a-trans.txt',\n",
       " 'OANC-GrAF/data/spoken/telephone/switchboard/30/sw3030-ms98-a-trans.txt',\n",
       " 'OANC-GrAF/data/spoken/telephone/switchboard/30/sw3031-ms98-a-trans.txt',\n",
       " 'OANC-GrAF/data/spoken/telephone/switchboard/30/sw3032-ms98-a-trans.txt',\n",
       " 'OANC-GrAF/data/spoken/telephone/switchboard/30/sw3033-ms98-a-trans.txt',\n",
       " 'OANC-GrAF/data/spoken/telephone/switchboard/30/sw3034-ms98-a-trans.txt',\n",
       " 'OANC-GrAF/data/spoken/telephone/switchboard/30/sw3035-ms98-a-trans.txt',\n",
       " 'OANC-GrAF/data/spoken/telephone/switchboard/30/sw3036-ms98-a-trans.txt',\n",
       " 'OANC-GrAF/data/spoken/telephone/switchboard/30/sw3037-ms98-a-trans.txt',\n",
       " 'OANC-GrAF/data/spoken/telephone/switchboard/30/sw3038-ms98-a-trans.txt',\n",
       " 'OANC-GrAF/data/spoken/telephone/switchboard/30/sw3039-ms98-a-trans.txt',\n",
       " 'OANC-GrAF/data/spoken/telephone/switchboard/30/sw3040-ms98-a-trans.txt',\n",
       " 'OANC-GrAF/data/spoken/telephone/switchboard/30/sw3041-ms98-a-trans.txt',\n",
       " 'OANC-GrAF/data/spoken/telephone/switchboard/30/sw3042-ms98-a-trans.txt',\n",
       " 'OANC-GrAF/data/spoken/telephone/switchboard/30/sw3043-ms98-a-trans.txt',\n",
       " 'OANC-GrAF/data/spoken/telephone/switchboard/30/sw3044-ms98-a-trans.txt',\n",
       " 'OANC-GrAF/data/spoken/telephone/switchboard/30/sw3045-ms98-a-trans.txt',\n",
       " 'OANC-GrAF/data/spoken/telephone/switchboard/30/sw3046-ms98-a-trans.txt',\n",
       " 'OANC-GrAF/data/spoken/telephone/switchboard/30/sw3047-ms98-a-trans.txt',\n",
       " 'OANC-GrAF/data/spoken/telephone/switchboard/30/sw3048-ms98-a-trans.txt',\n",
       " 'OANC-GrAF/data/spoken/telephone/switchboard/30/sw3049-ms98-a-trans.txt',\n",
       " 'OANC-GrAF/data/spoken/telephone/switchboard/30/sw3050-ms98-a-trans.txt',\n",
       " 'OANC-GrAF/data/spoken/telephone/switchboard/30/sw3051-ms98-a-trans.txt',\n",
       " 'OANC-GrAF/data/spoken/telephone/switchboard/30/sw3052-ms98-a-trans.txt',\n",
       " 'OANC-GrAF/data/spoken/telephone/switchboard/30/sw3053-ms98-a-trans.txt',\n",
       " 'OANC-GrAF/data/spoken/telephone/switchboard/30/sw3054-ms98-a-trans.txt',\n",
       " 'OANC-GrAF/data/spoken/telephone/switchboard/30/sw3055-ms98-a-trans.txt',\n",
       " 'OANC-GrAF/data/spoken/telephone/switchboard/30/sw3056-ms98-a-trans.txt',\n",
       " 'OANC-GrAF/data/spoken/telephone/switchboard/30/sw3057-ms98-a-trans.txt',\n",
       " 'OANC-GrAF/data/spoken/telephone/switchboard/30/sw3058-ms98-a-trans.txt',\n",
       " 'OANC-GrAF/data/spoken/telephone/switchboard/30/sw3059-ms98-a-trans.txt',\n",
       " 'OANC-GrAF/data/spoken/telephone/switchboard/30/sw3060-ms98-a-trans.txt',\n",
       " 'OANC-GrAF/data/spoken/telephone/switchboard/30/sw3061-ms98-a-trans.txt',\n",
       " 'OANC-GrAF/data/spoken/telephone/switchboard/30/sw3062-ms98-a-trans.txt',\n",
       " 'OANC-GrAF/data/spoken/telephone/switchboard/30/sw3063-ms98-a-trans.txt',\n",
       " 'OANC-GrAF/data/spoken/telephone/switchboard/30/sw3064-ms98-a-trans.txt',\n",
       " 'OANC-GrAF/data/spoken/telephone/switchboard/30/sw3066-ms98-a-trans.txt',\n",
       " 'OANC-GrAF/data/spoken/telephone/switchboard/30/sw3067-ms98-a-trans.txt',\n",
       " 'OANC-GrAF/data/spoken/telephone/switchboard/30/sw3068-ms98-a-trans.txt',\n",
       " 'OANC-GrAF/data/spoken/telephone/switchboard/30/sw3069-ms98-a-trans.txt',\n",
       " 'OANC-GrAF/data/spoken/telephone/switchboard/30/sw3070-ms98-a-trans.txt',\n",
       " 'OANC-GrAF/data/spoken/telephone/switchboard/30/sw3071-ms98-a-trans.txt',\n",
       " 'OANC-GrAF/data/spoken/telephone/switchboard/30/sw3072-ms98-a-trans.txt',\n",
       " 'OANC-GrAF/data/spoken/telephone/switchboard/30/sw3073-ms98-a-trans.txt',\n",
       " 'OANC-GrAF/data/spoken/telephone/switchboard/30/sw3074-ms98-a-trans.txt',\n",
       " 'OANC-GrAF/data/spoken/telephone/switchboard/30/sw3075-ms98-a-trans.txt',\n",
       " 'OANC-GrAF/data/spoken/telephone/switchboard/30/sw3076-ms98-a-trans.txt',\n",
       " 'OANC-GrAF/data/spoken/telephone/switchboard/30/sw3077-ms98-a-trans.txt',\n",
       " 'OANC-GrAF/data/spoken/telephone/switchboard/30/sw3078-ms98-a-trans.txt',\n",
       " 'OANC-GrAF/data/spoken/telephone/switchboard/30/sw3079-ms98-a-trans.txt',\n",
       " 'OANC-GrAF/data/spoken/telephone/switchboard/30/sw3080-ms98-a-trans.txt',\n",
       " 'OANC-GrAF/data/spoken/telephone/switchboard/30/sw3081-ms98-a-trans.txt',\n",
       " 'OANC-GrAF/data/spoken/telephone/switchboard/30/sw3082-ms98-a-trans.txt',\n",
       " 'OANC-GrAF/data/spoken/telephone/switchboard/30/sw3083-ms98-a-trans.txt',\n",
       " 'OANC-GrAF/data/spoken/telephone/switchboard/30/sw3085-ms98-a-trans.txt',\n",
       " 'OANC-GrAF/data/spoken/telephone/switchboard/30/sw3086-ms98-a-trans.txt',\n",
       " 'OANC-GrAF/data/spoken/telephone/switchboard/30/sw3087-ms98-a-trans.txt',\n",
       " 'OANC-GrAF/data/spoken/telephone/switchboard/30/sw3088-ms98-a-trans.txt',\n",
       " 'OANC-GrAF/data/spoken/telephone/switchboard/30/sw3089-ms98-a-trans.txt',\n",
       " 'OANC-GrAF/data/spoken/telephone/switchboard/30/sw3090-ms98-a-trans.txt',\n",
       " 'OANC-GrAF/data/spoken/telephone/switchboard/30/sw3091-ms98-a-trans.txt',\n",
       " 'OANC-GrAF/data/spoken/telephone/switchboard/30/sw3092-ms98-a-trans.txt',\n",
       " 'OANC-GrAF/data/spoken/telephone/switchboard/30/sw3093-ms98-a-trans.txt',\n",
       " 'OANC-GrAF/data/spoken/telephone/switchboard/30/sw3094-ms98-a-trans.txt',\n",
       " 'OANC-GrAF/data/spoken/telephone/switchboard/30/sw3095-ms98-a-trans.txt',\n",
       " 'OANC-GrAF/data/spoken/telephone/switchboard/30/sw3097-ms98-a-trans.txt',\n",
       " ...]"
      ]
     },
     "execution_count": 50,
     "metadata": {},
     "output_type": "execute_result"
    }
   ],
   "source": [
    "#import glob\n",
    "textFilePaths = [filepath for filepath in glob.iglob('OANC-GrAF/**/*.txt', recursive=True)]\n",
    "textFilePaths"
   ]
  },
  {
   "cell_type": "markdown",
   "metadata": {
    "run_control": {
     "frozen": false,
     "read_only": false
    }
   },
   "source": [
    "For maximum comparability with the Gutenberg corpus and the matched subset of the Brown corpus, note that there's a subset of OANC that is only fiction:"
   ]
  },
  {
   "cell_type": "code",
   "execution_count": 51,
   "metadata": {
    "ExecuteTime": {
     "end_time": "2017-05-12T17:38:49.812172Z",
     "start_time": "2017-05-12T17:38:49.806962Z"
    },
    "collapsed": false,
    "run_control": {
     "frozen": false,
     "read_only": false
    }
   },
   "outputs": [
    {
     "data": {
      "text/plain": [
       "['OANC-GrAF/data/written_1/fiction/eggan/TheStory.txt']"
      ]
     },
     "execution_count": 51,
     "metadata": {},
     "output_type": "execute_result"
    }
   ],
   "source": [
    "fictionFilePaths = [filepath for filepath in textFilePaths if '/fiction/' in filepath]\n",
    "fictionFilePaths"
   ]
  },
  {
   "cell_type": "code",
   "execution_count": 52,
   "metadata": {
    "ExecuteTime": {
     "end_time": "2017-05-12T17:38:51.308333Z",
     "start_time": "2017-05-12T17:38:49.813852Z"
    },
    "collapsed": false,
    "run_control": {
     "frozen": false,
     "read_only": false
    }
   },
   "outputs": [
    {
     "data": {
      "text/plain": [
       "'72,972'"
      ]
     },
     "execution_count": 52,
     "metadata": {},
     "output_type": "execute_result"
    }
   ],
   "source": [
    "def getOANCtextAtPath(path):\n",
    "    with open(path, 'r') as content_file:\n",
    "        oanc_text = content_file.read()\n",
    "    return oanc_text\n",
    "\n",
    "oanc_fiction_text = getOANCtextAtPath(fictionFilePaths[0])\n",
    "oanc_fiction_text_tokens = nltk.word_tokenize(oanc_fiction_text)\n",
    "'{:,}'.format(len(oanc_fiction_text_tokens))"
   ]
  },
  {
   "cell_type": "markdown",
   "metadata": {
    "run_control": {
     "frozen": false,
     "read_only": false
    }
   },
   "source": [
    "Unfortunately, it looks like there's nowhere near enough fiction in OANC to be that useful to us -- we'll just have to make a pile of tokenized and normalized words:"
   ]
  },
  {
   "cell_type": "code",
   "execution_count": 53,
   "metadata": {
    "ExecuteTime": {
     "end_time": "2017-05-12T17:41:19.404918Z",
     "start_time": "2017-05-12T17:38:51.310914Z"
    },
    "collapsed": false,
    "run_control": {
     "frozen": false,
     "read_only": false
    }
   },
   "outputs": [
    {
     "data": {
      "text/plain": [
       "'16,566,373'"
      ]
     },
     "execution_count": 53,
     "metadata": {},
     "output_type": "execute_result"
    }
   ],
   "source": [
    "#Takes ~2.5m on my MBA\n",
    "OANCtokenizedTexts = [nltk.word_tokenize(getOANCtextAtPath(path)) for path in textFilePaths]\n",
    "#import itertools\n",
    "tokens = list(itertools.chain.from_iterable(OANCtokenizedTexts))\n",
    "'{:,}'.format(len(tokens))"
   ]
  },
  {
   "cell_type": "code",
   "execution_count": 54,
   "metadata": {
    "ExecuteTime": {
     "end_time": "2017-05-12T17:41:24.948418Z",
     "start_time": "2017-05-12T17:41:19.421087Z"
    },
    "collapsed": false,
    "run_control": {
     "frozen": false,
     "read_only": false
    }
   },
   "outputs": [
    {
     "data": {
      "text/plain": [
       "['also',\n",
       " 'saw',\n",
       " 'my',\n",
       " 'sisters',\n",
       " 'as',\n",
       " 'the',\n",
       " 'wicked',\n",
       " 'stepsisters',\n",
       " 'sometimes',\n",
       " ',']"
      ]
     },
     "execution_count": 54,
     "metadata": {},
     "output_type": "execute_result"
    }
   ],
   "source": [
    "normalized_oanc = [token.lower() for token in tokens]\n",
    "normalized_oanc[3234:3244]"
   ]
  },
  {
   "cell_type": "markdown",
   "metadata": {
    "run_control": {
     "frozen": false,
     "read_only": false
    }
   },
   "source": [
    "Now that we have a corpus substantially bigger than either the Brown or Gutenberg corpora -- we can look at the relationship of **corpus length** to **vocabulary size** while also taking a look at **visualization tools**. Let's look at a variety of scales of sample sizes from ~1k - 15 million words:"
   ]
  },
  {
   "cell_type": "code",
   "execution_count": null,
   "metadata": {
    "ExecuteTime": {
     "start_time": "2017-05-11T18:16:12.035Z"
    },
    "collapsed": true,
    "run_control": {
     "frozen": false,
     "read_only": false
    }
   },
   "outputs": [],
   "source": [
    "#%matplotlib inline"
   ]
  },
  {
   "cell_type": "code",
   "execution_count": 55,
   "metadata": {
    "ExecuteTime": {
     "end_time": "2017-05-12T17:41:24.991832Z",
     "start_time": "2017-05-12T17:41:24.952245Z"
    },
    "collapsed": false,
    "run_control": {
     "frozen": false,
     "read_only": false
    }
   },
   "outputs": [
    {
     "data": {
      "text/plain": [
       "[1000000, 2500000, 5000000, 7500000, 10000000, 12500000, 15000000]"
      ]
     },
     "execution_count": 55,
     "metadata": {},
     "output_type": "execute_result"
    }
   ],
   "source": [
    "#Uncomment the appropriate line below, based on your patience and the performance of your machine...\n",
    "\n",
    "#Megaword resolution from 1m - 15 million (in 2.5m word increments)\n",
    "# allows us to ask questions about corpus size that Brown + Gutenberg\n",
    "# can't.\n",
    "#Next cell below takes ~11.5 min on my i7 MacBook Air\n",
    "sample_sizes = list(map(int,[1e6,2.5e6,5e6,7.5e6,1e7,1.25e7,1.5e7]))\n",
    "\n",
    "#low resolution -- barebones. Gets the job done...\n",
    "#Next cell below takes ~3 min on my i7 MBA\n",
    "#sample_sizes = list(map(int,[1e3,1e4,1e5,1e6,1e7]))\n",
    "\n",
    "#med resolution -- takes less time, but better than the sample size directly above\n",
    "#Next cell below takes ~7.66m min on my i7 MBA\n",
    "#sample_sizes = list(map(int,[1e3,1e4,1e5,1e6,2e6,5e6,1e7,1.5e7]))\n",
    "\n",
    "#high resolution -- will take a while, but illustrates the data trend better, particularly from 1-15 million words\n",
    "#Next cell below takes >30 min on my i7 MBA\n",
    "#sample_sizes = list(map(int,[1e3,5e3,1e4,5e4,1e5,5e5,1e6,2e6,5e6,7.5e6,1e7,1.25e7,1.5e7]))\n",
    "\n",
    "sample_sizes"
   ]
  },
  {
   "cell_type": "code",
   "execution_count": 56,
   "metadata": {
    "ExecuteTime": {
     "end_time": "2017-05-12T17:55:16.595200Z",
     "start_time": "2017-05-12T17:41:24.995318Z"
    },
    "collapsed": false,
    "run_control": {
     "frozen": false,
     "read_only": false
    }
   },
   "outputs": [
    {
     "data": {
      "text/plain": [
       "{1000000: 58573,\n",
       " 2500000: 96204,\n",
       " 5000000: 137905,\n",
       " 7500000: 170270,\n",
       " 10000000: 197654,\n",
       " 12500000: 222238,\n",
       " 15000000: 244298}"
      ]
     },
     "execution_count": 56,
     "metadata": {},
     "output_type": "execute_result"
    }
   ],
   "source": [
    "def getOANCsample(size):\n",
    "    return np.random.choice(normalized_oanc, size, replace=False)\n",
    "vocabulary_sizes = {sample_size:len(set( getOANCsample(int(sample_size)) )) for sample_size in sample_sizes}\n",
    "vocabulary_sizes"
   ]
  },
  {
   "cell_type": "markdown",
   "metadata": {
    "run_control": {
     "frozen": false,
     "read_only": false
    }
   },
   "source": [
    "To speed up the visualization, we'll use a high-level interface to scipy's main plotting library ('matplotlib' -- inspired by matlab's plotting library) that imitates R's ggplot2 package (http://yhat.github.io/ggpy/ ; http://blog.yhat.com/posts/ggplot-for-python.html ): "
   ]
  },
  {
   "cell_type": "code",
   "execution_count": 184,
   "metadata": {
    "ExecuteTime": {
     "end_time": "2017-05-11T15:50:33.254884Z",
     "start_time": "2017-05-11T15:50:33.230427Z"
    },
    "collapsed": false,
    "run_control": {
     "frozen": false,
     "read_only": false
    }
   },
   "outputs": [],
   "source": [
    "#!pip install ggplot\n",
    "#!pip install -U ggplot"
   ]
  },
  {
   "cell_type": "code",
   "execution_count": 185,
   "metadata": {
    "ExecuteTime": {
     "end_time": "2017-05-11T15:50:33.265660Z",
     "start_time": "2017-05-11T15:50:33.260645Z"
    },
    "collapsed": false,
    "run_control": {
     "frozen": false,
     "read_only": false
    }
   },
   "outputs": [],
   "source": [
    "#from ggplot import *\n",
    "#import pandas as pd"
   ]
  },
  {
   "cell_type": "code",
   "execution_count": 57,
   "metadata": {
    "ExecuteTime": {
     "end_time": "2017-05-12T17:55:29.641721Z",
     "start_time": "2017-05-12T17:55:16.636923Z"
    },
    "collapsed": false,
    "run_control": {
     "frozen": false,
     "read_only": false
    }
   },
   "outputs": [
    {
     "data": {
      "text/html": [
       "<div>\n",
       "<style>\n",
       "    .dataframe thead tr:only-child th {\n",
       "        text-align: right;\n",
       "    }\n",
       "\n",
       "    .dataframe thead th {\n",
       "        text-align: left;\n",
       "    }\n",
       "\n",
       "    .dataframe tbody tr th {\n",
       "        vertical-align: top;\n",
       "    }\n",
       "</style>\n",
       "<table border=\"1\" class=\"dataframe\">\n",
       "  <thead>\n",
       "    <tr style=\"text-align: right;\">\n",
       "      <th></th>\n",
       "      <th>Length of sample</th>\n",
       "      <th>Size of vocabulary</th>\n",
       "    </tr>\n",
       "  </thead>\n",
       "  <tbody>\n",
       "    <tr>\n",
       "      <th>0</th>\n",
       "      <td>1000000</td>\n",
       "      <td>58573</td>\n",
       "    </tr>\n",
       "    <tr>\n",
       "      <th>1</th>\n",
       "      <td>2500000</td>\n",
       "      <td>96204</td>\n",
       "    </tr>\n",
       "    <tr>\n",
       "      <th>2</th>\n",
       "      <td>5000000</td>\n",
       "      <td>137905</td>\n",
       "    </tr>\n",
       "    <tr>\n",
       "      <th>6</th>\n",
       "      <td>7500000</td>\n",
       "      <td>170270</td>\n",
       "    </tr>\n",
       "    <tr>\n",
       "      <th>5</th>\n",
       "      <td>10000000</td>\n",
       "      <td>197654</td>\n",
       "    </tr>\n",
       "    <tr>\n",
       "      <th>4</th>\n",
       "      <td>12500000</td>\n",
       "      <td>222238</td>\n",
       "    </tr>\n",
       "    <tr>\n",
       "      <th>3</th>\n",
       "      <td>15000000</td>\n",
       "      <td>244298</td>\n",
       "    </tr>\n",
       "  </tbody>\n",
       "</table>\n",
       "</div>"
      ],
      "text/plain": [
       "   Length of sample  Size of vocabulary\n",
       "0           1000000               58573\n",
       "1           2500000               96204\n",
       "2           5000000              137905\n",
       "6           7500000              170270\n",
       "5          10000000              197654\n",
       "4          12500000              222238\n",
       "3          15000000              244298"
      ]
     },
     "execution_count": 57,
     "metadata": {},
     "output_type": "execute_result"
    }
   ],
   "source": [
    "vocab_corpus_size = pd.DataFrame({'Length of sample':list(vocabulary_sizes.keys()), 'Size of vocabulary':list(vocabulary_sizes.values())})\n",
    "#samp_size = pd.Series(list(vocabulary_sizes.keys()), index = range(len(vocabulary_sizes.keys())), name = 'Length of sample')\n",
    "#vocab_size = pd.Series(list(vocabulary_sizes.values()), index = range(len(vocabulary_sizes.values())), name = 'Size of vocabulary')\n",
    "#vocab_corpus_size = pd.concat([samp_size, vocab_size], axis=1)\n",
    "vocab_corpus_size.sort_values(by = 'Length of sample')"
   ]
  },
  {
   "cell_type": "code",
   "execution_count": 58,
   "metadata": {
    "ExecuteTime": {
     "end_time": "2017-05-12T17:55:31.504823Z",
     "start_time": "2017-05-12T17:55:29.645772Z"
    },
    "collapsed": false,
    "run_control": {
     "frozen": false,
     "read_only": false
    }
   },
   "outputs": [
    {
     "data": {
      "image/png": "[encoded data removed]",
      "text/plain": [
       "<matplotlib.figure.Figure at 0x24602c3c8>"
      ]
     },
     "metadata": {},
     "output_type": "display_data"
    },
    {
     "data": {
      "text/plain": [
       "<ggplot: (-9223372036268986522)>"
      ]
     },
     "execution_count": 58,
     "metadata": {},
     "output_type": "execute_result"
    }
   ],
   "source": [
    "ggplot(vocab_corpus_size, aes(x = 'Length of sample', y = 'Size of vocabulary')) + \\\n",
    "    geom_point() + \\\n",
    "    ggtitle('|V| as a function of corpus size')"
   ]
  },
  {
   "cell_type": "markdown",
   "metadata": {
    "run_control": {
     "frozen": false,
     "read_only": false
    }
   },
   "source": [
    "Let's change our plot to log scales..."
   ]
  },
  {
   "cell_type": "code",
   "execution_count": 59,
   "metadata": {
    "ExecuteTime": {
     "end_time": "2017-05-12T17:55:32.694777Z",
     "start_time": "2017-05-12T17:55:31.508212Z"
    },
    "collapsed": false,
    "run_control": {
     "frozen": false,
     "read_only": false
    }
   },
   "outputs": [
    {
     "data": {
      "image/png": "[encoded data removed]",
      "text/plain": [
       "<matplotlib.figure.Figure at 0x155aa3a20>"
      ]
     },
     "metadata": {},
     "output_type": "display_data"
    },
    {
     "data": {
      "text/plain": [
       "<ggplot: (-9223372036243285458)>"
      ]
     },
     "execution_count": 59,
     "metadata": {},
     "output_type": "execute_result"
    }
   ],
   "source": [
    "ggplot(vocab_corpus_size, aes(x = 'Length of sample', y = 'Size of vocabulary')) + \\\n",
    "    geom_point() + \\\n",
    "    ggtitle('|V| as a function of corpus size') + \\\n",
    "    scale_x_log() + scale_y_log()"
   ]
  },
  {
   "cell_type": "markdown",
   "metadata": {},
   "source": [
    "## Exercises for the reader -- Implementing another evaluation measure "
   ]
  },
  {
   "cell_type": "markdown",
   "metadata": {},
   "source": [
    "Instead of (or in addition to) looking at how a very simple normalization procedure and/or the number of word tokens in a corpus affects data sparsity for downstream n-gram modeling, we could also see how normalizing our data (or increasing the size of the training set) affects *perplexity* of a test set.\n",
    "\n",
    "To explore either question, you'll need to write code to *split data* into a training and test set and code to *calculate the perplexity of a model* trained on a particular training set on a particular test set."
   ]
  },
  {
   "cell_type": "markdown",
   "metadata": {},
   "source": [
    "# Python / tool resources"
   ]
  },
  {
   "cell_type": "markdown",
   "metadata": {},
   "source": [
    "1. Jupyter notebook extensions that may make using Jupyter a bit easier or a better presentation tool -- http://jupyter-contrib-nbextensions.readthedocs.io/en/latest/\n",
    " a. Development -- When you have some cells that take a long time to execute -- ExecuteTime, Notify\n",
    " b. Presentation/documentation -- If you'd like to reference Python variables in Markdown -- Python Markdown\n",
    " c. Presentation/documentation -- If you'd like to organize and navigate a long notebook -- Table of Contents (2), Collapsible Headings\n",
    " d. Development -- If you'd like to avoid cluttering a notebook with throw-away, disposable REPL cells -- Scratchpad\n",
    "2. Another Jupyter extension that may be useful for presentations is the Dashboards extension -- http://jupyter-dashboards-layout.readthedocs.io/en/latest/ \n",
    "3. Pandas / dataframes:\n",
    " a. http://synesthesiam.com/posts/an-introduction-to-pandas.html\n",
    " b. http://pandas.pydata.org/pandas-docs/stable/10min.html\n",
    " c. Referenced, but not used here -- relational-algebra-like operators for conveniently manipulating dataframes inspired by R's dplyr\n",
    "  - The python package that implements much of this functionality for pandas in Python: https://github.com/kieferk/dfply\n",
    "  - Some more information about what this functionality looks like in R (and what dfply/pandas is trying to imitate):\n",
    "   - https://www.rstudio.com/wp-content/uploads/2015/02/data-wrangling-cheatsheet.pdf\n",
    "   - https://rpubs.com/justmarkham/dplyr-tutorial\n",
    "   - https://cran.rstudio.com/web/packages/dplyr/vignettes/introduction.html\n",
    "4. ggplot for Python - https://github.com/yhat/ggpy\n",
    " - Why consider using this instead of matplotlib? http://blog.yhat.com/posts/ggplot-for-python.html\n",
    " - What's the big idea? http://vita.had.co.nz/papers/layered-grammar.pdf"
   ]
  },
  {
   "cell_type": "markdown",
   "metadata": {
    "run_control": {
     "frozen": false,
     "read_only": false
    }
   },
   "source": [
    "# Further reading on language modeling"
   ]
  },
  {
   "cell_type": "markdown",
   "metadata": {
    "collapsed": true,
    "run_control": {
     "frozen": false,
     "read_only": false
    }
   },
   "source": [
    "For those interested in reading more about language modeling (and particularly smoothing), check out\n",
    " - Goodman, J. (2001). *A bit of progress in language modeling.* http://www-labs.iro.umontreal.ca/~felipe/IFT6010-Hiver2015/resources-2011/Articles/goodman2001.pdf"
   ]
  }
 ],
 "metadata": {
  "anaconda-cloud": {},
  "celltoolbar": "Initialization Cell",
  "kernelspec": {
   "display_name": "Python [conda root]",
   "language": "python",
   "name": "conda-root-py"
  },
  "language_info": {
   "codemirror_mode": {
    "name": "ipython",
    "version": 3
   },
   "file_extension": ".py",
   "mimetype": "text/x-python",
   "name": "python",
   "nbconvert_exporter": "python",
   "pygments_lexer": "ipython3",
   "version": "3.5.2"
  },
  "notify_time": "5",
  "toc": {
   "colors": {
    "hover_highlight": "#DAA520",
    "running_highlight": "#FF0000",
    "selected_highlight": "#FFD700"
   },
   "moveMenuLeft": true,
   "nav_menu": {
    "height": "291px",
    "width": "253px"
   },
   "navigate_menu": true,
   "number_sections": true,
   "sideBar": true,
   "threshold": 4,
   "toc_cell": true,
   "toc_section_display": "block",
   "toc_window_display": false,
   "widenNotebook": false
  }
 },
 "nbformat": 4,
 "nbformat_minor": 1
}
